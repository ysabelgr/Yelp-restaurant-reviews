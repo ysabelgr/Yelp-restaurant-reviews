{
 "cells": [
  {
   "cell_type": "code",
   "execution_count": 1,
   "metadata": {
    "id": "QjNFAkfvp8Fq"
   },
   "outputs": [],
   "source": [
    "import pandas as pd\n",
    "import numpy as np\n",
    "import seaborn as sns\n",
    "import matplotlib.pyplot as plt"
   ]
  },
  {
   "cell_type": "code",
   "execution_count": 3,
   "metadata": {},
   "outputs": [],
   "source": [
    "finaldf = pd.read_csv('/Users/ysabelgonzalezrico/Documents/UCI/4 - SPRING/NLP/Yelp/reviewsfinal3.csv')"
   ]
  },
  {
   "cell_type": "code",
   "execution_count": 4,
   "metadata": {},
   "outputs": [
    {
     "data": {
      "text/html": [
       "<div>\n",
       "<style scoped>\n",
       "    .dataframe tbody tr th:only-of-type {\n",
       "        vertical-align: middle;\n",
       "    }\n",
       "\n",
       "    .dataframe tbody tr th {\n",
       "        vertical-align: top;\n",
       "    }\n",
       "\n",
       "    .dataframe thead th {\n",
       "        text-align: right;\n",
       "    }\n",
       "</style>\n",
       "<table border=\"1\" class=\"dataframe\">\n",
       "  <thead>\n",
       "    <tr style=\"text-align: right;\">\n",
       "      <th></th>\n",
       "      <th>Unnamed: 0</th>\n",
       "      <th>username</th>\n",
       "      <th>location</th>\n",
       "      <th>date</th>\n",
       "      <th>stars</th>\n",
       "      <th>content</th>\n",
       "      <th>numfriends</th>\n",
       "      <th>restaurantname</th>\n",
       "      <th>state</th>\n",
       "      <th>word_count</th>\n",
       "    </tr>\n",
       "  </thead>\n",
       "  <tbody>\n",
       "    <tr>\n",
       "      <th>0</th>\n",
       "      <td>0</td>\n",
       "      <td>Sarah E.</td>\n",
       "      <td>Arcadia, CA</td>\n",
       "      <td>4/2/22</td>\n",
       "      <td>5</td>\n",
       "      <td>Been going here for 5+ years starting at the o...</td>\n",
       "      <td>247</td>\n",
       "      <td>Din Tai Fung</td>\n",
       "      <td>CA</td>\n",
       "      <td>18</td>\n",
       "    </tr>\n",
       "    <tr>\n",
       "      <th>1</th>\n",
       "      <td>1</td>\n",
       "      <td>Cynthia W.</td>\n",
       "      <td>Irvine, CA</td>\n",
       "      <td>3/17/22</td>\n",
       "      <td>4</td>\n",
       "      <td>Very professional and organized. Wonderful sta...</td>\n",
       "      <td>0</td>\n",
       "      <td>Din Tai Fung</td>\n",
       "      <td>CA</td>\n",
       "      <td>23</td>\n",
       "    </tr>\n",
       "    <tr>\n",
       "      <th>2</th>\n",
       "      <td>2</td>\n",
       "      <td>Julienne C.</td>\n",
       "      <td>Buena Park, CA</td>\n",
       "      <td>4/24/22</td>\n",
       "      <td>5</td>\n",
       "      <td>We came here for our anniversary as walk ins a...</td>\n",
       "      <td>0</td>\n",
       "      <td>Din Tai Fung</td>\n",
       "      <td>CA</td>\n",
       "      <td>463</td>\n",
       "    </tr>\n",
       "    <tr>\n",
       "      <th>3</th>\n",
       "      <td>3</td>\n",
       "      <td>Tina N.</td>\n",
       "      <td>Atlanta, GA</td>\n",
       "      <td>5/1/22</td>\n",
       "      <td>4</td>\n",
       "      <td>DTF? Obviously had to go to DTF for the one ti...</td>\n",
       "      <td>2</td>\n",
       "      <td>Din Tai Fung</td>\n",
       "      <td>GA</td>\n",
       "      <td>247</td>\n",
       "    </tr>\n",
       "    <tr>\n",
       "      <th>4</th>\n",
       "      <td>4</td>\n",
       "      <td>Dr. Susan F.</td>\n",
       "      <td>Whittier, CA</td>\n",
       "      <td>4/27/22</td>\n",
       "      <td>1</td>\n",
       "      <td>We love DTF!!! Not this location:  is there an...</td>\n",
       "      <td>16</td>\n",
       "      <td>Din Tai Fung</td>\n",
       "      <td>CA</td>\n",
       "      <td>339</td>\n",
       "    </tr>\n",
       "    <tr>\n",
       "      <th>...</th>\n",
       "      <td>...</td>\n",
       "      <td>...</td>\n",
       "      <td>...</td>\n",
       "      <td>...</td>\n",
       "      <td>...</td>\n",
       "      <td>...</td>\n",
       "      <td>...</td>\n",
       "      <td>...</td>\n",
       "      <td>...</td>\n",
       "      <td>...</td>\n",
       "    </tr>\n",
       "    <tr>\n",
       "      <th>20973</th>\n",
       "      <td>20980</td>\n",
       "      <td>Rick P.</td>\n",
       "      <td>Long Beach, CA</td>\n",
       "      <td>7/5/06</td>\n",
       "      <td>3</td>\n",
       "      <td>i agree with eugenia c. when she says the serv...</td>\n",
       "      <td>198</td>\n",
       "      <td>Habana</td>\n",
       "      <td>CA</td>\n",
       "      <td>61</td>\n",
       "    </tr>\n",
       "    <tr>\n",
       "      <th>20974</th>\n",
       "      <td>20981</td>\n",
       "      <td>Shannon W.</td>\n",
       "      <td>Costa Mesa, CA</td>\n",
       "      <td>2/24/13</td>\n",
       "      <td>1</td>\n",
       "      <td>Ok, I understand why this place gets the revie...</td>\n",
       "      <td>0</td>\n",
       "      <td>Habana</td>\n",
       "      <td>CA</td>\n",
       "      <td>366</td>\n",
       "    </tr>\n",
       "    <tr>\n",
       "      <th>20975</th>\n",
       "      <td>20982</td>\n",
       "      <td>Thenameisfood T.</td>\n",
       "      <td>Hacienda Heights, CA</td>\n",
       "      <td>9/11/12</td>\n",
       "      <td>4</td>\n",
       "      <td>pretty good food! bit pricey.. the Cuban Food ...</td>\n",
       "      <td>514</td>\n",
       "      <td>Habana</td>\n",
       "      <td>CA</td>\n",
       "      <td>27</td>\n",
       "    </tr>\n",
       "    <tr>\n",
       "      <th>20976</th>\n",
       "      <td>20983</td>\n",
       "      <td>Brett M.</td>\n",
       "      <td>Huntington Beach, CA</td>\n",
       "      <td>3/14/10</td>\n",
       "      <td>5</td>\n",
       "      <td>very cool dark romantic restaurant, great food...</td>\n",
       "      <td>1</td>\n",
       "      <td>Habana</td>\n",
       "      <td>CA</td>\n",
       "      <td>24</td>\n",
       "    </tr>\n",
       "    <tr>\n",
       "      <th>20977</th>\n",
       "      <td>20984</td>\n",
       "      <td>Alexis S.</td>\n",
       "      <td>Anaheim, CA</td>\n",
       "      <td>5/12/10</td>\n",
       "      <td>3</td>\n",
       "      <td>meh. this place is alright. its a bit on the p...</td>\n",
       "      <td>2</td>\n",
       "      <td>Habana</td>\n",
       "      <td>CA</td>\n",
       "      <td>101</td>\n",
       "    </tr>\n",
       "  </tbody>\n",
       "</table>\n",
       "<p>20978 rows × 10 columns</p>\n",
       "</div>"
      ],
      "text/plain": [
       "       Unnamed: 0          username              location     date  stars  \\\n",
       "0               0          Sarah E.           Arcadia, CA   4/2/22      5   \n",
       "1               1        Cynthia W.            Irvine, CA  3/17/22      4   \n",
       "2               2       Julienne C.        Buena Park, CA  4/24/22      5   \n",
       "3               3           Tina N.           Atlanta, GA   5/1/22      4   \n",
       "4               4      Dr. Susan F.          Whittier, CA  4/27/22      1   \n",
       "...           ...               ...                   ...      ...    ...   \n",
       "20973       20980           Rick P.        Long Beach, CA   7/5/06      3   \n",
       "20974       20981        Shannon W.        Costa Mesa, CA  2/24/13      1   \n",
       "20975       20982  Thenameisfood T.  Hacienda Heights, CA  9/11/12      4   \n",
       "20976       20983          Brett M.  Huntington Beach, CA  3/14/10      5   \n",
       "20977       20984         Alexis S.           Anaheim, CA  5/12/10      3   \n",
       "\n",
       "                                                 content  numfriends  \\\n",
       "0      Been going here for 5+ years starting at the o...         247   \n",
       "1      Very professional and organized. Wonderful sta...           0   \n",
       "2      We came here for our anniversary as walk ins a...           0   \n",
       "3      DTF? Obviously had to go to DTF for the one ti...           2   \n",
       "4      We love DTF!!! Not this location:  is there an...          16   \n",
       "...                                                  ...         ...   \n",
       "20973  i agree with eugenia c. when she says the serv...         198   \n",
       "20974  Ok, I understand why this place gets the revie...           0   \n",
       "20975  pretty good food! bit pricey.. the Cuban Food ...         514   \n",
       "20976  very cool dark romantic restaurant, great food...           1   \n",
       "20977  meh. this place is alright. its a bit on the p...           2   \n",
       "\n",
       "      restaurantname state  word_count  \n",
       "0       Din Tai Fung    CA          18  \n",
       "1       Din Tai Fung    CA          23  \n",
       "2       Din Tai Fung    CA         463  \n",
       "3       Din Tai Fung    GA         247  \n",
       "4       Din Tai Fung    CA         339  \n",
       "...              ...   ...         ...  \n",
       "20973         Habana    CA          61  \n",
       "20974         Habana    CA         366  \n",
       "20975         Habana    CA          27  \n",
       "20976         Habana    CA          24  \n",
       "20977         Habana    CA         101  \n",
       "\n",
       "[20978 rows x 10 columns]"
      ]
     },
     "execution_count": 4,
     "metadata": {},
     "output_type": "execute_result"
    }
   ],
   "source": [
    "finaldf"
   ]
  },
  {
   "cell_type": "markdown",
   "metadata": {
    "id": "Tg5ueI3b-53K"
   },
   "source": [
    "# Sentiment Analysis"
   ]
  },
  {
   "cell_type": "code",
   "execution_count": null,
   "metadata": {
    "colab": {
     "base_uri": "https://localhost:8080/"
    },
    "id": "1K359dbs_SX-",
    "outputId": "73bdc01e-a1ae-4755-9b66-cc3242e2ae70"
   },
   "outputs": [
    {
     "name": "stderr",
     "output_type": "stream",
     "text": [
      "/usr/local/lib/python3.7/dist-packages/ipykernel_launcher.py:11: SettingWithCopyWarning: \n",
      "A value is trying to be set on a copy of a slice from a DataFrame.\n",
      "Try using .loc[row_indexer,col_indexer] = value instead\n",
      "\n",
      "See the caveats in the documentation: https://pandas.pydata.org/pandas-docs/stable/user_guide/indexing.html#returning-a-view-versus-a-copy\n",
      "  # This is added back by InteractiveShellApp.init_path()\n",
      "/usr/local/lib/python3.7/dist-packages/ipykernel_launcher.py:13: SettingWithCopyWarning: \n",
      "A value is trying to be set on a copy of a slice from a DataFrame.\n",
      "Try using .loc[row_indexer,col_indexer] = value instead\n",
      "\n",
      "See the caveats in the documentation: https://pandas.pydata.org/pandas-docs/stable/user_guide/indexing.html#returning-a-view-versus-a-copy\n",
      "  del sys.path[0]\n",
      "/usr/local/lib/python3.7/dist-packages/ipykernel_launcher.py:15: SettingWithCopyWarning: \n",
      "A value is trying to be set on a copy of a slice from a DataFrame.\n",
      "Try using .loc[row_indexer,col_indexer] = value instead\n",
      "\n",
      "See the caveats in the documentation: https://pandas.pydata.org/pandas-docs/stable/user_guide/indexing.html#returning-a-view-versus-a-copy\n",
      "  from ipykernel import kernelapp as app\n",
      "/usr/local/lib/python3.7/dist-packages/ipykernel_launcher.py:17: SettingWithCopyWarning: \n",
      "A value is trying to be set on a copy of a slice from a DataFrame.\n",
      "Try using .loc[row_indexer,col_indexer] = value instead\n",
      "\n",
      "See the caveats in the documentation: https://pandas.pydata.org/pandas-docs/stable/user_guide/indexing.html#returning-a-view-versus-a-copy\n"
     ]
    },
    {
     "data": {
      "text/plain": [
       "positive    16701\n",
       "negative     2295\n",
       "Name: sentiment, dtype: int64"
      ]
     },
     "execution_count": 13,
     "metadata": {},
     "output_type": "execute_result"
    }
   ],
   "source": [
    "one_star = finaldf.loc[finaldf.stars==1]\n",
    "\n",
    "two_stars = finaldf.loc[finaldf.stars==2]\n",
    "\n",
    "three_stars = finaldf.loc[finaldf.stars==3]\n",
    "\n",
    "four_stars = finaldf.loc[finaldf.stars==4]\n",
    "\n",
    "five_stars = finaldf.loc[finaldf.stars==5]\n",
    "\n",
    "one_star[\"sentiment\"] = \"negative\"\n",
    "one_star.sentiment.value_counts()\n",
    "two_stars[\"sentiment\"] = \"negative\"\n",
    "two_stars.sentiment.value_counts()\n",
    "four_stars[\"sentiment\"] = \"positive\"\n",
    "four_stars.sentiment.value_counts()\n",
    "five_stars[\"sentiment\"] = \"positive\"\n",
    "five_stars.sentiment.value_counts()\n",
    "sentiment = pd.concat([one_star, two_stars, four_stars,five_stars])\n",
    "sentiment.sentiment.value_counts()"
   ]
  },
  {
   "cell_type": "code",
   "execution_count": null,
   "metadata": {
    "id": "UjLz44OC_uWB"
   },
   "outputs": [],
   "source": [
    "conditions = [\n",
    "    (sentiment.sentiment==\"positive\"),\n",
    "    (sentiment.sentiment==\"negative\")]\n",
    "\n",
    "values = [1,0]\n",
    "\n",
    "sentiment['sent'] = np.select(conditions, values)"
   ]
  },
  {
   "cell_type": "code",
   "execution_count": null,
   "metadata": {
    "colab": {
     "base_uri": "https://localhost:8080/"
    },
    "id": "Hv7v9XQClj7x",
    "outputId": "f51dd74e-e54a-47a7-a9a1-4f32e1bdec99"
   },
   "outputs": [
    {
     "data": {
      "text/plain": [
       "4    1705\n",
       "1    1344\n",
       "2     951\n",
       "Name: stars, dtype: int64"
      ]
     },
     "execution_count": 201,
     "metadata": {},
     "output_type": "execute_result"
    }
   ],
   "source": [
    "sentiment[:10000].stars.value_counts()"
   ]
  },
  {
   "cell_type": "markdown",
   "metadata": {
    "id": "yPxTKogqA8Mr"
   },
   "source": [
    "# Analysis using Text blob and Vader"
   ]
  },
  {
   "cell_type": "code",
   "execution_count": null,
   "metadata": {
    "id": "9uXCNd-VA7nQ"
   },
   "outputs": [],
   "source": [
    "#Text Cleaning"
   ]
  },
  {
   "cell_type": "code",
   "execution_count": null,
   "metadata": {
    "colab": {
     "base_uri": "https://localhost:8080/",
     "height": 354
    },
    "id": "miJ5UNtGp8F8",
    "outputId": "3c5d1edb-e06a-46a5-d2e0-2ab252ee3ecd"
   },
   "outputs": [
    {
     "data": {
      "text/html": [
       "\n",
       "  <div id=\"df-7bbaf142-4885-48a4-b4b8-d28d38281dc1\">\n",
       "    <div class=\"colab-df-container\">\n",
       "      <div>\n",
       "<style scoped>\n",
       "    .dataframe tbody tr th:only-of-type {\n",
       "        vertical-align: middle;\n",
       "    }\n",
       "\n",
       "    .dataframe tbody tr th {\n",
       "        vertical-align: top;\n",
       "    }\n",
       "\n",
       "    .dataframe thead th {\n",
       "        text-align: right;\n",
       "    }\n",
       "</style>\n",
       "<table border=\"1\" class=\"dataframe\">\n",
       "  <thead>\n",
       "    <tr style=\"text-align: right;\">\n",
       "      <th></th>\n",
       "      <th>Unnamed: 0</th>\n",
       "      <th>username</th>\n",
       "      <th>location</th>\n",
       "      <th>date</th>\n",
       "      <th>stars</th>\n",
       "      <th>content</th>\n",
       "      <th>numfriends</th>\n",
       "      <th>Restaurant</th>\n",
       "      <th>state</th>\n",
       "      <th>sentiment</th>\n",
       "      <th>sent</th>\n",
       "      <th>Cleaned Reviews</th>\n",
       "    </tr>\n",
       "  </thead>\n",
       "  <tbody>\n",
       "    <tr>\n",
       "      <th>4</th>\n",
       "      <td>4</td>\n",
       "      <td>Dr. Susan F.</td>\n",
       "      <td>Whittier, CA</td>\n",
       "      <td>4/27/2022</td>\n",
       "      <td>1</td>\n",
       "      <td>We love DTF!!! Not this location:  is there an...</td>\n",
       "      <td>16</td>\n",
       "      <td>Din Tai Fung</td>\n",
       "      <td>CA</td>\n",
       "      <td>negative</td>\n",
       "      <td>0</td>\n",
       "      <td>We love DTF Not this location is there anythin...</td>\n",
       "    </tr>\n",
       "    <tr>\n",
       "      <th>36</th>\n",
       "      <td>36</td>\n",
       "      <td>Nba C.</td>\n",
       "      <td>Irvine, CA</td>\n",
       "      <td>4/24/2022</td>\n",
       "      <td>1</td>\n",
       "      <td>You people are fools. Paying for mediocre Chin...</td>\n",
       "      <td>10</td>\n",
       "      <td>Din Tai Fung</td>\n",
       "      <td>CA</td>\n",
       "      <td>negative</td>\n",
       "      <td>0</td>\n",
       "      <td>You people are fools Paying for mediocre Chine...</td>\n",
       "    </tr>\n",
       "    <tr>\n",
       "      <th>40</th>\n",
       "      <td>40</td>\n",
       "      <td>Tiffany O.</td>\n",
       "      <td>Orange County, CA</td>\n",
       "      <td>4/30/2022</td>\n",
       "      <td>1</td>\n",
       "      <td>Ordered and was told it would be ready at 7:30...</td>\n",
       "      <td>0</td>\n",
       "      <td>Din Tai Fung</td>\n",
       "      <td>CA</td>\n",
       "      <td>negative</td>\n",
       "      <td>0</td>\n",
       "      <td>Ordered and was told it would be ready at went...</td>\n",
       "    </tr>\n",
       "    <tr>\n",
       "      <th>54</th>\n",
       "      <td>54</td>\n",
       "      <td>Mike L.</td>\n",
       "      <td>Irvine, CA</td>\n",
       "      <td>4/6/2022</td>\n",
       "      <td>1</td>\n",
       "      <td>We had a reservation at 11 am on Saturday. We ...</td>\n",
       "      <td>0</td>\n",
       "      <td>Din Tai Fung</td>\n",
       "      <td>CA</td>\n",
       "      <td>negative</td>\n",
       "      <td>0</td>\n",
       "      <td>We had a reservation at am on Saturday We show...</td>\n",
       "    </tr>\n",
       "    <tr>\n",
       "      <th>73</th>\n",
       "      <td>73</td>\n",
       "      <td>Scarlett Z.</td>\n",
       "      <td>Costa Mesa, CA</td>\n",
       "      <td>4/30/2022</td>\n",
       "      <td>1</td>\n",
       "      <td>The food is amazing but the service is terribl...</td>\n",
       "      <td>0</td>\n",
       "      <td>Din Tai Fung</td>\n",
       "      <td>CA</td>\n",
       "      <td>negative</td>\n",
       "      <td>0</td>\n",
       "      <td>The food is amazing but the service is terribl...</td>\n",
       "    </tr>\n",
       "  </tbody>\n",
       "</table>\n",
       "</div>\n",
       "      <button class=\"colab-df-convert\" onclick=\"convertToInteractive('df-7bbaf142-4885-48a4-b4b8-d28d38281dc1')\"\n",
       "              title=\"Convert this dataframe to an interactive table.\"\n",
       "              style=\"display:none;\">\n",
       "        \n",
       "  <svg xmlns=\"http://www.w3.org/2000/svg\" height=\"24px\"viewBox=\"0 0 24 24\"\n",
       "       width=\"24px\">\n",
       "    <path d=\"M0 0h24v24H0V0z\" fill=\"none\"/>\n",
       "    <path d=\"M18.56 5.44l.94 2.06.94-2.06 2.06-.94-2.06-.94-.94-2.06-.94 2.06-2.06.94zm-11 1L8.5 8.5l.94-2.06 2.06-.94-2.06-.94L8.5 2.5l-.94 2.06-2.06.94zm10 10l.94 2.06.94-2.06 2.06-.94-2.06-.94-.94-2.06-.94 2.06-2.06.94z\"/><path d=\"M17.41 7.96l-1.37-1.37c-.4-.4-.92-.59-1.43-.59-.52 0-1.04.2-1.43.59L10.3 9.45l-7.72 7.72c-.78.78-.78 2.05 0 2.83L4 21.41c.39.39.9.59 1.41.59.51 0 1.02-.2 1.41-.59l7.78-7.78 2.81-2.81c.8-.78.8-2.07 0-2.86zM5.41 20L4 18.59l7.72-7.72 1.47 1.35L5.41 20z\"/>\n",
       "  </svg>\n",
       "      </button>\n",
       "      \n",
       "  <style>\n",
       "    .colab-df-container {\n",
       "      display:flex;\n",
       "      flex-wrap:wrap;\n",
       "      gap: 12px;\n",
       "    }\n",
       "\n",
       "    .colab-df-convert {\n",
       "      background-color: #E8F0FE;\n",
       "      border: none;\n",
       "      border-radius: 50%;\n",
       "      cursor: pointer;\n",
       "      display: none;\n",
       "      fill: #1967D2;\n",
       "      height: 32px;\n",
       "      padding: 0 0 0 0;\n",
       "      width: 32px;\n",
       "    }\n",
       "\n",
       "    .colab-df-convert:hover {\n",
       "      background-color: #E2EBFA;\n",
       "      box-shadow: 0px 1px 2px rgba(60, 64, 67, 0.3), 0px 1px 3px 1px rgba(60, 64, 67, 0.15);\n",
       "      fill: #174EA6;\n",
       "    }\n",
       "\n",
       "    [theme=dark] .colab-df-convert {\n",
       "      background-color: #3B4455;\n",
       "      fill: #D2E3FC;\n",
       "    }\n",
       "\n",
       "    [theme=dark] .colab-df-convert:hover {\n",
       "      background-color: #434B5C;\n",
       "      box-shadow: 0px 1px 3px 1px rgba(0, 0, 0, 0.15);\n",
       "      filter: drop-shadow(0px 1px 2px rgba(0, 0, 0, 0.3));\n",
       "      fill: #FFFFFF;\n",
       "    }\n",
       "  </style>\n",
       "\n",
       "      <script>\n",
       "        const buttonEl =\n",
       "          document.querySelector('#df-7bbaf142-4885-48a4-b4b8-d28d38281dc1 button.colab-df-convert');\n",
       "        buttonEl.style.display =\n",
       "          google.colab.kernel.accessAllowed ? 'block' : 'none';\n",
       "\n",
       "        async function convertToInteractive(key) {\n",
       "          const element = document.querySelector('#df-7bbaf142-4885-48a4-b4b8-d28d38281dc1');\n",
       "          const dataTable =\n",
       "            await google.colab.kernel.invokeFunction('convertToInteractive',\n",
       "                                                     [key], {});\n",
       "          if (!dataTable) return;\n",
       "\n",
       "          const docLinkHtml = 'Like what you see? Visit the ' +\n",
       "            '<a target=\"_blank\" href=https://colab.research.google.com/notebooks/data_table.ipynb>data table notebook</a>'\n",
       "            + ' to learn more about interactive tables.';\n",
       "          element.innerHTML = '';\n",
       "          dataTable['output_type'] = 'display_data';\n",
       "          await google.colab.output.renderOutput(dataTable, element);\n",
       "          const docLink = document.createElement('div');\n",
       "          docLink.innerHTML = docLinkHtml;\n",
       "          element.appendChild(docLink);\n",
       "        }\n",
       "      </script>\n",
       "    </div>\n",
       "  </div>\n",
       "  "
      ],
      "text/plain": [
       "    Unnamed: 0      username           location       date  stars  \\\n",
       "4            4  Dr. Susan F.       Whittier, CA  4/27/2022      1   \n",
       "36          36        Nba C.         Irvine, CA  4/24/2022      1   \n",
       "40          40    Tiffany O.  Orange County, CA  4/30/2022      1   \n",
       "54          54       Mike L.         Irvine, CA   4/6/2022      1   \n",
       "73          73   Scarlett Z.     Costa Mesa, CA  4/30/2022      1   \n",
       "\n",
       "                                              content  numfriends  \\\n",
       "4   We love DTF!!! Not this location:  is there an...          16   \n",
       "36  You people are fools. Paying for mediocre Chin...          10   \n",
       "40  Ordered and was told it would be ready at 7:30...           0   \n",
       "54  We had a reservation at 11 am on Saturday. We ...           0   \n",
       "73  The food is amazing but the service is terribl...           0   \n",
       "\n",
       "      Restaurant state sentiment  sent  \\\n",
       "4   Din Tai Fung    CA  negative     0   \n",
       "36  Din Tai Fung    CA  negative     0   \n",
       "40  Din Tai Fung    CA  negative     0   \n",
       "54  Din Tai Fung    CA  negative     0   \n",
       "73  Din Tai Fung    CA  negative     0   \n",
       "\n",
       "                                      Cleaned Reviews  \n",
       "4   We love DTF Not this location is there anythin...  \n",
       "36  You people are fools Paying for mediocre Chine...  \n",
       "40  Ordered and was told it would be ready at went...  \n",
       "54  We had a reservation at am on Saturday We show...  \n",
       "73  The food is amazing but the service is terribl...  "
      ]
     },
     "execution_count": 40,
     "metadata": {},
     "output_type": "execute_result"
    }
   ],
   "source": [
    "import re\n",
    "# Define a function to clean the text\n",
    "def clean(text):\n",
    "# Removes all special characters and numericals leaving the alphabets\n",
    "    text = re.sub('[^A-Za-z]+', ' ', text)\n",
    "    return text\n",
    "\n",
    "# Cleaning the text in the review column\n",
    "sentiment['Cleaned Reviews'] = sentiment['content'].apply(clean)\n",
    "sentiment.head()"
   ]
  },
  {
   "cell_type": "code",
   "execution_count": null,
   "metadata": {
    "id": "WcN4N7JKAtLJ"
   },
   "outputs": [],
   "source": [
    "sentiment=sentiment.drop(columns=['Unnamed: 0'],axis=1)"
   ]
  },
  {
   "cell_type": "code",
   "execution_count": null,
   "metadata": {
    "colab": {
     "base_uri": "https://localhost:8080/",
     "height": 505
    },
    "id": "ELuU8h8RmGEh",
    "outputId": "5780edde-b7b2-45e5-a157-16e3795df064"
   },
   "outputs": [
    {
     "name": "stdout",
     "output_type": "stream",
     "text": [
      "[nltk_data] Downloading package punkt to /root/nltk_data...\n",
      "[nltk_data]   Package punkt is already up-to-date!\n",
      "[nltk_data] Downloading package stopwords to /root/nltk_data...\n",
      "[nltk_data]   Package stopwords is already up-to-date!\n",
      "[nltk_data] Downloading package wordnet to /root/nltk_data...\n",
      "[nltk_data]   Package wordnet is already up-to-date!\n"
     ]
    },
    {
     "ename": "KeyboardInterrupt",
     "evalue": "ignored",
     "output_type": "error",
     "traceback": [
      "\u001b[0;31m---------------------------------------------------------------------------\u001b[0m",
      "\u001b[0;31mKeyboardInterrupt\u001b[0m                         Traceback (most recent call last)",
      "\u001b[0;32m<ipython-input-47-b93e3ccae837>\u001b[0m in \u001b[0;36m<module>\u001b[0;34m()\u001b[0m\n\u001b[1;32m     19\u001b[0m     \u001b[0;32mreturn\u001b[0m \u001b[0mnewlist\u001b[0m\u001b[0;34m\u001b[0m\u001b[0;34m\u001b[0m\u001b[0m\n\u001b[1;32m     20\u001b[0m \u001b[0;34m\u001b[0m\u001b[0m\n\u001b[0;32m---> 21\u001b[0;31m \u001b[0msentiment\u001b[0m\u001b[0;34m[\u001b[0m\u001b[0;34m'POS tagged'\u001b[0m\u001b[0;34m]\u001b[0m \u001b[0;34m=\u001b[0m \u001b[0msentiment\u001b[0m\u001b[0;34m[\u001b[0m\u001b[0;34m'Cleaned Reviews'\u001b[0m\u001b[0;34m]\u001b[0m\u001b[0;34m.\u001b[0m\u001b[0mapply\u001b[0m\u001b[0;34m(\u001b[0m\u001b[0mtoken_stop_pos\u001b[0m\u001b[0;34m)\u001b[0m\u001b[0;34m\u001b[0m\u001b[0;34m\u001b[0m\u001b[0m\n\u001b[0m\u001b[1;32m     22\u001b[0m \u001b[0msentiment\u001b[0m\u001b[0;34m.\u001b[0m\u001b[0mhead\u001b[0m\u001b[0;34m(\u001b[0m\u001b[0;34m)\u001b[0m\u001b[0;34m\u001b[0m\u001b[0;34m\u001b[0m\u001b[0m\n\u001b[1;32m     23\u001b[0m \u001b[0;31m# mydata['POS tagged'][0]\u001b[0m\u001b[0;34m\u001b[0m\u001b[0;34m\u001b[0m\u001b[0;34m\u001b[0m\u001b[0m\n",
      "\u001b[0;32m/usr/local/lib/python3.7/dist-packages/pandas/core/series.py\u001b[0m in \u001b[0;36mapply\u001b[0;34m(self, func, convert_dtype, args, **kwargs)\u001b[0m\n\u001b[1;32m   4355\u001b[0m         \u001b[0mdtype\u001b[0m\u001b[0;34m:\u001b[0m \u001b[0mfloat64\u001b[0m\u001b[0;34m\u001b[0m\u001b[0;34m\u001b[0m\u001b[0m\n\u001b[1;32m   4356\u001b[0m         \"\"\"\n\u001b[0;32m-> 4357\u001b[0;31m         \u001b[0;32mreturn\u001b[0m \u001b[0mSeriesApply\u001b[0m\u001b[0;34m(\u001b[0m\u001b[0mself\u001b[0m\u001b[0;34m,\u001b[0m \u001b[0mfunc\u001b[0m\u001b[0;34m,\u001b[0m \u001b[0mconvert_dtype\u001b[0m\u001b[0;34m,\u001b[0m \u001b[0margs\u001b[0m\u001b[0;34m,\u001b[0m \u001b[0mkwargs\u001b[0m\u001b[0;34m)\u001b[0m\u001b[0;34m.\u001b[0m\u001b[0mapply\u001b[0m\u001b[0;34m(\u001b[0m\u001b[0;34m)\u001b[0m\u001b[0;34m\u001b[0m\u001b[0;34m\u001b[0m\u001b[0m\n\u001b[0m\u001b[1;32m   4358\u001b[0m \u001b[0;34m\u001b[0m\u001b[0m\n\u001b[1;32m   4359\u001b[0m     def _reduce(\n",
      "\u001b[0;32m/usr/local/lib/python3.7/dist-packages/pandas/core/apply.py\u001b[0m in \u001b[0;36mapply\u001b[0;34m(self)\u001b[0m\n\u001b[1;32m   1041\u001b[0m             \u001b[0;32mreturn\u001b[0m \u001b[0mself\u001b[0m\u001b[0;34m.\u001b[0m\u001b[0mapply_str\u001b[0m\u001b[0;34m(\u001b[0m\u001b[0;34m)\u001b[0m\u001b[0;34m\u001b[0m\u001b[0;34m\u001b[0m\u001b[0m\n\u001b[1;32m   1042\u001b[0m \u001b[0;34m\u001b[0m\u001b[0m\n\u001b[0;32m-> 1043\u001b[0;31m         \u001b[0;32mreturn\u001b[0m \u001b[0mself\u001b[0m\u001b[0;34m.\u001b[0m\u001b[0mapply_standard\u001b[0m\u001b[0;34m(\u001b[0m\u001b[0;34m)\u001b[0m\u001b[0;34m\u001b[0m\u001b[0;34m\u001b[0m\u001b[0m\n\u001b[0m\u001b[1;32m   1044\u001b[0m \u001b[0;34m\u001b[0m\u001b[0m\n\u001b[1;32m   1045\u001b[0m     \u001b[0;32mdef\u001b[0m \u001b[0magg\u001b[0m\u001b[0;34m(\u001b[0m\u001b[0mself\u001b[0m\u001b[0;34m)\u001b[0m\u001b[0;34m:\u001b[0m\u001b[0;34m\u001b[0m\u001b[0;34m\u001b[0m\u001b[0m\n",
      "\u001b[0;32m/usr/local/lib/python3.7/dist-packages/pandas/core/apply.py\u001b[0m in \u001b[0;36mapply_standard\u001b[0;34m(self)\u001b[0m\n\u001b[1;32m   1099\u001b[0m                     \u001b[0mvalues\u001b[0m\u001b[0;34m,\u001b[0m\u001b[0;34m\u001b[0m\u001b[0;34m\u001b[0m\u001b[0m\n\u001b[1;32m   1100\u001b[0m                     \u001b[0mf\u001b[0m\u001b[0;34m,\u001b[0m  \u001b[0;31m# type: ignore[arg-type]\u001b[0m\u001b[0;34m\u001b[0m\u001b[0;34m\u001b[0m\u001b[0m\n\u001b[0;32m-> 1101\u001b[0;31m                     \u001b[0mconvert\u001b[0m\u001b[0;34m=\u001b[0m\u001b[0mself\u001b[0m\u001b[0;34m.\u001b[0m\u001b[0mconvert_dtype\u001b[0m\u001b[0;34m,\u001b[0m\u001b[0;34m\u001b[0m\u001b[0;34m\u001b[0m\u001b[0m\n\u001b[0m\u001b[1;32m   1102\u001b[0m                 )\n\u001b[1;32m   1103\u001b[0m \u001b[0;34m\u001b[0m\u001b[0m\n",
      "\u001b[0;32m/usr/local/lib/python3.7/dist-packages/pandas/_libs/lib.pyx\u001b[0m in \u001b[0;36mpandas._libs.lib.map_infer\u001b[0;34m()\u001b[0m\n",
      "\u001b[0;32m<ipython-input-47-b93e3ccae837>\u001b[0m in \u001b[0;36mtoken_stop_pos\u001b[0;34m(text)\u001b[0m\n\u001b[1;32m     12\u001b[0m \u001b[0;34m\u001b[0m\u001b[0m\n\u001b[1;32m     13\u001b[0m \u001b[0;32mdef\u001b[0m \u001b[0mtoken_stop_pos\u001b[0m\u001b[0;34m(\u001b[0m\u001b[0mtext\u001b[0m\u001b[0;34m)\u001b[0m\u001b[0;34m:\u001b[0m\u001b[0;34m\u001b[0m\u001b[0;34m\u001b[0m\u001b[0m\n\u001b[0;32m---> 14\u001b[0;31m     \u001b[0mtags\u001b[0m \u001b[0;34m=\u001b[0m \u001b[0mpos_tag\u001b[0m\u001b[0;34m(\u001b[0m\u001b[0mword_tokenize\u001b[0m\u001b[0;34m(\u001b[0m\u001b[0mtext\u001b[0m\u001b[0;34m)\u001b[0m\u001b[0;34m)\u001b[0m\u001b[0;34m\u001b[0m\u001b[0;34m\u001b[0m\u001b[0m\n\u001b[0m\u001b[1;32m     15\u001b[0m     \u001b[0mnewlist\u001b[0m \u001b[0;34m=\u001b[0m \u001b[0;34m[\u001b[0m\u001b[0;34m]\u001b[0m\u001b[0;34m\u001b[0m\u001b[0;34m\u001b[0m\u001b[0m\n\u001b[1;32m     16\u001b[0m     \u001b[0;32mfor\u001b[0m \u001b[0mword\u001b[0m\u001b[0;34m,\u001b[0m \u001b[0mtag\u001b[0m \u001b[0;32min\u001b[0m \u001b[0mtags\u001b[0m\u001b[0;34m:\u001b[0m\u001b[0;34m\u001b[0m\u001b[0;34m\u001b[0m\u001b[0m\n",
      "\u001b[0;32m/usr/local/lib/python3.7/dist-packages/nltk/tag/__init__.py\u001b[0m in \u001b[0;36mpos_tag\u001b[0;34m(tokens, tagset, lang)\u001b[0m\n\u001b[1;32m    132\u001b[0m     \"\"\"\n\u001b[1;32m    133\u001b[0m     \u001b[0mtagger\u001b[0m \u001b[0;34m=\u001b[0m \u001b[0m_get_tagger\u001b[0m\u001b[0;34m(\u001b[0m\u001b[0mlang\u001b[0m\u001b[0;34m)\u001b[0m\u001b[0;34m\u001b[0m\u001b[0;34m\u001b[0m\u001b[0m\n\u001b[0;32m--> 134\u001b[0;31m     \u001b[0;32mreturn\u001b[0m \u001b[0m_pos_tag\u001b[0m\u001b[0;34m(\u001b[0m\u001b[0mtokens\u001b[0m\u001b[0;34m,\u001b[0m \u001b[0mtagset\u001b[0m\u001b[0;34m,\u001b[0m \u001b[0mtagger\u001b[0m\u001b[0;34m)\u001b[0m\u001b[0;34m\u001b[0m\u001b[0;34m\u001b[0m\u001b[0m\n\u001b[0m\u001b[1;32m    135\u001b[0m \u001b[0;34m\u001b[0m\u001b[0m\n\u001b[1;32m    136\u001b[0m \u001b[0;34m\u001b[0m\u001b[0m\n",
      "\u001b[0;32m/usr/local/lib/python3.7/dist-packages/nltk/tag/__init__.py\u001b[0m in \u001b[0;36m_pos_tag\u001b[0;34m(tokens, tagset, tagger)\u001b[0m\n\u001b[1;32m    100\u001b[0m \u001b[0;34m\u001b[0m\u001b[0m\n\u001b[1;32m    101\u001b[0m \u001b[0;32mdef\u001b[0m \u001b[0m_pos_tag\u001b[0m\u001b[0;34m(\u001b[0m\u001b[0mtokens\u001b[0m\u001b[0;34m,\u001b[0m \u001b[0mtagset\u001b[0m\u001b[0;34m,\u001b[0m \u001b[0mtagger\u001b[0m\u001b[0;34m)\u001b[0m\u001b[0;34m:\u001b[0m\u001b[0;34m\u001b[0m\u001b[0;34m\u001b[0m\u001b[0m\n\u001b[0;32m--> 102\u001b[0;31m     \u001b[0mtagged_tokens\u001b[0m \u001b[0;34m=\u001b[0m \u001b[0mtagger\u001b[0m\u001b[0;34m.\u001b[0m\u001b[0mtag\u001b[0m\u001b[0;34m(\u001b[0m\u001b[0mtokens\u001b[0m\u001b[0;34m)\u001b[0m\u001b[0;34m\u001b[0m\u001b[0;34m\u001b[0m\u001b[0m\n\u001b[0m\u001b[1;32m    103\u001b[0m     \u001b[0;32mif\u001b[0m \u001b[0mtagset\u001b[0m\u001b[0;34m:\u001b[0m\u001b[0;34m\u001b[0m\u001b[0;34m\u001b[0m\u001b[0m\n\u001b[1;32m    104\u001b[0m         \u001b[0mtagged_tokens\u001b[0m \u001b[0;34m=\u001b[0m \u001b[0;34m[\u001b[0m\u001b[0;34m(\u001b[0m\u001b[0mtoken\u001b[0m\u001b[0;34m,\u001b[0m \u001b[0mmap_tag\u001b[0m\u001b[0;34m(\u001b[0m\u001b[0;34m'en-ptb'\u001b[0m\u001b[0;34m,\u001b[0m \u001b[0mtagset\u001b[0m\u001b[0;34m,\u001b[0m \u001b[0mtag\u001b[0m\u001b[0;34m)\u001b[0m\u001b[0;34m)\u001b[0m \u001b[0;32mfor\u001b[0m \u001b[0;34m(\u001b[0m\u001b[0mtoken\u001b[0m\u001b[0;34m,\u001b[0m \u001b[0mtag\u001b[0m\u001b[0;34m)\u001b[0m \u001b[0;32min\u001b[0m \u001b[0mtagged_tokens\u001b[0m\u001b[0;34m]\u001b[0m\u001b[0;34m\u001b[0m\u001b[0;34m\u001b[0m\u001b[0m\n",
      "\u001b[0;32m/usr/local/lib/python3.7/dist-packages/nltk/tag/perceptron.py\u001b[0m in \u001b[0;36mtag\u001b[0;34m(self, tokens)\u001b[0m\n\u001b[1;32m    155\u001b[0m             \u001b[0;32mif\u001b[0m \u001b[0;32mnot\u001b[0m \u001b[0mtag\u001b[0m\u001b[0;34m:\u001b[0m\u001b[0;34m\u001b[0m\u001b[0;34m\u001b[0m\u001b[0m\n\u001b[1;32m    156\u001b[0m                 \u001b[0mfeatures\u001b[0m \u001b[0;34m=\u001b[0m \u001b[0mself\u001b[0m\u001b[0;34m.\u001b[0m\u001b[0m_get_features\u001b[0m\u001b[0;34m(\u001b[0m\u001b[0mi\u001b[0m\u001b[0;34m,\u001b[0m \u001b[0mword\u001b[0m\u001b[0;34m,\u001b[0m \u001b[0mcontext\u001b[0m\u001b[0;34m,\u001b[0m \u001b[0mprev\u001b[0m\u001b[0;34m,\u001b[0m \u001b[0mprev2\u001b[0m\u001b[0;34m)\u001b[0m\u001b[0;34m\u001b[0m\u001b[0;34m\u001b[0m\u001b[0m\n\u001b[0;32m--> 157\u001b[0;31m                 \u001b[0mtag\u001b[0m \u001b[0;34m=\u001b[0m \u001b[0mself\u001b[0m\u001b[0;34m.\u001b[0m\u001b[0mmodel\u001b[0m\u001b[0;34m.\u001b[0m\u001b[0mpredict\u001b[0m\u001b[0;34m(\u001b[0m\u001b[0mfeatures\u001b[0m\u001b[0;34m)\u001b[0m\u001b[0;34m\u001b[0m\u001b[0;34m\u001b[0m\u001b[0m\n\u001b[0m\u001b[1;32m    158\u001b[0m             \u001b[0moutput\u001b[0m\u001b[0;34m.\u001b[0m\u001b[0mappend\u001b[0m\u001b[0;34m(\u001b[0m\u001b[0;34m(\u001b[0m\u001b[0mword\u001b[0m\u001b[0;34m,\u001b[0m \u001b[0mtag\u001b[0m\u001b[0;34m)\u001b[0m\u001b[0;34m)\u001b[0m\u001b[0;34m\u001b[0m\u001b[0;34m\u001b[0m\u001b[0m\n\u001b[1;32m    159\u001b[0m             \u001b[0mprev2\u001b[0m \u001b[0;34m=\u001b[0m \u001b[0mprev\u001b[0m\u001b[0;34m\u001b[0m\u001b[0;34m\u001b[0m\u001b[0m\n",
      "\u001b[0;32m/usr/local/lib/python3.7/dist-packages/nltk/tag/perceptron.py\u001b[0m in \u001b[0;36mpredict\u001b[0;34m(self, features)\u001b[0m\n\u001b[1;32m     52\u001b[0m             \u001b[0;32mif\u001b[0m \u001b[0mfeat\u001b[0m \u001b[0;32mnot\u001b[0m \u001b[0;32min\u001b[0m \u001b[0mself\u001b[0m\u001b[0;34m.\u001b[0m\u001b[0mweights\u001b[0m \u001b[0;32mor\u001b[0m \u001b[0mvalue\u001b[0m \u001b[0;34m==\u001b[0m \u001b[0;36m0\u001b[0m\u001b[0;34m:\u001b[0m\u001b[0;34m\u001b[0m\u001b[0;34m\u001b[0m\u001b[0m\n\u001b[1;32m     53\u001b[0m                 \u001b[0;32mcontinue\u001b[0m\u001b[0;34m\u001b[0m\u001b[0;34m\u001b[0m\u001b[0m\n\u001b[0;32m---> 54\u001b[0;31m             \u001b[0mweights\u001b[0m \u001b[0;34m=\u001b[0m \u001b[0mself\u001b[0m\u001b[0;34m.\u001b[0m\u001b[0mweights\u001b[0m\u001b[0;34m[\u001b[0m\u001b[0mfeat\u001b[0m\u001b[0;34m]\u001b[0m\u001b[0;34m\u001b[0m\u001b[0;34m\u001b[0m\u001b[0m\n\u001b[0m\u001b[1;32m     55\u001b[0m             \u001b[0;32mfor\u001b[0m \u001b[0mlabel\u001b[0m\u001b[0;34m,\u001b[0m \u001b[0mweight\u001b[0m \u001b[0;32min\u001b[0m \u001b[0mweights\u001b[0m\u001b[0;34m.\u001b[0m\u001b[0mitems\u001b[0m\u001b[0;34m(\u001b[0m\u001b[0;34m)\u001b[0m\u001b[0;34m:\u001b[0m\u001b[0;34m\u001b[0m\u001b[0;34m\u001b[0m\u001b[0m\n\u001b[1;32m     56\u001b[0m                 \u001b[0mscores\u001b[0m\u001b[0;34m[\u001b[0m\u001b[0mlabel\u001b[0m\u001b[0;34m]\u001b[0m \u001b[0;34m+=\u001b[0m \u001b[0mvalue\u001b[0m \u001b[0;34m*\u001b[0m \u001b[0mweight\u001b[0m\u001b[0;34m\u001b[0m\u001b[0;34m\u001b[0m\u001b[0m\n",
      "\u001b[0;31mKeyboardInterrupt\u001b[0m: "
     ]
    }
   ],
   "source": [
    "import nltk\n",
    "nltk.download('punkt')\n",
    "from nltk.tokenize import word_tokenize\n",
    "from nltk import pos_tag\n",
    "nltk.download('stopwords')\n",
    "from nltk.corpus import stopwords\n",
    "nltk.download('wordnet')\n",
    "from nltk.corpus import wordnet\n",
    "\n",
    "# POS tagger dictionary\n",
    "pos_dict = {'J':wordnet.ADJ, 'V':wordnet.VERB, 'N':wordnet.NOUN, 'R':wordnet.ADV}\n",
    "\n",
    "def token_stop_pos(text):\n",
    "    tags = pos_tag(word_tokenize(text))\n",
    "    newlist = []\n",
    "    for word, tag in tags:\n",
    "        if word.lower() not in set(stopwords.words('english')):\n",
    "            newlist.append(tuple([word, pos_dict.get(tag[0])]))\n",
    "    return newlist\n",
    "\n",
    "sentiment['POS tagged'] = sentiment['Cleaned Reviews'].apply(token_stop_pos)\n",
    "sentiment.head()\n",
    "# mydata['POS tagged'][0]"
   ]
  },
  {
   "cell_type": "code",
   "execution_count": null,
   "metadata": {
    "colab": {
     "base_uri": "https://localhost:8080/"
    },
    "id": "1mqZ9G0qnHVM",
    "outputId": "113fda54-1ac0-4b32-8a87-5ab4792d434c"
   },
   "outputs": [
    {
     "name": "stdout",
     "output_type": "stream",
     "text": [
      "NLTK Downloader\n",
      "---------------------------------------------------------------------------\n",
      "    d) Download   l) List    u) Update   c) Config   h) Help   q) Quit\n",
      "---------------------------------------------------------------------------\n",
      "Downloader> d\n",
      "\n",
      "Download which package (l=list; x=cancel)?\n",
      "  Identifier> averaged_perceptron_tagger\n",
      "    Downloading package averaged_perceptron_tagger to\n",
      "        /root/nltk_data...\n",
      "      Unzipping taggers/averaged_perceptron_tagger.zip.\n",
      "\n",
      "---------------------------------------------------------------------------\n",
      "    d) Download   l) List    u) Update   c) Config   h) Help   q) Quit\n",
      "---------------------------------------------------------------------------\n",
      "Downloader> q\n"
     ]
    },
    {
     "data": {
      "text/plain": [
       "True"
      ]
     },
     "execution_count": 44,
     "metadata": {},
     "output_type": "execute_result"
    }
   ],
   "source": [
    ">>> nltk.download()\n",
    "\n"
   ]
  },
  {
   "cell_type": "code",
   "execution_count": null,
   "metadata": {
    "id": "KJDFMVqcuTcN"
   },
   "outputs": [],
   "source": [
    "from nltk.stem import WordNetLemmatizer\n",
    "wordnet_lemmatizer = WordNetLemmatizer()\n",
    "\n",
    "def lemmatize(pos_data):\n",
    "    lemma_rew = \" \"\n",
    "    for word, pos in pos_data:\n",
    "        if not pos: \n",
    "            lemma = word\n",
    "            lemma_rew = lemma_rew + \" \" + lemma\n",
    "        else:  \n",
    "            lemma = wordnet_lemmatizer.lemmatize(word, pos=pos)\n",
    "            lemma_rew = lemma_rew + \" \" + lemma\n",
    "    return lemma_rew\n",
    "    \n",
    "sentiment['Lemma'] = sentiment['POS tagged'].apply(lemmatize)\n",
    "sentiment.head()\n",
    "# print(mydata['review'][239] + \"\\n\" + mydata['Lemma'][239])"
   ]
  },
  {
   "cell_type": "code",
   "execution_count": null,
   "metadata": {
    "colab": {
     "base_uri": "https://localhost:8080/",
     "height": 424
    },
    "id": "uGhzejq_ujFz",
    "outputId": "c0adade7-b24b-495d-9e78-e4c2386a0f2d"
   },
   "outputs": [
    {
     "data": {
      "text/html": [
       "\n",
       "  <div id=\"df-cfde1ef7-34db-4ed5-8c5b-b02d6aa15563\">\n",
       "    <div class=\"colab-df-container\">\n",
       "      <div>\n",
       "<style scoped>\n",
       "    .dataframe tbody tr th:only-of-type {\n",
       "        vertical-align: middle;\n",
       "    }\n",
       "\n",
       "    .dataframe tbody tr th {\n",
       "        vertical-align: top;\n",
       "    }\n",
       "\n",
       "    .dataframe thead th {\n",
       "        text-align: right;\n",
       "    }\n",
       "</style>\n",
       "<table border=\"1\" class=\"dataframe\">\n",
       "  <thead>\n",
       "    <tr style=\"text-align: right;\">\n",
       "      <th></th>\n",
       "      <th>content</th>\n",
       "      <th>Lemma</th>\n",
       "    </tr>\n",
       "  </thead>\n",
       "  <tbody>\n",
       "    <tr>\n",
       "      <th>0</th>\n",
       "      <td>Been going here for 5+ years starting at the o...</td>\n",
       "      <td>go year start original Arcadia Amazing every...</td>\n",
       "    </tr>\n",
       "    <tr>\n",
       "      <th>1</th>\n",
       "      <td>Very professional and organized. Wonderful sta...</td>\n",
       "      <td>professional organize Wonderful staff wait h...</td>\n",
       "    </tr>\n",
       "    <tr>\n",
       "      <th>2</th>\n",
       "      <td>We came here for our anniversary as walk ins a...</td>\n",
       "      <td>come anniversary walk in experience never fa...</td>\n",
       "    </tr>\n",
       "    <tr>\n",
       "      <th>3</th>\n",
       "      <td>DTF? Obviously had to go to DTF for the one ti...</td>\n",
       "      <td>DTF Obviously go DTF one time hype also near...</td>\n",
       "    </tr>\n",
       "    <tr>\n",
       "      <th>4</th>\n",
       "      <td>We love DTF!!! Not this location:  is there an...</td>\n",
       "      <td>love DTF location anything good say location...</td>\n",
       "    </tr>\n",
       "    <tr>\n",
       "      <th>...</th>\n",
       "      <td>...</td>\n",
       "      <td>...</td>\n",
       "    </tr>\n",
       "    <tr>\n",
       "      <th>4562</th>\n",
       "      <td>i agree with eugenia c. when she says the serv...</td>\n",
       "      <td>agree eugenia c say service could good use l...</td>\n",
       "    </tr>\n",
       "    <tr>\n",
       "      <th>4563</th>\n",
       "      <td>Ok, I understand why this place gets the revie...</td>\n",
       "      <td>Ok understand place get review review primar...</td>\n",
       "    </tr>\n",
       "    <tr>\n",
       "      <th>4564</th>\n",
       "      <td>pretty good food! bit pricey.. the Cuban Food ...</td>\n",
       "      <td>pretty good food bit pricey Cuban Food Moros...</td>\n",
       "    </tr>\n",
       "    <tr>\n",
       "      <th>4565</th>\n",
       "      <td>very cool dark romantic restaurant, great food...</td>\n",
       "      <td>cool dark romantic restaurant great food eve...</td>\n",
       "    </tr>\n",
       "    <tr>\n",
       "      <th>4566</th>\n",
       "      <td>meh. this place is alright. its a bit on the p...</td>\n",
       "      <td>meh place alright bit pricey side understand...</td>\n",
       "    </tr>\n",
       "  </tbody>\n",
       "</table>\n",
       "<p>20978 rows × 2 columns</p>\n",
       "</div>\n",
       "      <button class=\"colab-df-convert\" onclick=\"convertToInteractive('df-cfde1ef7-34db-4ed5-8c5b-b02d6aa15563')\"\n",
       "              title=\"Convert this dataframe to an interactive table.\"\n",
       "              style=\"display:none;\">\n",
       "        \n",
       "  <svg xmlns=\"http://www.w3.org/2000/svg\" height=\"24px\"viewBox=\"0 0 24 24\"\n",
       "       width=\"24px\">\n",
       "    <path d=\"M0 0h24v24H0V0z\" fill=\"none\"/>\n",
       "    <path d=\"M18.56 5.44l.94 2.06.94-2.06 2.06-.94-2.06-.94-.94-2.06-.94 2.06-2.06.94zm-11 1L8.5 8.5l.94-2.06 2.06-.94-2.06-.94L8.5 2.5l-.94 2.06-2.06.94zm10 10l.94 2.06.94-2.06 2.06-.94-2.06-.94-.94-2.06-.94 2.06-2.06.94z\"/><path d=\"M17.41 7.96l-1.37-1.37c-.4-.4-.92-.59-1.43-.59-.52 0-1.04.2-1.43.59L10.3 9.45l-7.72 7.72c-.78.78-.78 2.05 0 2.83L4 21.41c.39.39.9.59 1.41.59.51 0 1.02-.2 1.41-.59l7.78-7.78 2.81-2.81c.8-.78.8-2.07 0-2.86zM5.41 20L4 18.59l7.72-7.72 1.47 1.35L5.41 20z\"/>\n",
       "  </svg>\n",
       "      </button>\n",
       "      \n",
       "  <style>\n",
       "    .colab-df-container {\n",
       "      display:flex;\n",
       "      flex-wrap:wrap;\n",
       "      gap: 12px;\n",
       "    }\n",
       "\n",
       "    .colab-df-convert {\n",
       "      background-color: #E8F0FE;\n",
       "      border: none;\n",
       "      border-radius: 50%;\n",
       "      cursor: pointer;\n",
       "      display: none;\n",
       "      fill: #1967D2;\n",
       "      height: 32px;\n",
       "      padding: 0 0 0 0;\n",
       "      width: 32px;\n",
       "    }\n",
       "\n",
       "    .colab-df-convert:hover {\n",
       "      background-color: #E2EBFA;\n",
       "      box-shadow: 0px 1px 2px rgba(60, 64, 67, 0.3), 0px 1px 3px 1px rgba(60, 64, 67, 0.15);\n",
       "      fill: #174EA6;\n",
       "    }\n",
       "\n",
       "    [theme=dark] .colab-df-convert {\n",
       "      background-color: #3B4455;\n",
       "      fill: #D2E3FC;\n",
       "    }\n",
       "\n",
       "    [theme=dark] .colab-df-convert:hover {\n",
       "      background-color: #434B5C;\n",
       "      box-shadow: 0px 1px 3px 1px rgba(0, 0, 0, 0.15);\n",
       "      filter: drop-shadow(0px 1px 2px rgba(0, 0, 0, 0.3));\n",
       "      fill: #FFFFFF;\n",
       "    }\n",
       "  </style>\n",
       "\n",
       "      <script>\n",
       "        const buttonEl =\n",
       "          document.querySelector('#df-cfde1ef7-34db-4ed5-8c5b-b02d6aa15563 button.colab-df-convert');\n",
       "        buttonEl.style.display =\n",
       "          google.colab.kernel.accessAllowed ? 'block' : 'none';\n",
       "\n",
       "        async function convertToInteractive(key) {\n",
       "          const element = document.querySelector('#df-cfde1ef7-34db-4ed5-8c5b-b02d6aa15563');\n",
       "          const dataTable =\n",
       "            await google.colab.kernel.invokeFunction('convertToInteractive',\n",
       "                                                     [key], {});\n",
       "          if (!dataTable) return;\n",
       "\n",
       "          const docLinkHtml = 'Like what you see? Visit the ' +\n",
       "            '<a target=\"_blank\" href=https://colab.research.google.com/notebooks/data_table.ipynb>data table notebook</a>'\n",
       "            + ' to learn more about interactive tables.';\n",
       "          element.innerHTML = '';\n",
       "          dataTable['output_type'] = 'display_data';\n",
       "          await google.colab.output.renderOutput(dataTable, element);\n",
       "          const docLink = document.createElement('div');\n",
       "          docLink.innerHTML = docLinkHtml;\n",
       "          element.appendChild(docLink);\n",
       "        }\n",
       "      </script>\n",
       "    </div>\n",
       "  </div>\n",
       "  "
      ],
      "text/plain": [
       "                                                content  \\\n",
       "0     Been going here for 5+ years starting at the o...   \n",
       "1     Very professional and organized. Wonderful sta...   \n",
       "2     We came here for our anniversary as walk ins a...   \n",
       "3     DTF? Obviously had to go to DTF for the one ti...   \n",
       "4     We love DTF!!! Not this location:  is there an...   \n",
       "...                                                 ...   \n",
       "4562  i agree with eugenia c. when she says the serv...   \n",
       "4563  Ok, I understand why this place gets the revie...   \n",
       "4564  pretty good food! bit pricey.. the Cuban Food ...   \n",
       "4565  very cool dark romantic restaurant, great food...   \n",
       "4566  meh. this place is alright. its a bit on the p...   \n",
       "\n",
       "                                                  Lemma  \n",
       "0       go year start original Arcadia Amazing every...  \n",
       "1       professional organize Wonderful staff wait h...  \n",
       "2       come anniversary walk in experience never fa...  \n",
       "3       DTF Obviously go DTF one time hype also near...  \n",
       "4       love DTF location anything good say location...  \n",
       "...                                                 ...  \n",
       "4562    agree eugenia c say service could good use l...  \n",
       "4563    Ok understand place get review review primar...  \n",
       "4564    pretty good food bit pricey Cuban Food Moros...  \n",
       "4565    cool dark romantic restaurant great food eve...  \n",
       "4566    meh place alright bit pricey side understand...  \n",
       "\n",
       "[20978 rows x 2 columns]"
      ]
     },
     "execution_count": 25,
     "metadata": {},
     "output_type": "execute_result"
    }
   ],
   "source": [
    "sentiment[['content', 'Lemma']]"
   ]
  },
  {
   "cell_type": "markdown",
   "metadata": {
    "id": "OAEjk5CbywcF"
   },
   "source": [
    "## Text Blob"
   ]
  },
  {
   "cell_type": "code",
   "execution_count": null,
   "metadata": {
    "id": "OM7ZWC3GvHF2"
   },
   "outputs": [],
   "source": [
    "from textblob import TextBlob\n",
    "\n",
    "# function to calculate subjectivity \n",
    "def getSubjectivity(review):\n",
    "    return TextBlob(review).sentiment.subjectivity\n",
    "\n",
    "# function to calculate polarity\n",
    "def getPolarity(review):\n",
    "    return TextBlob(review).sentiment.polarity\n",
    "\n",
    "# function to analyze the reviews\n",
    "def analysis(score):\n",
    "    if score < 0:\n",
    "        return 'Negative'\n",
    "    elif score == 0:\n",
    "        return 'Neutral'\n",
    "    else:\n",
    "        return 'Positive'"
   ]
  },
  {
   "cell_type": "code",
   "execution_count": null,
   "metadata": {
    "id": "NEeWnzXEvIXp"
   },
   "outputs": [],
   "source": [
    "fin_data = pd.DataFrame(finaldf[['content', 'Lemma','stars']])"
   ]
  },
  {
   "cell_type": "code",
   "execution_count": null,
   "metadata": {
    "colab": {
     "base_uri": "https://localhost:8080/",
     "height": 206
    },
    "id": "ixcs-ZjgvZqi",
    "outputId": "4a7920fd-e934-4bdb-daa2-6ee9a1e0dd6e"
   },
   "outputs": [
    {
     "data": {
      "text/html": [
       "\n",
       "  <div id=\"df-9981bb18-0630-4740-a7b0-19529f77307f\">\n",
       "    <div class=\"colab-df-container\">\n",
       "      <div>\n",
       "<style scoped>\n",
       "    .dataframe tbody tr th:only-of-type {\n",
       "        vertical-align: middle;\n",
       "    }\n",
       "\n",
       "    .dataframe tbody tr th {\n",
       "        vertical-align: top;\n",
       "    }\n",
       "\n",
       "    .dataframe thead th {\n",
       "        text-align: right;\n",
       "    }\n",
       "</style>\n",
       "<table border=\"1\" class=\"dataframe\">\n",
       "  <thead>\n",
       "    <tr style=\"text-align: right;\">\n",
       "      <th></th>\n",
       "      <th>content</th>\n",
       "      <th>Lemma</th>\n",
       "      <th>stars</th>\n",
       "      <th>Polarity</th>\n",
       "      <th>Analysis</th>\n",
       "    </tr>\n",
       "  </thead>\n",
       "  <tbody>\n",
       "    <tr>\n",
       "      <th>0</th>\n",
       "      <td>Been going here for 5+ years starting at the o...</td>\n",
       "      <td>go year start original Arcadia Amazing every...</td>\n",
       "      <td>5</td>\n",
       "      <td>0.150893</td>\n",
       "      <td>Positive</td>\n",
       "    </tr>\n",
       "    <tr>\n",
       "      <th>1</th>\n",
       "      <td>Very professional and organized. Wonderful sta...</td>\n",
       "      <td>professional organize Wonderful staff wait h...</td>\n",
       "      <td>4</td>\n",
       "      <td>0.400000</td>\n",
       "      <td>Positive</td>\n",
       "    </tr>\n",
       "    <tr>\n",
       "      <th>2</th>\n",
       "      <td>We came here for our anniversary as walk ins a...</td>\n",
       "      <td>come anniversary walk in experience never fa...</td>\n",
       "      <td>5</td>\n",
       "      <td>0.266739</td>\n",
       "      <td>Positive</td>\n",
       "    </tr>\n",
       "    <tr>\n",
       "      <th>3</th>\n",
       "      <td>DTF? Obviously had to go to DTF for the one ti...</td>\n",
       "      <td>DTF Obviously go DTF one time hype also near...</td>\n",
       "      <td>4</td>\n",
       "      <td>0.176881</td>\n",
       "      <td>Positive</td>\n",
       "    </tr>\n",
       "    <tr>\n",
       "      <th>4</th>\n",
       "      <td>We love DTF!!! Not this location:  is there an...</td>\n",
       "      <td>love DTF location anything good say location...</td>\n",
       "      <td>1</td>\n",
       "      <td>-0.055056</td>\n",
       "      <td>Negative</td>\n",
       "    </tr>\n",
       "  </tbody>\n",
       "</table>\n",
       "</div>\n",
       "      <button class=\"colab-df-convert\" onclick=\"convertToInteractive('df-9981bb18-0630-4740-a7b0-19529f77307f')\"\n",
       "              title=\"Convert this dataframe to an interactive table.\"\n",
       "              style=\"display:none;\">\n",
       "        \n",
       "  <svg xmlns=\"http://www.w3.org/2000/svg\" height=\"24px\"viewBox=\"0 0 24 24\"\n",
       "       width=\"24px\">\n",
       "    <path d=\"M0 0h24v24H0V0z\" fill=\"none\"/>\n",
       "    <path d=\"M18.56 5.44l.94 2.06.94-2.06 2.06-.94-2.06-.94-.94-2.06-.94 2.06-2.06.94zm-11 1L8.5 8.5l.94-2.06 2.06-.94-2.06-.94L8.5 2.5l-.94 2.06-2.06.94zm10 10l.94 2.06.94-2.06 2.06-.94-2.06-.94-.94-2.06-.94 2.06-2.06.94z\"/><path d=\"M17.41 7.96l-1.37-1.37c-.4-.4-.92-.59-1.43-.59-.52 0-1.04.2-1.43.59L10.3 9.45l-7.72 7.72c-.78.78-.78 2.05 0 2.83L4 21.41c.39.39.9.59 1.41.59.51 0 1.02-.2 1.41-.59l7.78-7.78 2.81-2.81c.8-.78.8-2.07 0-2.86zM5.41 20L4 18.59l7.72-7.72 1.47 1.35L5.41 20z\"/>\n",
       "  </svg>\n",
       "      </button>\n",
       "      \n",
       "  <style>\n",
       "    .colab-df-container {\n",
       "      display:flex;\n",
       "      flex-wrap:wrap;\n",
       "      gap: 12px;\n",
       "    }\n",
       "\n",
       "    .colab-df-convert {\n",
       "      background-color: #E8F0FE;\n",
       "      border: none;\n",
       "      border-radius: 50%;\n",
       "      cursor: pointer;\n",
       "      display: none;\n",
       "      fill: #1967D2;\n",
       "      height: 32px;\n",
       "      padding: 0 0 0 0;\n",
       "      width: 32px;\n",
       "    }\n",
       "\n",
       "    .colab-df-convert:hover {\n",
       "      background-color: #E2EBFA;\n",
       "      box-shadow: 0px 1px 2px rgba(60, 64, 67, 0.3), 0px 1px 3px 1px rgba(60, 64, 67, 0.15);\n",
       "      fill: #174EA6;\n",
       "    }\n",
       "\n",
       "    [theme=dark] .colab-df-convert {\n",
       "      background-color: #3B4455;\n",
       "      fill: #D2E3FC;\n",
       "    }\n",
       "\n",
       "    [theme=dark] .colab-df-convert:hover {\n",
       "      background-color: #434B5C;\n",
       "      box-shadow: 0px 1px 3px 1px rgba(0, 0, 0, 0.15);\n",
       "      filter: drop-shadow(0px 1px 2px rgba(0, 0, 0, 0.3));\n",
       "      fill: #FFFFFF;\n",
       "    }\n",
       "  </style>\n",
       "\n",
       "      <script>\n",
       "        const buttonEl =\n",
       "          document.querySelector('#df-9981bb18-0630-4740-a7b0-19529f77307f button.colab-df-convert');\n",
       "        buttonEl.style.display =\n",
       "          google.colab.kernel.accessAllowed ? 'block' : 'none';\n",
       "\n",
       "        async function convertToInteractive(key) {\n",
       "          const element = document.querySelector('#df-9981bb18-0630-4740-a7b0-19529f77307f');\n",
       "          const dataTable =\n",
       "            await google.colab.kernel.invokeFunction('convertToInteractive',\n",
       "                                                     [key], {});\n",
       "          if (!dataTable) return;\n",
       "\n",
       "          const docLinkHtml = 'Like what you see? Visit the ' +\n",
       "            '<a target=\"_blank\" href=https://colab.research.google.com/notebooks/data_table.ipynb>data table notebook</a>'\n",
       "            + ' to learn more about interactive tables.';\n",
       "          element.innerHTML = '';\n",
       "          dataTable['output_type'] = 'display_data';\n",
       "          await google.colab.output.renderOutput(dataTable, element);\n",
       "          const docLink = document.createElement('div');\n",
       "          docLink.innerHTML = docLinkHtml;\n",
       "          element.appendChild(docLink);\n",
       "        }\n",
       "      </script>\n",
       "    </div>\n",
       "  </div>\n",
       "  "
      ],
      "text/plain": [
       "                                             content  \\\n",
       "0  Been going here for 5+ years starting at the o...   \n",
       "1  Very professional and organized. Wonderful sta...   \n",
       "2  We came here for our anniversary as walk ins a...   \n",
       "3  DTF? Obviously had to go to DTF for the one ti...   \n",
       "4  We love DTF!!! Not this location:  is there an...   \n",
       "\n",
       "                                               Lemma  stars  Polarity  \\\n",
       "0    go year start original Arcadia Amazing every...      5  0.150893   \n",
       "1    professional organize Wonderful staff wait h...      4  0.400000   \n",
       "2    come anniversary walk in experience never fa...      5  0.266739   \n",
       "3    DTF Obviously go DTF one time hype also near...      4  0.176881   \n",
       "4    love DTF location anything good say location...      1 -0.055056   \n",
       "\n",
       "   Analysis  \n",
       "0  Positive  \n",
       "1  Positive  \n",
       "2  Positive  \n",
       "3  Positive  \n",
       "4  Negative  "
      ]
     },
     "execution_count": 161,
     "metadata": {},
     "output_type": "execute_result"
    }
   ],
   "source": [
    "fin_data['Polarity'] = fin_data['Lemma'].apply(getPolarity) \n",
    "fin_data['Analysis'] = fin_data['Polarity'].apply(analysis)\n",
    "fin_data.head()\n"
   ]
  },
  {
   "cell_type": "code",
   "execution_count": null,
   "metadata": {
    "colab": {
     "base_uri": "https://localhost:8080/",
     "height": 424
    },
    "id": "3o7B7TeywE0O",
    "outputId": "ac6c4689-c3c6-4351-f7b9-179b0529ec18"
   },
   "outputs": [
    {
     "data": {
      "text/html": [
       "\n",
       "  <div id=\"df-1d65b6db-008b-458a-bf77-5f76e6967bdc\">\n",
       "    <div class=\"colab-df-container\">\n",
       "      <div>\n",
       "<style scoped>\n",
       "    .dataframe tbody tr th:only-of-type {\n",
       "        vertical-align: middle;\n",
       "    }\n",
       "\n",
       "    .dataframe tbody tr th {\n",
       "        vertical-align: top;\n",
       "    }\n",
       "\n",
       "    .dataframe thead th {\n",
       "        text-align: right;\n",
       "    }\n",
       "</style>\n",
       "<table border=\"1\" class=\"dataframe\">\n",
       "  <thead>\n",
       "    <tr style=\"text-align: right;\">\n",
       "      <th></th>\n",
       "      <th>content</th>\n",
       "      <th>Lemma</th>\n",
       "      <th>stars</th>\n",
       "      <th>Polarity</th>\n",
       "      <th>Analysis</th>\n",
       "    </tr>\n",
       "  </thead>\n",
       "  <tbody>\n",
       "    <tr>\n",
       "      <th>0</th>\n",
       "      <td>Been going here for 5+ years starting at the o...</td>\n",
       "      <td>go year start original Arcadia Amazing every...</td>\n",
       "      <td>5</td>\n",
       "      <td>0.150893</td>\n",
       "      <td>Positive</td>\n",
       "    </tr>\n",
       "    <tr>\n",
       "      <th>1</th>\n",
       "      <td>Very professional and organized. Wonderful sta...</td>\n",
       "      <td>professional organize Wonderful staff wait h...</td>\n",
       "      <td>4</td>\n",
       "      <td>0.400000</td>\n",
       "      <td>Positive</td>\n",
       "    </tr>\n",
       "    <tr>\n",
       "      <th>2</th>\n",
       "      <td>We came here for our anniversary as walk ins a...</td>\n",
       "      <td>come anniversary walk in experience never fa...</td>\n",
       "      <td>5</td>\n",
       "      <td>0.266739</td>\n",
       "      <td>Positive</td>\n",
       "    </tr>\n",
       "    <tr>\n",
       "      <th>3</th>\n",
       "      <td>DTF? Obviously had to go to DTF for the one ti...</td>\n",
       "      <td>DTF Obviously go DTF one time hype also near...</td>\n",
       "      <td>4</td>\n",
       "      <td>0.176881</td>\n",
       "      <td>Positive</td>\n",
       "    </tr>\n",
       "    <tr>\n",
       "      <th>4</th>\n",
       "      <td>We love DTF!!! Not this location:  is there an...</td>\n",
       "      <td>love DTF location anything good say location...</td>\n",
       "      <td>1</td>\n",
       "      <td>-0.055056</td>\n",
       "      <td>Negative</td>\n",
       "    </tr>\n",
       "    <tr>\n",
       "      <th>...</th>\n",
       "      <td>...</td>\n",
       "      <td>...</td>\n",
       "      <td>...</td>\n",
       "      <td>...</td>\n",
       "      <td>...</td>\n",
       "    </tr>\n",
       "    <tr>\n",
       "      <th>4562</th>\n",
       "      <td>i agree with eugenia c. when she says the serv...</td>\n",
       "      <td>agree eugenia c say service could good use l...</td>\n",
       "      <td>3</td>\n",
       "      <td>0.200000</td>\n",
       "      <td>Positive</td>\n",
       "    </tr>\n",
       "    <tr>\n",
       "      <th>4563</th>\n",
       "      <td>Ok, I understand why this place gets the revie...</td>\n",
       "      <td>Ok understand place get review review primar...</td>\n",
       "      <td>1</td>\n",
       "      <td>0.140764</td>\n",
       "      <td>Positive</td>\n",
       "    </tr>\n",
       "    <tr>\n",
       "      <th>4564</th>\n",
       "      <td>pretty good food! bit pricey.. the Cuban Food ...</td>\n",
       "      <td>pretty good food bit pricey Cuban Food Moros...</td>\n",
       "      <td>4</td>\n",
       "      <td>0.625000</td>\n",
       "      <td>Positive</td>\n",
       "    </tr>\n",
       "    <tr>\n",
       "      <th>4565</th>\n",
       "      <td>very cool dark romantic restaurant, great food...</td>\n",
       "      <td>cool dark romantic restaurant great food eve...</td>\n",
       "      <td>5</td>\n",
       "      <td>0.283333</td>\n",
       "      <td>Positive</td>\n",
       "    </tr>\n",
       "    <tr>\n",
       "      <th>4566</th>\n",
       "      <td>meh. this place is alright. its a bit on the p...</td>\n",
       "      <td>meh place alright bit pricey side understand...</td>\n",
       "      <td>3</td>\n",
       "      <td>0.210095</td>\n",
       "      <td>Positive</td>\n",
       "    </tr>\n",
       "  </tbody>\n",
       "</table>\n",
       "<p>20978 rows × 5 columns</p>\n",
       "</div>\n",
       "      <button class=\"colab-df-convert\" onclick=\"convertToInteractive('df-1d65b6db-008b-458a-bf77-5f76e6967bdc')\"\n",
       "              title=\"Convert this dataframe to an interactive table.\"\n",
       "              style=\"display:none;\">\n",
       "        \n",
       "  <svg xmlns=\"http://www.w3.org/2000/svg\" height=\"24px\"viewBox=\"0 0 24 24\"\n",
       "       width=\"24px\">\n",
       "    <path d=\"M0 0h24v24H0V0z\" fill=\"none\"/>\n",
       "    <path d=\"M18.56 5.44l.94 2.06.94-2.06 2.06-.94-2.06-.94-.94-2.06-.94 2.06-2.06.94zm-11 1L8.5 8.5l.94-2.06 2.06-.94-2.06-.94L8.5 2.5l-.94 2.06-2.06.94zm10 10l.94 2.06.94-2.06 2.06-.94-2.06-.94-.94-2.06-.94 2.06-2.06.94z\"/><path d=\"M17.41 7.96l-1.37-1.37c-.4-.4-.92-.59-1.43-.59-.52 0-1.04.2-1.43.59L10.3 9.45l-7.72 7.72c-.78.78-.78 2.05 0 2.83L4 21.41c.39.39.9.59 1.41.59.51 0 1.02-.2 1.41-.59l7.78-7.78 2.81-2.81c.8-.78.8-2.07 0-2.86zM5.41 20L4 18.59l7.72-7.72 1.47 1.35L5.41 20z\"/>\n",
       "  </svg>\n",
       "      </button>\n",
       "      \n",
       "  <style>\n",
       "    .colab-df-container {\n",
       "      display:flex;\n",
       "      flex-wrap:wrap;\n",
       "      gap: 12px;\n",
       "    }\n",
       "\n",
       "    .colab-df-convert {\n",
       "      background-color: #E8F0FE;\n",
       "      border: none;\n",
       "      border-radius: 50%;\n",
       "      cursor: pointer;\n",
       "      display: none;\n",
       "      fill: #1967D2;\n",
       "      height: 32px;\n",
       "      padding: 0 0 0 0;\n",
       "      width: 32px;\n",
       "    }\n",
       "\n",
       "    .colab-df-convert:hover {\n",
       "      background-color: #E2EBFA;\n",
       "      box-shadow: 0px 1px 2px rgba(60, 64, 67, 0.3), 0px 1px 3px 1px rgba(60, 64, 67, 0.15);\n",
       "      fill: #174EA6;\n",
       "    }\n",
       "\n",
       "    [theme=dark] .colab-df-convert {\n",
       "      background-color: #3B4455;\n",
       "      fill: #D2E3FC;\n",
       "    }\n",
       "\n",
       "    [theme=dark] .colab-df-convert:hover {\n",
       "      background-color: #434B5C;\n",
       "      box-shadow: 0px 1px 3px 1px rgba(0, 0, 0, 0.15);\n",
       "      filter: drop-shadow(0px 1px 2px rgba(0, 0, 0, 0.3));\n",
       "      fill: #FFFFFF;\n",
       "    }\n",
       "  </style>\n",
       "\n",
       "      <script>\n",
       "        const buttonEl =\n",
       "          document.querySelector('#df-1d65b6db-008b-458a-bf77-5f76e6967bdc button.colab-df-convert');\n",
       "        buttonEl.style.display =\n",
       "          google.colab.kernel.accessAllowed ? 'block' : 'none';\n",
       "\n",
       "        async function convertToInteractive(key) {\n",
       "          const element = document.querySelector('#df-1d65b6db-008b-458a-bf77-5f76e6967bdc');\n",
       "          const dataTable =\n",
       "            await google.colab.kernel.invokeFunction('convertToInteractive',\n",
       "                                                     [key], {});\n",
       "          if (!dataTable) return;\n",
       "\n",
       "          const docLinkHtml = 'Like what you see? Visit the ' +\n",
       "            '<a target=\"_blank\" href=https://colab.research.google.com/notebooks/data_table.ipynb>data table notebook</a>'\n",
       "            + ' to learn more about interactive tables.';\n",
       "          element.innerHTML = '';\n",
       "          dataTable['output_type'] = 'display_data';\n",
       "          await google.colab.output.renderOutput(dataTable, element);\n",
       "          const docLink = document.createElement('div');\n",
       "          docLink.innerHTML = docLinkHtml;\n",
       "          element.appendChild(docLink);\n",
       "        }\n",
       "      </script>\n",
       "    </div>\n",
       "  </div>\n",
       "  "
      ],
      "text/plain": [
       "                                                content  \\\n",
       "0     Been going here for 5+ years starting at the o...   \n",
       "1     Very professional and organized. Wonderful sta...   \n",
       "2     We came here for our anniversary as walk ins a...   \n",
       "3     DTF? Obviously had to go to DTF for the one ti...   \n",
       "4     We love DTF!!! Not this location:  is there an...   \n",
       "...                                                 ...   \n",
       "4562  i agree with eugenia c. when she says the serv...   \n",
       "4563  Ok, I understand why this place gets the revie...   \n",
       "4564  pretty good food! bit pricey.. the Cuban Food ...   \n",
       "4565  very cool dark romantic restaurant, great food...   \n",
       "4566  meh. this place is alright. its a bit on the p...   \n",
       "\n",
       "                                                  Lemma  stars  Polarity  \\\n",
       "0       go year start original Arcadia Amazing every...      5  0.150893   \n",
       "1       professional organize Wonderful staff wait h...      4  0.400000   \n",
       "2       come anniversary walk in experience never fa...      5  0.266739   \n",
       "3       DTF Obviously go DTF one time hype also near...      4  0.176881   \n",
       "4       love DTF location anything good say location...      1 -0.055056   \n",
       "...                                                 ...    ...       ...   \n",
       "4562    agree eugenia c say service could good use l...      3  0.200000   \n",
       "4563    Ok understand place get review review primar...      1  0.140764   \n",
       "4564    pretty good food bit pricey Cuban Food Moros...      4  0.625000   \n",
       "4565    cool dark romantic restaurant great food eve...      5  0.283333   \n",
       "4566    meh place alright bit pricey side understand...      3  0.210095   \n",
       "\n",
       "      Analysis  \n",
       "0     Positive  \n",
       "1     Positive  \n",
       "2     Positive  \n",
       "3     Positive  \n",
       "4     Negative  \n",
       "...        ...  \n",
       "4562  Positive  \n",
       "4563  Positive  \n",
       "4564  Positive  \n",
       "4565  Positive  \n",
       "4566  Positive  \n",
       "\n",
       "[20978 rows x 5 columns]"
      ]
     },
     "execution_count": 162,
     "metadata": {},
     "output_type": "execute_result"
    }
   ],
   "source": [
    "fin_data"
   ]
  },
  {
   "cell_type": "code",
   "execution_count": null,
   "metadata": {
    "colab": {
     "base_uri": "https://localhost:8080/"
    },
    "id": "4eT5etbywTuh",
    "outputId": "c4d7c8e9-514b-46ab-d1ec-7057705967cd"
   },
   "outputs": [
    {
     "data": {
      "text/plain": [
       "Analysis  stars\n",
       "Negative  1          647\n",
       "          2          211\n",
       "          3          185\n",
       "          5          183\n",
       "          4          154\n",
       "Neutral   5          110\n",
       "          4           34\n",
       "          1           24\n",
       "          3           14\n",
       "          2            5\n",
       "Positive  5        11053\n",
       "          4         5167\n",
       "          3         1783\n",
       "          2          735\n",
       "          1          673\n",
       "Name: stars, dtype: int64"
      ]
     },
     "execution_count": 30,
     "metadata": {},
     "output_type": "execute_result"
    }
   ],
   "source": [
    "fin_data.groupby(fin_data['Analysis'])['stars'].value_counts()"
   ]
  },
  {
   "cell_type": "code",
   "execution_count": null,
   "metadata": {
    "id": "BU3sM44yx7IA"
   },
   "outputs": [],
   "source": [
    "result=fin_data.groupby(fin_data['Analysis'])['stars'].value_counts().unstack()"
   ]
  },
  {
   "cell_type": "code",
   "execution_count": null,
   "metadata": {
    "colab": {
     "base_uri": "https://localhost:8080/",
     "height": 352
    },
    "id": "YZ5Ns9JlyHNe",
    "outputId": "78639a9e-2516-48de-a809-693b01404dac"
   },
   "outputs": [
    {
     "data": {
      "text/plain": [
       "<matplotlib.legend.Legend at 0x7f9f2fca4790>"
      ]
     },
     "execution_count": 32,
     "metadata": {},
     "output_type": "execute_result"
    },
    {
     "data": {
      "image/png": "[encoded data removed]",
      "text/plain": [
       "<Figure size 504x360 with 1 Axes>"
      ]
     },
     "metadata": {},
     "output_type": "display_data"
    }
   ],
   "source": [
    "res\n",
    "ax = res.plot(kind='bar', figsize=(7, 5), xlabel='Analysis and stars', ylabel='Count', rot=0)\n",
    "ax.legend(title='stars', bbox_to_anchor=(1, 1), loc='upper left')"
   ]
  },
  {
   "cell_type": "markdown",
   "metadata": {
    "id": "A8rdoUOwysNd"
   },
   "source": [
    "## Vader\n"
   ]
  },
  {
   "cell_type": "code",
   "execution_count": null,
   "metadata": {
    "colab": {
     "base_uri": "https://localhost:8080/"
    },
    "id": "V28kueMb1Fy0",
    "outputId": "faae2d87-a272-4f5e-a1e6-2c882fffdb9c"
   },
   "outputs": [
    {
     "name": "stdout",
     "output_type": "stream",
     "text": [
      "Looking in indexes: https://pypi.org/simple, https://us-python.pkg.dev/colab-wheels/public/simple/\n",
      "Collecting vaderSentiment\n",
      "  Downloading vaderSentiment-3.3.2-py2.py3-none-any.whl (125 kB)\n",
      "\u001b[K     |████████████████████████████████| 125 kB 4.4 MB/s \n",
      "\u001b[?25hRequirement already satisfied: requests in /usr/local/lib/python3.7/dist-packages (from vaderSentiment) (2.23.0)\n",
      "Requirement already satisfied: idna<3,>=2.5 in /usr/local/lib/python3.7/dist-packages (from requests->vaderSentiment) (2.10)\n",
      "Requirement already satisfied: certifi>=2017.4.17 in /usr/local/lib/python3.7/dist-packages (from requests->vaderSentiment) (2022.5.18.1)\n",
      "Requirement already satisfied: chardet<4,>=3.0.2 in /usr/local/lib/python3.7/dist-packages (from requests->vaderSentiment) (3.0.4)\n",
      "Requirement already satisfied: urllib3!=1.25.0,!=1.25.1,<1.26,>=1.21.1 in /usr/local/lib/python3.7/dist-packages (from requests->vaderSentiment) (1.24.3)\n",
      "Installing collected packages: vaderSentiment\n",
      "Successfully installed vaderSentiment-3.3.2\n"
     ]
    }
   ],
   "source": [
    "pip install vaderSentiment"
   ]
  },
  {
   "cell_type": "code",
   "execution_count": null,
   "metadata": {
    "id": "Ag-tKqNjyf3Q"
   },
   "outputs": [],
   "source": [
    "from vaderSentiment.vaderSentiment import SentimentIntensityAnalyzer\n",
    "analyzer = SentimentIntensityAnalyzer()\n",
    "\n",
    "# function to calculate vader sentiment  \n",
    "def vadersentimentanalysis(review):\n",
    "    vs = analyzer.polarity_scores(review)\n",
    "    return vs['compound']\n",
    "\n",
    "fin_data['Vader Sentiment'] = fin_data['Lemma'].apply(vadersentimentanalysis)"
   ]
  },
  {
   "cell_type": "code",
   "execution_count": null,
   "metadata": {
    "colab": {
     "base_uri": "https://localhost:8080/",
     "height": 206
    },
    "id": "pC2RzHG31cCs",
    "outputId": "a66ddb52-e9ae-4ef5-8784-d19acb354b63"
   },
   "outputs": [
    {
     "data": {
      "text/html": [
       "\n",
       "  <div id=\"df-c55eb181-bf22-44e8-8b36-355a3dc68aa2\">\n",
       "    <div class=\"colab-df-container\">\n",
       "      <div>\n",
       "<style scoped>\n",
       "    .dataframe tbody tr th:only-of-type {\n",
       "        vertical-align: middle;\n",
       "    }\n",
       "\n",
       "    .dataframe tbody tr th {\n",
       "        vertical-align: top;\n",
       "    }\n",
       "\n",
       "    .dataframe thead th {\n",
       "        text-align: right;\n",
       "    }\n",
       "</style>\n",
       "<table border=\"1\" class=\"dataframe\">\n",
       "  <thead>\n",
       "    <tr style=\"text-align: right;\">\n",
       "      <th></th>\n",
       "      <th>content</th>\n",
       "      <th>Lemma</th>\n",
       "      <th>stars</th>\n",
       "      <th>Polarity</th>\n",
       "      <th>Analysis</th>\n",
       "      <th>Vader Sentiment</th>\n",
       "      <th>Vader Analysis</th>\n",
       "    </tr>\n",
       "  </thead>\n",
       "  <tbody>\n",
       "    <tr>\n",
       "      <th>0</th>\n",
       "      <td>Been going here for 5+ years starting at the o...</td>\n",
       "      <td>go year start original Arcadia Amazing every...</td>\n",
       "      <td>5</td>\n",
       "      <td>0.150893</td>\n",
       "      <td>Positive</td>\n",
       "      <td>0.5994</td>\n",
       "      <td>Positive</td>\n",
       "    </tr>\n",
       "    <tr>\n",
       "      <th>1</th>\n",
       "      <td>Very professional and organized. Wonderful sta...</td>\n",
       "      <td>professional organize Wonderful staff wait h...</td>\n",
       "      <td>4</td>\n",
       "      <td>0.400000</td>\n",
       "      <td>Positive</td>\n",
       "      <td>0.5719</td>\n",
       "      <td>Positive</td>\n",
       "    </tr>\n",
       "    <tr>\n",
       "      <th>2</th>\n",
       "      <td>We came here for our anniversary as walk ins a...</td>\n",
       "      <td>come anniversary walk in experience never fa...</td>\n",
       "      <td>5</td>\n",
       "      <td>0.266739</td>\n",
       "      <td>Positive</td>\n",
       "      <td>0.9987</td>\n",
       "      <td>Positive</td>\n",
       "    </tr>\n",
       "    <tr>\n",
       "      <th>3</th>\n",
       "      <td>DTF? Obviously had to go to DTF for the one ti...</td>\n",
       "      <td>DTF Obviously go DTF one time hype also near...</td>\n",
       "      <td>4</td>\n",
       "      <td>0.176881</td>\n",
       "      <td>Positive</td>\n",
       "      <td>0.9917</td>\n",
       "      <td>Positive</td>\n",
       "    </tr>\n",
       "    <tr>\n",
       "      <th>4</th>\n",
       "      <td>We love DTF!!! Not this location:  is there an...</td>\n",
       "      <td>love DTF location anything good say location...</td>\n",
       "      <td>1</td>\n",
       "      <td>-0.055056</td>\n",
       "      <td>Negative</td>\n",
       "      <td>-0.8890</td>\n",
       "      <td>Negative</td>\n",
       "    </tr>\n",
       "  </tbody>\n",
       "</table>\n",
       "</div>\n",
       "      <button class=\"colab-df-convert\" onclick=\"convertToInteractive('df-c55eb181-bf22-44e8-8b36-355a3dc68aa2')\"\n",
       "              title=\"Convert this dataframe to an interactive table.\"\n",
       "              style=\"display:none;\">\n",
       "        \n",
       "  <svg xmlns=\"http://www.w3.org/2000/svg\" height=\"24px\"viewBox=\"0 0 24 24\"\n",
       "       width=\"24px\">\n",
       "    <path d=\"M0 0h24v24H0V0z\" fill=\"none\"/>\n",
       "    <path d=\"M18.56 5.44l.94 2.06.94-2.06 2.06-.94-2.06-.94-.94-2.06-.94 2.06-2.06.94zm-11 1L8.5 8.5l.94-2.06 2.06-.94-2.06-.94L8.5 2.5l-.94 2.06-2.06.94zm10 10l.94 2.06.94-2.06 2.06-.94-2.06-.94-.94-2.06-.94 2.06-2.06.94z\"/><path d=\"M17.41 7.96l-1.37-1.37c-.4-.4-.92-.59-1.43-.59-.52 0-1.04.2-1.43.59L10.3 9.45l-7.72 7.72c-.78.78-.78 2.05 0 2.83L4 21.41c.39.39.9.59 1.41.59.51 0 1.02-.2 1.41-.59l7.78-7.78 2.81-2.81c.8-.78.8-2.07 0-2.86zM5.41 20L4 18.59l7.72-7.72 1.47 1.35L5.41 20z\"/>\n",
       "  </svg>\n",
       "      </button>\n",
       "      \n",
       "  <style>\n",
       "    .colab-df-container {\n",
       "      display:flex;\n",
       "      flex-wrap:wrap;\n",
       "      gap: 12px;\n",
       "    }\n",
       "\n",
       "    .colab-df-convert {\n",
       "      background-color: #E8F0FE;\n",
       "      border: none;\n",
       "      border-radius: 50%;\n",
       "      cursor: pointer;\n",
       "      display: none;\n",
       "      fill: #1967D2;\n",
       "      height: 32px;\n",
       "      padding: 0 0 0 0;\n",
       "      width: 32px;\n",
       "    }\n",
       "\n",
       "    .colab-df-convert:hover {\n",
       "      background-color: #E2EBFA;\n",
       "      box-shadow: 0px 1px 2px rgba(60, 64, 67, 0.3), 0px 1px 3px 1px rgba(60, 64, 67, 0.15);\n",
       "      fill: #174EA6;\n",
       "    }\n",
       "\n",
       "    [theme=dark] .colab-df-convert {\n",
       "      background-color: #3B4455;\n",
       "      fill: #D2E3FC;\n",
       "    }\n",
       "\n",
       "    [theme=dark] .colab-df-convert:hover {\n",
       "      background-color: #434B5C;\n",
       "      box-shadow: 0px 1px 3px 1px rgba(0, 0, 0, 0.15);\n",
       "      filter: drop-shadow(0px 1px 2px rgba(0, 0, 0, 0.3));\n",
       "      fill: #FFFFFF;\n",
       "    }\n",
       "  </style>\n",
       "\n",
       "      <script>\n",
       "        const buttonEl =\n",
       "          document.querySelector('#df-c55eb181-bf22-44e8-8b36-355a3dc68aa2 button.colab-df-convert');\n",
       "        buttonEl.style.display =\n",
       "          google.colab.kernel.accessAllowed ? 'block' : 'none';\n",
       "\n",
       "        async function convertToInteractive(key) {\n",
       "          const element = document.querySelector('#df-c55eb181-bf22-44e8-8b36-355a3dc68aa2');\n",
       "          const dataTable =\n",
       "            await google.colab.kernel.invokeFunction('convertToInteractive',\n",
       "                                                     [key], {});\n",
       "          if (!dataTable) return;\n",
       "\n",
       "          const docLinkHtml = 'Like what you see? Visit the ' +\n",
       "            '<a target=\"_blank\" href=https://colab.research.google.com/notebooks/data_table.ipynb>data table notebook</a>'\n",
       "            + ' to learn more about interactive tables.';\n",
       "          element.innerHTML = '';\n",
       "          dataTable['output_type'] = 'display_data';\n",
       "          await google.colab.output.renderOutput(dataTable, element);\n",
       "          const docLink = document.createElement('div');\n",
       "          docLink.innerHTML = docLinkHtml;\n",
       "          element.appendChild(docLink);\n",
       "        }\n",
       "      </script>\n",
       "    </div>\n",
       "  </div>\n",
       "  "
      ],
      "text/plain": [
       "                                             content  \\\n",
       "0  Been going here for 5+ years starting at the o...   \n",
       "1  Very professional and organized. Wonderful sta...   \n",
       "2  We came here for our anniversary as walk ins a...   \n",
       "3  DTF? Obviously had to go to DTF for the one ti...   \n",
       "4  We love DTF!!! Not this location:  is there an...   \n",
       "\n",
       "                                               Lemma  stars  Polarity  \\\n",
       "0    go year start original Arcadia Amazing every...      5  0.150893   \n",
       "1    professional organize Wonderful staff wait h...      4  0.400000   \n",
       "2    come anniversary walk in experience never fa...      5  0.266739   \n",
       "3    DTF Obviously go DTF one time hype also near...      4  0.176881   \n",
       "4    love DTF location anything good say location...      1 -0.055056   \n",
       "\n",
       "   Analysis  Vader Sentiment Vader Analysis  \n",
       "0  Positive           0.5994       Positive  \n",
       "1  Positive           0.5719       Positive  \n",
       "2  Positive           0.9987       Positive  \n",
       "3  Positive           0.9917       Positive  \n",
       "4  Negative          -0.8890       Negative  "
      ]
     },
     "execution_count": 165,
     "metadata": {},
     "output_type": "execute_result"
    }
   ],
   "source": [
    "def vader_analysis(compound):\n",
    "    if compound >= 0.5:\n",
    "        return 'Positive'\n",
    "    elif compound <= -0.5 :\n",
    "        return 'Negative'\n",
    "    else:\n",
    "        return 'Neutral'\n",
    "    \n",
    "fin_data['Vader Analysis'] = fin_data['Vader Sentiment'].apply(vader_analysis)\n",
    "fin_data.head()"
   ]
  },
  {
   "cell_type": "code",
   "execution_count": null,
   "metadata": {
    "colab": {
     "base_uri": "https://localhost:8080/",
     "height": 424
    },
    "id": "_t11ovLZ1tg2",
    "outputId": "1d97ad31-9b0f-42c8-bd01-09828cb3a939"
   },
   "outputs": [
    {
     "data": {
      "text/html": [
       "\n",
       "  <div id=\"df-340fe485-6eb9-430d-beb5-87505e7b8ba1\">\n",
       "    <div class=\"colab-df-container\">\n",
       "      <div>\n",
       "<style scoped>\n",
       "    .dataframe tbody tr th:only-of-type {\n",
       "        vertical-align: middle;\n",
       "    }\n",
       "\n",
       "    .dataframe tbody tr th {\n",
       "        vertical-align: top;\n",
       "    }\n",
       "\n",
       "    .dataframe thead th {\n",
       "        text-align: right;\n",
       "    }\n",
       "</style>\n",
       "<table border=\"1\" class=\"dataframe\">\n",
       "  <thead>\n",
       "    <tr style=\"text-align: right;\">\n",
       "      <th></th>\n",
       "      <th>content</th>\n",
       "      <th>Lemma</th>\n",
       "      <th>stars</th>\n",
       "      <th>Polarity</th>\n",
       "      <th>Analysis</th>\n",
       "      <th>Vader Sentiment</th>\n",
       "      <th>Vader Analysis</th>\n",
       "    </tr>\n",
       "  </thead>\n",
       "  <tbody>\n",
       "    <tr>\n",
       "      <th>0</th>\n",
       "      <td>Been going here for 5+ years starting at the o...</td>\n",
       "      <td>go year start original Arcadia Amazing every...</td>\n",
       "      <td>5</td>\n",
       "      <td>0.150893</td>\n",
       "      <td>Positive</td>\n",
       "      <td>0.5994</td>\n",
       "      <td>Positive</td>\n",
       "    </tr>\n",
       "    <tr>\n",
       "      <th>1</th>\n",
       "      <td>Very professional and organized. Wonderful sta...</td>\n",
       "      <td>professional organize Wonderful staff wait h...</td>\n",
       "      <td>4</td>\n",
       "      <td>0.400000</td>\n",
       "      <td>Positive</td>\n",
       "      <td>0.5719</td>\n",
       "      <td>Positive</td>\n",
       "    </tr>\n",
       "    <tr>\n",
       "      <th>2</th>\n",
       "      <td>We came here for our anniversary as walk ins a...</td>\n",
       "      <td>come anniversary walk in experience never fa...</td>\n",
       "      <td>5</td>\n",
       "      <td>0.266739</td>\n",
       "      <td>Positive</td>\n",
       "      <td>0.9987</td>\n",
       "      <td>Positive</td>\n",
       "    </tr>\n",
       "    <tr>\n",
       "      <th>3</th>\n",
       "      <td>DTF? Obviously had to go to DTF for the one ti...</td>\n",
       "      <td>DTF Obviously go DTF one time hype also near...</td>\n",
       "      <td>4</td>\n",
       "      <td>0.176881</td>\n",
       "      <td>Positive</td>\n",
       "      <td>0.9917</td>\n",
       "      <td>Positive</td>\n",
       "    </tr>\n",
       "    <tr>\n",
       "      <th>4</th>\n",
       "      <td>We love DTF!!! Not this location:  is there an...</td>\n",
       "      <td>love DTF location anything good say location...</td>\n",
       "      <td>1</td>\n",
       "      <td>-0.055056</td>\n",
       "      <td>Negative</td>\n",
       "      <td>-0.8890</td>\n",
       "      <td>Negative</td>\n",
       "    </tr>\n",
       "    <tr>\n",
       "      <th>...</th>\n",
       "      <td>...</td>\n",
       "      <td>...</td>\n",
       "      <td>...</td>\n",
       "      <td>...</td>\n",
       "      <td>...</td>\n",
       "      <td>...</td>\n",
       "      <td>...</td>\n",
       "    </tr>\n",
       "    <tr>\n",
       "      <th>4562</th>\n",
       "      <td>i agree with eugenia c. when she says the serv...</td>\n",
       "      <td>agree eugenia c say service could good use l...</td>\n",
       "      <td>3</td>\n",
       "      <td>0.200000</td>\n",
       "      <td>Positive</td>\n",
       "      <td>0.7579</td>\n",
       "      <td>Positive</td>\n",
       "    </tr>\n",
       "    <tr>\n",
       "      <th>4563</th>\n",
       "      <td>Ok, I understand why this place gets the revie...</td>\n",
       "      <td>Ok understand place get review review primar...</td>\n",
       "      <td>1</td>\n",
       "      <td>0.140764</td>\n",
       "      <td>Positive</td>\n",
       "      <td>0.9846</td>\n",
       "      <td>Positive</td>\n",
       "    </tr>\n",
       "    <tr>\n",
       "      <th>4564</th>\n",
       "      <td>pretty good food! bit pricey.. the Cuban Food ...</td>\n",
       "      <td>pretty good food bit pricey Cuban Food Moros...</td>\n",
       "      <td>4</td>\n",
       "      <td>0.625000</td>\n",
       "      <td>Positive</td>\n",
       "      <td>0.9432</td>\n",
       "      <td>Positive</td>\n",
       "    </tr>\n",
       "    <tr>\n",
       "      <th>4565</th>\n",
       "      <td>very cool dark romantic restaurant, great food...</td>\n",
       "      <td>cool dark romantic restaurant great food eve...</td>\n",
       "      <td>5</td>\n",
       "      <td>0.283333</td>\n",
       "      <td>Positive</td>\n",
       "      <td>0.9001</td>\n",
       "      <td>Positive</td>\n",
       "    </tr>\n",
       "    <tr>\n",
       "      <th>4566</th>\n",
       "      <td>meh. this place is alright. its a bit on the p...</td>\n",
       "      <td>meh place alright bit pricey side understand...</td>\n",
       "      <td>3</td>\n",
       "      <td>0.210095</td>\n",
       "      <td>Positive</td>\n",
       "      <td>-0.3089</td>\n",
       "      <td>Neutral</td>\n",
       "    </tr>\n",
       "  </tbody>\n",
       "</table>\n",
       "<p>20978 rows × 7 columns</p>\n",
       "</div>\n",
       "      <button class=\"colab-df-convert\" onclick=\"convertToInteractive('df-340fe485-6eb9-430d-beb5-87505e7b8ba1')\"\n",
       "              title=\"Convert this dataframe to an interactive table.\"\n",
       "              style=\"display:none;\">\n",
       "        \n",
       "  <svg xmlns=\"http://www.w3.org/2000/svg\" height=\"24px\"viewBox=\"0 0 24 24\"\n",
       "       width=\"24px\">\n",
       "    <path d=\"M0 0h24v24H0V0z\" fill=\"none\"/>\n",
       "    <path d=\"M18.56 5.44l.94 2.06.94-2.06 2.06-.94-2.06-.94-.94-2.06-.94 2.06-2.06.94zm-11 1L8.5 8.5l.94-2.06 2.06-.94-2.06-.94L8.5 2.5l-.94 2.06-2.06.94zm10 10l.94 2.06.94-2.06 2.06-.94-2.06-.94-.94-2.06-.94 2.06-2.06.94z\"/><path d=\"M17.41 7.96l-1.37-1.37c-.4-.4-.92-.59-1.43-.59-.52 0-1.04.2-1.43.59L10.3 9.45l-7.72 7.72c-.78.78-.78 2.05 0 2.83L4 21.41c.39.39.9.59 1.41.59.51 0 1.02-.2 1.41-.59l7.78-7.78 2.81-2.81c.8-.78.8-2.07 0-2.86zM5.41 20L4 18.59l7.72-7.72 1.47 1.35L5.41 20z\"/>\n",
       "  </svg>\n",
       "      </button>\n",
       "      \n",
       "  <style>\n",
       "    .colab-df-container {\n",
       "      display:flex;\n",
       "      flex-wrap:wrap;\n",
       "      gap: 12px;\n",
       "    }\n",
       "\n",
       "    .colab-df-convert {\n",
       "      background-color: #E8F0FE;\n",
       "      border: none;\n",
       "      border-radius: 50%;\n",
       "      cursor: pointer;\n",
       "      display: none;\n",
       "      fill: #1967D2;\n",
       "      height: 32px;\n",
       "      padding: 0 0 0 0;\n",
       "      width: 32px;\n",
       "    }\n",
       "\n",
       "    .colab-df-convert:hover {\n",
       "      background-color: #E2EBFA;\n",
       "      box-shadow: 0px 1px 2px rgba(60, 64, 67, 0.3), 0px 1px 3px 1px rgba(60, 64, 67, 0.15);\n",
       "      fill: #174EA6;\n",
       "    }\n",
       "\n",
       "    [theme=dark] .colab-df-convert {\n",
       "      background-color: #3B4455;\n",
       "      fill: #D2E3FC;\n",
       "    }\n",
       "\n",
       "    [theme=dark] .colab-df-convert:hover {\n",
       "      background-color: #434B5C;\n",
       "      box-shadow: 0px 1px 3px 1px rgba(0, 0, 0, 0.15);\n",
       "      filter: drop-shadow(0px 1px 2px rgba(0, 0, 0, 0.3));\n",
       "      fill: #FFFFFF;\n",
       "    }\n",
       "  </style>\n",
       "\n",
       "      <script>\n",
       "        const buttonEl =\n",
       "          document.querySelector('#df-340fe485-6eb9-430d-beb5-87505e7b8ba1 button.colab-df-convert');\n",
       "        buttonEl.style.display =\n",
       "          google.colab.kernel.accessAllowed ? 'block' : 'none';\n",
       "\n",
       "        async function convertToInteractive(key) {\n",
       "          const element = document.querySelector('#df-340fe485-6eb9-430d-beb5-87505e7b8ba1');\n",
       "          const dataTable =\n",
       "            await google.colab.kernel.invokeFunction('convertToInteractive',\n",
       "                                                     [key], {});\n",
       "          if (!dataTable) return;\n",
       "\n",
       "          const docLinkHtml = 'Like what you see? Visit the ' +\n",
       "            '<a target=\"_blank\" href=https://colab.research.google.com/notebooks/data_table.ipynb>data table notebook</a>'\n",
       "            + ' to learn more about interactive tables.';\n",
       "          element.innerHTML = '';\n",
       "          dataTable['output_type'] = 'display_data';\n",
       "          await google.colab.output.renderOutput(dataTable, element);\n",
       "          const docLink = document.createElement('div');\n",
       "          docLink.innerHTML = docLinkHtml;\n",
       "          element.appendChild(docLink);\n",
       "        }\n",
       "      </script>\n",
       "    </div>\n",
       "  </div>\n",
       "  "
      ],
      "text/plain": [
       "                                                content  \\\n",
       "0     Been going here for 5+ years starting at the o...   \n",
       "1     Very professional and organized. Wonderful sta...   \n",
       "2     We came here for our anniversary as walk ins a...   \n",
       "3     DTF? Obviously had to go to DTF for the one ti...   \n",
       "4     We love DTF!!! Not this location:  is there an...   \n",
       "...                                                 ...   \n",
       "4562  i agree with eugenia c. when she says the serv...   \n",
       "4563  Ok, I understand why this place gets the revie...   \n",
       "4564  pretty good food! bit pricey.. the Cuban Food ...   \n",
       "4565  very cool dark romantic restaurant, great food...   \n",
       "4566  meh. this place is alright. its a bit on the p...   \n",
       "\n",
       "                                                  Lemma  stars  Polarity  \\\n",
       "0       go year start original Arcadia Amazing every...      5  0.150893   \n",
       "1       professional organize Wonderful staff wait h...      4  0.400000   \n",
       "2       come anniversary walk in experience never fa...      5  0.266739   \n",
       "3       DTF Obviously go DTF one time hype also near...      4  0.176881   \n",
       "4       love DTF location anything good say location...      1 -0.055056   \n",
       "...                                                 ...    ...       ...   \n",
       "4562    agree eugenia c say service could good use l...      3  0.200000   \n",
       "4563    Ok understand place get review review primar...      1  0.140764   \n",
       "4564    pretty good food bit pricey Cuban Food Moros...      4  0.625000   \n",
       "4565    cool dark romantic restaurant great food eve...      5  0.283333   \n",
       "4566    meh place alright bit pricey side understand...      3  0.210095   \n",
       "\n",
       "      Analysis  Vader Sentiment Vader Analysis  \n",
       "0     Positive           0.5994       Positive  \n",
       "1     Positive           0.5719       Positive  \n",
       "2     Positive           0.9987       Positive  \n",
       "3     Positive           0.9917       Positive  \n",
       "4     Negative          -0.8890       Negative  \n",
       "...        ...              ...            ...  \n",
       "4562  Positive           0.7579       Positive  \n",
       "4563  Positive           0.9846       Positive  \n",
       "4564  Positive           0.9432       Positive  \n",
       "4565  Positive           0.9001       Positive  \n",
       "4566  Positive          -0.3089        Neutral  \n",
       "\n",
       "[20978 rows x 7 columns]"
      ]
     },
     "execution_count": 166,
     "metadata": {},
     "output_type": "execute_result"
    }
   ],
   "source": [
    "fin_data"
   ]
  },
  {
   "cell_type": "code",
   "execution_count": null,
   "metadata": {
    "id": "WIXTkZpF1zAJ"
   },
   "outputs": [],
   "source": [
    "res_vader=fin_data.groupby(fin_data['Vader Analysis'])['stars'].value_counts().unstack()"
   ]
  },
  {
   "cell_type": "code",
   "execution_count": null,
   "metadata": {
    "colab": {
     "base_uri": "https://localhost:8080/"
    },
    "id": "j0eMvy7b2U-7",
    "outputId": "d5378aea-dc5b-4d2e-b7c5-b9728973ffa3"
   },
   "outputs": [
    {
     "data": {
      "text/plain": [
       "Vader Analysis  stars\n",
       "Negative        1          362\n",
       "                2           81\n",
       "                5           50\n",
       "                3           44\n",
       "                4           23\n",
       "Neutral         5          566\n",
       "                1          460\n",
       "                4          293\n",
       "                3          251\n",
       "                2          212\n",
       "Positive        5        10730\n",
       "                4         5039\n",
       "                3         1687\n",
       "                2          658\n",
       "                1          522\n",
       "Name: stars, dtype: int64"
      ]
     },
     "execution_count": 38,
     "metadata": {},
     "output_type": "execute_result"
    }
   ],
   "source": [
    "fin_data.groupby(fin_data['Vader Analysis'])['stars'].value_counts()"
   ]
  },
  {
   "cell_type": "code",
   "execution_count": null,
   "metadata": {
    "colab": {
     "base_uri": "https://localhost:8080/",
     "height": 352
    },
    "id": "nytNRkyU2PCW",
    "outputId": "f0acbcf3-85b5-46bf-ac49-319cc0737f6e"
   },
   "outputs": [
    {
     "data": {
      "text/plain": [
       "<matplotlib.legend.Legend at 0x7f9f2fecd5d0>"
      ]
     },
     "execution_count": 39,
     "metadata": {},
     "output_type": "execute_result"
    },
    {
     "data": {
      "image/png": "[encoded data removed]",
      "text/plain": [
       "<Figure size 504x360 with 1 Axes>"
      ]
     },
     "metadata": {},
     "output_type": "display_data"
    }
   ],
   "source": [
    "ax = res_vader.plot(kind='bar', figsize=(7, 5), xlabel='Analysis and stars', ylabel='Count', rot=0)\n",
    "ax.legend(title='stars', bbox_to_anchor=(1, 1), loc='upper left')"
   ]
  },
  {
   "cell_type": "code",
   "execution_count": null,
   "metadata": {
    "id": "DTxzwhVMajIA"
   },
   "outputs": [],
   "source": [
    "bad_reviews=fin_data[((fin_data['stars']<=2))& (fin_data['Analysis']=='Negative')&(fin_data['Vader Analysis']=='Negative')]\n"
   ]
  },
  {
   "cell_type": "code",
   "execution_count": null,
   "metadata": {
    "id": "v1fDQCaTvxfL"
   },
   "outputs": [],
   "source": [
    "good_reviews=fin_data[((fin_data['stars']>=4) & (fin_data['Analysis']=='Positive'))&(fin_data['Vader Analysis']=='Positive')]"
   ]
  },
  {
   "cell_type": "code",
   "execution_count": null,
   "metadata": {
    "colab": {
     "base_uri": "https://localhost:8080/"
    },
    "id": "72Fe-xNfwIdY",
    "outputId": "75905b4b-7c7f-4a21-bba2-edc96f5be3c4"
   },
   "outputs": [
    {
     "data": {
      "text/plain": [
       "5    10589\n",
       "4     4948\n",
       "Name: stars, dtype: int64"
      ]
     },
     "execution_count": 262,
     "metadata": {},
     "output_type": "execute_result"
    }
   ],
   "source": [
    "good_reviews.stars.value_counts()"
   ]
  },
  {
   "cell_type": "code",
   "execution_count": null,
   "metadata": {
    "colab": {
     "base_uri": "https://localhost:8080/"
    },
    "id": "3l59yJ62dhRM",
    "outputId": "c6b4710c-5c74-486e-95dc-4c8294a30b1f"
   },
   "outputs": [
    {
     "data": {
      "text/plain": [
       "1    309\n",
       "2     58\n",
       "Name: stars, dtype: int64"
      ]
     },
     "execution_count": 259,
     "metadata": {},
     "output_type": "execute_result"
    }
   ],
   "source": [
    "bad_reviews.stars.value_counts()"
   ]
  },
  {
   "cell_type": "markdown",
   "metadata": {
    "id": "HkV530yTdnOl"
   },
   "source": [
    "# Topic Model"
   ]
  },
  {
   "cell_type": "code",
   "execution_count": null,
   "metadata": {
    "colab": {
     "base_uri": "https://localhost:8080/"
    },
    "id": "n0Z8GhKrhFe5",
    "outputId": "1d1e04d3-08ec-40d7-e8f1-ffbec9081c95"
   },
   "outputs": [
    {
     "name": "stdout",
     "output_type": "stream",
     "text": [
      "Looking in indexes: https://pypi.org/simple, https://us-python.pkg.dev/colab-wheels/public/simple/\n",
      "Requirement already satisfied: pyLDAvis in /usr/local/lib/python3.7/dist-packages (3.3.1)\n",
      "Requirement already satisfied: numexpr in /usr/local/lib/python3.7/dist-packages (from pyLDAvis) (2.8.1)\n",
      "Requirement already satisfied: future in /usr/local/lib/python3.7/dist-packages (from pyLDAvis) (0.16.0)\n",
      "Requirement already satisfied: scikit-learn in /usr/local/lib/python3.7/dist-packages (from pyLDAvis) (1.0.2)\n",
      "Requirement already satisfied: sklearn in /usr/local/lib/python3.7/dist-packages (from pyLDAvis) (0.0)\n",
      "Requirement already satisfied: gensim in /usr/local/lib/python3.7/dist-packages (from pyLDAvis) (3.6.0)\n",
      "Requirement already satisfied: jinja2 in /usr/local/lib/python3.7/dist-packages (from pyLDAvis) (2.11.3)\n",
      "Requirement already satisfied: joblib in /usr/local/lib/python3.7/dist-packages (from pyLDAvis) (1.1.0)\n",
      "Requirement already satisfied: setuptools in /usr/local/lib/python3.7/dist-packages (from pyLDAvis) (57.4.0)\n",
      "Requirement already satisfied: numpy>=1.20.0 in /usr/local/lib/python3.7/dist-packages (from pyLDAvis) (1.21.6)\n",
      "Requirement already satisfied: funcy in /usr/local/lib/python3.7/dist-packages (from pyLDAvis) (1.17)\n",
      "Requirement already satisfied: scipy in /usr/local/lib/python3.7/dist-packages (from pyLDAvis) (1.4.1)\n",
      "Requirement already satisfied: pandas>=1.2.0 in /usr/local/lib/python3.7/dist-packages (from pyLDAvis) (1.3.5)\n",
      "Requirement already satisfied: pytz>=2017.3 in /usr/local/lib/python3.7/dist-packages (from pandas>=1.2.0->pyLDAvis) (2022.1)\n",
      "Requirement already satisfied: python-dateutil>=2.7.3 in /usr/local/lib/python3.7/dist-packages (from pandas>=1.2.0->pyLDAvis) (2.8.2)\n",
      "Requirement already satisfied: six>=1.5 in /usr/local/lib/python3.7/dist-packages (from python-dateutil>=2.7.3->pandas>=1.2.0->pyLDAvis) (1.15.0)\n",
      "Requirement already satisfied: smart-open>=1.2.1 in /usr/local/lib/python3.7/dist-packages (from gensim->pyLDAvis) (6.0.0)\n",
      "Requirement already satisfied: MarkupSafe>=0.23 in /usr/local/lib/python3.7/dist-packages (from jinja2->pyLDAvis) (2.0.1)\n",
      "Requirement already satisfied: packaging in /usr/local/lib/python3.7/dist-packages (from numexpr->pyLDAvis) (21.3)\n",
      "Requirement already satisfied: pyparsing!=3.0.5,>=2.0.2 in /usr/local/lib/python3.7/dist-packages (from packaging->numexpr->pyLDAvis) (3.0.9)\n",
      "Requirement already satisfied: threadpoolctl>=2.0.0 in /usr/local/lib/python3.7/dist-packages (from scikit-learn->pyLDAvis) (3.1.0)\n"
     ]
    }
   ],
   "source": [
    "!pip install pyLDAvis"
   ]
  },
  {
   "cell_type": "code",
   "execution_count": null,
   "metadata": {
    "colab": {
     "base_uri": "https://localhost:8080/"
    },
    "id": "SpgR6DqJdqQd",
    "outputId": "bdb1edb6-cc0b-4a38-dd9d-359618be85f9"
   },
   "outputs": [
    {
     "name": "stderr",
     "output_type": "stream",
     "text": [
      "/usr/local/lib/python3.7/dist-packages/past/types/oldstr.py:5: DeprecationWarning: Using or importing the ABCs from 'collections' instead of from 'collections.abc' is deprecated since Python 3.3,and in 3.9 it will stop working\n",
      "  from collections import Iterable\n"
     ]
    }
   ],
   "source": [
    "import re\n",
    "import numpy as np\n",
    "import pandas as pd\n",
    "import nltk\n",
    "import sklearn\n",
    "from pprint import pprint\n",
    "from sklearn.feature_extraction.text import CountVectorizer\n",
    "\n",
    "# Gensim\n",
    "import gensim\n",
    "import gensim.corpora as corpora\n",
    "from gensim.utils import simple_preprocess\n",
    "from gensim.models import CoherenceModel\n",
    "\n",
    "# spacy for lemmatization\n",
    "import spacy\n",
    "\n",
    "# Plotting tools\n",
    "import pyLDAvis\n",
    "import pyLDAvis.gensim_models as plt_gensim\n",
    "import matplotlib.pyplot as plt\n",
    "%matplotlib inline\n",
    "\n",
    "# Enable logging for gensim - optional\n",
    "import logging\n",
    "logging.basicConfig(format='%(asctime)s : %(levelname)s : %(message)s', level=logging.ERROR)\n",
    "\n",
    "import warnings\n",
    "warnings.filterwarnings(\"ignore\",category=DeprecationWarning)"
   ]
  },
  {
   "cell_type": "code",
   "execution_count": null,
   "metadata": {
    "id": "_tjJOd78uOHS"
   },
   "outputs": [],
   "source": [
    "import sklearn.feature_extraction"
   ]
  },
  {
   "cell_type": "code",
   "execution_count": null,
   "metadata": {
    "id": "xbtpnWT7uhqE"
   },
   "outputs": [],
   "source": [
    "from sklearn.feature_extraction import _stop_words"
   ]
  },
  {
   "cell_type": "code",
   "execution_count": null,
   "metadata": {
    "id": "UAhQuwDydw4B"
   },
   "outputs": [],
   "source": [
    "import spacy\n",
    "# Load the large model to get the vectors\n",
    "nlp = spacy.load('en_core_web_sm')"
   ]
  },
  {
   "cell_type": "code",
   "execution_count": null,
   "metadata": {
    "colab": {
     "base_uri": "https://localhost:8080/",
     "height": 424
    },
    "id": "X-MO0QY0d6WU",
    "outputId": "b5dd099e-a9ad-44d0-b147-66923a53e309"
   },
   "outputs": [
    {
     "data": {
      "text/html": [
       "\n",
       "  <div id=\"df-dd2a6648-bc0e-402f-b550-cc6c05e492ee\">\n",
       "    <div class=\"colab-df-container\">\n",
       "      <div>\n",
       "<style scoped>\n",
       "    .dataframe tbody tr th:only-of-type {\n",
       "        vertical-align: middle;\n",
       "    }\n",
       "\n",
       "    .dataframe tbody tr th {\n",
       "        vertical-align: top;\n",
       "    }\n",
       "\n",
       "    .dataframe thead th {\n",
       "        text-align: right;\n",
       "    }\n",
       "</style>\n",
       "<table border=\"1\" class=\"dataframe\">\n",
       "  <thead>\n",
       "    <tr style=\"text-align: right;\">\n",
       "      <th></th>\n",
       "      <th>content</th>\n",
       "      <th>Lemma</th>\n",
       "      <th>stars</th>\n",
       "      <th>Polarity</th>\n",
       "      <th>Analysis</th>\n",
       "      <th>Vader Sentiment</th>\n",
       "      <th>Vader Analysis</th>\n",
       "    </tr>\n",
       "  </thead>\n",
       "  <tbody>\n",
       "    <tr>\n",
       "      <th>0</th>\n",
       "      <td>Been going here for 5+ years starting at the o...</td>\n",
       "      <td>go year start original Arcadia Amazing every...</td>\n",
       "      <td>5</td>\n",
       "      <td>0.150893</td>\n",
       "      <td>Positive</td>\n",
       "      <td>0.5994</td>\n",
       "      <td>Positive</td>\n",
       "    </tr>\n",
       "    <tr>\n",
       "      <th>1</th>\n",
       "      <td>Very professional and organized. Wonderful sta...</td>\n",
       "      <td>professional organize Wonderful staff wait h...</td>\n",
       "      <td>4</td>\n",
       "      <td>0.400000</td>\n",
       "      <td>Positive</td>\n",
       "      <td>0.5719</td>\n",
       "      <td>Positive</td>\n",
       "    </tr>\n",
       "    <tr>\n",
       "      <th>2</th>\n",
       "      <td>We came here for our anniversary as walk ins a...</td>\n",
       "      <td>come anniversary walk in experience never fa...</td>\n",
       "      <td>5</td>\n",
       "      <td>0.266739</td>\n",
       "      <td>Positive</td>\n",
       "      <td>0.9987</td>\n",
       "      <td>Positive</td>\n",
       "    </tr>\n",
       "    <tr>\n",
       "      <th>3</th>\n",
       "      <td>DTF? Obviously had to go to DTF for the one ti...</td>\n",
       "      <td>DTF Obviously go DTF one time hype also near...</td>\n",
       "      <td>4</td>\n",
       "      <td>0.176881</td>\n",
       "      <td>Positive</td>\n",
       "      <td>0.9917</td>\n",
       "      <td>Positive</td>\n",
       "    </tr>\n",
       "    <tr>\n",
       "      <th>4</th>\n",
       "      <td>We love DTF!!! Not this location:  is there an...</td>\n",
       "      <td>love DTF location anything good say location...</td>\n",
       "      <td>1</td>\n",
       "      <td>-0.055056</td>\n",
       "      <td>Negative</td>\n",
       "      <td>-0.8890</td>\n",
       "      <td>Negative</td>\n",
       "    </tr>\n",
       "    <tr>\n",
       "      <th>...</th>\n",
       "      <td>...</td>\n",
       "      <td>...</td>\n",
       "      <td>...</td>\n",
       "      <td>...</td>\n",
       "      <td>...</td>\n",
       "      <td>...</td>\n",
       "      <td>...</td>\n",
       "    </tr>\n",
       "    <tr>\n",
       "      <th>4562</th>\n",
       "      <td>i agree with eugenia c. when she says the serv...</td>\n",
       "      <td>agree eugenia c say service could good use l...</td>\n",
       "      <td>3</td>\n",
       "      <td>0.200000</td>\n",
       "      <td>Positive</td>\n",
       "      <td>0.7579</td>\n",
       "      <td>Positive</td>\n",
       "    </tr>\n",
       "    <tr>\n",
       "      <th>4563</th>\n",
       "      <td>Ok, I understand why this place gets the revie...</td>\n",
       "      <td>Ok understand place get review review primar...</td>\n",
       "      <td>1</td>\n",
       "      <td>0.140764</td>\n",
       "      <td>Positive</td>\n",
       "      <td>0.9846</td>\n",
       "      <td>Positive</td>\n",
       "    </tr>\n",
       "    <tr>\n",
       "      <th>4564</th>\n",
       "      <td>pretty good food! bit pricey.. the Cuban Food ...</td>\n",
       "      <td>pretty good food bit pricey Cuban Food Moros...</td>\n",
       "      <td>4</td>\n",
       "      <td>0.625000</td>\n",
       "      <td>Positive</td>\n",
       "      <td>0.9432</td>\n",
       "      <td>Positive</td>\n",
       "    </tr>\n",
       "    <tr>\n",
       "      <th>4565</th>\n",
       "      <td>very cool dark romantic restaurant, great food...</td>\n",
       "      <td>cool dark romantic restaurant great food eve...</td>\n",
       "      <td>5</td>\n",
       "      <td>0.283333</td>\n",
       "      <td>Positive</td>\n",
       "      <td>0.9001</td>\n",
       "      <td>Positive</td>\n",
       "    </tr>\n",
       "    <tr>\n",
       "      <th>4566</th>\n",
       "      <td>meh. this place is alright. its a bit on the p...</td>\n",
       "      <td>meh place alright bit pricey side understand...</td>\n",
       "      <td>3</td>\n",
       "      <td>0.210095</td>\n",
       "      <td>Positive</td>\n",
       "      <td>-0.3089</td>\n",
       "      <td>Neutral</td>\n",
       "    </tr>\n",
       "  </tbody>\n",
       "</table>\n",
       "<p>20978 rows × 7 columns</p>\n",
       "</div>\n",
       "      <button class=\"colab-df-convert\" onclick=\"convertToInteractive('df-dd2a6648-bc0e-402f-b550-cc6c05e492ee')\"\n",
       "              title=\"Convert this dataframe to an interactive table.\"\n",
       "              style=\"display:none;\">\n",
       "        \n",
       "  <svg xmlns=\"http://www.w3.org/2000/svg\" height=\"24px\"viewBox=\"0 0 24 24\"\n",
       "       width=\"24px\">\n",
       "    <path d=\"M0 0h24v24H0V0z\" fill=\"none\"/>\n",
       "    <path d=\"M18.56 5.44l.94 2.06.94-2.06 2.06-.94-2.06-.94-.94-2.06-.94 2.06-2.06.94zm-11 1L8.5 8.5l.94-2.06 2.06-.94-2.06-.94L8.5 2.5l-.94 2.06-2.06.94zm10 10l.94 2.06.94-2.06 2.06-.94-2.06-.94-.94-2.06-.94 2.06-2.06.94z\"/><path d=\"M17.41 7.96l-1.37-1.37c-.4-.4-.92-.59-1.43-.59-.52 0-1.04.2-1.43.59L10.3 9.45l-7.72 7.72c-.78.78-.78 2.05 0 2.83L4 21.41c.39.39.9.59 1.41.59.51 0 1.02-.2 1.41-.59l7.78-7.78 2.81-2.81c.8-.78.8-2.07 0-2.86zM5.41 20L4 18.59l7.72-7.72 1.47 1.35L5.41 20z\"/>\n",
       "  </svg>\n",
       "      </button>\n",
       "      \n",
       "  <style>\n",
       "    .colab-df-container {\n",
       "      display:flex;\n",
       "      flex-wrap:wrap;\n",
       "      gap: 12px;\n",
       "    }\n",
       "\n",
       "    .colab-df-convert {\n",
       "      background-color: #E8F0FE;\n",
       "      border: none;\n",
       "      border-radius: 50%;\n",
       "      cursor: pointer;\n",
       "      display: none;\n",
       "      fill: #1967D2;\n",
       "      height: 32px;\n",
       "      padding: 0 0 0 0;\n",
       "      width: 32px;\n",
       "    }\n",
       "\n",
       "    .colab-df-convert:hover {\n",
       "      background-color: #E2EBFA;\n",
       "      box-shadow: 0px 1px 2px rgba(60, 64, 67, 0.3), 0px 1px 3px 1px rgba(60, 64, 67, 0.15);\n",
       "      fill: #174EA6;\n",
       "    }\n",
       "\n",
       "    [theme=dark] .colab-df-convert {\n",
       "      background-color: #3B4455;\n",
       "      fill: #D2E3FC;\n",
       "    }\n",
       "\n",
       "    [theme=dark] .colab-df-convert:hover {\n",
       "      background-color: #434B5C;\n",
       "      box-shadow: 0px 1px 3px 1px rgba(0, 0, 0, 0.15);\n",
       "      filter: drop-shadow(0px 1px 2px rgba(0, 0, 0, 0.3));\n",
       "      fill: #FFFFFF;\n",
       "    }\n",
       "  </style>\n",
       "\n",
       "      <script>\n",
       "        const buttonEl =\n",
       "          document.querySelector('#df-dd2a6648-bc0e-402f-b550-cc6c05e492ee button.colab-df-convert');\n",
       "        buttonEl.style.display =\n",
       "          google.colab.kernel.accessAllowed ? 'block' : 'none';\n",
       "\n",
       "        async function convertToInteractive(key) {\n",
       "          const element = document.querySelector('#df-dd2a6648-bc0e-402f-b550-cc6c05e492ee');\n",
       "          const dataTable =\n",
       "            await google.colab.kernel.invokeFunction('convertToInteractive',\n",
       "                                                     [key], {});\n",
       "          if (!dataTable) return;\n",
       "\n",
       "          const docLinkHtml = 'Like what you see? Visit the ' +\n",
       "            '<a target=\"_blank\" href=https://colab.research.google.com/notebooks/data_table.ipynb>data table notebook</a>'\n",
       "            + ' to learn more about interactive tables.';\n",
       "          element.innerHTML = '';\n",
       "          dataTable['output_type'] = 'display_data';\n",
       "          await google.colab.output.renderOutput(dataTable, element);\n",
       "          const docLink = document.createElement('div');\n",
       "          docLink.innerHTML = docLinkHtml;\n",
       "          element.appendChild(docLink);\n",
       "        }\n",
       "      </script>\n",
       "    </div>\n",
       "  </div>\n",
       "  "
      ],
      "text/plain": [
       "                                                content  \\\n",
       "0     Been going here for 5+ years starting at the o...   \n",
       "1     Very professional and organized. Wonderful sta...   \n",
       "2     We came here for our anniversary as walk ins a...   \n",
       "3     DTF? Obviously had to go to DTF for the one ti...   \n",
       "4     We love DTF!!! Not this location:  is there an...   \n",
       "...                                                 ...   \n",
       "4562  i agree with eugenia c. when she says the serv...   \n",
       "4563  Ok, I understand why this place gets the revie...   \n",
       "4564  pretty good food! bit pricey.. the Cuban Food ...   \n",
       "4565  very cool dark romantic restaurant, great food...   \n",
       "4566  meh. this place is alright. its a bit on the p...   \n",
       "\n",
       "                                                  Lemma  stars  Polarity  \\\n",
       "0       go year start original Arcadia Amazing every...      5  0.150893   \n",
       "1       professional organize Wonderful staff wait h...      4  0.400000   \n",
       "2       come anniversary walk in experience never fa...      5  0.266739   \n",
       "3       DTF Obviously go DTF one time hype also near...      4  0.176881   \n",
       "4       love DTF location anything good say location...      1 -0.055056   \n",
       "...                                                 ...    ...       ...   \n",
       "4562    agree eugenia c say service could good use l...      3  0.200000   \n",
       "4563    Ok understand place get review review primar...      1  0.140764   \n",
       "4564    pretty good food bit pricey Cuban Food Moros...      4  0.625000   \n",
       "4565    cool dark romantic restaurant great food eve...      5  0.283333   \n",
       "4566    meh place alright bit pricey side understand...      3  0.210095   \n",
       "\n",
       "      Analysis  Vader Sentiment Vader Analysis  \n",
       "0     Positive           0.5994       Positive  \n",
       "1     Positive           0.5719       Positive  \n",
       "2     Positive           0.9987       Positive  \n",
       "3     Positive           0.9917       Positive  \n",
       "4     Negative          -0.8890       Negative  \n",
       "...        ...              ...            ...  \n",
       "4562  Positive           0.7579       Positive  \n",
       "4563  Positive           0.9846       Positive  \n",
       "4564  Positive           0.9432       Positive  \n",
       "4565  Positive           0.9001       Positive  \n",
       "4566  Positive          -0.3089        Neutral  \n",
       "\n",
       "[20978 rows x 7 columns]"
      ]
     },
     "execution_count": 242,
     "metadata": {},
     "output_type": "execute_result"
    }
   ],
   "source": [
    "fin_data"
   ]
  },
  {
   "cell_type": "code",
   "execution_count": null,
   "metadata": {
    "colab": {
     "base_uri": "https://localhost:8080/",
     "height": 468
    },
    "id": "_EYcr8nRQB1t",
    "outputId": "8c1a0f64-38cb-482f-ce31-866334953a7a"
   },
   "outputs": [
    {
     "data": {
      "text/html": [
       "\n",
       "  <div id=\"df-0d12ef53-1ddf-40d0-8427-de948e64f13b\">\n",
       "    <div class=\"colab-df-container\">\n",
       "      <div>\n",
       "<style scoped>\n",
       "    .dataframe tbody tr th:only-of-type {\n",
       "        vertical-align: middle;\n",
       "    }\n",
       "\n",
       "    .dataframe tbody tr th {\n",
       "        vertical-align: top;\n",
       "    }\n",
       "\n",
       "    .dataframe thead th {\n",
       "        text-align: right;\n",
       "    }\n",
       "</style>\n",
       "<table border=\"1\" class=\"dataframe\">\n",
       "  <thead>\n",
       "    <tr style=\"text-align: right;\">\n",
       "      <th></th>\n",
       "      <th>content</th>\n",
       "      <th>Lemma</th>\n",
       "      <th>stars</th>\n",
       "      <th>Polarity</th>\n",
       "      <th>Analysis</th>\n",
       "      <th>Vader Sentiment</th>\n",
       "      <th>Vader Analysis</th>\n",
       "    </tr>\n",
       "  </thead>\n",
       "  <tbody>\n",
       "    <tr>\n",
       "      <th>4</th>\n",
       "      <td>We love DTF!!! Not this location:  is there an...</td>\n",
       "      <td>love DTF location anything good say location...</td>\n",
       "      <td>1</td>\n",
       "      <td>-0.055056</td>\n",
       "      <td>Negative</td>\n",
       "      <td>-0.8890</td>\n",
       "      <td>Negative</td>\n",
       "    </tr>\n",
       "    <tr>\n",
       "      <th>164</th>\n",
       "      <td>HORRENDOUS CUSTOMER SERVICE. I drove an hour t...</td>\n",
       "      <td>HORRENDOUS CUSTOMER SERVICE drive hour get w...</td>\n",
       "      <td>1</td>\n",
       "      <td>-0.114286</td>\n",
       "      <td>Negative</td>\n",
       "      <td>-0.9221</td>\n",
       "      <td>Negative</td>\n",
       "    </tr>\n",
       "    <tr>\n",
       "      <th>253</th>\n",
       "      <td>Food was so good but we got super sick. Last n...</td>\n",
       "      <td>Food good get super sick Last night eat thin...</td>\n",
       "      <td>2</td>\n",
       "      <td>-0.050496</td>\n",
       "      <td>Negative</td>\n",
       "      <td>-0.8271</td>\n",
       "      <td>Negative</td>\n",
       "    </tr>\n",
       "    <tr>\n",
       "      <th>284</th>\n",
       "      <td>Terrible service. Why eat here? So you can be ...</td>\n",
       "      <td>Terrible service eat treat like shit guess p...</td>\n",
       "      <td>1</td>\n",
       "      <td>-0.533333</td>\n",
       "      <td>Negative</td>\n",
       "      <td>-0.7184</td>\n",
       "      <td>Negative</td>\n",
       "    </tr>\n",
       "    <tr>\n",
       "      <th>326</th>\n",
       "      <td>Bug found in bok choy. The manager was very un...</td>\n",
       "      <td>Bug find bok choy manager unhappy give disco...</td>\n",
       "      <td>1</td>\n",
       "      <td>-0.300000</td>\n",
       "      <td>Negative</td>\n",
       "      <td>-0.8442</td>\n",
       "      <td>Negative</td>\n",
       "    </tr>\n",
       "    <tr>\n",
       "      <th>...</th>\n",
       "      <td>...</td>\n",
       "      <td>...</td>\n",
       "      <td>...</td>\n",
       "      <td>...</td>\n",
       "      <td>...</td>\n",
       "      <td>...</td>\n",
       "      <td>...</td>\n",
       "    </tr>\n",
       "    <tr>\n",
       "      <th>3931</th>\n",
       "      <td>I read review about awful service and drinks, ...</td>\n",
       "      <td>read review awful service drink go anyway co...</td>\n",
       "      <td>2</td>\n",
       "      <td>-0.500000</td>\n",
       "      <td>Negative</td>\n",
       "      <td>-0.8588</td>\n",
       "      <td>Negative</td>\n",
       "    </tr>\n",
       "    <tr>\n",
       "      <th>3998</th>\n",
       "      <td>Stopped in for a specialty coffee and dessert....</td>\n",
       "      <td>Stopped specialty coffee dessert manager sea...</td>\n",
       "      <td>1</td>\n",
       "      <td>-0.212500</td>\n",
       "      <td>Negative</td>\n",
       "      <td>-0.7134</td>\n",
       "      <td>Negative</td>\n",
       "    </tr>\n",
       "    <tr>\n",
       "      <th>4018</th>\n",
       "      <td>I really wanted to try you Habana, I really di...</td>\n",
       "      <td>really want try Habana really fact give part...</td>\n",
       "      <td>1</td>\n",
       "      <td>-0.085374</td>\n",
       "      <td>Negative</td>\n",
       "      <td>-0.6644</td>\n",
       "      <td>Negative</td>\n",
       "    </tr>\n",
       "    <tr>\n",
       "      <th>4271</th>\n",
       "      <td>Bad bad bad. Rude staff, over priced. Enter at...</td>\n",
       "      <td>Bad bad bad Rude staff price Enter risk high...</td>\n",
       "      <td>1</td>\n",
       "      <td>-0.373333</td>\n",
       "      <td>Negative</td>\n",
       "      <td>-0.9493</td>\n",
       "      <td>Negative</td>\n",
       "    </tr>\n",
       "    <tr>\n",
       "      <th>4556</th>\n",
       "      <td>My wife and i always go shop at urbanoutfitter...</td>\n",
       "      <td>wife always go shop urbanoutfitters always w...</td>\n",
       "      <td>1</td>\n",
       "      <td>-0.042857</td>\n",
       "      <td>Negative</td>\n",
       "      <td>-0.5106</td>\n",
       "      <td>Negative</td>\n",
       "    </tr>\n",
       "  </tbody>\n",
       "</table>\n",
       "<p>367 rows × 7 columns</p>\n",
       "</div>\n",
       "      <button class=\"colab-df-convert\" onclick=\"convertToInteractive('df-0d12ef53-1ddf-40d0-8427-de948e64f13b')\"\n",
       "              title=\"Convert this dataframe to an interactive table.\"\n",
       "              style=\"display:none;\">\n",
       "        \n",
       "  <svg xmlns=\"http://www.w3.org/2000/svg\" height=\"24px\"viewBox=\"0 0 24 24\"\n",
       "       width=\"24px\">\n",
       "    <path d=\"M0 0h24v24H0V0z\" fill=\"none\"/>\n",
       "    <path d=\"M18.56 5.44l.94 2.06.94-2.06 2.06-.94-2.06-.94-.94-2.06-.94 2.06-2.06.94zm-11 1L8.5 8.5l.94-2.06 2.06-.94-2.06-.94L8.5 2.5l-.94 2.06-2.06.94zm10 10l.94 2.06.94-2.06 2.06-.94-2.06-.94-.94-2.06-.94 2.06-2.06.94z\"/><path d=\"M17.41 7.96l-1.37-1.37c-.4-.4-.92-.59-1.43-.59-.52 0-1.04.2-1.43.59L10.3 9.45l-7.72 7.72c-.78.78-.78 2.05 0 2.83L4 21.41c.39.39.9.59 1.41.59.51 0 1.02-.2 1.41-.59l7.78-7.78 2.81-2.81c.8-.78.8-2.07 0-2.86zM5.41 20L4 18.59l7.72-7.72 1.47 1.35L5.41 20z\"/>\n",
       "  </svg>\n",
       "      </button>\n",
       "      \n",
       "  <style>\n",
       "    .colab-df-container {\n",
       "      display:flex;\n",
       "      flex-wrap:wrap;\n",
       "      gap: 12px;\n",
       "    }\n",
       "\n",
       "    .colab-df-convert {\n",
       "      background-color: #E8F0FE;\n",
       "      border: none;\n",
       "      border-radius: 50%;\n",
       "      cursor: pointer;\n",
       "      display: none;\n",
       "      fill: #1967D2;\n",
       "      height: 32px;\n",
       "      padding: 0 0 0 0;\n",
       "      width: 32px;\n",
       "    }\n",
       "\n",
       "    .colab-df-convert:hover {\n",
       "      background-color: #E2EBFA;\n",
       "      box-shadow: 0px 1px 2px rgba(60, 64, 67, 0.3), 0px 1px 3px 1px rgba(60, 64, 67, 0.15);\n",
       "      fill: #174EA6;\n",
       "    }\n",
       "\n",
       "    [theme=dark] .colab-df-convert {\n",
       "      background-color: #3B4455;\n",
       "      fill: #D2E3FC;\n",
       "    }\n",
       "\n",
       "    [theme=dark] .colab-df-convert:hover {\n",
       "      background-color: #434B5C;\n",
       "      box-shadow: 0px 1px 3px 1px rgba(0, 0, 0, 0.15);\n",
       "      filter: drop-shadow(0px 1px 2px rgba(0, 0, 0, 0.3));\n",
       "      fill: #FFFFFF;\n",
       "    }\n",
       "  </style>\n",
       "\n",
       "      <script>\n",
       "        const buttonEl =\n",
       "          document.querySelector('#df-0d12ef53-1ddf-40d0-8427-de948e64f13b button.colab-df-convert');\n",
       "        buttonEl.style.display =\n",
       "          google.colab.kernel.accessAllowed ? 'block' : 'none';\n",
       "\n",
       "        async function convertToInteractive(key) {\n",
       "          const element = document.querySelector('#df-0d12ef53-1ddf-40d0-8427-de948e64f13b');\n",
       "          const dataTable =\n",
       "            await google.colab.kernel.invokeFunction('convertToInteractive',\n",
       "                                                     [key], {});\n",
       "          if (!dataTable) return;\n",
       "\n",
       "          const docLinkHtml = 'Like what you see? Visit the ' +\n",
       "            '<a target=\"_blank\" href=https://colab.research.google.com/notebooks/data_table.ipynb>data table notebook</a>'\n",
       "            + ' to learn more about interactive tables.';\n",
       "          element.innerHTML = '';\n",
       "          dataTable['output_type'] = 'display_data';\n",
       "          await google.colab.output.renderOutput(dataTable, element);\n",
       "          const docLink = document.createElement('div');\n",
       "          docLink.innerHTML = docLinkHtml;\n",
       "          element.appendChild(docLink);\n",
       "        }\n",
       "      </script>\n",
       "    </div>\n",
       "  </div>\n",
       "  "
      ],
      "text/plain": [
       "                                                content  \\\n",
       "4     We love DTF!!! Not this location:  is there an...   \n",
       "164   HORRENDOUS CUSTOMER SERVICE. I drove an hour t...   \n",
       "253   Food was so good but we got super sick. Last n...   \n",
       "284   Terrible service. Why eat here? So you can be ...   \n",
       "326   Bug found in bok choy. The manager was very un...   \n",
       "...                                                 ...   \n",
       "3931  I read review about awful service and drinks, ...   \n",
       "3998  Stopped in for a specialty coffee and dessert....   \n",
       "4018  I really wanted to try you Habana, I really di...   \n",
       "4271  Bad bad bad. Rude staff, over priced. Enter at...   \n",
       "4556  My wife and i always go shop at urbanoutfitter...   \n",
       "\n",
       "                                                  Lemma  stars  Polarity  \\\n",
       "4       love DTF location anything good say location...      1 -0.055056   \n",
       "164     HORRENDOUS CUSTOMER SERVICE drive hour get w...      1 -0.114286   \n",
       "253     Food good get super sick Last night eat thin...      2 -0.050496   \n",
       "284     Terrible service eat treat like shit guess p...      1 -0.533333   \n",
       "326     Bug find bok choy manager unhappy give disco...      1 -0.300000   \n",
       "...                                                 ...    ...       ...   \n",
       "3931    read review awful service drink go anyway co...      2 -0.500000   \n",
       "3998    Stopped specialty coffee dessert manager sea...      1 -0.212500   \n",
       "4018    really want try Habana really fact give part...      1 -0.085374   \n",
       "4271    Bad bad bad Rude staff price Enter risk high...      1 -0.373333   \n",
       "4556    wife always go shop urbanoutfitters always w...      1 -0.042857   \n",
       "\n",
       "      Analysis  Vader Sentiment Vader Analysis  \n",
       "4     Negative          -0.8890       Negative  \n",
       "164   Negative          -0.9221       Negative  \n",
       "253   Negative          -0.8271       Negative  \n",
       "284   Negative          -0.7184       Negative  \n",
       "326   Negative          -0.8442       Negative  \n",
       "...        ...              ...            ...  \n",
       "3931  Negative          -0.8588       Negative  \n",
       "3998  Negative          -0.7134       Negative  \n",
       "4018  Negative          -0.6644       Negative  \n",
       "4271  Negative          -0.9493       Negative  \n",
       "4556  Negative          -0.5106       Negative  \n",
       "\n",
       "[367 rows x 7 columns]"
      ]
     },
     "execution_count": 243,
     "metadata": {},
     "output_type": "execute_result"
    }
   ],
   "source": [
    "bad_reviews"
   ]
  },
  {
   "cell_type": "code",
   "execution_count": null,
   "metadata": {
    "colab": {
     "base_uri": "https://localhost:8080/",
     "height": 424
    },
    "id": "D2QMnW6F8h1x",
    "outputId": "6f1e1f9c-456e-4d51-a3c8-fecfe7d0d9fd"
   },
   "outputs": [
    {
     "data": {
      "text/html": [
       "\n",
       "  <div id=\"df-cc048c04-58da-4b7a-a131-a632a3795478\">\n",
       "    <div class=\"colab-df-container\">\n",
       "      <div>\n",
       "<style scoped>\n",
       "    .dataframe tbody tr th:only-of-type {\n",
       "        vertical-align: middle;\n",
       "    }\n",
       "\n",
       "    .dataframe tbody tr th {\n",
       "        vertical-align: top;\n",
       "    }\n",
       "\n",
       "    .dataframe thead th {\n",
       "        text-align: right;\n",
       "    }\n",
       "</style>\n",
       "<table border=\"1\" class=\"dataframe\">\n",
       "  <thead>\n",
       "    <tr style=\"text-align: right;\">\n",
       "      <th></th>\n",
       "      <th>content</th>\n",
       "      <th>Lemma</th>\n",
       "      <th>stars</th>\n",
       "      <th>Polarity</th>\n",
       "      <th>Analysis</th>\n",
       "      <th>Vader Sentiment</th>\n",
       "      <th>Vader Analysis</th>\n",
       "    </tr>\n",
       "  </thead>\n",
       "  <tbody>\n",
       "    <tr>\n",
       "      <th>0</th>\n",
       "      <td>Been going here for 5+ years starting at the o...</td>\n",
       "      <td>go year start original Arcadia Amazing every...</td>\n",
       "      <td>5</td>\n",
       "      <td>0.150893</td>\n",
       "      <td>Positive</td>\n",
       "      <td>0.5994</td>\n",
       "      <td>Positive</td>\n",
       "    </tr>\n",
       "    <tr>\n",
       "      <th>1</th>\n",
       "      <td>Very professional and organized. Wonderful sta...</td>\n",
       "      <td>professional organize Wonderful staff wait h...</td>\n",
       "      <td>4</td>\n",
       "      <td>0.400000</td>\n",
       "      <td>Positive</td>\n",
       "      <td>0.5719</td>\n",
       "      <td>Positive</td>\n",
       "    </tr>\n",
       "    <tr>\n",
       "      <th>2</th>\n",
       "      <td>We came here for our anniversary as walk ins a...</td>\n",
       "      <td>come anniversary walk in experience never fa...</td>\n",
       "      <td>5</td>\n",
       "      <td>0.266739</td>\n",
       "      <td>Positive</td>\n",
       "      <td>0.9987</td>\n",
       "      <td>Positive</td>\n",
       "    </tr>\n",
       "    <tr>\n",
       "      <th>3</th>\n",
       "      <td>DTF? Obviously had to go to DTF for the one ti...</td>\n",
       "      <td>DTF Obviously go DTF one time hype also near...</td>\n",
       "      <td>4</td>\n",
       "      <td>0.176881</td>\n",
       "      <td>Positive</td>\n",
       "      <td>0.9917</td>\n",
       "      <td>Positive</td>\n",
       "    </tr>\n",
       "    <tr>\n",
       "      <th>5</th>\n",
       "      <td>Absolutely love this place, great location too...</td>\n",
       "      <td>Absolutely love place great location meal wa...</td>\n",
       "      <td>5</td>\n",
       "      <td>0.233500</td>\n",
       "      <td>Positive</td>\n",
       "      <td>0.9931</td>\n",
       "      <td>Positive</td>\n",
       "    </tr>\n",
       "    <tr>\n",
       "      <th>...</th>\n",
       "      <td>...</td>\n",
       "      <td>...</td>\n",
       "      <td>...</td>\n",
       "      <td>...</td>\n",
       "      <td>...</td>\n",
       "      <td>...</td>\n",
       "      <td>...</td>\n",
       "    </tr>\n",
       "    <tr>\n",
       "      <th>4557</th>\n",
       "      <td>This place is amazing.  The ambiance is great,...</td>\n",
       "      <td>place amaze ambiance great color invite phot...</td>\n",
       "      <td>5</td>\n",
       "      <td>0.515714</td>\n",
       "      <td>Positive</td>\n",
       "      <td>0.9722</td>\n",
       "      <td>Positive</td>\n",
       "    </tr>\n",
       "    <tr>\n",
       "      <th>4558</th>\n",
       "      <td>One of my favorite restaurants in OC. I love t...</td>\n",
       "      <td>One favorite restaurant OC love ambiance ser...</td>\n",
       "      <td>5</td>\n",
       "      <td>0.500000</td>\n",
       "      <td>Positive</td>\n",
       "      <td>0.8979</td>\n",
       "      <td>Positive</td>\n",
       "    </tr>\n",
       "    <tr>\n",
       "      <th>4559</th>\n",
       "      <td>they have the amazing food, the flavors are so...</td>\n",
       "      <td>amazing food flavor good love crab cake espe...</td>\n",
       "      <td>5</td>\n",
       "      <td>0.560000</td>\n",
       "      <td>Positive</td>\n",
       "      <td>0.9632</td>\n",
       "      <td>Positive</td>\n",
       "    </tr>\n",
       "    <tr>\n",
       "      <th>4564</th>\n",
       "      <td>pretty good food! bit pricey.. the Cuban Food ...</td>\n",
       "      <td>pretty good food bit pricey Cuban Food Moros...</td>\n",
       "      <td>4</td>\n",
       "      <td>0.625000</td>\n",
       "      <td>Positive</td>\n",
       "      <td>0.9432</td>\n",
       "      <td>Positive</td>\n",
       "    </tr>\n",
       "    <tr>\n",
       "      <th>4565</th>\n",
       "      <td>very cool dark romantic restaurant, great food...</td>\n",
       "      <td>cool dark romantic restaurant great food eve...</td>\n",
       "      <td>5</td>\n",
       "      <td>0.283333</td>\n",
       "      <td>Positive</td>\n",
       "      <td>0.9001</td>\n",
       "      <td>Positive</td>\n",
       "    </tr>\n",
       "  </tbody>\n",
       "</table>\n",
       "<p>15537 rows × 7 columns</p>\n",
       "</div>\n",
       "      <button class=\"colab-df-convert\" onclick=\"convertToInteractive('df-cc048c04-58da-4b7a-a131-a632a3795478')\"\n",
       "              title=\"Convert this dataframe to an interactive table.\"\n",
       "              style=\"display:none;\">\n",
       "        \n",
       "  <svg xmlns=\"http://www.w3.org/2000/svg\" height=\"24px\"viewBox=\"0 0 24 24\"\n",
       "       width=\"24px\">\n",
       "    <path d=\"M0 0h24v24H0V0z\" fill=\"none\"/>\n",
       "    <path d=\"M18.56 5.44l.94 2.06.94-2.06 2.06-.94-2.06-.94-.94-2.06-.94 2.06-2.06.94zm-11 1L8.5 8.5l.94-2.06 2.06-.94-2.06-.94L8.5 2.5l-.94 2.06-2.06.94zm10 10l.94 2.06.94-2.06 2.06-.94-2.06-.94-.94-2.06-.94 2.06-2.06.94z\"/><path d=\"M17.41 7.96l-1.37-1.37c-.4-.4-.92-.59-1.43-.59-.52 0-1.04.2-1.43.59L10.3 9.45l-7.72 7.72c-.78.78-.78 2.05 0 2.83L4 21.41c.39.39.9.59 1.41.59.51 0 1.02-.2 1.41-.59l7.78-7.78 2.81-2.81c.8-.78.8-2.07 0-2.86zM5.41 20L4 18.59l7.72-7.72 1.47 1.35L5.41 20z\"/>\n",
       "  </svg>\n",
       "      </button>\n",
       "      \n",
       "  <style>\n",
       "    .colab-df-container {\n",
       "      display:flex;\n",
       "      flex-wrap:wrap;\n",
       "      gap: 12px;\n",
       "    }\n",
       "\n",
       "    .colab-df-convert {\n",
       "      background-color: #E8F0FE;\n",
       "      border: none;\n",
       "      border-radius: 50%;\n",
       "      cursor: pointer;\n",
       "      display: none;\n",
       "      fill: #1967D2;\n",
       "      height: 32px;\n",
       "      padding: 0 0 0 0;\n",
       "      width: 32px;\n",
       "    }\n",
       "\n",
       "    .colab-df-convert:hover {\n",
       "      background-color: #E2EBFA;\n",
       "      box-shadow: 0px 1px 2px rgba(60, 64, 67, 0.3), 0px 1px 3px 1px rgba(60, 64, 67, 0.15);\n",
       "      fill: #174EA6;\n",
       "    }\n",
       "\n",
       "    [theme=dark] .colab-df-convert {\n",
       "      background-color: #3B4455;\n",
       "      fill: #D2E3FC;\n",
       "    }\n",
       "\n",
       "    [theme=dark] .colab-df-convert:hover {\n",
       "      background-color: #434B5C;\n",
       "      box-shadow: 0px 1px 3px 1px rgba(0, 0, 0, 0.15);\n",
       "      filter: drop-shadow(0px 1px 2px rgba(0, 0, 0, 0.3));\n",
       "      fill: #FFFFFF;\n",
       "    }\n",
       "  </style>\n",
       "\n",
       "      <script>\n",
       "        const buttonEl =\n",
       "          document.querySelector('#df-cc048c04-58da-4b7a-a131-a632a3795478 button.colab-df-convert');\n",
       "        buttonEl.style.display =\n",
       "          google.colab.kernel.accessAllowed ? 'block' : 'none';\n",
       "\n",
       "        async function convertToInteractive(key) {\n",
       "          const element = document.querySelector('#df-cc048c04-58da-4b7a-a131-a632a3795478');\n",
       "          const dataTable =\n",
       "            await google.colab.kernel.invokeFunction('convertToInteractive',\n",
       "                                                     [key], {});\n",
       "          if (!dataTable) return;\n",
       "\n",
       "          const docLinkHtml = 'Like what you see? Visit the ' +\n",
       "            '<a target=\"_blank\" href=https://colab.research.google.com/notebooks/data_table.ipynb>data table notebook</a>'\n",
       "            + ' to learn more about interactive tables.';\n",
       "          element.innerHTML = '';\n",
       "          dataTable['output_type'] = 'display_data';\n",
       "          await google.colab.output.renderOutput(dataTable, element);\n",
       "          const docLink = document.createElement('div');\n",
       "          docLink.innerHTML = docLinkHtml;\n",
       "          element.appendChild(docLink);\n",
       "        }\n",
       "      </script>\n",
       "    </div>\n",
       "  </div>\n",
       "  "
      ],
      "text/plain": [
       "                                                content  \\\n",
       "0     Been going here for 5+ years starting at the o...   \n",
       "1     Very professional and organized. Wonderful sta...   \n",
       "2     We came here for our anniversary as walk ins a...   \n",
       "3     DTF? Obviously had to go to DTF for the one ti...   \n",
       "5     Absolutely love this place, great location too...   \n",
       "...                                                 ...   \n",
       "4557  This place is amazing.  The ambiance is great,...   \n",
       "4558  One of my favorite restaurants in OC. I love t...   \n",
       "4559  they have the amazing food, the flavors are so...   \n",
       "4564  pretty good food! bit pricey.. the Cuban Food ...   \n",
       "4565  very cool dark romantic restaurant, great food...   \n",
       "\n",
       "                                                  Lemma  stars  Polarity  \\\n",
       "0       go year start original Arcadia Amazing every...      5  0.150893   \n",
       "1       professional organize Wonderful staff wait h...      4  0.400000   \n",
       "2       come anniversary walk in experience never fa...      5  0.266739   \n",
       "3       DTF Obviously go DTF one time hype also near...      4  0.176881   \n",
       "5       Absolutely love place great location meal wa...      5  0.233500   \n",
       "...                                                 ...    ...       ...   \n",
       "4557    place amaze ambiance great color invite phot...      5  0.515714   \n",
       "4558    One favorite restaurant OC love ambiance ser...      5  0.500000   \n",
       "4559    amazing food flavor good love crab cake espe...      5  0.560000   \n",
       "4564    pretty good food bit pricey Cuban Food Moros...      4  0.625000   \n",
       "4565    cool dark romantic restaurant great food eve...      5  0.283333   \n",
       "\n",
       "      Analysis  Vader Sentiment Vader Analysis  \n",
       "0     Positive           0.5994       Positive  \n",
       "1     Positive           0.5719       Positive  \n",
       "2     Positive           0.9987       Positive  \n",
       "3     Positive           0.9917       Positive  \n",
       "5     Positive           0.9931       Positive  \n",
       "...        ...              ...            ...  \n",
       "4557  Positive           0.9722       Positive  \n",
       "4558  Positive           0.8979       Positive  \n",
       "4559  Positive           0.9632       Positive  \n",
       "4564  Positive           0.9432       Positive  \n",
       "4565  Positive           0.9001       Positive  \n",
       "\n",
       "[15537 rows x 7 columns]"
      ]
     },
     "execution_count": 313,
     "metadata": {},
     "output_type": "execute_result"
    }
   ],
   "source": [
    "good_reviews"
   ]
  },
  {
   "cell_type": "code",
   "execution_count": null,
   "metadata": {
    "colab": {
     "base_uri": "https://localhost:8080/"
    },
    "id": "rlD6ThAAhWul",
    "outputId": "e52a4aa9-ecad-45c2-8a61-62f289a6656a"
   },
   "outputs": [
    {
     "name": "stdout",
     "output_type": "stream",
     "text": [
      "['Been going here for 5+ years starting at the original in Arcadia. Amazing every single time. No complaints.', 'Very professional and organized. Wonderful staff. The wait is 3 hours though so get there early or call ahead a month in advance.', 'We came here for our anniversary as walk ins and the experience never fails us. We got there around 11:05 and got in line to be put on the waitlist. We were told the wait would be around 1hr- 1hr and 20 min. After an hour, we received our text and was seated rather quickly. Our servers were amazing. Super helpful and attentive. We re not the type of customers that keep tab on things like if our water runs empty, but they always came by every few minutes to check on us and always made sure we were topped off with EVERYTHING. Even when one of our dishes were not to our liking, one of our servers was kind enough to cancel it from our check. All servers and employees made sure to keep open communication with us and were attentive and professional. For the food!!-green beans with garlic- 6/10- we believed it was overhyped by social media. However, the quality was great, just not super garlicky. I recommend getting the garlic broccoli instead -sweet and sour pork ribs- 10/10 amazing, sweet, sour, sticky.-shrimp and pork potstickers-9/10 super good, the sauce that came with really complemented it, a little greasy -shrimp and pork shao mai- 9/10 good, really filling, juicy, only issue was there was a lot of dough. -truffle XLB- 7/10 . Specialty dish. The truffle flavor wasn t very apparent. Good dish, just not worth $27 In our opinion-pork XLB- 10/10 . Chefs kiss, amazing. Dip it in black vinegar and top with black vinegar soaked ginger. I dream of this. -noodles with sesame sauce -3/10. We Personally didn t like this dish much. I m not sure If the sauce was watered down but it didn t taste like sesame at all, only peanuts. I believe this dish might just be a bad one in the batch though because this is one of their most popular dishes and we re willing to give it another try. Our server was kind enough to take it off our check -shrimp and pork spicy wontons-10/10 the chili sauce wasn t chili at all but you were able to taste the flavor of the chili. Made it super enjoyable. -steamed soup with beef -10/10. Sounds super simple but it s so rich and is great to start or end off meal. We always get this no matter what .-shrimp fried rice-10/10. Banger, super flavorful! Could it alone.-pork chop-10/10 super bomb paired with the fried rice. It was crispy, juicy and tender, -chocolate and mochi XLB- 100000/10, self explanatory -cucumber gimlet- 9/10- super good alcoholic drink, i personally could of used more citrus in mine-Taipei lemon tea-8/10- super good according to my boyfriend, the liquor and lemon flavors were the most apparent. He didn t taste any peach, overall a refreshing drink.', 'DTF? Obviously had to go to DTF for the one time because of the hype and also it s nearly impossible to get a table so it has to be worth the wait. After our third attempt at trying to get a table, we finally got one...on a Saturday! We did not make reservations in advance, we just walked in. It was about a three hour wait. What we ordered:Cucumber salad - 8/10, pretty good! It s nothing I couldn t make at home but this was solid. Green beans - 6/10, meh. Nothing special. Spicy pork and shrimp wontons - 10/10!! This one was my fave, the chili oil is SOO good I could drink it. Xiao long bao - 10/10, really yummy! This was my bf s fave, the broth was super flavorful and it was the perfect bite. Sweet and sour soup - 8/10, flavor was yummy but it was a little too thick for our liking. Pork chop fried rice - 5/10, you can skip this. The pork cutlet was actually really good but the fried rice is so plain so it s not worth ordering again. We also ordered the lychee martini (meh) and the flame thrower (passion fruit martini). I would skip the lychee one but the flame thrower was really good! It is seasonal though. Overall, I would say that it was worth the hype but I would not wait two weeks for a reservation. I would risk it all for those spicy wontons though.', 'Absolutely love this place, great location too. After your meal, you can walk it off by shopping at South Coast Plaza. So there s never an issue with parking next to DTF and how dare me!! After like 6 visits?? For not writing a review yet. I try to write when I get passionate about something and it s all come to a head with DTF. If you re a fan of Xao Long Bao (XLB), aka Soup Dumplings, you just have to come here and try the crab and pork XLB - the crab flavor is really prominent and tasty. The greeting when you first walk in when they first open (by seemingly the entire staff), you ll feel a little like a Superstar - that s a nice touch. I ve tried the mango, lychee and avocado smoothies and all 3 are distinct in flavor and rock!! The pork short ribs, the shrimp shu mai, pork cutlet, spicy wontons and noodles - all are so very good. I also personally enjoy their chili oil on everything that I eat here. You can also take a break while eating and watch the employees making the dumplings by hand, one at a time, it s truly an art. Of course you have to top off you meal with chocolate baos, get enough for seconds or thirds!! You just can t go wrong here, make sure to make a reservation to avoid the long line, it s like that every day of the week. Hope to visit the wonderful country of Taiwan one day and maybe visit the original DTF there. :)', 'This is one of the best Chinese food I have ever had in my life. Every dish that came out tickled and challenged my taste buds. I have to first and foremost rave about the fried rice... The fluffiest and most moist fried rice that my mouth has ever experienced. I haven t the slightest clue on how they made it so darn fluffy... I would come here just to try the fried rice again. Our party got short ribs and cucumber salad to start. The ribs are amazing and the cucumber salad was refreshing. Xiao long Bao (soup dumpling) was great! It s what they are best known for and it lives up to the hype. very thin yet strong enough to hold all the contents in; very balanced. We also got the Noodles with Diced Beef & Szechuan Peppers (reminded me of Dan Dan noodles) and pork buns which of course delicious. Every side dish and every entree that comes out from the kitchen is super delicious. Did I mention the fried rice? YOU MUST TRY', 'For my birthday lunch, friends treated me to DTF. Service was pleasant and attentive. Unanimously, we all agreed that everything we ordered was spot on. Here s what we had: Cucumber SaladPork Xiao Long BaoSpicy WontonsBraised Beef Noodle SoupPot StickersString BeansSweet and Sour Pork Baby Back RibsShao MaiJasmine TeaReserving a table must be made at least a week in advance, but longer is preferable. See my photo for the line of people waiting WITH a reservation. In regards to the tea, you get a choice of oolong or jasmine. I chose the latter. The best part about the tea is that it s served in a thermal carafe which keeps the tea hot. Brilliant. As for the size of party, you can book for 2-4 people, but everything else is walk-in. Here s a secret tip: if you have a party of 5 like we did, book for 4 and and the hostess will probably seat you.', 'Sister and niece were in town and wanted to eat at Din Tai Fung. I knew that the wait could be long. This would be the first time that I have returned since the pandemic began. Reading the answer to a question posed to the Yelp community, I found out that you could make a dining reservation and that the slots were released on Wednesday for the coming 2 weeks. I didn t know if there would be one for us the next day. I started looking at 1:30 p.m. It wasn t available, but the next one available was 2:45 p.m. I took the reservation and received a confirmation by email.Our party of 3 checked in with the host and hostess 20 minutes before our reservation. The host asked the staff indoors if we might be seated earlier. We were given an order form to start selecting our food while we waited to be seated. Ivy came to escort us to our table. The table she showed us seemed to be in a well-ventilated area, but we have only been dining outdoors. We asked Ivy if we could sit outside. She kindly accommodated us. It was a very brief wait for them to set up the table. The reservation system lets us enjoy dining at Din Tai Fung without the long wait. For many dining and entertainment experiences, one has to plan 2 weeks to 2 months in advance.Khoa was our server. He brought us iced water and asked if straws were desired. There are environmentally conscious people. The straws provided are sturdy plastic and not the paper straws that fall apart before you can even finish drinking. I noticed in reviewing the menu that the offerings have expanded. There is a good selection of greens from which my sister could choose from. Khoa asked about food allergies. I m glad that servers are so aware of food allergies. Khoa confirmed our food items and for the shrimp fried rice asked if white or brown rice was desired. He also took our takeout order of Shrimp & Kurobuta Pork Spicy Wontons, Shrimp & Kurobuta Pork Dumplings, and Noodles with Sesame Sauce. He would have that delivered towards the end of the meal. The Crab & Kurobuta Pork Xiao Long Bao came out first steaming hot. We were impressed that real crab meat was used. The Bok Choy with Scallion-Infused Oil were wholesome, tender, young vegetable bundles. If you re given this, you d willingly eat your green leafy vegetables. Shrimp fried rice is beautiful in presentation. Shrimp are not over salted. Shredded Kurobuta Pork Fried Noodles had Chinese broccoli. These noodles were not too oily. Chicken Noodle Soup had the tender bok choy and the broth is naturally sweet and low in fat like what grandma would make and appreciate having. The Shanghai Rice Cakes with Chicken seem to be a popular new addition. The rice noodles in oval form have a firm texture. There s Chinese broccoli in this noodle dish, too.While we were eating, it was reassuring to see security patrolling next to the patio since the incident at Seasons 52 last year.Khoa refilled the water when he noticed the level in the glasses getting low. He introduced Jenny as our server when it was time for a shift change. Jenny took our payment and brought us our takeout order that Khoa had put a rush on with the kitchen. Some may feel Din Tai Fung is expensive, but it is a fine dining experience with excellent service and food. Every staff member we encountered from host and hostess, escort, server, food deliverers, and other wait staff were pleasant and polite, making you feel like an honored guest.', 'Visiting Din Tai Fung has been a destination for many people, but I ve avoided coming for so long because of the daunting wait. The wait is bad - don t let anyone convince you otherwise. I believe you are able to make reservations for under a party of 4 but otherwise just prepare for it - walk the mall, etc etc.I would anticipate 2-3 hours for a wait - maybe 1.5 hrs if you re going on a weekday.Is the wait worth it? Depends. Personally, I was able to join a party that put their name pretty early on so the wait wasn t too bad since I was able to chill at home.The decor and environment are nice. It s styled like a higher-end restaurant but I wouldn t let that scare you away. There were several teenagers wearing sweatpant sets. As long as you look presentable, it should be fine.The food is superb. It s a Chinese/Taiwanese restaurant and everything is served family style. They make the noodles, dumplings, and teas in house and everything is visually appealing and delicious tasting.I think staff are really supportive and quick. Don t expect to see your sever too often but the staff are quick to get you through your meal.Recommendations:- XLB. It s what they re known for. Try both flavors.- Garlic Green Beans- Hot & Spicy Soup- Kurobuta Pork- Spicy WontonsPlan ahead but it s definitely worth a visit.', 'So first thing I d recommend, is get there early! Like ideally before they open, otherwise the wait is usually over an hour at least. Once the restaurant was open, everyone was seated quickly, and served right away. Service was great, friendly overall. Lots of yummy options. You have to try the soup dumplings of course!- Pork XLB (4.5/5): the best of the XLBs in my opinion. Wish they were more soupy but still so tasty and so much flavor!- Sweet and sour pork ribs (4/5): tender and tangy! Great appetizer to share.- Shrimp and pork spicy wontons (4/5): also very flavorful, has a nice kick to it without being too spicy- Sautéed string beans with garlic (4/5): a solid option for veggies. Love the garlic, and not too greasy which is great- Braised beef soup (3.5/5): pretty good but nothing out of the ordinary. Beef was tender and seasoned well.- Chocolate XLB (4.5/5): wow, you have to try these. Like a perfect explosion of sweet chocolate in your mouth. A must have!']\n"
     ]
    }
   ],
   "source": [
    "# Convert to list\n",
    "data = good_reviews.content.values.tolist()\n",
    "\n",
    "# Remove punctuation\n",
    "#data = [re.sub('[,\\.!?:;]', ' ', review) for review in data]\n",
    "\n",
    "\n",
    "data = [re.sub('\\\"', ' ', review) for review in data]\n",
    "\n",
    "\n",
    "# Remove new line characters\n",
    "data = [re.sub('\\s+', ' ', sent) for sent in data]\n",
    "\n",
    "# Remove distracting single quotes\n",
    "data = [re.sub(\"\\'\", \" \", sent) for sent in data]\n",
    "\n",
    "\n",
    "print(data[:10])"
   ]
  },
  {
   "cell_type": "code",
   "execution_count": null,
   "metadata": {
    "colab": {
     "base_uri": "https://localhost:8080/"
    },
    "id": "x1zRkMsKiPkn",
    "outputId": "b2ccc6c6-f4fa-4ba0-f6b3-e089fe49611d"
   },
   "outputs": [
    {
     "name": "stdout",
     "output_type": "stream",
     "text": [
      "[['been', 'going', 'here', 'for', 'years', 'starting', 'at', 'the', 'original', 'in', 'arcadia', 'amazing', 'every', 'single', 'time', 'no', 'complaints']]\n"
     ]
    }
   ],
   "source": [
    "def sent_to_words(sentences):\n",
    "    for sentence in sentences:\n",
    "        yield(gensim.utils.simple_preprocess(str(sentence), deacc=True))  # deacc=True removes punctuations\n",
    "\n",
    "data_words = list(sent_to_words(data))\n",
    "\n",
    "print(data_words[:1])"
   ]
  },
  {
   "cell_type": "code",
   "execution_count": null,
   "metadata": {
    "colab": {
     "base_uri": "https://localhost:8080/"
    },
    "id": "DMG4nbn-iYu5",
    "outputId": "fe576afb-8784-431a-8d5d-8c4570911320"
   },
   "outputs": [
    {
     "name": "stderr",
     "output_type": "stream",
     "text": [
      "/usr/local/lib/python3.7/dist-packages/gensim/models/phrases.py:598: UserWarning: For a faster implementation, use the gensim.models.phrases.Phraser class\n",
      "  warnings.warn(\"For a faster implementation, use the gensim.models.phrases.Phraser class\")\n"
     ]
    },
    {
     "name": "stdout",
     "output_type": "stream",
     "text": [
      "['very', 'professional', 'and', 'organized', 'wonderful', 'staff', 'the', 'wait', 'is', 'hours', 'though', 'so', 'get', 'there', 'early', 'or', 'call_ahead', 'month', 'in', 'advance']\n"
     ]
    }
   ],
   "source": [
    "# Build the bigram and trigram models\n",
    "bigram = gensim.models.Phrases(data_words, min_count=5, threshold=100) # higher threshold fewer phrases.\n",
    "trigram = gensim.models.Phrases(bigram[data_words], threshold=100)  \n",
    "\n",
    "# Faster way to get a sentence clubbed as a trigram/bigram\n",
    "bigram_mod = gensim.models.phrases.Phraser(bigram)\n",
    "trigram_mod = gensim.models.phrases.Phraser(trigram)\n",
    "\n",
    "# See trigram example\n",
    "print(trigram_mod[bigram_mod[data_words[1]]])"
   ]
  },
  {
   "cell_type": "code",
   "execution_count": null,
   "metadata": {
    "id": "xEXMhgK_jCSl"
   },
   "outputs": [],
   "source": [
    "# Define functions for stopwords, bigrams, trigrams and lemmatization\n",
    "def remove_stopwords(texts):\n",
    "    return [[word for word in simple_preprocess(str(doc)) if word not in stop_words] for doc in texts]\n",
    "\n",
    "def make_bigrams(texts):\n",
    "    return [bigram_mod[doc] for doc in texts]\n",
    "\n",
    "def make_trigrams(texts):\n",
    "    return [trigram_mod[bigram_mod[doc]] for doc in texts]\n",
    "\n",
    "def lemmatization(texts, allowed_postags=[ 'NOUN','VERB','ADV','ADJ']):\n",
    "    \"\"\"https://spacy.io/api/annotation\"\"\"\n",
    "    texts_out = []\n",
    "    for sent in texts:\n",
    "        doc = nlp(\" \".join(sent)) \n",
    "        texts_out.append([token.lemma_ for token in doc if token.pos_ in allowed_postags])\n",
    "    return texts_out"
   ]
  },
  {
   "cell_type": "code",
   "execution_count": null,
   "metadata": {
    "id": "lTCkbogneIzw"
   },
   "outputs": [],
   "source": [
    "data_words"
   ]
  },
  {
   "cell_type": "code",
   "execution_count": null,
   "metadata": {
    "id": "LBgeMM6XjdSo"
   },
   "outputs": [],
   "source": [
    "from sklearn.feature_extraction._stop_words import ENGLISH_STOP_WORDS\n",
    "stop_words=set(stopwords.words('english') + list(ENGLISH_STOP_WORDS) + ['duper','cuban'])\n",
    "#stop_words = stopwords.words('english')"
   ]
  },
  {
   "cell_type": "code",
   "execution_count": null,
   "metadata": {
    "colab": {
     "base_uri": "https://localhost:8080/"
    },
    "id": "yA7cRoq1jHDn",
    "outputId": "52f18348-2301-4755-d3a6-bbddf8df2a65"
   },
   "outputs": [
    {
     "name": "stdout",
     "output_type": "stream",
     "text": [
      "[['go', 'year', 'start', 'original', 'arcadia', 'amazing', 'single', 'time', 'complaint']]\n"
     ]
    }
   ],
   "source": [
    "# Remove Stop Words\n",
    "data_words_nostops = remove_stopwords(data_words)\n",
    "\n",
    "# Form Bigrams\n",
    "data_words_bigrams = make_bigrams(data_words_nostops)\n",
    "\n",
    "# Initialize spacy 'en_core_web_sm' model, keeping only tagger component (for efficiency)\n",
    "# python3 -m spacy download en\n",
    "nlp = spacy.load('en_core_web_sm', disable=['parser', 'ner'])\n",
    "\n",
    "# Do lemmatization keeping only noun, adj, vb, adv\n",
    "data_lemmatized = lemmatization(data_words_bigrams, allowed_postags=[ 'NOUN','VERB','ADV','ADJ'])\n",
    "\n",
    "print(data_lemmatized[:1])"
   ]
  },
  {
   "cell_type": "code",
   "execution_count": null,
   "metadata": {
    "id": "62UVnTEAd9wm"
   },
   "outputs": [],
   "source": [
    "data_words_n"
   ]
  },
  {
   "cell_type": "code",
   "execution_count": null,
   "metadata": {
    "colab": {
     "base_uri": "https://localhost:8080/"
    },
    "id": "eetZogndjIV0",
    "outputId": "96f2ab1f-a3e3-4641-dd90-93d064e6d327"
   },
   "outputs": [
    {
     "name": "stdout",
     "output_type": "stream",
     "text": [
      "[[(0, 1), (1, 1), (2, 1), (3, 1), (4, 1), (5, 1), (6, 1), (7, 1), (8, 1)]]\n"
     ]
    }
   ],
   "source": [
    "# Create Dictionary\n",
    "id2word = corpora.Dictionary(data_lemmatized)\n",
    "\n",
    "# Create Corpus\n",
    "texts = data_lemmatized\n",
    "\n",
    "# Term Document Frequency\n",
    "corpus = [id2word.doc2bow(text) for text in texts]\n",
    "\n",
    "# View\n",
    "print(corpus[:1])"
   ]
  },
  {
   "cell_type": "code",
   "execution_count": null,
   "metadata": {
    "colab": {
     "base_uri": "https://localhost:8080/"
    },
    "id": "r0pPvB8fdwov",
    "outputId": "0eb63e6e-28b0-4dc4-e881-08ded275f09b"
   },
   "outputs": [
    {
     "name": "stdout",
     "output_type": "stream",
     "text": [
      "Number of unique tokens: 15537\n",
      "Number of documents: 15537\n"
     ]
    }
   ],
   "source": [
    "print('Number of unique tokens: %d' % len(texts))\n",
    "print('Number of documents: %d' % len(corpus))"
   ]
  },
  {
   "cell_type": "code",
   "execution_count": null,
   "metadata": {
    "id": "u8WkJOS_637B"
   },
   "outputs": [],
   "source": [
    "texts"
   ]
  },
  {
   "cell_type": "markdown",
   "metadata": {
    "id": "RaAjAiEPyZl-"
   },
   "source": [
    "## LDA"
   ]
  },
  {
   "cell_type": "code",
   "execution_count": null,
   "metadata": {
    "id": "g8KWCJBjyRtF"
   },
   "outputs": [],
   "source": [
    "# Build LDA model\n",
    "lda_model = gensim.models.ldamodel.LdaModel(corpus=corpus,\n",
    "                                           id2word=id2word,\n",
    "                                           num_topics=10, \n",
    "                                           random_state=1500,\n",
    "                                           update_every=1,\n",
    "                                           chunksize=200,\n",
    "                                           passes=20,\n",
    "                                           alpha='auto',\n",
    "                                           per_word_topics=True)"
   ]
  },
  {
   "cell_type": "code",
   "execution_count": null,
   "metadata": {
    "colab": {
     "base_uri": "https://localhost:8080/"
    },
    "id": "QZ4M4t4JltdS",
    "outputId": "b35a9a4f-1884-4cc4-8adc-2388ffee7134"
   },
   "outputs": [
    {
     "name": "stdout",
     "output_type": "stream",
     "text": [
      "[(0,\n",
      "  '0.074*\"lovely\" + 0.060*\"vegetarian\" + 0.059*\"cozy\" + 0.043*\"comfortable\" + '\n",
      "  '0.028*\"cooked\" + 0.027*\"magical\" + 0.023*\"oc\" + 0.022*\"delightful\" + '\n",
      "  '0.020*\"safe\" + 0.020*\"professional\"'),\n",
      " (1,\n",
      "  '0.108*\"romantic\" + 0.093*\"perfect\" + 0.077*\"sweet\" + 0.059*\"dark\" + '\n",
      "  '0.048*\"beautiful\" + 0.044*\"red\" + 0.039*\"warm\" + 0.032*\"old\" + '\n",
      "  '0.031*\"black\" + 0.026*\"hot\"'),\n",
      " (2,\n",
      "  '0.554*\"amazing\" + 0.018*\"kind\" + 0.017*\"fun\" + 0.015*\"single\" + '\n",
      "  '0.015*\"knowledgeable\" + 0.011*\"poor\" + 0.009*\"spectacular\" + '\n",
      "  '0.009*\"ridiculous\" + 0.009*\"general\" + 0.009*\"refreshing\"'),\n",
      " (3,\n",
      "  '0.084*\"high\" + 0.041*\"low\" + 0.038*\"disappointed\" + 0.038*\"spanish\" + '\n",
      "  '0.037*\"heavy\" + 0.032*\"fabulous\" + 0.030*\"lucky\" + 0.023*\"young\" + '\n",
      "  '0.022*\"tight\" + 0.022*\"surprised\"'),\n",
      " (4,\n",
      "  '0.415*\"great\" + 0.090*\"delicious\" + 0.060*\"excellent\" + 0.054*\"friendly\" + '\n",
      "  '0.042*\"awesome\" + 0.033*\"wonderful\" + 0.030*\"busy\" + 0.026*\"attentive\" + '\n",
      "  '0.021*\"fantastic\" + 0.016*\"quick\"'),\n",
      " (5,\n",
      "  '0.124*\"cool\" + 0.073*\"strong\" + 0.057*\"authentic\" + 0.047*\"close\" + '\n",
      "  '0.044*\"slow\" + 0.042*\"decent\" + 0.040*\"dim\" + 0.036*\"interesting\" + '\n",
      "  '0.031*\"trendy\" + 0.031*\"reasonable\"'),\n",
      " (6,\n",
      "  '0.108*\"outdoor\" + 0.077*\"late\" + 0.070*\"fried\" + 0.052*\"loud\" + '\n",
      "  '0.038*\"unique\" + 0.034*\"casual\" + 0.033*\"indoor\" + 0.033*\"pleasant\" + '\n",
      "  '0.024*\"available\" + 0.024*\"korean\"'),\n",
      " (7,\n",
      "  '0.091*\"white\" + 0.085*\"right\" + 0.072*\"flavorful\" + 0.070*\"large\" + '\n",
      "  '0.064*\"huge\" + 0.053*\"yummy\" + 0.039*\"early\" + 0.029*\"dry\" + 0.029*\"easy\" + '\n",
      "  '0.027*\"free\"'),\n",
      " (8,\n",
      "  '0.158*\"worth\" + 0.099*\"bad\" + 0.082*\"long\" + 0.080*\"happy\" + 0.067*\"cute\" + '\n",
      "  '0.047*\"outside\" + 0.034*\"real\" + 0.030*\"incredible\" + 0.026*\"popular\" + '\n",
      "  '0.022*\"difficult\"'),\n",
      " (9,\n",
      "  '0.327*\"good\" + 0.093*\"nice\" + 0.083*\"little\" + 0.045*\"favorite\" + '\n",
      "  '0.035*\"tasty\" + 0.033*\"sure\" + 0.032*\"small\" + 0.027*\"fresh\" + '\n",
      "  '0.027*\"different\" + 0.026*\"big\"')]\n"
     ]
    }
   ],
   "source": [
    "# Print the Keyword in the 10 topics\n",
    "pprint(lda_model.print_topics())\n",
    "doc_lda = lda_model[corpus]"
   ]
  },
  {
   "cell_type": "code",
   "execution_count": null,
   "metadata": {
    "colab": {
     "base_uri": "https://localhost:8080/"
    },
    "id": "gJl_M5W5ly9v",
    "outputId": "dfe6a655-1914-4be9-fe14-1cf51301fe3f"
   },
   "outputs": [
    {
     "name": "stdout",
     "output_type": "stream",
     "text": [
      "\n",
      "Perplexity:  -15.222320544030678\n",
      "\n",
      "Coherence Score:  0.5101958042294685\n"
     ]
    }
   ],
   "source": [
    "# Compute Perplexity\n",
    "print('\\nPerplexity: ', lda_model.log_perplexity(corpus))  # a measure of how good the model is. lower the better.\n",
    "\n",
    "# Compute Coherence Score\n",
    "coherence_model_lda = CoherenceModel(model=lda_model, texts=data_lemmatized, dictionary=id2word, coherence='c_v')\n",
    "coherence_lda = coherence_model_lda.get_coherence()\n",
    "print('\\nCoherence Score: ', coherence_lda)"
   ]
  },
  {
   "cell_type": "code",
   "execution_count": null,
   "metadata": {
    "colab": {
     "base_uri": "https://localhost:8080/",
     "height": 1000
    },
    "id": "cM8YMKj5l2Iv",
    "outputId": "ee0b53cc-690f-49e8-f98b-e6a83255a669"
   },
   "outputs": [
    {
     "name": "stderr",
     "output_type": "stream",
     "text": [
      "/usr/local/lib/python3.7/dist-packages/pyLDAvis/_prepare.py:247: FutureWarning: In a future version of pandas all arguments of DataFrame.drop except for the argument 'labels' will be keyword-only\n",
      "  by='saliency', ascending=False).head(R).drop('saliency', 1)\n"
     ]
    },
    {
     "ename": "TypeError",
     "evalue": "ignored",
     "output_type": "error",
     "traceback": [
      "\u001b[0;31m---------------------------------------------------------------------------\u001b[0m",
      "\u001b[0;31mTypeError\u001b[0m                                 Traceback (most recent call last)",
      "\u001b[0;32m/usr/local/lib/python3.7/dist-packages/IPython/core/formatters.py\u001b[0m in \u001b[0;36m__call__\u001b[0;34m(self, obj)\u001b[0m\n\u001b[1;32m    332\u001b[0m                 \u001b[0;32mpass\u001b[0m\u001b[0;34m\u001b[0m\u001b[0;34m\u001b[0m\u001b[0m\n\u001b[1;32m    333\u001b[0m             \u001b[0;32melse\u001b[0m\u001b[0;34m:\u001b[0m\u001b[0;34m\u001b[0m\u001b[0;34m\u001b[0m\u001b[0m\n\u001b[0;32m--> 334\u001b[0;31m                 \u001b[0;32mreturn\u001b[0m \u001b[0mprinter\u001b[0m\u001b[0;34m(\u001b[0m\u001b[0mobj\u001b[0m\u001b[0;34m)\u001b[0m\u001b[0;34m\u001b[0m\u001b[0;34m\u001b[0m\u001b[0m\n\u001b[0m\u001b[1;32m    335\u001b[0m             \u001b[0;31m# Finally look for special method names\u001b[0m\u001b[0;34m\u001b[0m\u001b[0;34m\u001b[0m\u001b[0;34m\u001b[0m\u001b[0m\n\u001b[1;32m    336\u001b[0m             \u001b[0mmethod\u001b[0m \u001b[0;34m=\u001b[0m \u001b[0mget_real_method\u001b[0m\u001b[0;34m(\u001b[0m\u001b[0mobj\u001b[0m\u001b[0;34m,\u001b[0m \u001b[0mself\u001b[0m\u001b[0;34m.\u001b[0m\u001b[0mprint_method\u001b[0m\u001b[0;34m)\u001b[0m\u001b[0;34m\u001b[0m\u001b[0;34m\u001b[0m\u001b[0m\n",
      "\u001b[0;32m/usr/local/lib/python3.7/dist-packages/pyLDAvis/_display.py\u001b[0m in \u001b[0;36m<lambda>\u001b[0;34m(data, kwds)\u001b[0m\n\u001b[1;32m    306\u001b[0m     \u001b[0mformatter\u001b[0m \u001b[0;34m=\u001b[0m \u001b[0mip\u001b[0m\u001b[0;34m.\u001b[0m\u001b[0mdisplay_formatter\u001b[0m\u001b[0;34m.\u001b[0m\u001b[0mformatters\u001b[0m\u001b[0;34m[\u001b[0m\u001b[0;34m'text/html'\u001b[0m\u001b[0;34m]\u001b[0m\u001b[0;34m\u001b[0m\u001b[0;34m\u001b[0m\u001b[0m\n\u001b[1;32m    307\u001b[0m     formatter.for_type(PreparedData,\n\u001b[0;32m--> 308\u001b[0;31m                        lambda data, kwds=kwargs: prepared_data_to_html(data, **kwds))\n\u001b[0m\u001b[1;32m    309\u001b[0m \u001b[0;34m\u001b[0m\u001b[0m\n\u001b[1;32m    310\u001b[0m \u001b[0;34m\u001b[0m\u001b[0m\n",
      "\u001b[0;32m/usr/local/lib/python3.7/dist-packages/pyLDAvis/_display.py\u001b[0m in \u001b[0;36mprepared_data_to_html\u001b[0;34m(data, d3_url, ldavis_url, ldavis_css_url, template_type, visid, use_http)\u001b[0m\n\u001b[1;32m    175\u001b[0m                            \u001b[0md3_url\u001b[0m\u001b[0;34m=\u001b[0m\u001b[0md3_url\u001b[0m\u001b[0;34m,\u001b[0m\u001b[0;34m\u001b[0m\u001b[0;34m\u001b[0m\u001b[0m\n\u001b[1;32m    176\u001b[0m                            \u001b[0mldavis_url\u001b[0m\u001b[0;34m=\u001b[0m\u001b[0mldavis_url\u001b[0m\u001b[0;34m,\u001b[0m\u001b[0;34m\u001b[0m\u001b[0;34m\u001b[0m\u001b[0m\n\u001b[0;32m--> 177\u001b[0;31m                            \u001b[0mvis_json\u001b[0m\u001b[0;34m=\u001b[0m\u001b[0mdata\u001b[0m\u001b[0;34m.\u001b[0m\u001b[0mto_json\u001b[0m\u001b[0;34m(\u001b[0m\u001b[0;34m)\u001b[0m\u001b[0;34m,\u001b[0m\u001b[0;34m\u001b[0m\u001b[0;34m\u001b[0m\u001b[0m\n\u001b[0m\u001b[1;32m    178\u001b[0m                            ldavis_css_url=ldavis_css_url)\n\u001b[1;32m    179\u001b[0m \u001b[0;34m\u001b[0m\u001b[0m\n",
      "\u001b[0;32m/usr/local/lib/python3.7/dist-packages/pyLDAvis/_prepare.py\u001b[0m in \u001b[0;36mto_json\u001b[0;34m(self)\u001b[0m\n\u001b[1;32m    469\u001b[0m \u001b[0;34m\u001b[0m\u001b[0m\n\u001b[1;32m    470\u001b[0m     \u001b[0;32mdef\u001b[0m \u001b[0mto_json\u001b[0m\u001b[0;34m(\u001b[0m\u001b[0mself\u001b[0m\u001b[0;34m)\u001b[0m\u001b[0;34m:\u001b[0m\u001b[0;34m\u001b[0m\u001b[0;34m\u001b[0m\u001b[0m\n\u001b[0;32m--> 471\u001b[0;31m         \u001b[0;32mreturn\u001b[0m \u001b[0mjson\u001b[0m\u001b[0;34m.\u001b[0m\u001b[0mdumps\u001b[0m\u001b[0;34m(\u001b[0m\u001b[0mself\u001b[0m\u001b[0;34m.\u001b[0m\u001b[0mto_dict\u001b[0m\u001b[0;34m(\u001b[0m\u001b[0;34m)\u001b[0m\u001b[0;34m,\u001b[0m \u001b[0mcls\u001b[0m\u001b[0;34m=\u001b[0m\u001b[0mNumPyEncoder\u001b[0m\u001b[0;34m)\u001b[0m\u001b[0;34m\u001b[0m\u001b[0;34m\u001b[0m\u001b[0m\n\u001b[0m",
      "\u001b[0;32m/usr/lib/python3.7/json/__init__.py\u001b[0m in \u001b[0;36mdumps\u001b[0;34m(obj, skipkeys, ensure_ascii, check_circular, allow_nan, cls, indent, separators, default, sort_keys, **kw)\u001b[0m\n\u001b[1;32m    236\u001b[0m         \u001b[0mcheck_circular\u001b[0m\u001b[0;34m=\u001b[0m\u001b[0mcheck_circular\u001b[0m\u001b[0;34m,\u001b[0m \u001b[0mallow_nan\u001b[0m\u001b[0;34m=\u001b[0m\u001b[0mallow_nan\u001b[0m\u001b[0;34m,\u001b[0m \u001b[0mindent\u001b[0m\u001b[0;34m=\u001b[0m\u001b[0mindent\u001b[0m\u001b[0;34m,\u001b[0m\u001b[0;34m\u001b[0m\u001b[0;34m\u001b[0m\u001b[0m\n\u001b[1;32m    237\u001b[0m         \u001b[0mseparators\u001b[0m\u001b[0;34m=\u001b[0m\u001b[0mseparators\u001b[0m\u001b[0;34m,\u001b[0m \u001b[0mdefault\u001b[0m\u001b[0;34m=\u001b[0m\u001b[0mdefault\u001b[0m\u001b[0;34m,\u001b[0m \u001b[0msort_keys\u001b[0m\u001b[0;34m=\u001b[0m\u001b[0msort_keys\u001b[0m\u001b[0;34m,\u001b[0m\u001b[0;34m\u001b[0m\u001b[0;34m\u001b[0m\u001b[0m\n\u001b[0;32m--> 238\u001b[0;31m         **kw).encode(obj)\n\u001b[0m\u001b[1;32m    239\u001b[0m \u001b[0;34m\u001b[0m\u001b[0m\n\u001b[1;32m    240\u001b[0m \u001b[0;34m\u001b[0m\u001b[0m\n",
      "\u001b[0;32m/usr/lib/python3.7/json/encoder.py\u001b[0m in \u001b[0;36mencode\u001b[0;34m(self, o)\u001b[0m\n\u001b[1;32m    197\u001b[0m         \u001b[0;31m# exceptions aren't as detailed.  The list call should be roughly\u001b[0m\u001b[0;34m\u001b[0m\u001b[0;34m\u001b[0m\u001b[0;34m\u001b[0m\u001b[0m\n\u001b[1;32m    198\u001b[0m         \u001b[0;31m# equivalent to the PySequence_Fast that ''.join() would do.\u001b[0m\u001b[0;34m\u001b[0m\u001b[0;34m\u001b[0m\u001b[0;34m\u001b[0m\u001b[0m\n\u001b[0;32m--> 199\u001b[0;31m         \u001b[0mchunks\u001b[0m \u001b[0;34m=\u001b[0m \u001b[0mself\u001b[0m\u001b[0;34m.\u001b[0m\u001b[0miterencode\u001b[0m\u001b[0;34m(\u001b[0m\u001b[0mo\u001b[0m\u001b[0;34m,\u001b[0m \u001b[0m_one_shot\u001b[0m\u001b[0;34m=\u001b[0m\u001b[0;32mTrue\u001b[0m\u001b[0;34m)\u001b[0m\u001b[0;34m\u001b[0m\u001b[0;34m\u001b[0m\u001b[0m\n\u001b[0m\u001b[1;32m    200\u001b[0m         \u001b[0;32mif\u001b[0m \u001b[0;32mnot\u001b[0m \u001b[0misinstance\u001b[0m\u001b[0;34m(\u001b[0m\u001b[0mchunks\u001b[0m\u001b[0;34m,\u001b[0m \u001b[0;34m(\u001b[0m\u001b[0mlist\u001b[0m\u001b[0;34m,\u001b[0m \u001b[0mtuple\u001b[0m\u001b[0;34m)\u001b[0m\u001b[0;34m)\u001b[0m\u001b[0;34m:\u001b[0m\u001b[0;34m\u001b[0m\u001b[0;34m\u001b[0m\u001b[0m\n\u001b[1;32m    201\u001b[0m             \u001b[0mchunks\u001b[0m \u001b[0;34m=\u001b[0m \u001b[0mlist\u001b[0m\u001b[0;34m(\u001b[0m\u001b[0mchunks\u001b[0m\u001b[0;34m)\u001b[0m\u001b[0;34m\u001b[0m\u001b[0;34m\u001b[0m\u001b[0m\n",
      "\u001b[0;32m/usr/lib/python3.7/json/encoder.py\u001b[0m in \u001b[0;36miterencode\u001b[0;34m(self, o, _one_shot)\u001b[0m\n\u001b[1;32m    255\u001b[0m                 \u001b[0mself\u001b[0m\u001b[0;34m.\u001b[0m\u001b[0mkey_separator\u001b[0m\u001b[0;34m,\u001b[0m \u001b[0mself\u001b[0m\u001b[0;34m.\u001b[0m\u001b[0mitem_separator\u001b[0m\u001b[0;34m,\u001b[0m \u001b[0mself\u001b[0m\u001b[0;34m.\u001b[0m\u001b[0msort_keys\u001b[0m\u001b[0;34m,\u001b[0m\u001b[0;34m\u001b[0m\u001b[0;34m\u001b[0m\u001b[0m\n\u001b[1;32m    256\u001b[0m                 self.skipkeys, _one_shot)\n\u001b[0;32m--> 257\u001b[0;31m         \u001b[0;32mreturn\u001b[0m \u001b[0m_iterencode\u001b[0m\u001b[0;34m(\u001b[0m\u001b[0mo\u001b[0m\u001b[0;34m,\u001b[0m \u001b[0;36m0\u001b[0m\u001b[0;34m)\u001b[0m\u001b[0;34m\u001b[0m\u001b[0;34m\u001b[0m\u001b[0m\n\u001b[0m\u001b[1;32m    258\u001b[0m \u001b[0;34m\u001b[0m\u001b[0m\n\u001b[1;32m    259\u001b[0m def _make_iterencode(markers, _default, _encoder, _indent, _floatstr,\n",
      "\u001b[0;32m/usr/local/lib/python3.7/dist-packages/pyLDAvis/utils.py\u001b[0m in \u001b[0;36mdefault\u001b[0;34m(self, obj)\u001b[0m\n\u001b[1;32m    148\u001b[0m         \u001b[0;32mif\u001b[0m \u001b[0misinstance\u001b[0m\u001b[0;34m(\u001b[0m\u001b[0mobj\u001b[0m\u001b[0;34m,\u001b[0m \u001b[0mnp\u001b[0m\u001b[0;34m.\u001b[0m\u001b[0mfloat64\u001b[0m\u001b[0;34m)\u001b[0m \u001b[0;32mor\u001b[0m \u001b[0misinstance\u001b[0m\u001b[0;34m(\u001b[0m\u001b[0mobj\u001b[0m\u001b[0;34m,\u001b[0m \u001b[0mnp\u001b[0m\u001b[0;34m.\u001b[0m\u001b[0mfloat32\u001b[0m\u001b[0;34m)\u001b[0m\u001b[0;34m:\u001b[0m\u001b[0;34m\u001b[0m\u001b[0;34m\u001b[0m\u001b[0m\n\u001b[1;32m    149\u001b[0m             \u001b[0;32mreturn\u001b[0m \u001b[0mfloat\u001b[0m\u001b[0;34m(\u001b[0m\u001b[0mobj\u001b[0m\u001b[0;34m)\u001b[0m\u001b[0;34m\u001b[0m\u001b[0;34m\u001b[0m\u001b[0m\n\u001b[0;32m--> 150\u001b[0;31m         \u001b[0;32mreturn\u001b[0m \u001b[0mjson\u001b[0m\u001b[0;34m.\u001b[0m\u001b[0mJSONEncoder\u001b[0m\u001b[0;34m.\u001b[0m\u001b[0mdefault\u001b[0m\u001b[0;34m(\u001b[0m\u001b[0mself\u001b[0m\u001b[0;34m,\u001b[0m \u001b[0mobj\u001b[0m\u001b[0;34m)\u001b[0m\u001b[0;34m\u001b[0m\u001b[0;34m\u001b[0m\u001b[0m\n\u001b[0m",
      "\u001b[0;32m/usr/lib/python3.7/json/encoder.py\u001b[0m in \u001b[0;36mdefault\u001b[0;34m(self, o)\u001b[0m\n\u001b[1;32m    177\u001b[0m \u001b[0;34m\u001b[0m\u001b[0m\n\u001b[1;32m    178\u001b[0m         \"\"\"\n\u001b[0;32m--> 179\u001b[0;31m         raise TypeError(f'Object of type {o.__class__.__name__} '\n\u001b[0m\u001b[1;32m    180\u001b[0m                         f'is not JSON serializable')\n\u001b[1;32m    181\u001b[0m \u001b[0;34m\u001b[0m\u001b[0m\n",
      "\u001b[0;31mTypeError\u001b[0m: Object of type complex is not JSON serializable"
     ]
    },
    {
     "data": {
      "text/plain": [
       "PreparedData(topic_coordinates=                        x                   y  topics  cluster      Freq\n",
       "topic                                                                   \n",
       "37     0.191640+0.000000j -0.079653+0.000000j       1        1  4.121057\n",
       "48     0.290049+0.000000j  0.099934+0.000000j       2        1  3.669873\n",
       "65     0.162355+0.000000j -0.012266+0.000000j       3        1  3.324062\n",
       "41     0.244767+0.000000j -0.292986+0.000000j       4        1  2.585822\n",
       "68     0.212099+0.000000j  0.085182+0.000000j       5        1  2.388836\n",
       "...                   ...                 ...     ...      ...       ...\n",
       "51    -0.163392+0.000000j  0.001400+0.000000j      96        1  0.035566\n",
       "60    -0.163392+0.000000j  0.001400+0.000000j      97        1  0.035566\n",
       "64    -0.163392+0.000000j  0.001400+0.000000j      98        1  0.035566\n",
       "75    -0.163392+0.000000j  0.001400+0.000000j      99        1  0.035566\n",
       "99    -0.163392+0.000000j  0.001400+0.000000j     100        1  0.035566\n",
       "\n",
       "[100 rows x 5 columns], topic_info=         Term        Freq       Total  Category  logprob  loglift\n",
       "93        bad  246.000000  246.000000   Default  30.0000  30.0000\n",
       "67       wait  166.000000  166.000000   Default  29.0000  29.0000\n",
       "96   horrible   91.000000   91.000000   Default  28.0000  28.0000\n",
       "53       come  207.000000  207.000000   Default  27.0000  27.0000\n",
       "398     bring   60.000000   60.000000   Default  26.0000  26.0000\n",
       "..        ...         ...         ...       ...      ...      ...\n",
       "25      noisy    0.001996    1.555568  Topic100  -7.1577   1.2831\n",
       "26       open    0.001996   20.322966  Topic100  -7.1577  -1.2868\n",
       "27    quickly    0.001996    5.138910  Topic100  -7.1577   0.0881\n",
       "28     retail    0.001996    2.368974  Topic100  -7.1577   0.8625\n",
       "29      right    0.001996   30.046986  Topic100  -7.1577  -1.6778\n",
       "\n",
       "[4815 rows x 6 columns], token_table=      Topic      Freq        Term\n",
       "term                             \n",
       "475       5  0.763581        able\n",
       "158       3  0.218364  absolutely\n",
       "158       9  0.043673  absolutely\n",
       "158      10  0.131018  absolutely\n",
       "158      14  0.349382  absolutely\n",
       "...     ...       ...         ...\n",
       "141      72  0.036957       wrong\n",
       "549       1  0.648354         wth\n",
       "855      43  0.816912        yelp\n",
       "409      18  0.216036       young\n",
       "409      45  0.648108       young\n",
       "\n",
       "[2114 rows x 3 columns], R=30, lambda_step=0.01, plot_opts={'xlab': 'PC1', 'ylab': 'PC2'}, topic_order=[38, 49, 66, 42, 69, 75, 62, 41, 43, 72, 37, 58, 1, 15, 31, 78, 55, 82, 86, 83, 33, 14, 80, 19, 64, 7, 4, 40, 46, 26, 92, 88, 10, 35, 70, 68, 67, 71, 63, 97, 91, 27, 53, 48, 21, 29, 25, 16, 74, 30, 73, 89, 96, 95, 57, 36, 54, 3, 20, 94, 50, 44, 18, 90, 5, 99, 56, 6, 60, 47, 59, 12, 77, 8, 84, 9, 22, 93, 32, 87, 79, 2, 51, 23, 81, 28, 11, 98, 13, 17, 24, 34, 85, 39, 45, 52, 61, 65, 76, 100])"
      ]
     },
     "execution_count": 290,
     "metadata": {},
     "output_type": "execute_result"
    }
   ],
   "source": [
    "# Visualize the topics\n",
    "pyLDAvis.enable_notebook()\n",
    "vis = plt_gensim.prepare(lda_model, corpus, id2word)\n",
    "vis"
   ]
  },
  {
   "cell_type": "markdown",
   "metadata": {
    "id": "EHH9Xuuywt7-"
   },
   "source": [
    "## Bad topic modeling"
   ]
  },
  {
   "cell_type": "code",
   "execution_count": null,
   "metadata": {
    "colab": {
     "base_uri": "https://localhost:8080/"
    },
    "id": "VE6NGbzGwx9p",
    "outputId": "c1a40d06-c3e9-4f8e-e517-dfe40b45fa64"
   },
   "outputs": [
    {
     "name": "stdout",
     "output_type": "stream",
     "text": [
      "['We love DTF!!! Not this location: is there anything good we can say about this location?? NO!!! From the moment we walked up to put our party of two name in at 3:20 p.m. on a Monday afternoon, it was awful!!! The two receptionists talked in whispers behind their masks and when we asked them to repeat what they were saying, the spoke at 100 mph. shouting! We are not deaf nor stupid and we should have walked away right then. We did not.Our order was simple: a veggie, two bun orders, appetizer, and noodles plus hot tea. The meal took a total of 70 minutes to be served as it dripped and drabbled out of the kitchen; the food was cold, tough, unappetizing. The wait staff was snotty, arrogant, and standing around on a noisy floor with open tables everywhere. Our server kept apologizing saying, the kitchen has some problems today; I am trying to rush each segment out. Would you like more tea? Our bill was just a few dollars short of $100 for a Monday afternoon of Linner and both of us had upset stomachs all night long. We travel a lot and eat at a lot places all over the world: stomach aches of this type mean undercooked, spoiled food. Never, ever eat at this awful place...they will be out of business in 6 months if they don t figure out all of the problems they have going on right now.I was in retail for 10 years with 118 stores. From experience, I can say with authority that Din Tai Fung corporate needs to step in right now....South Coast Plaza retail space is expensive and this restaurant is going down quickly.We are embarrassed and shocked that we stayed. We both hoped it would get better because of our others experiences at their other stores. It did not and we will not go back. I have complained to corporate; they were kind but their problems at this locations are far larger then these two very dissatisfied former customers.', 'HORRENDOUS CUSTOMER SERVICE. I drove an hour to get here. Was it worth it? I don t know because I didn t even get to eat there! They said it would take an hour for me to be seated. I waited TWO HOURS for my text, I would ve expected it an hour ago. I asked them and they completely ignored me and ROLLED THEIR EYES AT ME. They angrily told me that it would take another HOUR for me to be seated. I waited THREE HOURS FOR A SEAT. When I went back because it s been an HOUR AND A HALF, they said that it would TAKE ANOTHER HOUR. This is ridiculous. I wasted THREE HOURS AND THIRTY MINUTES waiting for a seat, and got sassed by their workers. Don t come here unless you want to spend hours of your life on nothing.', 'Food was so good but we got super sick. Last night after we ate here and I think it was from the dumplings . Sucks this was my favorite restaurant and we drove here from South OC ! Last two tomes here were horrific waited for hours and hours with my senior mom for a table when was originally told the wait was maybe just 30 mins to an hour . Literally every time we come here it s drama !! Last time trying this place . Sadly nee won t ever return . I was in severe stomach pain and so was my bf all last night !', 'Terrible service. Why eat here? So you can be treated like shit? I guess that s part of the experience . Fuck this place.', 'Bug found in bok choy. The manager was very unhappy to give me discount on this. Only tried to provide desert. I could have refused to pay the bill. She was having negative attitude when she turned her face back.', 'Horrible Customer service we waited in line since 10:30 AM (40 minutes) and didn t realize they had changed the lines around (Reservations or no reservation). Frustrated by the rude lack of customer service. Once we got to the front , they said too bad ... go to end of the new no reservation line .', 'I was miserably disappointed in their service delivery yesterday. My order was placed shortly after 12pm yet I did not receive my pick up order until minutes before 3pm.The original promised time was 1pm but everything was running horribly behind schedule. Yes I am aware of the crazy waits that people usually go through to eat at the restaurant - but don t promise a fake time especially when you know you are running extremely behind on orders.I get that the staff is not responsible for this type of miscommunication from their website, but they need to let whoever is managing their online system to STOP TAKING ORDERS. More and more people stopped by with the same experience on how the online orders were still being processed.At around 1:30, they said roughly another 30-40 minutes so I figured that would be tolerable. Fast forward to 2:20, they claim that my order is being bagged up. Another 20 minutes go by and still no update. Only at 2:55 did I finally get notified that my order is ready for pick-up. It either took them half an hour to package everything or they lied about bagging things up to prevent any more ppl from cancelling. BOTH are awful. But the ultimate cherry on top was that at 5pm - I got an email from Ding Tai Fung to confirm my order.... makes me wonder just how outdated or low quality their technology systems are...There s something wrong if an email that I should have received by shortly after 12pm - arrived 5 HRS LATER.Skip DtF and just go order from somewhere else.', 'An employee name Joshua that worked today in the front outside taking names to dine in is a horrible worker and very rude. If you do not like your job please don t work at all. I think it s unprofessional for him to have an attitude especially with people who are willing to wait for 2 to 3 hours just to eat at this place.', 'Ridiculous time frame to get eat there 2-3 hours of wait for even one person Very speaking quickly like you another one Really disappointed', 'I don t know if it s just covid but tonight dinner arrived an hour late. Although we ordered fromDoor dash, the blame was not the drivers who showed up on time and was told numerous times just wait it s coming just wait. When we got our food, most of it was cold (esp the XLB which should be eaten at least warm) and some were still hot. This is sad to say but I m not spending $100 there until covid is over. When I ordered I forgot to ask for extra ginger and chili sauce so I called and still we only got 3 packs. What we did get you can see in the photo. Very disappointing.']\n"
     ]
    }
   ],
   "source": [
    "# Convert to list\n",
    "data = bad_reviews.content.values.tolist()\n",
    "\n",
    "# Remove punctuation\n",
    "#data = [re.sub('[,\\.!?:;]', ' ', review) for review in data]\n",
    "\n",
    "\n",
    "data = [re.sub('\\\"', ' ', review) for review in data]\n",
    "\n",
    "\n",
    "# Remove new line characters\n",
    "data = [re.sub('\\s+', ' ', sent) for sent in data]\n",
    "\n",
    "# Remove distracting single quotes\n",
    "data = [re.sub(\"\\'\", \" \", sent) for sent in data]\n",
    "\n",
    "\n",
    "print(data[:10])"
   ]
  },
  {
   "cell_type": "code",
   "execution_count": null,
   "metadata": {
    "colab": {
     "base_uri": "https://localhost:8080/"
    },
    "id": "DfVP0rN2wx9p",
    "outputId": "f8ac19b5-c71a-42ee-9c11-cf866a10b5d9"
   },
   "outputs": [
    {
     "name": "stdout",
     "output_type": "stream",
     "text": [
      "[['we', 'love', 'dtf', 'not', 'this', 'location', 'is', 'there', 'anything', 'good', 'we', 'can', 'say', 'about', 'this', 'location', 'no', 'from', 'the', 'moment', 'we', 'walked', 'up', 'to', 'put', 'our', 'party', 'of', 'two', 'name', 'in', 'at', 'on', 'monday', 'afternoon', 'it', 'was', 'awful', 'the', 'two', 'receptionists', 'talked', 'in', 'whispers', 'behind', 'their', 'masks', 'and', 'when', 'we', 'asked', 'them', 'to', 'repeat', 'what', 'they', 'were', 'saying', 'the', 'spoke', 'at', 'mph', 'shouting', 'we', 'are', 'not', 'deaf', 'nor', 'stupid', 'and', 'we', 'should', 'have', 'walked', 'away', 'right', 'then', 'we', 'did', 'not', 'our', 'order', 'was', 'simple', 'veggie', 'two', 'bun', 'orders', 'appetizer', 'and', 'noodles', 'plus', 'hot', 'tea', 'the', 'meal', 'took', 'total', 'of', 'minutes', 'to', 'be', 'served', 'as', 'it', 'dripped', 'and', 'drabbled', 'out', 'of', 'the', 'kitchen', 'the', 'food', 'was', 'cold', 'tough', 'unappetizing', 'the', 'wait', 'staff', 'was', 'snotty', 'arrogant', 'and', 'standing', 'around', 'on', 'noisy', 'floor', 'with', 'open', 'tables', 'everywhere', 'our', 'server', 'kept', 'apologizing', 'saying', 'the', 'kitchen', 'has', 'some', 'problems', 'today', 'am', 'trying', 'to', 'rush', 'each', 'segment', 'out', 'would', 'you', 'like', 'more', 'tea', 'our', 'bill', 'was', 'just', 'few', 'dollars', 'short', 'of', 'for', 'monday', 'afternoon', 'of', 'linner', 'and', 'both', 'of', 'us', 'had', 'upset', 'stomachs', 'all', 'night', 'long', 'we', 'travel', 'lot', 'and', 'eat', 'at', 'lot', 'places', 'all', 'over', 'the', 'world', 'stomach', 'aches', 'of', 'this', 'type', 'mean', 'undercooked', 'spoiled', 'food', 'never', 'ever', 'eat', 'at', 'this', 'awful', 'place', 'they', 'will', 'be', 'out', 'of', 'business', 'in', 'months', 'if', 'they', 'don', 'figure', 'out', 'all', 'of', 'the', 'problems', 'they', 'have', 'going', 'on', 'right', 'now', 'was', 'in', 'retail', 'for', 'years', 'with', 'stores', 'from', 'experience', 'can', 'say', 'with', 'authority', 'that', 'din', 'tai', 'fung', 'corporate', 'needs', 'to', 'step', 'in', 'right', 'now', 'south', 'coast', 'plaza', 'retail', 'space', 'is', 'expensive', 'and', 'this', 'restaurant', 'is', 'going', 'down', 'quickly', 'we', 'are', 'embarrassed', 'and', 'shocked', 'that', 'we', 'stayed', 'we', 'both', 'hoped', 'it', 'would', 'get', 'better', 'because', 'of', 'our', 'others', 'experiences', 'at', 'their', 'other', 'stores', 'it', 'did', 'not', 'and', 'we', 'will', 'not', 'go', 'back', 'have', 'complained', 'to', 'corporate', 'they', 'were', 'kind', 'but', 'their', 'problems', 'at', 'this', 'locations', 'are', 'far', 'larger', 'then', 'these', 'two', 'very', 'dissatisfied', 'former', 'customers']]\n"
     ]
    }
   ],
   "source": [
    "def sent_to_words(sentences):\n",
    "    for sentence in sentences:\n",
    "        yield(gensim.utils.simple_preprocess(str(sentence), deacc=True))  # deacc=True removes punctuations\n",
    "\n",
    "data_words = list(sent_to_words(data))\n",
    "\n",
    "print(data_words[:1])"
   ]
  },
  {
   "cell_type": "code",
   "execution_count": null,
   "metadata": {
    "colab": {
     "base_uri": "https://localhost:8080/"
    },
    "id": "X1VeZ2uHwx9p",
    "outputId": "bcc01cf4-5ee1-4118-d4b0-285382efea38"
   },
   "outputs": [
    {
     "name": "stderr",
     "output_type": "stream",
     "text": [
      "/usr/local/lib/python3.7/dist-packages/gensim/models/phrases.py:598: UserWarning: For a faster implementation, use the gensim.models.phrases.Phraser class\n",
      "  warnings.warn(\"For a faster implementation, use the gensim.models.phrases.Phraser class\")\n"
     ]
    },
    {
     "name": "stdout",
     "output_type": "stream",
     "text": [
      "['horrendous', 'customer', 'service', 'drove', 'an_hour', 'to', 'get', 'here', 'was', 'it', 'worth', 'it', 'don', 'know', 'because', 'didn', 'even', 'get', 'to', 'eat', 'there', 'they', 'said', 'it', 'would', 'take', 'an_hour', 'for', 'me', 'to', 'be', 'seated', 'waited', 'two', 'hours', 'for', 'my', 'text', 'would', 've', 'expected', 'it', 'an_hour', 'ago', 'asked', 'them', 'and', 'they', 'completely', 'ignored', 'me', 'and', 'rolled', 'their', 'eyes', 'at', 'me', 'they', 'angrily', 'told', 'me', 'that', 'it', 'would', 'take', 'another', 'hour', 'for', 'me', 'to', 'be', 'seated', 'waited', 'three', 'hours', 'for', 'seat', 'when', 'went', 'back', 'because', 'it', 'been', 'an_hour', 'and', 'half', 'they', 'said', 'that', 'it', 'would', 'take', 'another', 'hour', 'this', 'is', 'ridiculous', 'wasted', 'three', 'hours', 'and', 'thirty', 'minutes', 'waiting', 'for', 'seat', 'and', 'got', 'sassed', 'by', 'their', 'workers', 'don', 'come', 'here', 'unless', 'you', 'want', 'to', 'spend', 'hours', 'of', 'your', 'life', 'on', 'nothing']\n"
     ]
    }
   ],
   "source": [
    "# Build the bigram and trigram models\n",
    "bigram = gensim.models.Phrases(data_words, min_count=5, threshold=100) # higher threshold fewer phrases.\n",
    "trigram = gensim.models.Phrases(bigram[data_words], threshold=100)  \n",
    "\n",
    "# Faster way to get a sentence clubbed as a trigram/bigram\n",
    "bigram_mod = gensim.models.phrases.Phraser(bigram)\n",
    "trigram_mod = gensim.models.phrases.Phraser(trigram)\n",
    "\n",
    "# See trigram example\n",
    "print(trigram_mod[bigram_mod[data_words[1]]])"
   ]
  },
  {
   "cell_type": "code",
   "execution_count": null,
   "metadata": {
    "id": "NbRPTi5qwx9p"
   },
   "outputs": [],
   "source": [
    "# Define functions for stopwords, bigrams, trigrams and lemmatization\n",
    "def remove_stopwords(texts):\n",
    "    return [[word for word in simple_preprocess(str(doc)) if word not in stop_words] for doc in texts]\n",
    "\n",
    "def make_bigrams(texts):\n",
    "    return [bigram_mod[doc] for doc in texts]\n",
    "\n",
    "def make_trigrams(texts):\n",
    "    return [trigram_mod[bigram_mod[doc]] for doc in texts]\n",
    "\n",
    "def lemmatization(texts, allowed_postags=['NOUN', 'ADJ', 'VERB', 'ADV']):\n",
    "    \"\"\"https://spacy.io/api/annotation\"\"\"\n",
    "    texts_out = []\n",
    "    for sent in texts:\n",
    "        doc = nlp(\" \".join(sent)) \n",
    "        texts_out.append([token.lemma_ for token in doc if token.pos_ in allowed_postags])\n",
    "    return texts_out"
   ]
  },
  {
   "cell_type": "code",
   "execution_count": null,
   "metadata": {
    "id": "c6-ZYO8Vwx9q"
   },
   "outputs": [],
   "source": [
    "from sklearn.feature_extraction._stop_words import ENGLISH_STOP_WORDS\n",
    "stop_words=set(stopwords.words('english') + list(ENGLISH_STOP_WORDS) + ['duper','cuban'])\n",
    "#stop_words = stopwords.words('english')"
   ]
  },
  {
   "cell_type": "code",
   "execution_count": null,
   "metadata": {
    "colab": {
     "base_uri": "https://localhost:8080/"
    },
    "id": "pJ3ZKPfdwx9q",
    "outputId": "386b3d1e-5a84-42d8-8507-b0212fcc1c6f"
   },
   "outputs": [
    {
     "name": "stdout",
     "output_type": "stream",
     "text": [
      "[['good', 'say', 'walk', 'awful', 'talk', 'ask', 'say', 'speak', 'shout', 'walk', 'away', 'right', 'simple', 'hot', 'take', 'total', 'serve', 'drip', 'drabble', 'cold', 'tough', 'snotty', 'arrogant', 'stand', 'noisy', 'open', 'keep', 'apologize', 'say', 'try', 'short', 'upset', 'stomachs', 'long', 'eat', 'mean', 'undercooked', 'spoiled', 'eat', 'awful', 'figure', 'go', 'right', 'retail', 'say', 'fung', 'corporate', 'right', 'retail', 'expensive', 'go', 'quickly', 'embarrassed', 'shocked', 'stay', 'hope', 'well', 'complain', 'corporate', 'far', 'large', 'dissatisfied']]\n"
     ]
    }
   ],
   "source": [
    "# Remove Stop Words\n",
    "data_words_nostops = remove_stopwords(data_words)\n",
    "\n",
    "# Form Bigrams\n",
    "data_words_bigrams = make_bigrams(data_words_nostops)\n",
    "\n",
    "# Initialize spacy 'en_core_web_sm' model, keeping only tagger component (for efficiency)\n",
    "# python3 -m spacy download en\n",
    "nlp = spacy.load('en_core_web_sm', disable=['parser', 'ner'])\n",
    "\n",
    "# Do lemmatization keeping only noun, adj, vb, adv\n",
    "data_lemmatized = lemmatization(data_words_bigrams, allowed_postags=[ 'NOUN','ADJ', 'VERB', 'ADV'])\n",
    "\n",
    "print(data_lemmatized[:1])"
   ]
  },
  {
   "cell_type": "code",
   "execution_count": null,
   "metadata": {
    "colab": {
     "base_uri": "https://localhost:8080/"
    },
    "id": "919JCMgIwx9q",
    "outputId": "0bd91332-5879-4395-c2c3-cefe51fa9616"
   },
   "outputs": [
    {
     "name": "stdout",
     "output_type": "stream",
     "text": [
      "[[(0, 1), (1, 1), (2, 1), (3, 1), (4, 2), (5, 1), (6, 1), (7, 2), (8, 1), (9, 1), (10, 1), (11, 2), (12, 1), (13, 1), (14, 1), (15, 1), (16, 1), (17, 2), (18, 1), (19, 1), (20, 1), (21, 1), (22, 1), (23, 1), (24, 1), (25, 1), (26, 1), (27, 1), (28, 2), (29, 3), (30, 4), (31, 1), (32, 1), (33, 1), (34, 1), (35, 1), (36, 1), (37, 1), (38, 1), (39, 1), (40, 1), (41, 1), (42, 1), (43, 1), (44, 1), (45, 1), (46, 1), (47, 1), (48, 1), (49, 2), (50, 1)]]\n"
     ]
    }
   ],
   "source": [
    "# Create Dictionary\n",
    "id2word = corpora.Dictionary(data_lemmatized)\n",
    "\n",
    "# Create Corpus\n",
    "texts = data_lemmatized\n",
    "\n",
    "# Term Document Frequency\n",
    "corpus = [id2word.doc2bow(text) for text in texts]\n",
    "\n",
    "# View\n",
    "print(corpus[:1])"
   ]
  },
  {
   "cell_type": "code",
   "execution_count": null,
   "metadata": {
    "id": "7dvHCMmawx9q"
   },
   "outputs": [],
   "source": [
    "# Build LDA model\n",
    "lda_model = gensim.models.ldamodel.LdaModel(corpus=corpus,\n",
    "                                           id2word=id2word,\n",
    "                                           num_topics=10, \n",
    "                                           random_state=1500,\n",
    "                                           update_every=1,\n",
    "                                           chunksize=200,\n",
    "                                           passes=20,\n",
    "                                           alpha='auto',\n",
    "                                           per_word_topics=True)"
   ]
  },
  {
   "cell_type": "code",
   "execution_count": null,
   "metadata": {
    "colab": {
     "base_uri": "https://localhost:8080/"
    },
    "id": "LpPpPkxkwx9q",
    "outputId": "3d5d921e-b456-4815-8aa1-2abcdd4b53ea"
   },
   "outputs": [
    {
     "name": "stdout",
     "output_type": "stream",
     "text": [
      "[(0,\n",
      "  '0.070*\"bad\" + 0.026*\"dirty\" + 0.025*\"take\" + 0.021*\"good\" + 0.020*\"long\" + '\n",
      "  '0.017*\"get\" + 0.016*\"think\" + 0.016*\"go\" + 0.014*\"say\" + 0.014*\"cuban\"'),\n",
      " (1,\n",
      "  '0.061*\"say\" + 0.048*\"wait\" + 0.038*\"tell\" + 0.035*\"come\" + 0.019*\"bad\" + '\n",
      "  '0.019*\"ask\" + 0.015*\"bring\" + 0.015*\"horrible\" + 0.014*\"terrible\" + '\n",
      "  '0.013*\"get\"'),\n",
      " (2,\n",
      "  '0.024*\"eat\" + 0.020*\"bad\" + 0.020*\"hard\" + 0.019*\"really\" + '\n",
      "  '0.018*\"disappointing\" + 0.015*\"large\" + 0.014*\"slow\" + 0.013*\"make\" + '\n",
      "  '0.012*\"stop\" + 0.012*\"hot\"'),\n",
      " (3,\n",
      "  '0.046*\"come\" + 0.045*\"wait\" + 0.042*\"go\" + 0.041*\"tell\" + 0.031*\"ask\" + '\n",
      "  '0.026*\"seat\" + 0.025*\"say\" + 0.024*\"bad\" + 0.020*\"bring\" + 0.018*\"know\"'),\n",
      " (4,\n",
      "  '0.042*\"bad\" + 0.025*\"eat\" + 0.024*\"take\" + 0.024*\"really\" + 0.021*\"get\" + '\n",
      "  '0.021*\"charge\" + 0.019*\"go\" + 0.017*\"good\" + 0.017*\"bring\" + 0.015*\"come\"'),\n",
      " (5,\n",
      "  '0.071*\"horrible\" + 0.044*\"try\" + 0.024*\"bad\" + 0.016*\"look\" + 0.014*\"good\" '\n",
      "  '+ 0.013*\"rush\" + 0.013*\"let\" + 0.013*\"make\" + 0.012*\"serve\" + '\n",
      "  '0.012*\"great\"'),\n",
      " (6,\n",
      "  '0.046*\"come\" + 0.036*\"bad\" + 0.030*\"ask\" + 0.023*\"order\" + 0.019*\"wait\" + '\n",
      "  '0.016*\"eat\" + 0.014*\"get\" + 0.013*\"give\" + 0.011*\"tell\" + 0.011*\"busy\"'),\n",
      " (7,\n",
      "  '0.032*\"leave\" + 0.029*\"cook\" + 0.025*\"especially\" + 0.024*\"fresh\" + '\n",
      "  '0.024*\"order\" + 0.023*\"bad\" + 0.021*\"go\" + 0.018*\"real\" + 0.017*\"poor\" + '\n",
      "  '0.014*\"deliver\"'),\n",
      " (8,\n",
      "  '0.029*\"bad\" + 0.026*\"terrible\" + 0.024*\"come\" + 0.021*\"eat\" + 0.021*\"get\" + '\n",
      "  '0.017*\"use\" + 0.017*\"make\" + 0.015*\"sick\" + 0.015*\"try\" + 0.015*\"know\"'),\n",
      " (9,\n",
      "  '0.020*\"eat\" + 0.018*\"wait\" + 0.017*\"come\" + 0.016*\"super\" + '\n",
      "  '0.016*\"appetite\" + 0.015*\"really\" + 0.014*\"short\" + 0.014*\"try\" + '\n",
      "  '0.013*\"maybe\" + 0.013*\"late\"')]\n"
     ]
    }
   ],
   "source": [
    "# Print the Keyword in the 10 topics\n",
    "pprint(lda_model.print_topics())\n",
    "doc_lda = lda_model[corpus]"
   ]
  },
  {
   "cell_type": "code",
   "execution_count": null,
   "metadata": {
    "colab": {
     "base_uri": "https://localhost:8080/"
    },
    "id": "-MRnchVuwx9q",
    "outputId": "a32e7fcb-be19-4e2e-bc6e-8a38be41f7bf"
   },
   "outputs": [
    {
     "name": "stdout",
     "output_type": "stream",
     "text": [
      "\n",
      "Perplexity:  -6.559639693195708\n",
      "\n",
      "Coherence Score:  0.3782368843363048\n"
     ]
    }
   ],
   "source": [
    "# Compute Perplexity\n",
    "print('\\nPerplexity: ', lda_model.log_perplexity(corpus))  # a measure of how good the model is. lower the better.\n",
    "\n",
    "# Compute Coherence Score\n",
    "coherence_model_lda = CoherenceModel(model=lda_model, texts=data_lemmatized, dictionary=id2word, coherence='c_v')\n",
    "coherence_lda = coherence_model_lda.get_coherence()\n",
    "print('\\nCoherence Score: ', coherence_lda)"
   ]
  },
  {
   "cell_type": "code",
   "execution_count": null,
   "metadata": {
    "colab": {
     "base_uri": "https://localhost:8080/",
     "height": 917
    },
    "id": "oNVATSkNwx9s",
    "outputId": "5cfcac32-b937-4ff0-8d88-ab67be9b745b"
   },
   "outputs": [
    {
     "name": "stderr",
     "output_type": "stream",
     "text": [
      "/usr/local/lib/python3.7/dist-packages/pyLDAvis/_prepare.py:247: FutureWarning: In a future version of pandas all arguments of DataFrame.drop except for the argument 'labels' will be keyword-only\n",
      "  by='saliency', ascending=False).head(R).drop('saliency', 1)\n"
     ]
    },
    {
     "data": {
      "text/html": [
       "\n",
       "<link rel=\"stylesheet\" type=\"text/css\" href=\"https://cdn.jsdelivr.net/gh/bmabey/pyLDAvis@3.3.1/pyLDAvis/js/ldavis.v1.0.0.css\">\n",
       "\n",
       "\n",
       "<div id=\"ldavis_el63140321440168912602030814\"></div>\n",
       "<script type=\"text/javascript\">\n",
       "\n",
       "var ldavis_el63140321440168912602030814_data = {\"mdsDat\": {\"x\": [0.1632568807004021, 0.031108521789605055, 0.04028258037348221, -0.07005273778684032, 0.1492318880823264, -0.003434803995686969, -0.000666396557106205, -0.1715694236697362, -0.025870798389855572, -0.11228571054659042], \"y\": [-0.03446083924897409, -0.07513412277783137, 0.04806262986775538, 0.22782556098540213, 0.024300670410853056, -0.009917436247514285, -0.08502610091854369, -0.11845934249496567, 0.005866569961153663, 0.016942410462665026], \"topics\": [1, 2, 3, 4, 5, 6, 7, 8, 9, 10], \"cluster\": [1, 1, 1, 1, 1, 1, 1, 1, 1, 1], \"Freq\": [26.564809454592808, 11.816461470314184, 11.063488864063485, 9.362327921135611, 9.281511712696739, 8.775240765211326, 8.760917807638943, 6.920484415135189, 4.634076877788136, 2.8206807114235772]}, \"tinfo\": {\"Term\": [\"wait\", \"horrible\", \"tell\", \"say\", \"try\", \"seat\", \"bad\", \"go\", \"order\", \"eat\", \"leave\", \"bring\", \"really\", \"dirty\", \"come\", \"take\", \"give\", \"terrible\", \"charge\", \"good\", \"hard\", \"cook\", \"long\", \"make\", \"especially\", \"use\", \"ask\", \"disgusting\", \"look\", \"sit\", \"seat\", \"korean\", \"realize\", \"be\", \"add\", \"straight\", \"unacceptable\", \"nearby\", \"interested\", \"obvious\", \"lastly\", \"point\", \"tall\", \"stare\", \"flag\", \"proceed\", \"garlic\", \"mention\", \"able\", \"will\", \"plate\", \"inconsiderate\", \"accommodate\", \"concerned\", \"kick\", \"tasty\", \"premium\", \"confuse\", \"additional\", \"move\", \"tell\", \"end\", \"go\", \"finally\", \"bring\", \"wait\", \"later\", \"disappointed\", \"wrong\", \"definitely\", \"ask\", \"need\", \"come\", \"expect\", \"mean\", \"know\", \"actually\", \"ridiculous\", \"say\", \"away\", \"order\", \"rude\", \"want\", \"sit\", \"give\", \"right\", \"arrive\", \"get\", \"bad\", \"let\", \"eat\", \"really\", \"good\", \"long\", \"help\", \"begin\", \"edible\", \"accomodate\", \"encounter\", \"inside\", \"steam\", \"raw\", \"smelly\", \"significantly\", \"slight\", \"polite\", \"advise\", \"season\", \"left\", \"acknowledge\", \"drastically\", \"unorganized\", \"excuse\", \"seated\", \"currently\", \"excess\", \"disrespectful\", \"embarrassing\", \"standard\", \"unhappy\", \"outdoor\", \"hold\", \"impatient\", \"disconnect\", \"barely\", \"water\", \"busy\", \"change\", \"hope\", \"tough\", \"far\", \"filthy\", \"come\", \"disgust\", \"stop\", \"order\", \"ask\", \"little\", \"bad\", \"feel\", \"call\", \"give\", \"eat\", \"receive\", \"instead\", \"wait\", \"get\", \"terrible\", \"hard\", \"tell\", \"long\", \"write\", \"taste\", \"go\", \"horrible\", \"return\", \"throw\", \"awhile\", \"black\", \"cheap\", \"compare\", \"fully\", \"stick\", \"update\", \"original\", \"force\", \"remove\", \"exactly\", \"pre\", \"tasteless\", \"fishy\", \"rule\", \"pull\", \"experienced\", \"miserable\", \"cover\", \"treat\", \"sick\", \"disable\", \"incredibly\", \"laugh\", \"post\", \"welcome\", \"bag\", \"promise\", \"available\", \"explain\", \"use\", \"typically\", \"disgusting\", \"old\", \"manage\", \"fast\", \"dry\", \"worst\", \"terrible\", \"waited\", \"big\", \"mediocre\", \"make\", \"look\", \"eat\", \"try\", \"get\", \"bad\", \"come\", \"know\", \"taste\", \"give\", \"extremely\", \"right\", \"pay\", \"rude\", \"say\", \"order\", \"happen\", \"sit\", \"horrible\", \"take\", \"rush\", \"limit\", \"smell\", \"friendly\", \"enter\", \"clean\", \"kind\", \"allow\", \"flat\", \"round\", \"dumb\", \"cooked\", \"slightly\", \"respond\", \"save\", \"switch\", \"highly\", \"traditional\", \"fourth\", \"professional\", \"like\", \"quick\", \"table\", \"typical\", \"push\", \"better\", \"set\", \"report\", \"discriminate\", \"service\", \"horrible\", \"try\", \"ago\", \"work\", \"miss\", \"unfortunately\", \"great\", \"hear\", \"multiple\", \"drink\", \"look\", \"let\", \"willing\", \"include\", \"understand\", \"serve\", \"make\", \"bad\", \"good\", \"absolutely\", \"nice\", \"leave\", \"rude\", \"sure\", \"say\", \"taste\", \"turn\", \"think\", \"call\", \"order\", \"cold\", \"send\", \"unbelievable\", \"review\", \"warm\", \"kinda\", \"fcke\", \"lazy\", \"resort\", \"inaccurate\", \"irritate\", \"horrendous\", \"snotty\", \"roll\", \"shocked\", \"arrogant\", \"embarrassed\", \"eaten\", \"anytime\", \"bitchy\", \"displeased\", \"oblivious\", \"corporate\", \"retail\", \"damn\", \"tino\", \"wonder\", \"classy\", \"hoop\", \"unable\", \"pretty\", \"prepare\", \"care\", \"say\", \"simple\", \"wait\", \"anymore\", \"tell\", \"estimate\", \"completely\", \"well\", \"come\", \"open\", \"extra\", \"drink\", \"call\", \"bring\", \"leave\", \"long\", \"ask\", \"terrible\", \"decide\", \"try\", \"horrible\", \"bad\", \"walk\", \"get\", \"instead\", \"serve\", \"spend\", \"ready\", \"give\", \"go\", \"good\", \"order\", \"want\", \"right\", \"dish\", \"dark\", \"act\", \"initially\", \"yelp\", \"brown\", \"stuck\", \"clearly\", \"price\", \"cool\", \"follow\", \"annoy\", \"disguise\", \"attend\", \"email\", \"host\", \"favor\", \"previous\", \"slick\", \"chip\", \"salty\", \"dirty\", \"refill\", \"quickly\", \"put\", \"booth\", \"step\", \"honestly\", \"honor\", \"agree\", \"overprice\", \"cuban\", \"well\", \"decide\", \"small\", \"bad\", \"see\", \"take\", \"think\", \"long\", \"worth\", \"good\", \"fry\", \"different\", \"serve\", \"get\", \"terrible\", \"go\", \"say\", \"really\", \"want\", \"wait\", \"horrible\", \"receive\", \"know\", \"poor\", \"middle\", \"way\", \"potential\", \"crave\", \"warn\", \"unsanitary\", \"overrate\", \"attract\", \"embarrassment\", \"noticeable\", \"dissapointe\", \"constantly\", \"appetize\", \"socal\", \"vomit\", \"fault\", \"japanese\", \"forever\", \"min\", \"special\", \"bite\", \"thoroughly\", \"entire\", \"celebrate\", \"read\", \"deny\", \"hungry\", \"charge\", \"apparently\", \"fat\", \"live\", \"literally\", \"probably\", \"loud\", \"spend\", \"nice\", \"normally\", \"low\", \"gross\", \"far\", \"excited\", \"grill\", \"notice\", \"take\", \"really\", \"worst\", \"taste\", \"bad\", \"eat\", \"bring\", \"good\", \"get\", \"serve\", \"go\", \"slow\", \"come\", \"need\", \"ask\", \"terrible\", \"know\", \"horrible\", \"guess\", \"squid\", \"awesome\", \"shitty\", \"obnoxious\", \"pass\", \"base\", \"solely\", \"decent\", \"terribly\", \"dietary\", \"watch\", \"dump\", \"certain\", \"spoken\", \"favorite\", \"disappointing\", \"fooled\", \"safe\", \"disorganized\", \"popular\", \"count\", \"proper\", \"buy\", \"plastic\", \"blabber\", \"frown\", \"noticed\", \"politely\", \"generally\", \"hard\", \"specifically\", \"large\", \"slow\", \"finish\", \"hot\", \"grill\", \"drive\", \"sorry\", \"single\", \"stop\", \"eat\", \"really\", \"place\", \"complain\", \"drop\", \"disappoint\", \"sit\", \"make\", \"bad\", \"turn\", \"small\", \"long\", \"start\", \"ask\", \"busy\", \"change\", \"want\", \"think\", \"appetite\", \"sticky\", \"absurd\", \"blatantly\", \"judge\", \"patiently\", \"super\", \"thinly\", \"slice\", \"severe\", \"spill\", \"crowd\", \"unfortunate\", \"beware\", \"learn\", \"lead\", \"funny\", \"various\", \"sadly\", \"ruthlessly\", \"sleep\", \"block\", \"accuse\", \"physically\", \"assume\", \"ayce\", \"correctly\", \"mehhh\", \"newly\", \"retrieved\", \"believe\", \"s\", \"unprofessional\", \"short\", \"upsetting\", \"ruin\", \"maybe\", \"late\", \"obviously\", \"forget\", \"eat\", \"practically\", \"really\", \"try\", \"awful\", \"wait\", \"come\", \"want\", \"sad\", \"give\", \"think\", \"away\", \"get\", \"horrible\", \"ask\", \"take\", \"drive\", \"deliver\", \"fresh\", \"menus\", \"earn\", \"hate\", \"bitter\", \"chef\", \"attempt\", \"apparent\", \"cook\", \"badly\", \"texturally\", \"unappealing\", \"sanitized\", \"utterly\", \"seldom\", \"ignorant\", \"mule\", \"clutter\", \"mandatory\", \"unrefilled\", \"sweet\", \"cry\", \"real\", \"especially\", \"greedy\", \"desire\", \"epic\", \"esp\", \"carry\", \"inedible\", \"sour\", \"filthy\", \"barely\", \"leave\", \"hot\", \"disgusting\", \"poor\", \"order\", \"go\", \"bad\", \"give\", \"awful\", \"overall\", \"use\", \"offer\", \"want\", \"eat\", \"change\", \"dirty\", \"come\"], \"Freq\": [149.0, 83.0, 118.0, 113.0, 55.0, 50.0, 216.0, 125.0, 75.0, 92.0, 47.0, 60.0, 61.0, 23.0, 193.0, 58.0, 58.0, 61.0, 21.0, 63.0, 15.0, 9.0, 46.0, 47.0, 10.0, 21.0, 121.0, 14.0, 34.0, 34.0, 49.658602670726154, 15.725932364150033, 9.596808830554378, 8.049252970676626, 5.6802022616022665, 5.0152839438854375, 5.01521129504189, 4.6131520927238805, 4.271920028884105, 3.869851912597562, 3.869851466899135, 3.8678043740254395, 3.5287647007464535, 3.528544971422105, 3.126676082332284, 3.1266446605932035, 3.1266246041640033, 3.1265301160975496, 3.126405320538082, 3.1263763501403483, 3.126247097596614, 2.72449431294694, 5.770990585416547, 2.3834175750088584, 2.383403981206845, 3.220306847862653, 2.3832667060914305, 2.3224201797316373, 2.322204015994702, 4.986713337640602, 79.17325523264783, 8.409156233006469, 80.51564184437967, 16.249380207162215, 37.811731685763974, 85.93106313896732, 15.240486551789454, 15.132369027447814, 16.42001139282861, 11.178424964198264, 59.9582404814715, 18.63846996319809, 87.72764140658792, 10.272197941408969, 7.94095270998005, 34.04728076559749, 8.250971621603263, 11.101960050721882, 46.923882698776126, 17.59547324701024, 33.0958073299295, 20.122923839827884, 27.18666449459487, 17.106251477578912, 24.715657150530728, 14.226952284398205, 12.410806964449936, 30.89767260781618, 46.58114773984162, 13.435975743570982, 24.08822429898899, 19.601424590337107, 18.378158905704545, 12.33095474293086, 8.657182794191682, 7.144040482692644, 5.297358905328624, 3.7838851132326905, 3.390892264664125, 3.0569289336096945, 2.997754690715336, 6.200342582377648, 2.664175179299416, 2.6641182804170542, 2.6640623728044197, 2.664027083602119, 2.663983071226215, 2.270957709010586, 5.477904808426799, 4.073861643142596, 1.937384145213031, 1.937384145213031, 1.9372844234784388, 1.9372749072890543, 1.937226335072404, 1.9372154311054008, 1.9371936231713947, 1.9369709839905855, 1.9368046489303015, 1.5441654854005282, 1.5441654854005282, 1.5441654854005282, 1.5441654854005282, 1.5441650888926373, 4.904182870114406, 3.5810066961884552, 9.628051397738993, 8.802176213749219, 6.07535814052478, 6.643053951909414, 7.005922509965437, 3.450436251166862, 38.89925438973022, 3.3909156586296954, 9.017453829053617, 19.246819752733366, 25.162263881761433, 4.680594052906285, 30.54070309969368, 8.42604724229373, 8.678683831090266, 11.418193328890553, 13.798590387886472, 7.522485853247486, 5.670546977756398, 16.1601057411119, 12.078504263936544, 9.42377053228421, 5.334716292789198, 9.786709272236946, 6.531820800225096, 4.692712920087495, 5.245047222758137, 6.0327501955712854, 5.287719005482085, 6.787173342215451, 5.72310430825561, 5.032521650864482, 5.0324919515461355, 5.0324797005773165, 4.285593446704573, 4.285442351422481, 3.9685606481751297, 3.9119763931351295, 3.911965998373708, 3.5950312075948108, 3.278028850866673, 2.904511846875912, 2.9043488718664805, 3.968506075677666, 1.840490331825426, 1.8404455972271652, 1.8404429985368098, 1.8403978926970697, 1.8403978926970697, 1.8400882773032974, 6.3300681635980105, 12.156550230398905, 1.4670086885855724, 1.4670086885855724, 1.4670086885855724, 1.4670086885855724, 1.4670086885855724, 1.467008410154463, 1.467008410154463, 4.5216373178249585, 9.453183142515508, 13.320686291391247, 2.53102918272199, 8.915338882004606, 9.194723339630904, 2.5309035174812324, 4.691151374673741, 5.754523217135377, 6.263166736605585, 20.595904077112596, 3.911958573544121, 6.826194534109208, 4.283169982327421, 13.23792765585016, 9.50506933663442, 16.453674808693354, 12.1202004921905, 16.365418829326153, 23.18419521619513, 18.952624458323086, 11.684743146716517, 8.094108923203047, 9.576157625030877, 5.915604895022359, 6.730387503052167, 6.077107931988397, 6.297522165586957, 7.239253396168503, 5.873554372657163, 5.225259460936534, 5.3095064035683075, 5.445024764429202, 5.335998566775712, 8.86042287627601, 5.815358936278507, 5.76143055952246, 5.459098013803038, 4.800434802513426, 3.785531089023826, 3.785504699744742, 3.428826575333283, 2.7706327162216593, 2.770623919795298, 2.770610410997672, 2.7705843358766726, 2.770587477457516, 2.770166505624514, 2.111997150843468, 2.111969504932047, 2.1118509102552125, 2.111311972061545, 2.057967929342351, 1.7556515627642721, 1.7556061669210865, 1.7555054792550588, 1.7555090920730287, 1.7554863156119147, 1.7553072455038468, 5.712198846127143, 3.2489632181023858, 1.3993278086719372, 1.39932293922163, 1.3992596363676377, 48.00180208801885, 29.578777831284366, 4.444170110140945, 7.285692283933531, 3.9751594219899453, 5.379174312201041, 7.954111988690088, 4.087864577217501, 5.7060413476742795, 4.5465997827462425, 10.727008213909343, 8.771830296495017, 3.5630534442859334, 4.7119370984739, 3.9540803570056715, 8.078277316675909, 8.602603389525271, 16.36070209634332, 9.32447080916885, 5.8059134593150485, 4.321006318127967, 7.728839907792083, 5.923817616680178, 4.374210874657718, 5.910415004486501, 4.785669372549927, 4.538590636544339, 4.783637083902398, 4.790756220251395, 5.021839597393332, 7.971757083233161, 4.911595841932952, 4.546777668831357, 3.8731919931219148, 3.873103542386398, 3.1993935996224794, 2.1609420995349136, 2.1609420995349136, 2.1609420995349136, 2.1056329825667484, 1.7963184246175798, 1.7962636100772595, 1.7962653230316445, 1.7962478820415426, 1.7962461690871576, 1.7962193847095012, 1.7955106887634853, 2.8348273865386067, 2.8346965791128422, 1.4317487856249367, 1.4317487856249367, 1.4317487856249367, 1.4317487856249367, 1.4317487856249367, 2.8346990706828565, 1.1224592212374769, 1.1224592212374769, 1.1224423252783158, 1.1224423252783158, 1.1224386657848568, 5.788274061222793, 3.1628120572224874, 2.93960818337708, 40.478751570823206, 2.834712462871685, 32.38943100223813, 4.890648278481808, 25.24082013363953, 2.4698896180763126, 4.549532099482451, 5.741828081688914, 23.672645899036848, 5.956214600699052, 4.546777980277609, 3.7684906150776554, 8.007179734130132, 10.057158205835446, 8.577095853227593, 8.105986057519948, 12.586722794437934, 9.139661840782109, 5.118912842473034, 8.32553012646022, 9.886800220552562, 13.018438376645404, 5.256102736275871, 8.595116133357884, 4.540220790891795, 5.587196263445416, 4.403105955635648, 4.669227122981816, 5.807226188538529, 6.2415809662839195, 5.580684545212369, 5.3042759967223425, 4.901555749113039, 4.6136510965758415, 6.801317259416479, 4.6833523495256415, 4.359704377959079, 4.359598961976979, 4.359600434267232, 3.4379994440154498, 3.4379611644688777, 3.114372084512426, 2.839865039171088, 2.8398591500100765, 2.516245630035429, 2.5162403297905187, 1.918087226859946, 1.9180847239665164, 1.9180847239665164, 1.9180847239665164, 1.9180742707057217, 1.918065436964205, 1.9180492417714243, 1.918006692583119, 1.9175591163462724, 16.360435571604114, 3.761602657958328, 3.1077517841617572, 1.594468848327464, 1.594454567112012, 1.5939199785212264, 2.516227668094345, 1.270841930511516, 2.473309818309588, 2.8398659225452394, 8.965013271307091, 8.185736518585593, 7.6063596804778, 7.326662811995398, 43.98063133747065, 6.690344853903131, 15.91800292798488, 9.895238054485532, 12.91900775250603, 5.487209282475422, 13.268203198996952, 3.3518009721276503, 4.484099653707058, 6.450494637738179, 10.543210662218836, 8.304371900406629, 9.827845440454594, 9.08639948023643, 7.269158688218258, 7.081830365615024, 8.458258622208128, 6.624021711511816, 4.892492063307771, 4.152458323900079, 3.815317989998953, 8.326342316807773, 3.8414640069894532, 3.2224036768749573, 2.6036285048731918, 2.6036123361142223, 2.552843608860491, 2.2687401401808645, 1.9847051682437806, 1.9847051682437806, 1.9847034043791658, 1.9846587198089236, 1.9846194738212437, 1.9841882089229181, 1.9841882089229181, 1.9839181906481314, 3.557429769995959, 1.9339154216033891, 6.029868198344373, 3.2223845683416297, 1.6498426735658043, 1.6498013697360738, 1.6497624177258297, 5.41941758539229, 2.6035847022352567, 5.01427669792212, 2.6036287988506275, 4.043062267344332, 13.091573678168439, 3.943268099031191, 2.910617675964062, 4.1015070394243605, 8.207586603885227, 5.45341783970772, 4.3744309871864875, 7.372510184054246, 5.527983452434972, 3.8424091444455652, 7.2247030329706075, 4.851165669485359, 6.724175874859752, 3.1812953421392045, 6.107419445909658, 5.684955644057259, 15.414905575166959, 14.900438007050244, 5.315719984686534, 9.12143662945957, 26.27932501423475, 15.541707450507479, 10.626614035786897, 10.844730006327335, 13.129339195481657, 7.436141600034177, 11.943262536622917, 4.817199516552482, 9.64389215246197, 5.986540039990859, 6.588826311595774, 5.456327040412444, 5.326649477794882, 5.182388282541919, 4.375554474587764, 2.8502856439422137, 2.850236877600081, 2.5253954482664054, 2.5253715295366925, 2.518298552161992, 2.2006770958914466, 2.2006738448019707, 4.318929784751039, 1.9251397156679628, 1.925131239613259, 1.9251249696549846, 1.9251063920008387, 1.924988075565997, 1.9247630537301545, 3.4506011733649387, 9.21149758757128, 1.6003242950500915, 1.6003107101404974, 1.6002139902286003, 1.6001940192503934, 1.6001201730751635, 2.9969183714538294, 2.525423546968301, 1.2755207176867382, 1.2755207176867382, 1.2755207176867382, 1.2755207176867382, 1.2755207176867382, 1.2609770850282764, 9.895866784294453, 2.451748286156462, 7.615944614657549, 6.854421026942361, 3.7208586681698166, 5.830690570846423, 4.582784491054531, 4.687919151397049, 3.8453322020368708, 2.3764888158873307, 6.123167868892514, 12.16897838592147, 9.62744197507107, 4.506377386200535, 3.9243399462506154, 3.4488346706763395, 4.365554587802376, 5.6474396614684865, 6.408926558316737, 10.085861382127355, 4.1097166037041974, 3.8376777440874035, 4.686558802672215, 3.685954042677779, 5.792033723658266, 3.6439457866816998, 3.4993538144780123, 3.951480505633725, 3.5878287312445116, 5.274438687074787, 2.5129467124544784, 2.512833198177839, 1.9155849845927866, 1.9155849845927866, 1.9155849845927866, 5.48449234652518, 1.5923862031503464, 1.5923860476513374, 1.5923841816632283, 1.5923798276909735, 1.592379050195928, 1.5923779617028644, 1.5922852842934436, 1.5922688013984796, 1.5922506080144154, 1.5921380267318304, 1.592008807055272, 1.269192630924711, 1.2691886656999791, 1.2691886656999791, 1.2691886656999791, 1.269185400220788, 1.2691669735882103, 2.1412362831485106, 0.9950010726877858, 0.9950010726877858, 0.9950010726877858, 0.9950010726877858, 0.9950010726877858, 2.5129465569554696, 1.592346239905009, 3.5627575316216786, 4.830080364711522, 1.5148570406985353, 3.9038268811853984, 4.4342840718907315, 4.38801285375025, 2.3020458944025353, 3.035580126016186, 6.8097127476675485, 1.915538490389067, 5.10317643242937, 4.7754010041512345, 3.434448457260665, 5.874989544114017, 5.751078603726258, 4.068439687203878, 2.3510245057903765, 3.297479954081147, 2.760624601147575, 2.742193303599497, 3.423144301295466, 3.266500197497089, 3.166547611436694, 2.540224815127021, 2.1898490053679502, 2.9052955290884053, 4.901107428028143, 2.1263276900270958, 1.8529564633465057, 1.6209251091196757, 1.34745980083691, 1.3474392618955902, 1.3474121921388273, 1.347323316259106, 5.937372926521887, 2.126402084533444, 1.0739830399647448, 1.0739830399647448, 1.0739828506657465, 1.0739810523252622, 1.073979821881773, 1.0739695997358627, 1.0739615545284331, 0.8419746855662135, 0.8419746855662135, 0.8419746855662135, 0.8419409903445088, 0.8419199781556929, 3.6050869798044967, 5.01216650016899, 0.5684888856668774, 0.5684859988571527, 0.5684859988571527, 0.5684845317899155, 0.5684808877841975, 1.8208462421548708, 1.7473798687956184, 1.8529524880675405, 1.8529562740475072, 6.517509994778448, 2.634109380745669, 2.6984575999528184, 3.47766263065905, 4.886214518632642, 4.26384295085616, 4.742667573798469, 2.6811318198306355, 1.93199636711392, 1.6209078829108268, 1.8109580196775161, 1.4853349690827817, 1.9391399434143246, 1.8282207632332517, 1.4769085134706184, 1.4494721791975287, 1.3632119383858823], \"Total\": [149.0, 83.0, 118.0, 113.0, 55.0, 50.0, 216.0, 125.0, 75.0, 92.0, 47.0, 60.0, 61.0, 23.0, 193.0, 58.0, 58.0, 61.0, 21.0, 63.0, 15.0, 9.0, 46.0, 47.0, 10.0, 21.0, 121.0, 14.0, 34.0, 34.0, 50.367487585584286, 16.43266798317581, 10.303536414690209, 8.755999391536804, 6.4008079672258305, 5.721949801203449, 5.721932563810778, 5.319816244565829, 4.978664175671694, 4.576541806832763, 4.576550581515585, 4.576313267931804, 4.235418526423452, 4.235407658632105, 3.8332926494980635, 3.833288108073218, 3.8332899857030696, 3.8332682537825993, 3.8332450109489757, 3.833268167248882, 3.8332172212691336, 3.431153057797762, 7.421087221638861, 3.090028928263712, 3.090026798456249, 4.175209211028857, 3.090011602574351, 3.029026175080428, 3.029001556808672, 6.733662517207373, 118.87282512575905, 11.600147142620155, 125.18257939221816, 24.185197143554763, 60.78556797456618, 149.21971827888012, 22.944865466124625, 23.22973621171876, 25.577816113997674, 16.8779897439982, 121.83584464103636, 31.07300435826997, 193.2704006437105, 15.535147088049452, 11.489858406990674, 66.6348531184037, 12.180224158813258, 17.778213367519548, 113.6081312584373, 32.40250694266131, 75.35722639334094, 39.45278703517929, 60.55781939639184, 34.042583064050945, 58.98172439149749, 27.534835226972476, 22.723659827246124, 99.58536776995122, 216.674602749825, 26.46726634255596, 92.6483859719683, 61.9156052260648, 63.516868935664796, 46.965059049645916, 9.366137395467998, 7.852901750131217, 6.006092726835842, 4.492818245323661, 4.099627158414343, 3.766009640179815, 3.706414473919749, 7.749083290966198, 3.3728406357950513, 3.372837737590437, 3.3728277221408716, 3.372829039283851, 3.372823409873789, 2.9796182583888307, 7.304055785057157, 5.535000272380957, 2.646045808220325, 2.646046404949278, 2.6460427188065574, 2.6460346317697296, 2.646025547606731, 2.6460222162859313, 2.6460228016676113, 2.6459894134953634, 2.6459645681468844, 2.2528224163123127, 2.2528224302403883, 2.2528224580965404, 2.2528224580965404, 2.2528221173009526, 7.402859284708115, 5.658219039464179, 18.82456761694998, 16.984791519484038, 11.682983969025202, 13.62456216834443, 15.814235576263503, 5.949239752847867, 193.2704006437105, 5.943186416284631, 24.53034037700621, 75.35722639334094, 121.83584464103636, 9.991562736387515, 216.674602749825, 28.584260210361773, 34.48594557168171, 58.98172439149749, 92.6483859719683, 27.45420137007513, 16.066558205754323, 149.21971827888012, 99.58536776995122, 61.854748871182146, 15.86461044729028, 118.87282512575905, 46.965059049645916, 11.983381844023562, 29.267548046268804, 125.18257939221816, 83.92479207216196, 7.500465163987715, 6.436411782920869, 5.745918391011983, 5.745913439063729, 5.745917795283211, 4.998783869632871, 4.998787268102497, 4.681869582237338, 4.625206570850469, 4.625208124041037, 4.308296535974982, 3.9913912750493683, 3.617815063783649, 3.6177982029583204, 5.408666773181906, 2.553756071905317, 2.553756305635639, 2.5537574114735095, 2.5537487297670123, 2.5537542584374884, 2.553726273652817, 8.837253407363654, 17.114977390619487, 2.1801908135511026, 2.1801908135511026, 2.1801908135511026, 2.1801908135511026, 2.1801908135511026, 2.180190759416539, 2.1801907915628114, 6.77353408493563, 15.039510208279417, 21.58312036629634, 3.8424054967000836, 14.303443556834594, 14.92075862982786, 3.918117247087881, 7.778054100652915, 10.914831034045754, 12.21512273881108, 61.854748871182146, 7.031556108144371, 15.015931793996351, 8.358938588459667, 47.42951252223824, 34.16522435437217, 92.6483859719683, 55.272781423815026, 99.58536776995122, 216.674602749825, 193.2704006437105, 66.6348531184037, 29.267548046268804, 58.98172439149749, 16.740292191188097, 27.534835226972476, 20.29407589417976, 39.45278703517929, 113.6081312584373, 75.35722639334094, 16.04027705282004, 34.042583064050945, 83.92479207216196, 58.12721774904827, 9.577652467895359, 6.532716674736544, 6.478663795002455, 6.176381059644409, 5.517750213001572, 4.502773417294618, 4.502764247114503, 4.146416530877295, 3.4878080243530647, 3.487807873110278, 3.4878033255738834, 3.487801923663269, 3.4878077605398143, 3.4877822955677193, 2.8291774005454915, 2.82917257329424, 2.8291634205001026, 2.8291155730057076, 2.775119317055483, 2.4728353642849554, 2.472829413449185, 2.4728167121448354, 2.4728301628996543, 2.4728458596057754, 2.47282061747038, 8.0992148846692, 4.780236886782997, 2.1164899242811397, 2.1164906771063516, 2.1164854287331685, 83.92479207216196, 55.272781423815026, 7.238364747275119, 12.58232024558896, 6.428762235547925, 9.77866048316865, 16.21433444392137, 7.331581244913711, 11.423280614644773, 8.948361452631765, 34.16522435437217, 26.46726634255596, 6.4071992335863, 10.076820494100827, 7.790699990306645, 31.85238455167084, 47.42951252223824, 216.674602749825, 63.516868935664796, 20.43390338163233, 10.49142331483762, 47.10113198222198, 39.45278703517929, 12.819983627617352, 113.6081312584373, 29.267548046268804, 19.061724889756615, 30.325988245749446, 34.48594557168171, 75.35722639334094, 8.68716686890744, 5.627023407839099, 5.262416667555785, 4.588551497008146, 4.588557006853657, 3.9146730262711333, 2.8761928342003102, 2.8761928342003102, 2.8761928342003102, 2.820883640627728, 2.5115958087487336, 2.511587367111102, 2.5116022146543378, 2.511598595035176, 2.5115981445952693, 2.511587031194571, 2.511549836668689, 4.147451811377282, 4.169000351283663, 2.1469990815559443, 2.1469990815559443, 2.1469990815559443, 2.146999123340172, 2.1469991303042097, 4.293346369179271, 1.8377111935557897, 1.8377111935557897, 1.8377091814463395, 1.8377091814463395, 1.8377073858878865, 9.741160733516864, 5.437386263960621, 5.131351711048606, 113.6081312584373, 5.438721951829129, 149.21971827888012, 11.77639126900395, 118.87282512575905, 4.639082110385341, 11.14891698310925, 17.25759602545374, 193.2704006437105, 18.747533256585083, 12.073830986528044, 8.948361452631765, 34.48594557168171, 60.78556797456618, 47.10113198222198, 46.965059049645916, 121.83584464103636, 61.854748871182146, 18.3733034471624, 55.272781423815026, 83.92479207216196, 216.674602749825, 22.94463718869283, 99.58536776995122, 16.066558205754323, 31.85238455167084, 14.80922668258609, 19.64798531942397, 58.98172439149749, 125.18257939221816, 63.516868935664796, 75.35722639334094, 60.55781939639184, 27.534835226972476, 7.526224409568114, 5.40812989015101, 5.084517101623963, 5.084511791600915, 5.084533995957562, 4.162724571253997, 4.162725295995937, 3.83909901072364, 3.5645669634497366, 3.564568232647923, 3.240943271685369, 3.2409446632145675, 2.6427890606493913, 2.642789547125233, 2.642789547125233, 2.642789547125233, 2.642790331294416, 2.6427919547424903, 2.642792143167628, 2.6427949997754765, 2.642855266258735, 23.160271534408164, 5.406923492252235, 4.513824885915534, 2.31916376381547, 2.319165300644154, 2.3191723500007253, 3.899572814936505, 1.9955411415047162, 3.9380530067463515, 4.579541912528214, 16.264749336275862, 17.25759602545374, 18.3733034471624, 17.67292744470301, 216.674602749825, 16.081928199313598, 58.12721774904827, 30.325988245749446, 46.965059049645916, 14.612756196132837, 63.516868935664796, 7.156667595621566, 13.805078492919268, 31.85238455167084, 99.58536776995122, 61.854748871182146, 125.18257939221816, 113.6081312584373, 61.9156052260648, 60.55781939639184, 149.21971827888012, 83.92479207216196, 27.45420137007513, 66.6348531184037, 30.268555746976666, 9.0484950607555, 4.563601448389056, 3.9446984868782935, 3.325742464823344, 3.325744269195658, 3.274942548654821, 2.990878376248586, 2.706814169622121, 2.706814169622121, 2.7068132166409167, 2.7068194413085354, 2.7068184381366667, 2.706846566091038, 2.706846566091038, 2.7069032044182983, 4.87768894508074, 2.656014361397719, 8.30341815253843, 4.542033641086377, 2.3719496371942688, 2.3719539384585837, 2.3719574655492504, 7.903529420558795, 3.9996331240069893, 7.7192559746108556, 4.069009194974127, 6.37527261424615, 21.210401278141422, 6.459667874222872, 4.811583406031553, 6.8021608685227655, 14.818224104103544, 9.725604396142904, 7.679922254764128, 14.80922668258609, 10.49142331483762, 6.695781473251995, 16.3300172054792, 9.489706223983898, 15.814235576263503, 5.354846499098827, 13.923081021774934, 12.739702898901523, 58.12721774904827, 61.9156052260648, 12.21512273881108, 29.267548046268804, 216.674602749825, 92.6483859719683, 60.78556797456618, 63.516868935664796, 99.58536776995122, 31.85238455167084, 125.18257939221816, 13.045825199207195, 193.2704006437105, 31.07300435826997, 121.83584464103636, 61.854748871182146, 66.6348531184037, 83.92479207216196, 5.100263814585685, 3.574730277156499, 3.5747407168850023, 3.24993440029981, 3.2499269915200144, 3.250995840935572, 2.925101880252665, 2.925103779056331, 5.8390189049050845, 2.6495626630283153, 2.6495637781462964, 2.649563906972093, 2.649563681071638, 2.649567619701358, 2.6496144837518307, 4.772461635094869, 13.252872370833568, 2.324750214558463, 2.324751447989159, 2.3247671617784134, 2.324771266034452, 2.324758408167241, 4.624222331100226, 3.9085530824577677, 1.9999347855026515, 1.9999348507895172, 1.9999348507895172, 1.9999348507895172, 1.9999348507895172, 2.0003914581013147, 15.86461044729028, 3.992241862090872, 13.934486275925199, 13.045825199207195, 7.084990063963586, 13.708170978891483, 13.923081021774934, 14.897777415844777, 10.71787831332784, 4.613490119669722, 24.53034037700621, 92.6483859719683, 61.9156052260648, 15.652067327732338, 13.379459761597127, 10.31353352813024, 18.115473839697717, 34.042583064050945, 47.42951252223824, 216.674602749825, 19.061724889756615, 17.67292744470301, 46.965059049645916, 16.65903122829507, 121.83584464103636, 18.82456761694998, 16.984791519484038, 60.55781939639184, 30.325988245749446, 5.999506182266978, 3.2377574011107533, 3.2377812999345252, 2.6403831496709556, 2.6403831496709556, 2.6403831496709556, 7.775896812351776, 2.3171793272311225, 2.317179217666088, 2.317180738603028, 2.317179701137516, 2.317179845642905, 2.3171822779159235, 2.3171838850642836, 2.3171819642789115, 2.3172093504716793, 2.3171978341201367, 2.3171953924656945, 1.9939776510952012, 1.9939783427515465, 1.9939783427515465, 1.993978343813007, 1.993978605588084, 1.9939811827372447, 3.5618745365488804, 1.7198048978487916, 1.7198048978487916, 1.7198048978487916, 1.7198048978487916, 1.7198048978487916, 4.9113625675762504, 2.9361127840022236, 7.534584967205557, 14.953779024446069, 3.060774258655747, 11.777196948262736, 14.488882583474824, 15.56449772880574, 7.242009836110211, 13.42100234601687, 92.6483859719683, 5.412500072660028, 61.9156052260648, 55.272781423815026, 25.316152488590514, 149.21971827888012, 193.2704006437105, 60.55781939639184, 12.107137490290748, 58.98172439149749, 30.325988245749446, 32.40250694266131, 99.58536776995122, 83.92479207216196, 121.83584464103636, 58.12721774904827, 14.897777415844777, 3.6417223520214073, 6.480288025740748, 2.862740694079866, 2.5892085551886206, 2.3572109907493246, 2.0837136103182683, 2.083717924801446, 2.0837315084389454, 2.0837507069672236, 9.606895660376221, 3.536592798082787, 1.8102184104911978, 1.8102184104911978, 1.810218435237757, 1.8102192989993748, 1.8102192628524756, 1.8102249500870988, 1.8102257647388125, 1.578216620806026, 1.578216620806026, 1.578216620806026, 1.5782260986984546, 1.5782340411414553, 7.523143096958025, 10.90893510239005, 1.3047238940633588, 1.3047252622808012, 1.3047252622808012, 1.3047252392103954, 1.3047276189343697, 4.347079073611798, 4.440570669594362, 5.949239752847867, 7.402859284708115, 47.10113198222198, 13.708170978891483, 14.303443556834594, 30.268555746976666, 75.35722639334094, 125.18257939221816, 216.674602749825, 58.98172439149749, 25.316152488590514, 12.601213426761936, 21.58312036629634, 10.232982024474293, 60.55781939639184, 92.6483859719683, 16.984791519484038, 23.160271534408164, 193.2704006437105], \"Category\": [\"Default\", \"Default\", \"Default\", \"Default\", \"Default\", \"Default\", \"Default\", \"Default\", \"Default\", \"Default\", \"Default\", \"Default\", \"Default\", \"Default\", \"Default\", \"Default\", \"Default\", \"Default\", \"Default\", \"Default\", \"Default\", \"Default\", \"Default\", \"Default\", \"Default\", \"Default\", \"Default\", \"Default\", \"Default\", \"Default\", \"Topic1\", \"Topic1\", \"Topic1\", \"Topic1\", \"Topic1\", \"Topic1\", \"Topic1\", \"Topic1\", \"Topic1\", \"Topic1\", \"Topic1\", \"Topic1\", \"Topic1\", \"Topic1\", \"Topic1\", \"Topic1\", \"Topic1\", \"Topic1\", \"Topic1\", \"Topic1\", \"Topic1\", \"Topic1\", \"Topic1\", \"Topic1\", \"Topic1\", \"Topic1\", \"Topic1\", \"Topic1\", \"Topic1\", \"Topic1\", \"Topic1\", \"Topic1\", \"Topic1\", \"Topic1\", \"Topic1\", \"Topic1\", \"Topic1\", \"Topic1\", \"Topic1\", \"Topic1\", \"Topic1\", \"Topic1\", \"Topic1\", \"Topic1\", \"Topic1\", \"Topic1\", \"Topic1\", \"Topic1\", \"Topic1\", \"Topic1\", \"Topic1\", \"Topic1\", \"Topic1\", \"Topic1\", \"Topic1\", \"Topic1\", \"Topic1\", \"Topic1\", \"Topic1\", \"Topic1\", \"Topic1\", \"Topic1\", \"Topic1\", \"Topic1\", \"Topic2\", \"Topic2\", \"Topic2\", \"Topic2\", \"Topic2\", \"Topic2\", \"Topic2\", \"Topic2\", \"Topic2\", \"Topic2\", \"Topic2\", \"Topic2\", \"Topic2\", \"Topic2\", \"Topic2\", \"Topic2\", \"Topic2\", \"Topic2\", \"Topic2\", \"Topic2\", \"Topic2\", \"Topic2\", \"Topic2\", \"Topic2\", \"Topic2\", \"Topic2\", \"Topic2\", \"Topic2\", \"Topic2\", \"Topic2\", \"Topic2\", \"Topic2\", \"Topic2\", \"Topic2\", \"Topic2\", \"Topic2\", \"Topic2\", \"Topic2\", \"Topic2\", \"Topic2\", \"Topic2\", \"Topic2\", \"Topic2\", \"Topic2\", \"Topic2\", \"Topic2\", \"Topic2\", \"Topic2\", \"Topic2\", \"Topic2\", \"Topic2\", \"Topic2\", \"Topic2\", \"Topic2\", \"Topic2\", \"Topic2\", \"Topic2\", \"Topic2\", \"Topic2\", \"Topic2\", \"Topic2\", \"Topic3\", \"Topic3\", \"Topic3\", \"Topic3\", \"Topic3\", \"Topic3\", \"Topic3\", \"Topic3\", \"Topic3\", \"Topic3\", \"Topic3\", \"Topic3\", \"Topic3\", \"Topic3\", \"Topic3\", \"Topic3\", \"Topic3\", \"Topic3\", \"Topic3\", \"Topic3\", \"Topic3\", \"Topic3\", \"Topic3\", \"Topic3\", \"Topic3\", \"Topic3\", \"Topic3\", \"Topic3\", \"Topic3\", \"Topic3\", \"Topic3\", \"Topic3\", \"Topic3\", \"Topic3\", \"Topic3\", \"Topic3\", \"Topic3\", \"Topic3\", \"Topic3\", \"Topic3\", \"Topic3\", \"Topic3\", \"Topic3\", \"Topic3\", \"Topic3\", \"Topic3\", \"Topic3\", \"Topic3\", \"Topic3\", \"Topic3\", \"Topic3\", \"Topic3\", \"Topic3\", \"Topic3\", \"Topic3\", \"Topic3\", \"Topic3\", \"Topic3\", \"Topic3\", \"Topic3\", \"Topic3\", \"Topic3\", \"Topic3\", \"Topic3\", \"Topic4\", \"Topic4\", \"Topic4\", \"Topic4\", \"Topic4\", \"Topic4\", \"Topic4\", \"Topic4\", \"Topic4\", \"Topic4\", \"Topic4\", \"Topic4\", \"Topic4\", \"Topic4\", \"Topic4\", \"Topic4\", \"Topic4\", \"Topic4\", \"Topic4\", \"Topic4\", \"Topic4\", \"Topic4\", \"Topic4\", \"Topic4\", \"Topic4\", \"Topic4\", \"Topic4\", \"Topic4\", \"Topic4\", \"Topic4\", \"Topic4\", \"Topic4\", \"Topic4\", \"Topic4\", \"Topic4\", \"Topic4\", \"Topic4\", \"Topic4\", \"Topic4\", \"Topic4\", \"Topic4\", \"Topic4\", \"Topic4\", \"Topic4\", \"Topic4\", \"Topic4\", \"Topic4\", \"Topic4\", \"Topic4\", \"Topic4\", \"Topic4\", \"Topic4\", \"Topic4\", \"Topic4\", \"Topic4\", \"Topic4\", \"Topic4\", \"Topic4\", \"Topic4\", \"Topic4\", \"Topic5\", \"Topic5\", \"Topic5\", \"Topic5\", \"Topic5\", \"Topic5\", \"Topic5\", \"Topic5\", \"Topic5\", \"Topic5\", \"Topic5\", \"Topic5\", \"Topic5\", \"Topic5\", \"Topic5\", \"Topic5\", \"Topic5\", \"Topic5\", \"Topic5\", \"Topic5\", \"Topic5\", \"Topic5\", \"Topic5\", \"Topic5\", \"Topic5\", \"Topic5\", \"Topic5\", \"Topic5\", \"Topic5\", \"Topic5\", \"Topic5\", \"Topic5\", \"Topic5\", \"Topic5\", \"Topic5\", \"Topic5\", \"Topic5\", \"Topic5\", \"Topic5\", \"Topic5\", \"Topic5\", \"Topic5\", \"Topic5\", \"Topic5\", \"Topic5\", \"Topic5\", \"Topic5\", \"Topic5\", \"Topic5\", \"Topic5\", \"Topic5\", \"Topic5\", \"Topic5\", \"Topic5\", \"Topic5\", \"Topic5\", \"Topic5\", \"Topic5\", \"Topic5\", \"Topic5\", \"Topic5\", \"Topic5\", \"Topic5\", \"Topic5\", \"Topic5\", \"Topic5\", \"Topic5\", \"Topic6\", \"Topic6\", \"Topic6\", \"Topic6\", \"Topic6\", \"Topic6\", \"Topic6\", \"Topic6\", \"Topic6\", \"Topic6\", \"Topic6\", \"Topic6\", \"Topic6\", \"Topic6\", \"Topic6\", \"Topic6\", \"Topic6\", \"Topic6\", \"Topic6\", \"Topic6\", \"Topic6\", \"Topic6\", \"Topic6\", \"Topic6\", \"Topic6\", \"Topic6\", \"Topic6\", \"Topic6\", \"Topic6\", \"Topic6\", \"Topic6\", \"Topic6\", \"Topic6\", \"Topic6\", \"Topic6\", \"Topic6\", \"Topic6\", \"Topic6\", \"Topic6\", \"Topic6\", \"Topic6\", \"Topic6\", \"Topic6\", \"Topic6\", \"Topic6\", \"Topic6\", \"Topic6\", \"Topic6\", \"Topic6\", \"Topic6\", \"Topic6\", \"Topic6\", \"Topic6\", \"Topic6\", \"Topic6\", \"Topic6\", \"Topic7\", \"Topic7\", \"Topic7\", \"Topic7\", \"Topic7\", \"Topic7\", \"Topic7\", \"Topic7\", \"Topic7\", \"Topic7\", \"Topic7\", \"Topic7\", \"Topic7\", \"Topic7\", \"Topic7\", \"Topic7\", \"Topic7\", \"Topic7\", \"Topic7\", \"Topic7\", \"Topic7\", \"Topic7\", \"Topic7\", \"Topic7\", \"Topic7\", \"Topic7\", \"Topic7\", \"Topic7\", \"Topic7\", \"Topic7\", \"Topic7\", \"Topic7\", \"Topic7\", \"Topic7\", \"Topic7\", \"Topic7\", \"Topic7\", \"Topic7\", \"Topic7\", \"Topic7\", \"Topic7\", \"Topic7\", \"Topic7\", \"Topic7\", \"Topic7\", \"Topic7\", \"Topic7\", \"Topic7\", \"Topic7\", \"Topic7\", \"Topic7\", \"Topic7\", \"Topic7\", \"Topic7\", \"Topic7\", \"Topic7\", \"Topic7\", \"Topic7\", \"Topic7\", \"Topic7\", \"Topic7\", \"Topic8\", \"Topic8\", \"Topic8\", \"Topic8\", \"Topic8\", \"Topic8\", \"Topic8\", \"Topic8\", \"Topic8\", \"Topic8\", \"Topic8\", \"Topic8\", \"Topic8\", \"Topic8\", \"Topic8\", \"Topic8\", \"Topic8\", \"Topic8\", \"Topic8\", \"Topic8\", \"Topic8\", \"Topic8\", \"Topic8\", \"Topic8\", \"Topic8\", \"Topic8\", \"Topic8\", \"Topic8\", \"Topic8\", \"Topic8\", \"Topic8\", \"Topic8\", \"Topic8\", \"Topic8\", \"Topic8\", \"Topic8\", \"Topic8\", \"Topic8\", \"Topic8\", \"Topic8\", \"Topic8\", \"Topic8\", \"Topic8\", \"Topic8\", \"Topic8\", \"Topic8\", \"Topic8\", \"Topic8\", \"Topic8\", \"Topic8\", \"Topic8\", \"Topic8\", \"Topic8\", \"Topic8\", \"Topic8\", \"Topic8\", \"Topic8\", \"Topic8\", \"Topic8\", \"Topic9\", \"Topic9\", \"Topic9\", \"Topic9\", \"Topic9\", \"Topic9\", \"Topic9\", \"Topic9\", \"Topic9\", \"Topic9\", \"Topic9\", \"Topic9\", \"Topic9\", \"Topic9\", \"Topic9\", \"Topic9\", \"Topic9\", \"Topic9\", \"Topic9\", \"Topic9\", \"Topic9\", \"Topic9\", \"Topic9\", \"Topic9\", \"Topic9\", \"Topic9\", \"Topic9\", \"Topic9\", \"Topic9\", \"Topic9\", \"Topic9\", \"Topic9\", \"Topic9\", \"Topic9\", \"Topic9\", \"Topic9\", \"Topic9\", \"Topic9\", \"Topic9\", \"Topic9\", \"Topic9\", \"Topic9\", \"Topic9\", \"Topic9\", \"Topic9\", \"Topic9\", \"Topic9\", \"Topic9\", \"Topic9\", \"Topic9\", \"Topic9\", \"Topic9\", \"Topic9\", \"Topic9\", \"Topic9\", \"Topic9\", \"Topic9\", \"Topic10\", \"Topic10\", \"Topic10\", \"Topic10\", \"Topic10\", \"Topic10\", \"Topic10\", \"Topic10\", \"Topic10\", \"Topic10\", \"Topic10\", \"Topic10\", \"Topic10\", \"Topic10\", \"Topic10\", \"Topic10\", \"Topic10\", \"Topic10\", \"Topic10\", \"Topic10\", \"Topic10\", \"Topic10\", \"Topic10\", \"Topic10\", \"Topic10\", \"Topic10\", \"Topic10\", \"Topic10\", \"Topic10\", \"Topic10\", \"Topic10\", \"Topic10\", \"Topic10\", \"Topic10\", \"Topic10\", \"Topic10\", \"Topic10\", \"Topic10\", \"Topic10\", \"Topic10\", \"Topic10\", \"Topic10\", \"Topic10\", \"Topic10\", \"Topic10\", \"Topic10\", \"Topic10\", \"Topic10\", \"Topic10\", \"Topic10\", \"Topic10\"], \"logprob\": [30.0, 29.0, 28.0, 27.0, 26.0, 25.0, 24.0, 23.0, 22.0, 21.0, 20.0, 19.0, 18.0, 17.0, 16.0, 15.0, 14.0, 13.0, 12.0, 11.0, 10.0, 9.0, 8.0, 7.0, 6.0, 5.0, 4.0, 3.0, 2.0, 1.0, -3.6519, -4.8018, -5.2957, -5.4715, -5.8201, -5.9446, -5.9446, -6.0282, -6.105, -6.2039, -6.2039, -6.2044, -6.2961, -6.2962, -6.4171, -6.4171, -6.4171, -6.4172, -6.4172, -6.4172, -6.4173, -6.5548, -5.8042, -6.6886, -6.6886, -6.3876, -6.6886, -6.7145, -6.7146, -5.9503, -3.1854, -5.4278, -3.1686, -4.769, -3.9245, -3.1035, -4.8331, -4.8403, -4.7586, -5.1431, -3.4634, -4.6319, -3.0828, -5.2276, -5.4851, -4.0293, -5.4468, -5.15, -3.7086, -4.6894, -4.0577, -4.5552, -4.2544, -4.7176, -4.3496, -4.9019, -5.0385, -4.1264, -3.7159, -4.9592, -4.3754, -4.5815, -4.6459, -5.045, -4.5886, -4.7807, -5.0798, -5.4162, -5.5259, -5.6296, -5.6491, -4.9224, -5.7671, -5.7671, -5.7671, -5.7672, -5.7672, -5.9268, -5.0463, -5.3424, -6.0857, -6.0857, -6.0857, -6.0857, -6.0857, -6.0857, -6.0858, -6.0859, -6.086, -6.3125, -6.3125, -6.3125, -6.3125, -6.3125, -5.1569, -5.4713, -4.4823, -4.572, -4.9428, -4.8534, -4.8002, -5.5085, -3.086, -5.5259, -4.5478, -3.7896, -3.5216, -5.2036, -3.3279, -4.6157, -4.5861, -4.3118, -4.1224, -4.7291, -5.0117, -3.9644, -4.2556, -4.5038, -5.0728, -4.466, -4.8703, -5.201, -5.0897, -4.9498, -5.0816, -4.7661, -4.9366, -5.0652, -5.0652, -5.0652, -5.2259, -5.2259, -5.3027, -5.3171, -5.3171, -5.4016, -5.4939, -5.6149, -5.6149, -5.3028, -6.0711, -6.0711, -6.0711, -6.0712, -6.0712, -6.0713, -4.8358, -4.1833, -6.2979, -6.2979, -6.2979, -6.2979, -6.2979, -6.2979, -6.2979, -5.1723, -4.4348, -4.0918, -5.7525, -4.4934, -4.4625, -5.7526, -5.1355, -4.9312, -4.8465, -3.6561, -5.3171, -4.7604, -5.2265, -4.0981, -4.4293, -3.8806, -4.1863, -3.886, -3.5377, -3.7392, -4.2229, -4.59, -4.4219, -4.9036, -4.7745, -4.8766, -4.841, -4.7016, -4.9107, -5.0276, -5.0117, -4.9864, -5.0067, -4.3326, -4.7537, -4.763, -4.8169, -4.9455, -5.183, -5.183, -5.282, -5.4951, -5.4951, -5.4951, -5.4951, -5.4951, -5.4953, -5.7666, -5.7666, -5.7666, -5.7669, -5.7925, -5.9514, -5.9514, -5.9514, -5.9514, -5.9514, -5.9515, -4.7716, -5.3359, -6.1782, -6.1782, -6.1782, -2.643, -3.1271, -5.0226, -4.5283, -5.1341, -4.8317, -4.4405, -5.1062, -4.7727, -4.9998, -4.1414, -4.3426, -5.2436, -4.9641, -5.1394, -4.425, -4.3621, -3.7193, -4.2816, -4.7553, -5.0507, -4.4692, -4.7352, -5.0385, -4.7375, -4.9486, -5.0016, -4.949, -4.9475, -4.9004, -4.4296, -4.9139, -4.9911, -5.1514, -5.1515, -5.3426, -5.735, -5.735, -5.735, -5.7609, -5.9198, -5.9198, -5.9198, -5.9198, -5.9198, -5.9198, -5.9202, -5.4635, -5.4636, -6.1466, -6.1466, -6.1466, -6.1466, -6.1466, -5.4636, -6.39, -6.39, -6.39, -6.39, -6.39, -4.7497, -5.3541, -5.4272, -2.8047, -5.4636, -3.0277, -4.9182, -3.2771, -5.6014, -4.9905, -4.7577, -3.3412, -4.7211, -4.9911, -5.1788, -4.4252, -4.1972, -4.3564, -4.4129, -3.9729, -4.2929, -4.8726, -4.3862, -4.2143, -3.9392, -4.8461, -4.3543, -4.9925, -4.785, -5.0232, -4.9645, -4.7464, -4.6743, -4.7862, -4.837, -4.916, -4.9765, -4.5323, -4.9054, -4.977, -4.9771, -4.9771, -5.2145, -5.2146, -5.3134, -5.4057, -5.4057, -5.5267, -5.5267, -5.7981, -5.7981, -5.7981, -5.7981, -5.7981, -5.7981, -5.7981, -5.7981, -5.7984, -3.6546, -5.1246, -5.3155, -5.9829, -5.9829, -5.9832, -5.5267, -6.2098, -5.5439, -5.4057, -4.2561, -4.347, -4.4204, -4.4579, -2.6657, -4.5488, -3.682, -4.1574, -3.8907, -4.747, -3.8641, -5.2399, -4.9489, -4.5853, -4.094, -4.3327, -4.1642, -4.2427, -4.4658, -4.4919, -4.3143, -4.5587, -4.8617, -5.0257, -5.1104, -4.3284, -5.1019, -5.2777, -5.4909, -5.4909, -5.5106, -5.6286, -5.7623, -5.7623, -5.7623, -5.7624, -5.7624, -5.7626, -5.7626, -5.7627, -5.1788, -5.7883, -4.6511, -5.2777, -5.9471, -5.9471, -5.9472, -4.7578, -5.4909, -4.8355, -5.4909, -5.0508, -3.8758, -5.0758, -5.3794, -5.0364, -4.3427, -4.7516, -4.972, -4.45, -4.738, -5.1017, -4.4703, -4.8686, -4.5421, -5.2905, -4.6383, -4.71, -3.7125, -3.7464, -4.7771, -4.2372, -3.179, -3.7043, -4.0844, -4.0641, -3.873, -4.4414, -3.9676, -4.8756, -4.1815, -4.6583, -4.5624, -4.751, -4.7751, -4.8025, -4.736, -5.1646, -5.1646, -5.2856, -5.2856, -5.2884, -5.4232, -5.4232, -4.749, -5.557, -5.557, -5.557, -5.557, -5.5571, -5.5572, -4.9734, -3.9915, -5.7418, -5.7418, -5.7418, -5.7419, -5.7419, -5.1144, -5.2856, -5.9686, -5.9686, -5.9686, -5.9686, -5.9686, -5.9801, -3.9199, -5.3152, -4.1817, -4.2871, -4.898, -4.4488, -4.6897, -4.667, -4.8651, -5.3464, -4.3999, -3.7131, -3.9474, -4.7065, -4.8448, -4.9739, -4.7382, -4.4808, -4.3543, -3.9009, -4.7986, -4.8671, -4.6673, -4.9075, -4.4555, -4.9189, -4.9594, -4.8379, -4.9344, -4.1481, -4.8895, -4.8895, -5.1609, -5.1609, -5.1609, -4.109, -5.3457, -5.3457, -5.3457, -5.3457, -5.3457, -5.3457, -5.3458, -5.3458, -5.3458, -5.3459, -5.3459, -5.5726, -5.5726, -5.5726, -5.5726, -5.5726, -5.5726, -5.0496, -5.8159, -5.8159, -5.8159, -5.8159, -5.8159, -4.8895, -5.3457, -4.5404, -4.2361, -5.3956, -4.449, -4.3216, -4.3321, -4.9771, -4.7005, -3.8926, -5.1609, -4.1811, -4.2475, -4.5771, -4.0402, -4.0615, -4.4077, -4.9561, -4.6178, -4.7955, -4.8022, -4.5804, -4.6272, -4.6583, -4.8787, -5.0271, -4.2479, -3.725, -4.5601, -4.6977, -4.8315, -5.0163, -5.0163, -5.0163, -5.0164, -3.5332, -4.56, -5.2431, -5.2431, -5.2431, -5.2431, -5.2431, -5.2431, -5.2431, -5.4865, -5.4865, -5.4865, -5.4865, -5.4865, -4.0321, -3.7026, -5.8793, -5.8793, -5.8793, -5.8793, -5.8793, -4.7152, -4.7564, -4.6977, -4.6977, -3.44, -4.3459, -4.3218, -4.0681, -3.7281, -3.8643, -3.7579, -4.3282, -4.6559, -4.8315, -4.7206, -4.9188, -4.6522, -4.7111, -4.9245, -4.9433, -5.0046], \"loglift\": [30.0, 29.0, 28.0, 27.0, 26.0, 25.0, 24.0, 23.0, 22.0, 21.0, 20.0, 19.0, 18.0, 17.0, 16.0, 15.0, 14.0, 13.0, 12.0, 11.0, 10.0, 9.0, 8.0, 7.0, 6.0, 5.0, 4.0, 3.0, 2.0, 1.0, 1.3114, 1.2816, 1.2545, 1.2414, 1.2061, 1.1938, 1.1938, 1.1831, 1.1725, 1.1579, 1.1579, 1.1574, 1.143, 1.143, 1.1218, 1.1218, 1.1218, 1.1218, 1.1218, 1.1217, 1.1217, 1.095, 1.0741, 1.0659, 1.0659, 1.0659, 1.0659, 1.06, 1.0599, 1.0252, 0.9192, 1.0039, 0.8843, 0.9279, 0.8508, 0.7737, 0.9164, 0.897, 0.8824, 0.9136, 0.6166, 0.8145, 0.5357, 0.9119, 0.9562, 0.6541, 0.9361, 0.8547, 0.4414, 0.715, 0.5027, 0.6523, 0.5247, 0.6374, 0.4558, 0.6653, 0.7207, 0.1552, -0.2116, 0.6476, -0.0215, 0.1754, 0.0854, -0.0117, 2.057, 2.0411, 2.0101, 1.9639, 1.9459, 1.9271, 1.9235, 1.9127, 1.8998, 1.8998, 1.8998, 1.8998, 1.8997, 1.8641, 1.848, 1.8292, 1.8239, 1.8239, 1.8239, 1.8239, 1.8239, 1.8239, 1.8239, 1.8238, 1.8237, 1.758, 1.758, 1.758, 1.758, 1.758, 1.7239, 1.6782, 1.4652, 1.4784, 1.4818, 1.4174, 1.3215, 1.5909, 0.5326, 1.5745, 1.1349, 0.7708, 0.5583, 1.3774, 0.1763, 0.9141, 0.756, 0.4937, 0.2314, 0.8411, 1.0942, -0.0872, 0.0261, 0.2541, 1.0458, -0.3614, 0.163, 1.1982, 0.4165, -0.8969, -0.6289, 2.1016, 2.0841, 2.069, 2.0689, 2.0689, 2.0476, 2.0475, 2.0362, 2.034, 2.034, 2.0205, 2.0046, 1.9819, 1.9819, 1.8919, 1.874, 1.874, 1.874, 1.8739, 1.8739, 1.8738, 1.8679, 1.8594, 1.8053, 1.8053, 1.8053, 1.8053, 1.8053, 1.8053, 1.8053, 1.7974, 1.7372, 1.7189, 1.784, 1.7288, 1.7174, 1.7645, 1.6959, 1.5614, 1.5335, 1.1018, 1.6151, 1.4132, 1.5329, 0.9254, 0.9221, 0.4733, 0.6841, 0.3957, -0.0334, -0.1206, 0.4606, 0.9162, 0.3836, 1.1613, 0.7927, 0.9957, 0.3666, -0.5517, -0.3503, 1.0799, 0.3434, -0.5337, -0.1866, 2.2906, 2.2522, 2.2511, 2.245, 2.2292, 2.195, 2.195, 2.1784, 2.1383, 2.1383, 2.1383, 2.1383, 2.1383, 2.1381, 2.0761, 2.0761, 2.0761, 2.0758, 2.0695, 2.026, 2.0259, 2.0259, 2.0259, 2.0259, 2.0258, 2.0193, 1.9823, 1.9547, 1.9547, 1.9547, 1.8098, 1.7433, 1.8807, 1.8221, 1.8878, 1.7708, 1.6563, 1.7843, 1.6743, 1.6914, 1.21, 1.2641, 1.7817, 1.6083, 1.6903, 0.9965, 0.6613, -0.215, 0.4498, 1.1102, 1.4814, 0.5611, 0.4724, 1.2932, -0.5876, 0.5576, 0.9334, 0.5217, 0.3946, -0.34, 2.2912, 2.2412, 2.231, 2.2077, 2.2076, 2.1754, 2.0912, 2.0912, 2.0912, 2.0847, 2.042, 2.0419, 2.0419, 2.0419, 2.0419, 2.0419, 2.0415, 1.9966, 1.9914, 1.972, 1.972, 1.972, 1.972, 1.972, 1.962, 1.8841, 1.8841, 1.8841, 1.8841, 1.8841, 1.8566, 1.8353, 1.8201, 1.3452, 1.7255, 0.8496, 1.4984, 0.8276, 1.7468, 1.4808, 1.2767, 0.2774, 1.2305, 1.4005, 1.5123, 0.9169, 0.5781, 0.6739, 0.6203, 0.1071, 0.465, 1.0992, 0.4842, 0.2384, -0.4349, 0.9035, -0.0727, 1.1134, 0.6365, 1.1642, 0.9402, 0.059, -0.6214, -0.0548, -0.2766, -0.1369, 0.5907, 2.332, 2.2893, 2.2794, 2.2794, 2.2794, 2.242, 2.2419, 2.224, 2.2059, 2.2059, 2.1801, 2.1801, 2.1127, 2.1127, 2.1127, 2.1127, 2.1127, 2.1127, 2.1127, 2.1127, 2.1124, 2.0857, 2.0704, 2.06, 2.0586, 2.0586, 2.0582, 1.9951, 1.982, 1.9681, 1.9554, 1.8376, 1.6874, 1.5513, 1.5527, 0.8386, 1.5562, 1.1381, 1.3133, 1.1425, 1.4538, 0.8673, 1.6747, 1.3087, 0.8363, 0.1877, 0.4252, -0.1113, -0.0927, 0.2911, 0.2872, -0.437, -0.106, 0.7084, -0.3423, 0.3622, 2.3517, 2.2626, 2.2326, 2.1901, 2.1901, 2.1858, 2.1585, 2.1246, 2.1246, 2.1246, 2.1245, 2.1245, 2.1243, 2.1243, 2.1241, 2.1192, 2.1176, 2.1149, 2.0916, 2.0718, 2.0718, 2.0718, 2.0575, 2.0056, 2.0034, 1.9884, 1.9794, 1.9523, 1.9413, 1.9322, 1.929, 1.8441, 1.8564, 1.872, 1.7374, 1.7941, 1.8795, 1.6194, 1.7639, 1.5797, 1.9142, 1.6108, 1.628, 1.1076, 1.0105, 1.6029, 1.269, 0.3253, 0.6496, 0.6909, 0.6672, 0.4087, 0.9801, 0.0853, 1.4386, -0.5629, 0.788, -0.4824, 0.0069, -0.0916, -0.3498, 2.5174, 2.4442, 2.4442, 2.4184, 2.4184, 2.4153, 2.3861, 2.3861, 2.3691, 2.3513, 2.3513, 2.3513, 2.3513, 2.3512, 2.3511, 2.3464, 2.3069, 2.2973, 2.2973, 2.2972, 2.2972, 2.2971, 2.237, 2.2339, 2.2209, 2.2209, 2.2209, 2.2209, 2.2209, 2.2092, 2.1987, 2.1831, 2.0666, 2.0271, 2.0267, 1.8158, 1.5594, 1.5145, 1.6456, 2.0073, 1.2829, 0.6408, 0.8095, 1.4256, 1.4442, 1.5753, 1.2477, 0.8743, 0.6691, -0.3966, 1.1364, 1.1435, 0.366, 1.1623, -0.3755, 1.0286, 1.0909, -0.0588, 0.5362, 2.9429, 2.8183, 2.8183, 2.7508, 2.7508, 2.7508, 2.7226, 2.6966, 2.6966, 2.6966, 2.6966, 2.6966, 2.6966, 2.6966, 2.6965, 2.6965, 2.6965, 2.6964, 2.62, 2.62, 2.62, 2.62, 2.62, 2.62, 2.5628, 2.5245, 2.5245, 2.5245, 2.5245, 2.5245, 2.4016, 2.4599, 2.3228, 1.9416, 2.3684, 1.9675, 1.8877, 1.8056, 1.9256, 1.5853, 0.4613, 2.033, 0.5758, 0.6229, 1.0741, -0.163, -0.443, 0.3714, 1.4328, 0.1877, 0.6752, 0.6023, -0.2987, -0.1745, -0.5783, -0.0586, 1.1544, 3.3423, 3.2889, 3.2708, 3.2336, 3.1937, 3.1323, 3.1322, 3.1322, 3.1321, 3.087, 3.0595, 3.0461, 3.0461, 3.0461, 3.0461, 3.0461, 3.0461, 3.0461, 2.9399, 2.9399, 2.9399, 2.9398, 2.9398, 2.8326, 2.7905, 2.7374, 2.7374, 2.7374, 2.7374, 2.7374, 2.698, 2.6355, 2.4017, 2.1831, 1.5904, 1.9187, 1.9004, 1.4044, 0.8324, 0.1886, -0.2536, 0.4772, 0.9953, 1.5174, 1.0901, 1.6382, 0.1268, -0.3573, 1.1258, 0.797, -1.3861]}, \"token.table\": {\"Topic\": [1, 1, 2, 3, 4, 5, 8, 9, 1, 7, 2, 9, 2, 4, 6, 1, 4, 1, 1, 2, 4, 5, 3, 6, 4, 6, 1, 5, 6, 5, 7, 10, 6, 7, 9, 7, 1, 3, 4, 5, 6, 9, 5, 1, 2, 3, 4, 5, 7, 8, 9, 10, 6, 9, 10, 6, 7, 2, 3, 1, 2, 5, 6, 8, 9, 8, 1, 2, 3, 5, 6, 7, 9, 10, 3, 9, 1, 2, 3, 4, 5, 6, 7, 8, 9, 10, 5, 10, 3, 2, 10, 8, 1, 2, 4, 9, 4, 7, 9, 2, 3, 8, 9, 5, 7, 10, 8, 3, 9, 9, 6, 1, 5, 7, 8, 6, 2, 3, 7, 8, 4, 8, 1, 2, 3, 4, 5, 7, 10, 5, 7, 10, 5, 7, 8, 1, 2, 8, 10, 2, 5, 7, 3, 10, 6, 5, 4, 6, 10, 5, 1, 2, 3, 4, 5, 6, 7, 8, 9, 10, 3, 2, 3, 5, 6, 8, 1, 2, 3, 4, 5, 1, 1, 7, 3, 10, 4, 6, 5, 9, 8, 3, 7, 9, 10, 3, 4, 6, 7, 2, 1, 5, 6, 2, 8, 1, 3, 5, 6, 1, 2, 3, 10, 1, 7, 10, 8, 1, 2, 4, 6, 1, 6, 10, 3, 1, 2, 4, 7, 8, 1, 3, 4, 6, 8, 9, 2, 5, 8, 2, 4, 6, 2, 6, 3, 6, 10, 6, 8, 5, 2, 7, 2, 4, 5, 1, 2, 8, 9, 2, 3, 8, 9, 2, 3, 4, 8, 10, 1, 2, 3, 5, 7, 8, 9, 10, 5, 9, 2, 6, 5, 2, 7, 2, 1, 3, 4, 5, 7, 10, 10, 2, 3, 7, 10, 2, 5, 3, 2, 1, 4, 7, 2, 1, 5, 8, 9, 3, 1, 3, 9, 1, 5, 1, 3, 6, 8, 2, 5, 7, 2, 3, 7, 1, 7, 6, 7, 6, 8, 9, 5, 1, 2, 3, 5, 6, 7, 2, 10, 1, 3, 6, 9, 2, 8, 3, 1, 4, 6, 8, 3, 1, 7, 1, 5, 9, 4, 1, 10, 4, 8, 1, 6, 3, 9, 1, 8, 1, 2, 3, 4, 5, 6, 7, 9, 1, 2, 3, 4, 5, 9, 10, 1, 2, 3, 4, 5, 6, 7, 10, 1, 3, 4, 5, 6, 7, 9, 3, 4, 5, 10, 6, 7, 8, 2, 3, 7, 8, 1, 3, 5, 7, 2, 8, 10, 4, 7, 2, 4, 2, 4, 6, 6, 5, 2, 5, 7, 5, 2, 3, 4, 5, 6, 7, 9, 6, 5, 6, 8, 10, 2, 7, 10, 2, 5, 2, 3, 4, 1, 3, 1, 9, 10, 6, 2, 1, 2, 5, 1, 5, 7, 9, 1, 4, 5, 1, 2, 3, 5, 6, 7, 8, 9, 1, 5, 7, 8, 1, 1, 2, 4, 5, 6, 9, 1, 2, 3, 9, 3, 5, 9, 9, 1, 2, 3, 4, 5, 7, 8, 10, 2, 10, 1, 3, 4, 4, 4, 1, 5, 7, 9, 2, 3, 4, 1, 7, 1, 2, 4, 5, 6, 8, 9, 1, 2, 3, 4, 5, 7, 8, 1, 3, 7, 8, 1, 3, 4, 6, 7, 8, 3, 5, 10, 1, 3, 8, 9, 1, 3, 5, 2, 3, 9, 1, 10, 7, 7, 9, 3, 4, 9, 10, 1, 4, 10, 1, 3, 4, 9, 1, 1, 2, 5, 7, 9, 4, 7, 5, 7, 1, 7, 9, 7, 8, 5, 8, 1, 1, 2, 7, 9, 2, 3, 5, 10, 3, 7, 8, 1, 3, 4, 5, 9, 1, 2, 3, 4, 5, 8, 10, 3, 2, 2, 3, 4, 10, 4, 6, 7, 8, 9, 1, 3, 4, 5, 7, 9, 1, 3, 4, 8, 8, 1, 1, 2, 8, 1, 2, 3, 4, 5, 6, 7, 8, 10, 8, 3, 7, 6, 8, 9, 3, 1, 5, 7, 5, 6, 8, 6, 6, 1, 6, 7, 1, 4, 3, 1, 8, 3, 4, 6, 4, 5, 6, 2, 3, 2, 7, 1, 2, 3, 5, 2, 7, 10, 1, 1, 2, 3, 6, 7, 8, 9, 1, 2, 3, 6, 10, 6, 9, 3, 4, 5, 4, 5, 9, 3, 5, 1, 2, 5, 8, 1, 3, 5, 8, 5, 4, 1, 3, 4, 6, 7, 8, 9, 1, 4, 5, 9, 3, 4, 9, 7, 9, 2, 3, 4, 5, 9, 9, 8, 6, 10, 4, 1, 3, 4, 5, 6, 8, 9, 2, 1, 2, 1, 6, 7, 10, 5, 1, 3, 4, 5, 6, 7, 9, 4, 4, 8, 9, 8, 5, 1, 3, 5, 7, 9, 2, 3, 7, 9, 2, 1, 5, 3, 4, 8, 1, 3, 4, 8, 10, 9, 9, 6, 2, 4, 2, 7, 8, 1, 6, 7, 8, 4, 2, 5, 7, 8, 1, 4, 8, 1, 4, 10, 7, 2, 8, 2, 5, 7, 9, 8, 8, 2, 1, 1, 2, 4, 7, 8, 2, 6, 3, 9, 1, 2, 3, 7, 8, 9, 1, 6, 1, 9, 1, 4, 6, 8, 10, 4, 4, 1, 2, 3, 5, 6, 7, 8, 9, 1, 1, 2, 3, 4, 7, 8, 2, 3, 1, 1, 2, 3, 5, 6, 9, 1, 2, 3, 5, 6, 7, 8, 8, 10, 1, 2, 4, 6, 7, 8, 9, 9, 7, 3, 5, 1, 2, 3, 5, 4, 3, 5, 3, 4, 5, 9, 1, 4, 8, 9, 4, 3, 6, 5, 1, 10, 5, 2, 4, 7, 9, 1, 4, 7, 2, 2, 2, 3, 6, 9, 10, 7, 3, 2, 9, 2, 3, 4, 8, 10, 10, 9, 7, 1, 2, 5, 6, 9, 2, 3, 9, 1, 2, 4, 5, 7, 1, 3, 4, 5, 6, 7, 8, 9, 10, 5, 7, 8, 2, 8, 7, 3, 1, 5, 6, 1, 3, 4, 6, 5, 1, 4, 5, 9, 3, 7, 1, 3, 5, 6, 1, 2, 3, 4, 1, 2, 3, 4, 5, 6], \"Freq\": [0.7826267278587825, 0.3425679308189435, 0.04893827583127765, 0.14681482749383293, 0.29362965498766586, 0.04893827583127765, 0.0978765516625553, 0.9265604196493031, 0.8085068697892179, 0.13475114496486967, 0.8903097747529384, 0.5015098944379446, 0.7226738578423493, 0.18066846446058732, 0.786702044668593, 0.6568023622300441, 0.24630088583626653, 0.9373816603656766, 0.6602835827219519, 0.8894625171355354, 0.5526110025756577, 0.2763055012878288, 0.25393259011163166, 0.5078651802232633, 0.7235163128594952, 0.925656039132867, 0.33966262742375075, 0.42457828427968847, 0.2547469705678131, 0.7195969650317443, 0.23986565501058144, 0.4799038563761022, 0.3096134412700915, 0.619226882540183, 0.8334019247748647, 0.7388671471276643, 0.5280839482384682, 0.17602798274615605, 0.08801399137307803, 0.08801399137307803, 0.04400699568653901, 0.08801399137307803, 0.7963092559244312, 0.4924659091647237, 0.20519412881863489, 0.024623295458236185, 0.03283106061098158, 0.10670094698569013, 0.05745435606921776, 0.04924659091647237, 0.024623295458236185, 0.008207765152745395, 0.2807510454786837, 0.5615020909573674, 0.47990827798594987, 0.7567761126403557, 0.7388759902491592, 0.29526683927789027, 0.7381670981947256, 0.5555125728960528, 0.12344723842134507, 0.12344723842134507, 0.030861809605336268, 0.061723619210672535, 0.0925854288160088, 0.8392217051798301, 0.3160037846827412, 0.11850141925602796, 0.11850141925602796, 0.0790009461706853, 0.0790009461706853, 0.03950047308534265, 0.11850141925602796, 0.0790009461706853, 0.8701829124167894, 0.5814613048554778, 0.216915131739121, 0.14307168263644152, 0.10614995808510176, 0.0738434491026795, 0.059997802395927086, 0.2030694850323686, 0.11999560479185417, 0.04615215568917468, 0.009230431137834937, 0.02307607784458734, 0.2827580264660685, 0.565516052932137, 0.45867546024624894, 0.6754147023067646, 0.2701658809227058, 0.6837368686205362, 0.9136592686075878, 0.8913902430885544, 0.40721896876511743, 0.6108284531476761, 0.740812546084837, 0.24693751536161235, 0.8631166533183946, 0.33297966910046123, 0.4661715367406457, 0.13319186764018448, 0.06659593382009224, 0.4657663846205716, 0.8431866941310427, 0.4799124001725262, 0.5000162878331904, 0.8701836623586044, 0.757465824703979, 0.501509960277572, 0.8623792359451459, 0.6251483907479471, 0.1645127344073545, 0.18096400784808997, 0.0329025468814709, 0.7206818391773316, 0.5312207007079313, 0.05312207007079312, 0.2124882802831725, 0.2124882802831725, 0.2558491541251327, 0.7675474623753982, 0.14498660010951744, 0.2609758801971314, 0.11598928008761396, 0.14498660010951744, 0.23197856017522792, 0.05799464004380698, 0.02899732002190349, 0.5846412736707423, 0.3897608491138282, 0.7664434978518699, 0.25002293185284974, 0.7500687955585492, 0.7548401426438881, 0.17662860309816353, 0.5298858092944906, 0.17662860309816353, 0.058876201032721176, 0.1885867196733443, 0.1885867196733443, 0.612906838938369, 0.8701830026361445, 0.47991140648045644, 0.756774551249686, 0.5441557402531809, 0.8883413908051592, 0.7814333497573754, 0.633626580037714, 0.9208986221541451, 0.4553206269915379, 0.2017898233257952, 0.09830786264590023, 0.005174098033994749, 0.12417835281587399, 0.020696392135978996, 0.05174098033994749, 0.015522294101984248, 0.031044588203968496, 0.005174098033994749, 0.8001946281973928, 0.2989657333909059, 0.07474143334772647, 0.14948286669545294, 0.14948286669545294, 0.2989657333909059, 0.17938962170316858, 0.17938962170316858, 0.08969481085158429, 0.08969481085158429, 0.4484740542579215, 0.647243131514565, 0.6602782162973204, 0.7388748250794279, 0.3122756930080487, 0.6245513860160974, 0.8601405887319064, 0.8416166571095383, 0.46576637555597145, 0.5814613048554778, 0.8603044483993202, 0.7831692929012418, 0.9020542124747334, 0.8631181579456113, 0.6336195861526036, 0.2459306268605477, 0.12296531343027385, 0.5533439104362323, 0.061482656715136925, 0.7558506008413085, 0.23291854744791138, 0.6987556423437341, 0.9245340074219973, 0.17126164793882534, 0.6850465917553014, 0.16328038170312398, 0.10885358780208265, 0.27213396950520663, 0.4354143512083306, 0.6517363837071647, 0.17774628646559035, 0.11849752431039356, 0.8237860303476439, 0.2457600737877808, 0.7372802213633424, 0.766444882236657, 0.7548412370730898, 0.36218555385719386, 0.07243711077143877, 0.21731133231431632, 0.2897484430857551, 0.21588693347449434, 0.6908381871183819, 0.043177386694898866, 0.4586754488572477, 0.16560427988507195, 0.2208057065134293, 0.16560427988507195, 0.2208057065134293, 0.2208057065134293, 0.6457240781078226, 0.12914481562156452, 0.04304827187385484, 0.08609654374770968, 0.04304827187385484, 0.04304827187385484, 0.2263660221011627, 0.07545534070038756, 0.6790980663034881, 0.8877753750021541, 0.4724802290965872, 0.7567762519451916, 0.5047797241863133, 0.3365198161242089, 0.62921910826848, 0.13982646850410668, 0.20973970275616002, 0.9300812225451154, 0.8603012090337807, 0.4657663846205716, 0.7558513852335413, 0.7388745512457072, 0.7558448133387223, 0.5587615147720112, 0.447009211817609, 0.2684964265707, 0.2684964265707, 0.335620533213375, 0.13424821328535, 0.2908799386570546, 0.19391995910470305, 0.2908799386570546, 0.19391995910470305, 0.4580922951902693, 0.5497107542283232, 0.8601402430013395, 0.7548412647289472, 0.7724368112379818, 0.2590439083014511, 0.15110894650917978, 0.17269593886763404, 0.021586992358454255, 0.17269593886763404, 0.12952195415072554, 0.07555447325458989, 0.021586992358454255, 0.723335709837642, 0.24111190327921397, 0.8324879796909369, 0.7567761126403557, 0.7963210487802994, 0.7558609228742119, 0.7388759902491592, 0.7317738623724852, 0.6896464244498384, 0.2586174091686894, 0.9061664277984914, 0.253051503142073, 0.6326287578551825, 0.766444882236657, 0.7664448957890846, 0.2750039276833471, 0.18333595178889808, 0.09166797589444904, 0.4583398794722452, 0.43111976731833956, 0.43111976731833956, 0.829229782923864, 0.7558515524511675, 0.18674671630051226, 0.18674671630051226, 0.5602401489015367, 0.7558456958329299, 0.6437016620005218, 0.19311049860015655, 0.06437016620005219, 0.06437016620005219, 0.7831624061864799, 0.2659661082445328, 0.5984237435501989, 0.0664915270611332, 0.5797662736715948, 0.41411876690828203, 0.47788891069721656, 0.3584166830229124, 0.05973611383715207, 0.05973611383715207, 0.4426391630656308, 0.12646833230446594, 0.4426391630656308, 0.2571337218948006, 0.6428343047370014, 0.1285668609474003, 0.20783179166061042, 0.6234953749818313, 0.2050151231985637, 0.8200604927942547, 0.7567758880896227, 0.6286064151755858, 0.20953547172519524, 0.6953636683251369, 0.20990572979128577, 0.27987430638838107, 0.13993715319419053, 0.13993715319419053, 0.06996857659709527, 0.13993715319419053, 0.5042661120799371, 0.33617740805329144, 0.6615616943301998, 0.12404281768691248, 0.12404281768691248, 0.04134760589563749, 0.42343037504864156, 0.5645738333981887, 0.783160154567085, 0.7826170017029157, 0.8601390842193657, 0.9256564365719142, 0.8603074805522096, 0.9284411986499408, 0.24086466118637923, 0.7225939835591377, 0.5960806647481338, 0.14902016618703345, 0.2235302492805502, 0.720689733125451, 0.15431412863561603, 0.7715706431780801, 0.8095355438266731, 0.5000162878331904, 0.41918951242550284, 0.41918951242550284, 0.8001940841780152, 0.8631114575331114, 0.7826175455520007, 0.4999021546258535, 0.31129071161952276, 0.12049963030433139, 0.16066617373910852, 0.04016654343477713, 0.09037472272824854, 0.1104579944456371, 0.13054126616302567, 0.030124907576082847, 0.42386010680291125, 0.18649844699328094, 0.1695440427211645, 0.01695440427211645, 0.1017264256326987, 0.05086321281634935, 0.05086321281634935, 0.6470548888932327, 0.04792999176986909, 0.023964995884934545, 0.023964995884934545, 0.04792999176986909, 0.07988331961644848, 0.09585998353973818, 0.031953327846579394, 0.2833892838488608, 0.06297539641085796, 0.1416946419244304, 0.09446309461628694, 0.20467003833528835, 0.1731823401298594, 0.03148769820542898, 0.18502147037707595, 0.4933905876722025, 0.24669529383610125, 0.766445685980086, 0.2154695498293923, 0.4309390996587846, 0.3591159163823205, 0.31613202023239895, 0.10537734007746632, 0.5268867003873317, 0.7842731563337643, 0.3740583769371452, 0.3117153141142877, 0.1870291884685726, 0.06234306282285754, 0.315166894050904, 0.630333788101808, 0.8484603235980279, 0.5455848972245929, 0.4091886729184447, 0.9609083894450277, 0.7069227551537005, 0.8877752407039853, 0.25643834528995263, 0.7693150358698578, 0.5011172053541131, 0.5441557402531809, 0.5135674255744634, 0.2567837127872317, 0.17118914185815448, 0.7963091494206932, 0.05957715088171795, 0.05957715088171795, 0.5719406484644923, 0.1191543017634359, 0.08340801123440514, 0.05957715088171795, 0.03574629052903077, 0.7567761126403557, 0.29179676896060003, 0.07294919224015001, 0.43769515344090004, 0.21884757672045002, 0.31371207492065684, 0.6274241498413137, 0.5524175323911457, 0.8877752407039853, 0.7089976953302981, 0.09923765145815786, 0.3969506058326314, 0.4961882572907893, 0.8743416424347763, 0.4586754488572477, 0.23003952379664067, 0.23003952379664067, 0.46007904759328133, 0.7867028662629094, 0.7965991292196373, 0.3112054203500301, 0.3734465044200362, 0.3112054203500301, 0.8034283612753097, 0.7963064729736078, 0.7530079765636155, 0.757465824703979, 0.6472435776282532, 0.8883431999717311, 0.7663475288656758, 0.5102434898383476, 0.060028645863335006, 0.18008593759000502, 0.060028645863335006, 0.060028645863335006, 0.07503580732916876, 0.045021484397501255, 0.015007161465833752, 0.9736702534476576, 0.14352879326849868, 0.28705758653699737, 0.5741151730739947, 0.8740207124893935, 0.2569951224700984, 0.1284975612350492, 0.1927463418525738, 0.1284975612350492, 0.0642487806175246, 0.2569951224700984, 0.6537410307393487, 0.0871654707652465, 0.174330941530493, 0.04358273538262325, 0.4586754488572477, 0.6953636683251369, 0.8631071679358148, 0.8631173687830701, 0.23354003475228322, 0.10615456125103784, 0.042461824500415135, 0.16984729800166054, 0.1910782102518681, 0.0636927367506227, 0.0636927367506227, 0.14861638575145297, 0.6845511791173804, 0.13691023582347606, 0.4911727502094794, 0.15113007698753214, 0.3400426732219473, 0.8087901207913624, 0.9184540366189955, 0.3374223499977553, 0.06748446999955106, 0.5398757599964085, 0.06748446999955106, 0.5004222194182777, 0.10008444388365555, 0.4003377755346222, 0.2940242135782276, 0.5880484271564552, 0.25550910065534077, 0.1490469753822821, 0.02129242505461173, 0.17033940043689383, 0.2768015257099525, 0.10646212527305865, 0.02129242505461173, 0.29269528267330946, 0.02926952826733095, 0.29269528267330946, 0.32196481094064044, 0.0585390565346619, 0.5208386058229506, 0.39062895436721295, 0.18371076786088208, 0.12247384524058806, 0.4286584583420582, 0.18371076786088208, 0.2319231089470388, 0.2740909469374095, 0.1897552709566681, 0.06325175698555603, 0.10541959497592672, 0.12650351397111206, 0.7656738710996291, 0.25522462369987636, 0.633626580037714, 0.41411060966449204, 0.06901843494408201, 0.20705530483224602, 0.27607373977632804, 0.6962661955113938, 0.17406654887784845, 0.08703327443892422, 0.358897241348536, 0.47852965513138135, 0.5814613048554778, 0.7826219824400901, 0.6986312117391528, 0.8841249231263927, 0.6604970894232415, 0.22016569647441384, 0.7831607107035027, 0.6222037545395516, 0.1555509386348879, 0.1555509386348879, 0.7425379557147203, 0.14850759114294407, 0.5524172837879614, 0.2626215796672251, 0.0875405265557417, 0.5252431593344502, 0.0875405265557417, 0.9398820880528496, 0.6114632425281792, 0.032182275922535745, 0.16091137961267873, 0.1930936555352145, 0.5814613048554778, 0.3812638075849015, 0.5718957113773523, 0.29869553060975923, 0.5973910612195185, 0.47096859696134263, 0.47096859696134263, 0.07849476616022377, 0.738876250383448, 0.5000162878331904, 0.4657663846205716, 0.9230976596790804, 0.8740223882644341, 0.27616642965984, 0.27616642965984, 0.13808321482992, 0.27616642965984, 0.29316967359317936, 0.29316967359317936, 0.19544644906211955, 0.09772322453105978, 0.6031864882532338, 0.2680828836681039, 0.06702072091702597, 0.42672280616917935, 0.05334035077114742, 0.10668070154229484, 0.32004210462688454, 0.10668070154229484, 0.43791420649892837, 0.25213242192362545, 0.07962076481798698, 0.06635063734832249, 0.06635063734832249, 0.026540254939328992, 0.06635063734832249, 0.8648259478765263, 0.8877752516813272, 0.31742974779753874, 0.23807231084815406, 0.23807231084815406, 0.15871487389876937, 0.2183624517693153, 0.6550873553079459, 0.6686998762245123, 0.9227941673209461, 0.757465824703979, 0.19710185479040118, 0.29565278218560176, 0.19710185479040118, 0.19710185479040118, 0.09855092739520059, 0.5015092462543936, 0.2555572958028873, 0.12777864790144364, 0.2555572958028873, 0.31944661975360905, 0.5000163041559708, 0.7826324016687828, 0.8740660365254541, 0.8894610325808232, 0.5000162878331904, 0.29733826996020296, 0.1651879277556683, 0.06607517110226732, 0.09911275665340098, 0.06607517110226732, 0.13215034220453464, 0.03303758555113366, 0.03303758555113366, 0.09911275665340098, 0.8602996902192274, 0.4586754488572477, 0.7605143992574456, 0.18475750329339763, 0.36951500658679526, 0.36951500658679526, 0.8292336475668712, 0.6472467606056106, 0.5517356785711934, 0.367823785714129, 0.6159430240541584, 0.2053143413513861, 0.10265717067569305, 0.7567754232076421, 0.8416169567752048, 0.10282137328108801, 0.20564274656217602, 0.51410686640544, 0.782617928895497, 0.8087881744518481, 0.4586754534832141, 0.21625257792526453, 0.6487577337757936, 0.7831597437620383, 0.8087929977088022, 0.8623798074136928, 0.8087942750375823, 0.22154160280348825, 0.6646248084104648, 0.7742851347326126, 0.12904752245543544, 0.25909232788472525, 0.6477308197118131, 0.5089580350059614, 0.1526874105017884, 0.10179160700119227, 0.2544790175029807, 0.26584633234062743, 0.13292316617031372, 0.5316926646812549, 0.9705405598161964, 0.32302034239956906, 0.06460406847991382, 0.016151017119978454, 0.11305711983984917, 0.2422652567996768, 0.16151017119978453, 0.08075508559989227, 0.36424297560882335, 0.2913943804870587, 0.14569719024352934, 0.18212148780441167, 0.036424297560882335, 0.7397922322614211, 0.18494805806535528, 0.7516176173339192, 0.4724803971555156, 0.6953636683251369, 0.8601454293212067, 0.4657663740452048, 0.5814613048554778, 0.9332754498493482, 0.8717347953069947, 0.6187348398066134, 0.11249724360120243, 0.22499448720240486, 0.056248621800601216, 0.5084468414136697, 0.25422342070683485, 0.18158815764773917, 0.03631763152954783, 0.7963055895769002, 0.8601391215178169, 0.5069350355949855, 0.15208051067849568, 0.15208051067849568, 0.05069350355949856, 0.05069350355949856, 0.02534675177974928, 0.02534675177974928, 0.5094590866025268, 0.0849098477670878, 0.0849098477670878, 0.3396393910683512, 0.7831600828890339, 0.9396874683194373, 0.5015099605445423, 0.34058637169819383, 0.6811727433963877, 0.3303836272783536, 0.1651918136391768, 0.0825959068195884, 0.1651918136391768, 0.1651918136391768, 0.5015101345046398, 0.860307024103562, 0.7567572941030666, 0.5524195205031477, 0.7069192619785459, 0.413702782357046, 0.06161530801062387, 0.05281312115196332, 0.3520874743464221, 0.07921968172794498, 0.01760437371732111, 0.008802186858660554, 0.6712269245797481, 0.9927038730101466, 0.7558480059130418, 0.37308959010624665, 0.4352711884572878, 0.18654479505312332, 0.552419267942292, 0.8885692554671832, 0.0627896475617267, 0.03139482378086335, 0.2511585902469068, 0.1883689426851801, 0.1883689426851801, 0.21976376646604343, 0.03139482378086335, 0.4724814007335521, 0.6275839610155679, 0.20919465367185597, 0.8631178253301688, 0.9230955553205157, 0.796305732389482, 0.33436364091151294, 0.0668727281823026, 0.1337454563646052, 0.1337454563646052, 0.33436364091151294, 0.11685671294524619, 0.7011402776714771, 0.11685671294524619, 0.058428356472623094, 0.8894587387246228, 0.3677334524018769, 0.5516001786028153, 0.2167556392364377, 0.2167556392364377, 0.4335112784728754, 0.4993745617955778, 0.14687487111634642, 0.11749989689307713, 0.1762498453396157, 0.029374974223269283, 0.5015099605445423, 0.863118391858547, 0.756775369251256, 0.8894613799295321, 0.8601391492791691, 0.07665287436633528, 0.3832643718316764, 0.5365701205643469, 0.2829186061926949, 0.3960860486697728, 0.05658372123853897, 0.22633488495415588, 0.9261168953740602, 0.889457974433125, 0.7963044419736078, 0.7388671471276643, 0.6837364247791649, 0.46651024147031284, 0.09330204829406256, 0.37320819317625026, 0.2251962809301148, 0.2251962809301148, 0.4503925618602296, 0.8431882231554291, 0.2504858258953946, 0.5009716517907892, 0.13505094106985108, 0.27010188213970215, 0.47267829374447873, 0.8631182117719179, 0.7548267916953781, 0.8392241560631352, 0.7558680203343429, 0.9444191261843887, 0.18008250053007602, 0.18008250053007602, 0.18008250053007602, 0.18008250053007602, 0.24011000070676802, 0.8094075881447024, 0.8623766146571101, 0.854359552255727, 0.9265672588597319, 0.040765842814694954, 0.36689258533225455, 0.20382921407347476, 0.040765842814694954, 0.2445950568881697, 0.08153168562938991, 0.8738280085834365, 0.7206817137046384, 0.25720505920591186, 0.6430126480147796, 0.3900160987123874, 0.3120128789699099, 0.15600643948495496, 0.07800321974247748, 0.6336227748512642, 0.706920468153427, 0.8087898756681248, 0.18924009140589057, 0.03440728934652556, 0.0860182233663139, 0.03440728934652556, 0.27525831477220447, 0.2580546700989417, 0.05161093401978834, 0.05161093401978834, 0.9444167028701534, 0.03416753594865921, 0.17083767974329606, 0.2733402875892737, 0.17083767974329606, 0.3075078235379329, 0.03416753594865921, 0.18488844699369458, 0.7395537879747783, 0.718526868563968, 0.6645757759725452, 0.0841235159458918, 0.01682470318917836, 0.21030878986472953, 0.00841235159458918, 0.00841235159458918, 0.0970014446666903, 0.14550216700003546, 0.3395050563334161, 0.14550216700003546, 0.12933525955558708, 0.08083453722224193, 0.03233381488889677, 0.7548415547621364, 0.5524195280549891, 0.09892505318175365, 0.16487508863625608, 0.16487508863625608, 0.32975017727251216, 0.06595003545450243, 0.13190007090900485, 0.09892505318175365, 0.863118351047033, 0.8431854403160135, 0.932196416630941, 0.5441551444572195, 0.220190561937488, 0.5137779778541387, 0.14679370795832533, 0.07339685397916267, 0.706934711004104, 0.6789439799248589, 0.22631465997495298, 0.21710505045851805, 0.5427626261462951, 0.1447367003056787, 0.09046043769104918, 0.4721503458921715, 0.262305747717873, 0.20984459817429843, 0.05246114954357461, 0.8087847417706993, 0.7807609068268422, 0.2602536356089474, 0.5441562719283793, 0.873830641001128, 0.5524195280549891, 0.950133810351116, 0.12835817079905804, 0.5134326831962321, 0.25671634159811607, 0.8631172519577538, 0.306790485789306, 0.51131747631551, 0.102263495263102, 0.8877752571699982, 0.755844642882723, 0.1327213117049607, 0.2654426234099214, 0.1327213117049607, 0.5308852468198428, 0.633626580037714, 0.9160466040029456, 0.8648262382937185, 0.326714718399124, 0.653429436798248, 0.046332503504061213, 0.6023225455527957, 0.13899751051218365, 0.09266500700812243, 0.09266500700812243, 0.5524192569114497, 0.8631123670032109, 0.7388516873213393, 0.5763313387261102, 0.10722443511183447, 0.21444887022366893, 0.05361221755591723, 0.04020916316693792, 0.28443206158640755, 0.5688641231728151, 0.14221603079320377, 0.4358316898960609, 0.17433267595842436, 0.04358316898960609, 0.21791584494803046, 0.08716633797921218, 0.4458548915585411, 0.08256572065898908, 0.016513144131797816, 0.08256572065898908, 0.11559200892258473, 0.08256572065898908, 0.06605257652719126, 0.06605257652719126, 0.03302628826359563, 0.8717337485456618, 0.9020537230679976, 0.7548412003715694, 0.7069362235893206, 0.17673405589733016, 0.8765007297935699, 0.4586754488572477, 0.173836494699216, 0.347672989398432, 0.463563985864576, 0.7826220001073093, 0.15607443495092788, 0.6242977398037115, 0.15607443495092788, 0.5441551444572195, 0.15895319471789385, 0.5563361815126285, 0.07947659735894692, 0.15895319471789385, 0.49119440944594145, 0.4093286745382846, 0.27373343853218957, 0.20530007889914217, 0.06843335963304739, 0.34216679816523693, 0.25034669169756796, 0.4172444861626133, 0.08344889723252265, 0.1668977944650453, 0.6255420685131857, 0.07819275856414822, 0.15638551712829643, 0.03909637928207411, 0.03909637928207411, 0.7866994307010601], \"Term\": [\"able\", \"absolutely\", \"absolutely\", \"absolutely\", \"absolutely\", \"absolutely\", \"absolutely\", \"absurd\", \"accommodate\", \"accommodate\", \"accomodate\", \"accuse\", \"acknowledge\", \"acknowledge\", \"act\", \"actually\", \"actually\", \"add\", \"additional\", \"advise\", \"ago\", \"ago\", \"agree\", \"agree\", \"allow\", \"annoy\", \"anymore\", \"anymore\", \"anymore\", \"anytime\", \"anytime\", \"apparent\", \"apparently\", \"apparently\", \"appetite\", \"appetize\", \"arrive\", \"arrive\", \"arrive\", \"arrive\", \"arrive\", \"arrive\", \"arrogant\", \"ask\", \"ask\", \"ask\", \"ask\", \"ask\", \"ask\", \"ask\", \"ask\", \"ask\", \"assume\", \"assume\", \"attempt\", \"attend\", \"attract\", \"available\", \"available\", \"away\", \"away\", \"away\", \"away\", \"away\", \"away\", \"awesome\", \"awful\", \"awful\", \"awful\", \"awful\", \"awful\", \"awful\", \"awful\", \"awful\", \"awhile\", \"ayce\", \"bad\", \"bad\", \"bad\", \"bad\", \"bad\", \"bad\", \"bad\", \"bad\", \"bad\", \"bad\", \"badly\", \"badly\", \"bag\", \"barely\", \"barely\", \"base\", \"be\", \"begin\", \"believe\", \"believe\", \"better\", \"better\", \"beware\", \"big\", \"big\", \"big\", \"big\", \"bitchy\", \"bite\", \"bitter\", \"blabber\", \"black\", \"blatantly\", \"block\", \"booth\", \"bring\", \"bring\", \"bring\", \"bring\", \"brown\", \"busy\", \"busy\", \"busy\", \"busy\", \"buy\", \"buy\", \"call\", \"call\", \"call\", \"call\", \"call\", \"call\", \"call\", \"care\", \"care\", \"carry\", \"celebrate\", \"celebrate\", \"certain\", \"change\", \"change\", \"change\", \"change\", \"charge\", \"charge\", \"charge\", \"cheap\", \"chef\", \"chip\", \"classy\", \"clean\", \"clearly\", \"clutter\", \"cold\", \"come\", \"come\", \"come\", \"come\", \"come\", \"come\", \"come\", \"come\", \"come\", \"come\", \"compare\", \"complain\", \"complain\", \"complain\", \"complain\", \"complain\", \"completely\", \"completely\", \"completely\", \"completely\", \"completely\", \"concerned\", \"confuse\", \"constantly\", \"cook\", \"cook\", \"cooked\", \"cool\", \"corporate\", \"correctly\", \"count\", \"cover\", \"crave\", \"crowd\", \"cry\", \"cuban\", \"cuban\", \"cuban\", \"cuban\", \"currently\", \"damn\", \"damn\", \"dark\", \"decent\", \"decent\", \"decide\", \"decide\", \"decide\", \"decide\", \"definitely\", \"definitely\", \"definitely\", \"deliver\", \"deny\", \"deny\", \"desire\", \"dietary\", \"different\", \"different\", \"different\", \"different\", \"dirty\", \"dirty\", \"dirty\", \"disable\", \"disappoint\", \"disappoint\", \"disappoint\", \"disappoint\", \"disappoint\", \"disappointed\", \"disappointed\", \"disappointed\", \"disappointed\", \"disappointed\", \"disappointed\", \"disappointing\", \"disappointing\", \"disappointing\", \"disconnect\", \"discriminate\", \"disguise\", \"disgust\", \"disgust\", \"disgusting\", \"disgusting\", \"disgusting\", \"dish\", \"disorganized\", \"displeased\", \"disrespectful\", \"dissapointe\", \"drastically\", \"drink\", \"drink\", \"drive\", \"drive\", \"drive\", \"drive\", \"drop\", \"drop\", \"drop\", \"drop\", \"dry\", \"dry\", \"dumb\", \"dump\", \"earn\", \"eat\", \"eat\", \"eat\", \"eat\", \"eat\", \"eat\", \"eat\", \"eat\", \"eaten\", \"eaten\", \"edible\", \"email\", \"embarrassed\", \"embarrassing\", \"embarrassment\", \"encounter\", \"end\", \"end\", \"enter\", \"entire\", \"entire\", \"epic\", \"esp\", \"especially\", \"especially\", \"especially\", \"especially\", \"estimate\", \"estimate\", \"exactly\", \"excess\", \"excited\", \"excited\", \"excited\", \"excuse\", \"expect\", \"expect\", \"expect\", \"expect\", \"experienced\", \"explain\", \"explain\", \"explain\", \"extra\", \"extra\", \"extremely\", \"extremely\", \"extremely\", \"extremely\", \"far\", \"far\", \"far\", \"fast\", \"fast\", \"fast\", \"fat\", \"fat\", \"fault\", \"fault\", \"favor\", \"favorite\", \"favorite\", \"fcke\", \"feel\", \"feel\", \"feel\", \"feel\", \"feel\", \"feel\", \"filthy\", \"filthy\", \"finally\", \"finally\", \"finally\", \"finally\", \"finish\", \"finish\", \"fishy\", \"flag\", \"flat\", \"follow\", \"fooled\", \"force\", \"forever\", \"forever\", \"forget\", \"forget\", \"forget\", \"fourth\", \"fresh\", \"fresh\", \"friendly\", \"frown\", \"fry\", \"fry\", \"fully\", \"funny\", \"garlic\", \"generally\", \"get\", \"get\", \"get\", \"get\", \"get\", \"get\", \"get\", \"get\", \"give\", \"give\", \"give\", \"give\", \"give\", \"give\", \"give\", \"go\", \"go\", \"go\", \"go\", \"go\", \"go\", \"go\", \"go\", \"good\", \"good\", \"good\", \"good\", \"good\", \"good\", \"good\", \"great\", \"great\", \"great\", \"greedy\", \"grill\", \"grill\", \"grill\", \"gross\", \"gross\", \"gross\", \"guess\", \"happen\", \"happen\", \"happen\", \"happen\", \"hard\", \"hard\", \"hate\", \"hear\", \"hear\", \"help\", \"highly\", \"hold\", \"honestly\", \"honestly\", \"honor\", \"hoop\", \"hope\", \"hope\", \"hope\", \"horrendous\", \"horrible\", \"horrible\", \"horrible\", \"horrible\", \"horrible\", \"horrible\", \"horrible\", \"host\", \"hot\", \"hot\", \"hot\", \"hot\", \"hungry\", \"hungry\", \"ignorant\", \"impatient\", \"inaccurate\", \"include\", \"include\", \"include\", \"inconsiderate\", \"incredibly\", \"inedible\", \"inedible\", \"inedible\", \"initially\", \"inside\", \"instead\", \"instead\", \"instead\", \"interested\", \"irritate\", \"japanese\", \"judge\", \"kick\", \"kind\", \"kinda\", \"know\", \"know\", \"know\", \"know\", \"know\", \"know\", \"know\", \"know\", \"korean\", \"large\", \"large\", \"large\", \"lastly\", \"late\", \"late\", \"late\", \"late\", \"late\", \"late\", \"later\", \"later\", \"later\", \"later\", \"laugh\", \"lazy\", \"lead\", \"learn\", \"leave\", \"leave\", \"leave\", \"leave\", \"leave\", \"leave\", \"leave\", \"leave\", \"left\", \"left\", \"let\", \"let\", \"let\", \"like\", \"limit\", \"literally\", \"literally\", \"literally\", \"literally\", \"little\", \"little\", \"little\", \"live\", \"live\", \"long\", \"long\", \"long\", \"long\", \"long\", \"long\", \"long\", \"look\", \"look\", \"look\", \"look\", \"look\", \"loud\", \"loud\", \"low\", \"low\", \"low\", \"low\", \"make\", \"make\", \"make\", \"make\", \"make\", \"make\", \"manage\", \"manage\", \"mandatory\", \"maybe\", \"maybe\", \"maybe\", \"maybe\", \"mean\", \"mean\", \"mean\", \"mediocre\", \"mediocre\", \"mehhh\", \"mention\", \"menus\", \"middle\", \"min\", \"min\", \"miserable\", \"miss\", \"miss\", \"miss\", \"move\", \"move\", \"mule\", \"multiple\", \"multiple\", \"multiple\", \"multiple\", \"nearby\", \"need\", \"need\", \"need\", \"need\", \"newly\", \"nice\", \"nice\", \"normally\", \"normally\", \"notice\", \"notice\", \"notice\", \"noticeable\", \"noticed\", \"oblivious\", \"obnoxious\", \"obvious\", \"obviously\", \"obviously\", \"obviously\", \"obviously\", \"offer\", \"offer\", \"offer\", \"offer\", \"old\", \"old\", \"old\", \"open\", \"open\", \"open\", \"open\", \"open\", \"order\", \"order\", \"order\", \"order\", \"order\", \"order\", \"order\", \"original\", \"outdoor\", \"overall\", \"overall\", \"overall\", \"overall\", \"overprice\", \"overprice\", \"overrate\", \"pass\", \"patiently\", \"pay\", \"pay\", \"pay\", \"pay\", \"pay\", \"physically\", \"place\", \"place\", \"place\", \"place\", \"plastic\", \"plate\", \"point\", \"polite\", \"politely\", \"poor\", \"poor\", \"poor\", \"poor\", \"poor\", \"poor\", \"poor\", \"poor\", \"poor\", \"popular\", \"post\", \"potential\", \"practically\", \"practically\", \"practically\", \"pre\", \"premium\", \"prepare\", \"prepare\", \"pretty\", \"pretty\", \"pretty\", \"previous\", \"price\", \"probably\", \"probably\", \"probably\", \"proceed\", \"professional\", \"promise\", \"proper\", \"proper\", \"pull\", \"push\", \"put\", \"quick\", \"quickly\", \"quickly\", \"raw\", \"raw\", \"read\", \"read\", \"ready\", \"ready\", \"ready\", \"ready\", \"real\", \"real\", \"real\", \"realize\", \"really\", \"really\", \"really\", \"really\", \"really\", \"really\", \"really\", \"receive\", \"receive\", \"receive\", \"receive\", \"receive\", \"refill\", \"refill\", \"remove\", \"report\", \"resort\", \"respond\", \"retail\", \"retrieved\", \"return\", \"review\", \"ridiculous\", \"ridiculous\", \"ridiculous\", \"ridiculous\", \"right\", \"right\", \"right\", \"right\", \"roll\", \"round\", \"rude\", \"rude\", \"rude\", \"rude\", \"rude\", \"rude\", \"rude\", \"ruin\", \"ruin\", \"ruin\", \"ruin\", \"rule\", \"rush\", \"ruthlessly\", \"s\", \"s\", \"sad\", \"sad\", \"sad\", \"sad\", \"sad\", \"sadly\", \"safe\", \"salty\", \"sanitized\", \"save\", \"say\", \"say\", \"say\", \"say\", \"say\", \"say\", \"say\", \"season\", \"seat\", \"seated\", \"see\", \"see\", \"see\", \"seldom\", \"send\", \"serve\", \"serve\", \"serve\", \"serve\", \"serve\", \"serve\", \"serve\", \"service\", \"set\", \"set\", \"severe\", \"shitty\", \"shocked\", \"short\", \"short\", \"short\", \"short\", \"short\", \"sick\", \"sick\", \"sick\", \"sick\", \"significantly\", \"simple\", \"simple\", \"single\", \"single\", \"single\", \"sit\", \"sit\", \"sit\", \"sit\", \"sit\", \"sleep\", \"slice\", \"slick\", \"slight\", \"slightly\", \"slow\", \"slow\", \"slow\", \"small\", \"small\", \"small\", \"small\", \"smell\", \"smelly\", \"snotty\", \"socal\", \"solely\", \"sorry\", \"sorry\", \"sorry\", \"sour\", \"sour\", \"sour\", \"special\", \"specifically\", \"specifically\", \"spend\", \"spend\", \"spend\", \"spill\", \"spoken\", \"squid\", \"standard\", \"stare\", \"start\", \"start\", \"start\", \"start\", \"start\", \"steam\", \"step\", \"stick\", \"sticky\", \"stop\", \"stop\", \"stop\", \"stop\", \"stop\", \"stop\", \"straight\", \"stuck\", \"super\", \"super\", \"sure\", \"sure\", \"sure\", \"sure\", \"sweet\", \"switch\", \"table\", \"take\", \"take\", \"take\", \"take\", \"take\", \"take\", \"take\", \"take\", \"tall\", \"taste\", \"taste\", \"taste\", \"taste\", \"taste\", \"taste\", \"tasteless\", \"tasteless\", \"tasty\", \"tell\", \"tell\", \"tell\", \"tell\", \"tell\", \"tell\", \"terrible\", \"terrible\", \"terrible\", \"terrible\", \"terrible\", \"terrible\", \"terrible\", \"terribly\", \"texturally\", \"think\", \"think\", \"think\", \"think\", \"think\", \"think\", \"think\", \"thinly\", \"thoroughly\", \"throw\", \"tino\", \"tough\", \"tough\", \"tough\", \"tough\", \"traditional\", \"treat\", \"treat\", \"try\", \"try\", \"try\", \"try\", \"turn\", \"turn\", \"turn\", \"turn\", \"typical\", \"typically\", \"typically\", \"unable\", \"unacceptable\", \"unappealing\", \"unbelievable\", \"understand\", \"understand\", \"understand\", \"unfortunate\", \"unfortunately\", \"unfortunately\", \"unfortunately\", \"unhappy\", \"unorganized\", \"unprofessional\", \"unprofessional\", \"unprofessional\", \"unprofessional\", \"unrefilled\", \"unsanitary\", \"update\", \"upsetting\", \"upsetting\", \"use\", \"use\", \"use\", \"use\", \"use\", \"utterly\", \"various\", \"vomit\", \"wait\", \"wait\", \"wait\", \"wait\", \"wait\", \"waited\", \"waited\", \"waited\", \"walk\", \"walk\", \"walk\", \"walk\", \"walk\", \"want\", \"want\", \"want\", \"want\", \"want\", \"want\", \"want\", \"want\", \"want\", \"warm\", \"warn\", \"watch\", \"water\", \"water\", \"way\", \"welcome\", \"well\", \"well\", \"well\", \"will\", \"willing\", \"willing\", \"willing\", \"wonder\", \"work\", \"work\", \"work\", \"work\", \"worst\", \"worst\", \"worth\", \"worth\", \"worth\", \"worth\", \"write\", \"write\", \"write\", \"write\", \"wrong\", \"wrong\", \"wrong\", \"wrong\", \"wrong\", \"yelp\"]}, \"R\": 30, \"lambda.step\": 0.01, \"plot.opts\": {\"xlab\": \"PC1\", \"ylab\": \"PC2\"}, \"topic.order\": [4, 7, 9, 6, 2, 1, 5, 3, 10, 8]};\n",
       "\n",
       "function LDAvis_load_lib(url, callback){\n",
       "  var s = document.createElement('script');\n",
       "  s.src = url;\n",
       "  s.async = true;\n",
       "  s.onreadystatechange = s.onload = callback;\n",
       "  s.onerror = function(){console.warn(\"failed to load library \" + url);};\n",
       "  document.getElementsByTagName(\"head\")[0].appendChild(s);\n",
       "}\n",
       "\n",
       "if(typeof(LDAvis) !== \"undefined\"){\n",
       "   // already loaded: just create the visualization\n",
       "   !function(LDAvis){\n",
       "       new LDAvis(\"#\" + \"ldavis_el63140321440168912602030814\", ldavis_el63140321440168912602030814_data);\n",
       "   }(LDAvis);\n",
       "}else if(typeof define === \"function\" && define.amd){\n",
       "   // require.js is available: use it to load d3/LDAvis\n",
       "   require.config({paths: {d3: \"https://d3js.org/d3.v5\"}});\n",
       "   require([\"d3\"], function(d3){\n",
       "      window.d3 = d3;\n",
       "      LDAvis_load_lib(\"https://cdn.jsdelivr.net/gh/bmabey/pyLDAvis@3.3.1/pyLDAvis/js/ldavis.v3.0.0.js\", function(){\n",
       "        new LDAvis(\"#\" + \"ldavis_el63140321440168912602030814\", ldavis_el63140321440168912602030814_data);\n",
       "      });\n",
       "    });\n",
       "}else{\n",
       "    // require.js not available: dynamically load d3 & LDAvis\n",
       "    LDAvis_load_lib(\"https://d3js.org/d3.v5.js\", function(){\n",
       "         LDAvis_load_lib(\"https://cdn.jsdelivr.net/gh/bmabey/pyLDAvis@3.3.1/pyLDAvis/js/ldavis.v3.0.0.js\", function(){\n",
       "                 new LDAvis(\"#\" + \"ldavis_el63140321440168912602030814\", ldavis_el63140321440168912602030814_data);\n",
       "            })\n",
       "         });\n",
       "}\n",
       "</script>"
      ],
      "text/plain": [
       "PreparedData(topic_coordinates=              x         y  topics  cluster       Freq\n",
       "topic                                                \n",
       "3      0.163257 -0.034461       1        1  26.564809\n",
       "6      0.031109 -0.075134       2        1  11.816461\n",
       "8      0.040283  0.048063       3        1  11.063489\n",
       "5     -0.070053  0.227826       4        1   9.362328\n",
       "1      0.149232  0.024301       5        1   9.281512\n",
       "0     -0.003435 -0.009917       6        1   8.775241\n",
       "4     -0.000666 -0.085026       7        1   8.760918\n",
       "2     -0.171569 -0.118459       8        1   6.920484\n",
       "9     -0.025871  0.005867       9        1   4.634077\n",
       "7     -0.112286  0.016942      10        1   2.820681, topic_info=         Term        Freq       Total Category  logprob  loglift\n",
       "67       wait  149.000000  149.000000  Default  30.0000  30.0000\n",
       "96   horrible   83.000000   83.000000  Default  29.0000  29.0000\n",
       "66       tell  118.000000  118.000000  Default  28.0000  28.0000\n",
       "30        say  113.000000  113.000000  Default  27.0000  27.0000\n",
       "46        try   55.000000   55.000000  Default  26.0000  26.0000\n",
       "..        ...         ...         ...      ...      ...      ...\n",
       "173      want    1.939140   60.557819  Topic10  -4.6522   0.1268\n",
       "11        eat    1.828221   92.648386  Topic10  -4.7111  -0.3573\n",
       "94     change    1.476909   16.984792  Topic10  -4.9245   1.1258\n",
       "601     dirty    1.449472   23.160272  Topic10  -4.9433   0.7970\n",
       "53       come    1.363212  193.270401  Topic10  -5.0046  -1.3861\n",
       "\n",
       "[630 rows x 6 columns], token_table=      Topic      Freq        Term\n",
       "term                             \n",
       "475       1  0.782627        able\n",
       "158       1  0.342568  absolutely\n",
       "158       2  0.048938  absolutely\n",
       "158       3  0.146815  absolutely\n",
       "158       4  0.293630  absolutely\n",
       "...     ...       ...         ...\n",
       "141       2  0.078193       wrong\n",
       "141       3  0.156386       wrong\n",
       "141       4  0.039096       wrong\n",
       "141       5  0.039096       wrong\n",
       "855       6  0.786699        yelp\n",
       "\n",
       "[991 rows x 3 columns], R=30, lambda_step=0.01, plot_opts={'xlab': 'PC1', 'ylab': 'PC2'}, topic_order=[4, 7, 9, 6, 2, 1, 5, 3, 10, 8])"
      ]
     },
     "execution_count": 286,
     "metadata": {},
     "output_type": "execute_result"
    }
   ],
   "source": [
    "# Visualize the topics\n",
    "pyLDAvis.enable_notebook()\n",
    "vis = plt_gensim.prepare(lda_model, corpus, id2word)\n",
    "vis"
   ]
  },
  {
   "cell_type": "markdown",
   "metadata": {
    "id": "2FlsPeE1MLI-"
   },
   "source": [
    "# Sentiment Analysis"
   ]
  },
  {
   "cell_type": "code",
   "execution_count": null,
   "metadata": {
    "colab": {
     "base_uri": "https://localhost:8080/"
    },
    "id": "rRxLtEbKDbhw",
    "outputId": "4d2dfc0e-bc5e-4b49-fb15-61b986d47577"
   },
   "outputs": [
    {
     "name": "stdout",
     "output_type": "stream",
     "text": [
      "Looking in indexes: https://pypi.org/simple, https://us-python.pkg.dev/colab-wheels/public/simple/\n",
      "Collecting vaderSentiment\n",
      "  Downloading vaderSentiment-3.3.2-py2.py3-none-any.whl (125 kB)\n",
      "\u001b[K     |████████████████████████████████| 125 kB 36.9 MB/s \n",
      "\u001b[?25hRequirement already satisfied: requests in /usr/local/lib/python3.7/dist-packages (from vaderSentiment) (2.23.0)\n",
      "Requirement already satisfied: urllib3!=1.25.0,!=1.25.1,<1.26,>=1.21.1 in /usr/local/lib/python3.7/dist-packages (from requests->vaderSentiment) (1.24.3)\n",
      "Requirement already satisfied: chardet<4,>=3.0.2 in /usr/local/lib/python3.7/dist-packages (from requests->vaderSentiment) (3.0.4)\n",
      "Requirement already satisfied: certifi>=2017.4.17 in /usr/local/lib/python3.7/dist-packages (from requests->vaderSentiment) (2022.5.18.1)\n",
      "Requirement already satisfied: idna<3,>=2.5 in /usr/local/lib/python3.7/dist-packages (from requests->vaderSentiment) (2.10)\n",
      "Installing collected packages: vaderSentiment\n",
      "Successfully installed vaderSentiment-3.3.2\n"
     ]
    }
   ],
   "source": [
    "!pip install vaderSentiment"
   ]
  },
  {
   "cell_type": "code",
   "execution_count": null,
   "metadata": {
    "id": "_CavXjVAN68i"
   },
   "outputs": [],
   "source": [
    "import spacy\n",
    "import tabulate\n",
    "import numpy as np\n",
    "import pandas as pd\n",
    "import matplotlib.pyplot as plt\n",
    "from os import path\n",
    "import seaborn as sns\n",
    "from textblob import TextBlob\n",
    "from vaderSentiment.vaderSentiment import SentimentIntensityAnalyzer\n",
    "from sklearn.metrics import confusion_matrix, precision_score, precision_recall_curve, recall_score, f1_score, accuracy_score\n",
    "from sklearn.feature_extraction.text import TfidfVectorizer\n",
    "from sklearn.naive_bayes import MultinomialNB\n",
    "from sklearn.linear_model import LogisticRegression"
   ]
  },
  {
   "cell_type": "code",
   "execution_count": null,
   "metadata": {
    "id": "R4igPl_aD84K"
   },
   "outputs": [],
   "source": [
    "vader = SentimentIntensityAnalyzer()"
   ]
  },
  {
   "cell_type": "code",
   "execution_count": null,
   "metadata": {
    "colab": {
     "base_uri": "https://localhost:8080/",
     "height": 424
    },
    "id": "pKI1-hKzPPbp",
    "outputId": "d6d42bbe-c197-4025-cd11-a158b5502112"
   },
   "outputs": [
    {
     "data": {
      "text/html": [
       "\n",
       "  <div id=\"df-f7797fb5-7462-45e1-b73e-45ea300c0c9a\">\n",
       "    <div class=\"colab-df-container\">\n",
       "      <div>\n",
       "<style scoped>\n",
       "    .dataframe tbody tr th:only-of-type {\n",
       "        vertical-align: middle;\n",
       "    }\n",
       "\n",
       "    .dataframe tbody tr th {\n",
       "        vertical-align: top;\n",
       "    }\n",
       "\n",
       "    .dataframe thead th {\n",
       "        text-align: right;\n",
       "    }\n",
       "</style>\n",
       "<table border=\"1\" class=\"dataframe\">\n",
       "  <thead>\n",
       "    <tr style=\"text-align: right;\">\n",
       "      <th></th>\n",
       "      <th>Unnamed: 0</th>\n",
       "      <th>username</th>\n",
       "      <th>location</th>\n",
       "      <th>date</th>\n",
       "      <th>stars</th>\n",
       "      <th>content</th>\n",
       "      <th>numfriends</th>\n",
       "      <th>Restaurant</th>\n",
       "      <th>state</th>\n",
       "      <th>sentiment</th>\n",
       "      <th>sent</th>\n",
       "    </tr>\n",
       "  </thead>\n",
       "  <tbody>\n",
       "    <tr>\n",
       "      <th>4</th>\n",
       "      <td>4</td>\n",
       "      <td>Dr. Susan F.</td>\n",
       "      <td>Whittier, CA</td>\n",
       "      <td>4/27/2022</td>\n",
       "      <td>1</td>\n",
       "      <td>We love DTF!!! Not this location:  is there an...</td>\n",
       "      <td>16</td>\n",
       "      <td>Din Tai Fung</td>\n",
       "      <td>CA</td>\n",
       "      <td>negative</td>\n",
       "      <td>0</td>\n",
       "    </tr>\n",
       "    <tr>\n",
       "      <th>36</th>\n",
       "      <td>36</td>\n",
       "      <td>Nba C.</td>\n",
       "      <td>Irvine, CA</td>\n",
       "      <td>4/24/2022</td>\n",
       "      <td>1</td>\n",
       "      <td>You people are fools. Paying for mediocre Chin...</td>\n",
       "      <td>10</td>\n",
       "      <td>Din Tai Fung</td>\n",
       "      <td>CA</td>\n",
       "      <td>negative</td>\n",
       "      <td>0</td>\n",
       "    </tr>\n",
       "    <tr>\n",
       "      <th>40</th>\n",
       "      <td>40</td>\n",
       "      <td>Tiffany O.</td>\n",
       "      <td>Orange County, CA</td>\n",
       "      <td>4/30/2022</td>\n",
       "      <td>1</td>\n",
       "      <td>Ordered and was told it would be ready at 7:30...</td>\n",
       "      <td>0</td>\n",
       "      <td>Din Tai Fung</td>\n",
       "      <td>CA</td>\n",
       "      <td>negative</td>\n",
       "      <td>0</td>\n",
       "    </tr>\n",
       "    <tr>\n",
       "      <th>54</th>\n",
       "      <td>54</td>\n",
       "      <td>Mike L.</td>\n",
       "      <td>Irvine, CA</td>\n",
       "      <td>4/6/2022</td>\n",
       "      <td>1</td>\n",
       "      <td>We had a reservation at 11 am on Saturday. We ...</td>\n",
       "      <td>0</td>\n",
       "      <td>Din Tai Fung</td>\n",
       "      <td>CA</td>\n",
       "      <td>negative</td>\n",
       "      <td>0</td>\n",
       "    </tr>\n",
       "    <tr>\n",
       "      <th>73</th>\n",
       "      <td>73</td>\n",
       "      <td>Scarlett Z.</td>\n",
       "      <td>Costa Mesa, CA</td>\n",
       "      <td>4/30/2022</td>\n",
       "      <td>1</td>\n",
       "      <td>The food is amazing but the service is terribl...</td>\n",
       "      <td>0</td>\n",
       "      <td>Din Tai Fung</td>\n",
       "      <td>CA</td>\n",
       "      <td>negative</td>\n",
       "      <td>0</td>\n",
       "    </tr>\n",
       "    <tr>\n",
       "      <th>...</th>\n",
       "      <td>...</td>\n",
       "      <td>...</td>\n",
       "      <td>...</td>\n",
       "      <td>...</td>\n",
       "      <td>...</td>\n",
       "      <td>...</td>\n",
       "      <td>...</td>\n",
       "      <td>...</td>\n",
       "      <td>...</td>\n",
       "      <td>...</td>\n",
       "      <td>...</td>\n",
       "    </tr>\n",
       "    <tr>\n",
       "      <th>7037</th>\n",
       "      <td>1199</td>\n",
       "      <td>Johanna K.</td>\n",
       "      <td>Southern California, CA</td>\n",
       "      <td>7/3/2017</td>\n",
       "      <td>4</td>\n",
       "      <td>Definitely satisfying dessert.. Not too sweet,...</td>\n",
       "      <td>1155</td>\n",
       "      <td>Cream Pan</td>\n",
       "      <td>CA</td>\n",
       "      <td>positive</td>\n",
       "      <td>1</td>\n",
       "    </tr>\n",
       "    <tr>\n",
       "      <th>7042</th>\n",
       "      <td>1204</td>\n",
       "      <td>Vampiro T.</td>\n",
       "      <td>Tustin, CA</td>\n",
       "      <td>5/19/2020</td>\n",
       "      <td>4</td>\n",
       "      <td>the pastries good but too expensive, they shou...</td>\n",
       "      <td>0</td>\n",
       "      <td>Cream Pan</td>\n",
       "      <td>CA</td>\n",
       "      <td>positive</td>\n",
       "      <td>1</td>\n",
       "    </tr>\n",
       "    <tr>\n",
       "      <th>7044</th>\n",
       "      <td>1206</td>\n",
       "      <td>Jennifer C.</td>\n",
       "      <td>Irvine, CA</td>\n",
       "      <td>6/21/2019</td>\n",
       "      <td>4</td>\n",
       "      <td>Super yummy pastries and breads. But today.......</td>\n",
       "      <td>141</td>\n",
       "      <td>Cream Pan</td>\n",
       "      <td>CA</td>\n",
       "      <td>positive</td>\n",
       "      <td>1</td>\n",
       "    </tr>\n",
       "    <tr>\n",
       "      <th>7051</th>\n",
       "      <td>1213</td>\n",
       "      <td>Phy H.</td>\n",
       "      <td>Los Angeles, CA</td>\n",
       "      <td>4/1/2019</td>\n",
       "      <td>4</td>\n",
       "      <td>Rating is 4.5! We swung by here after a family...</td>\n",
       "      <td>7</td>\n",
       "      <td>Cream Pan</td>\n",
       "      <td>CA</td>\n",
       "      <td>positive</td>\n",
       "      <td>1</td>\n",
       "    </tr>\n",
       "    <tr>\n",
       "      <th>7053</th>\n",
       "      <td>1215</td>\n",
       "      <td>Angeline F.</td>\n",
       "      <td>Los Angeles, CA</td>\n",
       "      <td>3/31/2019</td>\n",
       "      <td>4</td>\n",
       "      <td>I'm not a huge sweets person, but my friends b...</td>\n",
       "      <td>56</td>\n",
       "      <td>Cream Pan</td>\n",
       "      <td>CA</td>\n",
       "      <td>positive</td>\n",
       "      <td>1</td>\n",
       "    </tr>\n",
       "  </tbody>\n",
       "</table>\n",
       "<p>4000 rows × 11 columns</p>\n",
       "</div>\n",
       "      <button class=\"colab-df-convert\" onclick=\"convertToInteractive('df-f7797fb5-7462-45e1-b73e-45ea300c0c9a')\"\n",
       "              title=\"Convert this dataframe to an interactive table.\"\n",
       "              style=\"display:none;\">\n",
       "        \n",
       "  <svg xmlns=\"http://www.w3.org/2000/svg\" height=\"24px\"viewBox=\"0 0 24 24\"\n",
       "       width=\"24px\">\n",
       "    <path d=\"M0 0h24v24H0V0z\" fill=\"none\"/>\n",
       "    <path d=\"M18.56 5.44l.94 2.06.94-2.06 2.06-.94-2.06-.94-.94-2.06-.94 2.06-2.06.94zm-11 1L8.5 8.5l.94-2.06 2.06-.94-2.06-.94L8.5 2.5l-.94 2.06-2.06.94zm10 10l.94 2.06.94-2.06 2.06-.94-2.06-.94-.94-2.06-.94 2.06-2.06.94z\"/><path d=\"M17.41 7.96l-1.37-1.37c-.4-.4-.92-.59-1.43-.59-.52 0-1.04.2-1.43.59L10.3 9.45l-7.72 7.72c-.78.78-.78 2.05 0 2.83L4 21.41c.39.39.9.59 1.41.59.51 0 1.02-.2 1.41-.59l7.78-7.78 2.81-2.81c.8-.78.8-2.07 0-2.86zM5.41 20L4 18.59l7.72-7.72 1.47 1.35L5.41 20z\"/>\n",
       "  </svg>\n",
       "      </button>\n",
       "      \n",
       "  <style>\n",
       "    .colab-df-container {\n",
       "      display:flex;\n",
       "      flex-wrap:wrap;\n",
       "      gap: 12px;\n",
       "    }\n",
       "\n",
       "    .colab-df-convert {\n",
       "      background-color: #E8F0FE;\n",
       "      border: none;\n",
       "      border-radius: 50%;\n",
       "      cursor: pointer;\n",
       "      display: none;\n",
       "      fill: #1967D2;\n",
       "      height: 32px;\n",
       "      padding: 0 0 0 0;\n",
       "      width: 32px;\n",
       "    }\n",
       "\n",
       "    .colab-df-convert:hover {\n",
       "      background-color: #E2EBFA;\n",
       "      box-shadow: 0px 1px 2px rgba(60, 64, 67, 0.3), 0px 1px 3px 1px rgba(60, 64, 67, 0.15);\n",
       "      fill: #174EA6;\n",
       "    }\n",
       "\n",
       "    [theme=dark] .colab-df-convert {\n",
       "      background-color: #3B4455;\n",
       "      fill: #D2E3FC;\n",
       "    }\n",
       "\n",
       "    [theme=dark] .colab-df-convert:hover {\n",
       "      background-color: #434B5C;\n",
       "      box-shadow: 0px 1px 3px 1px rgba(0, 0, 0, 0.15);\n",
       "      filter: drop-shadow(0px 1px 2px rgba(0, 0, 0, 0.3));\n",
       "      fill: #FFFFFF;\n",
       "    }\n",
       "  </style>\n",
       "\n",
       "      <script>\n",
       "        const buttonEl =\n",
       "          document.querySelector('#df-f7797fb5-7462-45e1-b73e-45ea300c0c9a button.colab-df-convert');\n",
       "        buttonEl.style.display =\n",
       "          google.colab.kernel.accessAllowed ? 'block' : 'none';\n",
       "\n",
       "        async function convertToInteractive(key) {\n",
       "          const element = document.querySelector('#df-f7797fb5-7462-45e1-b73e-45ea300c0c9a');\n",
       "          const dataTable =\n",
       "            await google.colab.kernel.invokeFunction('convertToInteractive',\n",
       "                                                     [key], {});\n",
       "          if (!dataTable) return;\n",
       "\n",
       "          const docLinkHtml = 'Like what you see? Visit the ' +\n",
       "            '<a target=\"_blank\" href=https://colab.research.google.com/notebooks/data_table.ipynb>data table notebook</a>'\n",
       "            + ' to learn more about interactive tables.';\n",
       "          element.innerHTML = '';\n",
       "          dataTable['output_type'] = 'display_data';\n",
       "          await google.colab.output.renderOutput(dataTable, element);\n",
       "          const docLink = document.createElement('div');\n",
       "          docLink.innerHTML = docLinkHtml;\n",
       "          element.appendChild(docLink);\n",
       "        }\n",
       "      </script>\n",
       "    </div>\n",
       "  </div>\n",
       "  "
      ],
      "text/plain": [
       "      Unnamed: 0      username                 location       date  stars  \\\n",
       "4              4  Dr. Susan F.             Whittier, CA  4/27/2022      1   \n",
       "36            36        Nba C.               Irvine, CA  4/24/2022      1   \n",
       "40            40    Tiffany O.        Orange County, CA  4/30/2022      1   \n",
       "54            54       Mike L.               Irvine, CA   4/6/2022      1   \n",
       "73            73   Scarlett Z.           Costa Mesa, CA  4/30/2022      1   \n",
       "...          ...           ...                      ...        ...    ...   \n",
       "7037        1199    Johanna K.  Southern California, CA   7/3/2017      4   \n",
       "7042        1204    Vampiro T.               Tustin, CA  5/19/2020      4   \n",
       "7044        1206   Jennifer C.               Irvine, CA  6/21/2019      4   \n",
       "7051        1213        Phy H.          Los Angeles, CA   4/1/2019      4   \n",
       "7053        1215   Angeline F.          Los Angeles, CA  3/31/2019      4   \n",
       "\n",
       "                                                content  numfriends  \\\n",
       "4     We love DTF!!! Not this location:  is there an...          16   \n",
       "36    You people are fools. Paying for mediocre Chin...          10   \n",
       "40    Ordered and was told it would be ready at 7:30...           0   \n",
       "54    We had a reservation at 11 am on Saturday. We ...           0   \n",
       "73    The food is amazing but the service is terribl...           0   \n",
       "...                                                 ...         ...   \n",
       "7037  Definitely satisfying dessert.. Not too sweet,...        1155   \n",
       "7042  the pastries good but too expensive, they shou...           0   \n",
       "7044  Super yummy pastries and breads. But today.......         141   \n",
       "7051  Rating is 4.5! We swung by here after a family...           7   \n",
       "7053  I'm not a huge sweets person, but my friends b...          56   \n",
       "\n",
       "        Restaurant state sentiment  sent  \n",
       "4     Din Tai Fung    CA  negative     0  \n",
       "36    Din Tai Fung    CA  negative     0  \n",
       "40    Din Tai Fung    CA  negative     0  \n",
       "54    Din Tai Fung    CA  negative     0  \n",
       "73    Din Tai Fung    CA  negative     0  \n",
       "...            ...   ...       ...   ...  \n",
       "7037     Cream Pan    CA  positive     1  \n",
       "7042     Cream Pan    CA  positive     1  \n",
       "7044     Cream Pan    CA  positive     1  \n",
       "7051     Cream Pan    CA  positive     1  \n",
       "7053     Cream Pan    CA  positive     1  \n",
       "\n",
       "[4000 rows x 11 columns]"
      ]
     },
     "execution_count": 202,
     "metadata": {},
     "output_type": "execute_result"
    }
   ],
   "source": [
    "fin_data1=sentiment[:4000].copy()\n",
    "fin_data1"
   ]
  },
  {
   "cell_type": "code",
   "execution_count": null,
   "metadata": {
    "id": "WJg0C7s3PR3U"
   },
   "outputs": [],
   "source": [
    "def detect_tb_polarity(text):\n",
    "    return TextBlob(text).sentiment.polarity\n",
    "\n",
    "def detect_tb_subjectivity(text):\n",
    "    return TextBlob(text).sentiment.subjectivity\n",
    "\n",
    "def detect_vader_pos(text):\n",
    "    return vader.polarity_scores(text)['pos']\n",
    "    \n",
    "def detect_vader_neg(text):\n",
    "    return vader.polarity_scores(text)['neg']\n",
    "\n",
    "def detect_vader_comp(text):\n",
    "    return vader.polarity_scores(text)['compound']"
   ]
  },
  {
   "cell_type": "code",
   "execution_count": null,
   "metadata": {
    "colab": {
     "base_uri": "https://localhost:8080/"
    },
    "id": "roSVcugIknKZ",
    "outputId": "a4978b48-25ad-4415-8643-b9e5400400f3"
   },
   "outputs": [
    {
     "data": {
      "text/plain": [
       "{'compound': 0.9889, 'neg': 0.0, 'neu': 0.84, 'pos': 0.16}"
      ]
     },
     "execution_count": 64,
     "metadata": {},
     "output_type": "execute_result"
    }
   ],
   "source": [
    "vader.polarity_scores(fin_data1.content[15000])"
   ]
  },
  {
   "cell_type": "code",
   "execution_count": null,
   "metadata": {
    "colab": {
     "base_uri": "https://localhost:8080/"
    },
    "id": "Tu-pskmTjFpn",
    "outputId": "7e2f3b34-017d-4b22-daac-2f8f2cfc56af"
   },
   "outputs": [
    {
     "data": {
      "text/plain": [
       "1    16701\n",
       "0     2295\n",
       "Name: sent, dtype: int64"
      ]
     },
     "execution_count": 65,
     "metadata": {},
     "output_type": "execute_result"
    }
   ],
   "source": [
    "fin_data1['sent'].value_counts()"
   ]
  },
  {
   "cell_type": "code",
   "execution_count": null,
   "metadata": {
    "id": "fvhzgValjYeQ"
   },
   "outputs": [],
   "source": [
    "df_sample = fin_data1.copy()\n",
    "df_sample['tb_polarity'] = df_sample.content.apply(detect_tb_polarity)\n",
    "df_sample['tb_subjectivity'] = df_sample.content.apply(detect_tb_subjectivity)\n",
    "\n",
    "vader = SentimentIntensityAnalyzer()\n",
    "df_sample['vader_pos'] = df_sample.content.apply(detect_vader_pos)\n",
    "df_sample['vader_neg'] = df_sample.content.apply(detect_vader_neg)\n",
    "df_sample['vader_comp'] = df_sample.content.apply(detect_vader_comp)"
   ]
  },
  {
   "cell_type": "code",
   "execution_count": null,
   "metadata": {
    "id": "M67xOz_65UxS"
   },
   "outputs": [],
   "source": []
  },
  {
   "cell_type": "code",
   "execution_count": null,
   "metadata": {
    "colab": {
     "base_uri": "https://localhost:8080/",
     "height": 704
    },
    "id": "JCdg7YZcj2Tx",
    "outputId": "9330fd0b-2aa5-47d1-dfbd-8908c5cf0d23"
   },
   "outputs": [
    {
     "data": {
      "text/html": [
       "\n",
       "  <div id=\"df-162e020e-1496-4a7b-8a25-1bb577235120\">\n",
       "    <div class=\"colab-df-container\">\n",
       "      <div>\n",
       "<style scoped>\n",
       "    .dataframe tbody tr th:only-of-type {\n",
       "        vertical-align: middle;\n",
       "    }\n",
       "\n",
       "    .dataframe tbody tr th {\n",
       "        vertical-align: top;\n",
       "    }\n",
       "\n",
       "    .dataframe thead th {\n",
       "        text-align: right;\n",
       "    }\n",
       "</style>\n",
       "<table border=\"1\" class=\"dataframe\">\n",
       "  <thead>\n",
       "    <tr style=\"text-align: right;\">\n",
       "      <th></th>\n",
       "      <th>Unnamed: 0</th>\n",
       "      <th>username</th>\n",
       "      <th>location</th>\n",
       "      <th>date</th>\n",
       "      <th>stars</th>\n",
       "      <th>content</th>\n",
       "      <th>numfriends</th>\n",
       "      <th>Restaurant</th>\n",
       "      <th>state</th>\n",
       "      <th>sentiment</th>\n",
       "      <th>sent</th>\n",
       "      <th>tb_polarity</th>\n",
       "      <th>tb_subjectivity</th>\n",
       "      <th>vader_pos</th>\n",
       "      <th>vader_neg</th>\n",
       "      <th>vader_comp</th>\n",
       "    </tr>\n",
       "  </thead>\n",
       "  <tbody>\n",
       "    <tr>\n",
       "      <th>4</th>\n",
       "      <td>4</td>\n",
       "      <td>Dr. Susan F.</td>\n",
       "      <td>Whittier, CA</td>\n",
       "      <td>4/27/2022</td>\n",
       "      <td>1</td>\n",
       "      <td>We love DTF!!! Not this location:  is there an...</td>\n",
       "      <td>16</td>\n",
       "      <td>Din Tai Fung</td>\n",
       "      <td>CA</td>\n",
       "      <td>negative</td>\n",
       "      <td>0</td>\n",
       "      <td>-0.069950</td>\n",
       "      <td>0.552829</td>\n",
       "      <td>0.042</td>\n",
       "      <td>0.091</td>\n",
       "      <td>-0.9307</td>\n",
       "    </tr>\n",
       "    <tr>\n",
       "      <th>36</th>\n",
       "      <td>36</td>\n",
       "      <td>Nba C.</td>\n",
       "      <td>Irvine, CA</td>\n",
       "      <td>4/24/2022</td>\n",
       "      <td>1</td>\n",
       "      <td>You people are fools. Paying for mediocre Chin...</td>\n",
       "      <td>10</td>\n",
       "      <td>Din Tai Fung</td>\n",
       "      <td>CA</td>\n",
       "      <td>negative</td>\n",
       "      <td>0</td>\n",
       "      <td>0.070000</td>\n",
       "      <td>0.480000</td>\n",
       "      <td>0.082</td>\n",
       "      <td>0.100</td>\n",
       "      <td>0.0516</td>\n",
       "    </tr>\n",
       "    <tr>\n",
       "      <th>40</th>\n",
       "      <td>40</td>\n",
       "      <td>Tiffany O.</td>\n",
       "      <td>Orange County, CA</td>\n",
       "      <td>4/30/2022</td>\n",
       "      <td>1</td>\n",
       "      <td>Ordered and was told it would be ready at 7:30...</td>\n",
       "      <td>0</td>\n",
       "      <td>Din Tai Fung</td>\n",
       "      <td>CA</td>\n",
       "      <td>negative</td>\n",
       "      <td>0</td>\n",
       "      <td>0.200000</td>\n",
       "      <td>0.500000</td>\n",
       "      <td>0.121</td>\n",
       "      <td>0.000</td>\n",
       "      <td>0.5478</td>\n",
       "    </tr>\n",
       "    <tr>\n",
       "      <th>54</th>\n",
       "      <td>54</td>\n",
       "      <td>Mike L.</td>\n",
       "      <td>Irvine, CA</td>\n",
       "      <td>4/6/2022</td>\n",
       "      <td>1</td>\n",
       "      <td>We had a reservation at 11 am on Saturday. We ...</td>\n",
       "      <td>0</td>\n",
       "      <td>Din Tai Fung</td>\n",
       "      <td>CA</td>\n",
       "      <td>negative</td>\n",
       "      <td>0</td>\n",
       "      <td>0.117794</td>\n",
       "      <td>0.494016</td>\n",
       "      <td>0.039</td>\n",
       "      <td>0.073</td>\n",
       "      <td>-0.9160</td>\n",
       "    </tr>\n",
       "    <tr>\n",
       "      <th>73</th>\n",
       "      <td>73</td>\n",
       "      <td>Scarlett Z.</td>\n",
       "      <td>Costa Mesa, CA</td>\n",
       "      <td>4/30/2022</td>\n",
       "      <td>1</td>\n",
       "      <td>The food is amazing but the service is terribl...</td>\n",
       "      <td>0</td>\n",
       "      <td>Din Tai Fung</td>\n",
       "      <td>CA</td>\n",
       "      <td>negative</td>\n",
       "      <td>0</td>\n",
       "      <td>0.076389</td>\n",
       "      <td>0.744444</td>\n",
       "      <td>0.241</td>\n",
       "      <td>0.179</td>\n",
       "      <td>0.8185</td>\n",
       "    </tr>\n",
       "  </tbody>\n",
       "</table>\n",
       "</div>\n",
       "      <button class=\"colab-df-convert\" onclick=\"convertToInteractive('df-162e020e-1496-4a7b-8a25-1bb577235120')\"\n",
       "              title=\"Convert this dataframe to an interactive table.\"\n",
       "              style=\"display:none;\">\n",
       "        \n",
       "  <svg xmlns=\"http://www.w3.org/2000/svg\" height=\"24px\"viewBox=\"0 0 24 24\"\n",
       "       width=\"24px\">\n",
       "    <path d=\"M0 0h24v24H0V0z\" fill=\"none\"/>\n",
       "    <path d=\"M18.56 5.44l.94 2.06.94-2.06 2.06-.94-2.06-.94-.94-2.06-.94 2.06-2.06.94zm-11 1L8.5 8.5l.94-2.06 2.06-.94-2.06-.94L8.5 2.5l-.94 2.06-2.06.94zm10 10l.94 2.06.94-2.06 2.06-.94-2.06-.94-.94-2.06-.94 2.06-2.06.94z\"/><path d=\"M17.41 7.96l-1.37-1.37c-.4-.4-.92-.59-1.43-.59-.52 0-1.04.2-1.43.59L10.3 9.45l-7.72 7.72c-.78.78-.78 2.05 0 2.83L4 21.41c.39.39.9.59 1.41.59.51 0 1.02-.2 1.41-.59l7.78-7.78 2.81-2.81c.8-.78.8-2.07 0-2.86zM5.41 20L4 18.59l7.72-7.72 1.47 1.35L5.41 20z\"/>\n",
       "  </svg>\n",
       "      </button>\n",
       "      \n",
       "  <style>\n",
       "    .colab-df-container {\n",
       "      display:flex;\n",
       "      flex-wrap:wrap;\n",
       "      gap: 12px;\n",
       "    }\n",
       "\n",
       "    .colab-df-convert {\n",
       "      background-color: #E8F0FE;\n",
       "      border: none;\n",
       "      border-radius: 50%;\n",
       "      cursor: pointer;\n",
       "      display: none;\n",
       "      fill: #1967D2;\n",
       "      height: 32px;\n",
       "      padding: 0 0 0 0;\n",
       "      width: 32px;\n",
       "    }\n",
       "\n",
       "    .colab-df-convert:hover {\n",
       "      background-color: #E2EBFA;\n",
       "      box-shadow: 0px 1px 2px rgba(60, 64, 67, 0.3), 0px 1px 3px 1px rgba(60, 64, 67, 0.15);\n",
       "      fill: #174EA6;\n",
       "    }\n",
       "\n",
       "    [theme=dark] .colab-df-convert {\n",
       "      background-color: #3B4455;\n",
       "      fill: #D2E3FC;\n",
       "    }\n",
       "\n",
       "    [theme=dark] .colab-df-convert:hover {\n",
       "      background-color: #434B5C;\n",
       "      box-shadow: 0px 1px 3px 1px rgba(0, 0, 0, 0.15);\n",
       "      filter: drop-shadow(0px 1px 2px rgba(0, 0, 0, 0.3));\n",
       "      fill: #FFFFFF;\n",
       "    }\n",
       "  </style>\n",
       "\n",
       "      <script>\n",
       "        const buttonEl =\n",
       "          document.querySelector('#df-162e020e-1496-4a7b-8a25-1bb577235120 button.colab-df-convert');\n",
       "        buttonEl.style.display =\n",
       "          google.colab.kernel.accessAllowed ? 'block' : 'none';\n",
       "\n",
       "        async function convertToInteractive(key) {\n",
       "          const element = document.querySelector('#df-162e020e-1496-4a7b-8a25-1bb577235120');\n",
       "          const dataTable =\n",
       "            await google.colab.kernel.invokeFunction('convertToInteractive',\n",
       "                                                     [key], {});\n",
       "          if (!dataTable) return;\n",
       "\n",
       "          const docLinkHtml = 'Like what you see? Visit the ' +\n",
       "            '<a target=\"_blank\" href=https://colab.research.google.com/notebooks/data_table.ipynb>data table notebook</a>'\n",
       "            + ' to learn more about interactive tables.';\n",
       "          element.innerHTML = '';\n",
       "          dataTable['output_type'] = 'display_data';\n",
       "          await google.colab.output.renderOutput(dataTable, element);\n",
       "          const docLink = document.createElement('div');\n",
       "          docLink.innerHTML = docLinkHtml;\n",
       "          element.appendChild(docLink);\n",
       "        }\n",
       "      </script>\n",
       "    </div>\n",
       "  </div>\n",
       "  "
      ],
      "text/plain": [
       "    Unnamed: 0      username           location       date  stars  \\\n",
       "4            4  Dr. Susan F.       Whittier, CA  4/27/2022      1   \n",
       "36          36        Nba C.         Irvine, CA  4/24/2022      1   \n",
       "40          40    Tiffany O.  Orange County, CA  4/30/2022      1   \n",
       "54          54       Mike L.         Irvine, CA   4/6/2022      1   \n",
       "73          73   Scarlett Z.     Costa Mesa, CA  4/30/2022      1   \n",
       "\n",
       "                                              content  numfriends  \\\n",
       "4   We love DTF!!! Not this location:  is there an...          16   \n",
       "36  You people are fools. Paying for mediocre Chin...          10   \n",
       "40  Ordered and was told it would be ready at 7:30...           0   \n",
       "54  We had a reservation at 11 am on Saturday. We ...           0   \n",
       "73  The food is amazing but the service is terribl...           0   \n",
       "\n",
       "      Restaurant state sentiment  sent  tb_polarity  tb_subjectivity  \\\n",
       "4   Din Tai Fung    CA  negative     0    -0.069950         0.552829   \n",
       "36  Din Tai Fung    CA  negative     0     0.070000         0.480000   \n",
       "40  Din Tai Fung    CA  negative     0     0.200000         0.500000   \n",
       "54  Din Tai Fung    CA  negative     0     0.117794         0.494016   \n",
       "73  Din Tai Fung    CA  negative     0     0.076389         0.744444   \n",
       "\n",
       "    vader_pos  vader_neg  vader_comp  \n",
       "4       0.042      0.091     -0.9307  \n",
       "36      0.082      0.100      0.0516  \n",
       "40      0.121      0.000      0.5478  \n",
       "54      0.039      0.073     -0.9160  \n",
       "73      0.241      0.179      0.8185  "
      ]
     },
     "execution_count": 96,
     "metadata": {},
     "output_type": "execute_result"
    }
   ],
   "source": [
    "df_sample.head()"
   ]
  },
  {
   "cell_type": "code",
   "execution_count": null,
   "metadata": {
    "id": "RhuvB4bvzxAC"
   },
   "outputs": [],
   "source": [
    "#X=df_sample['stars','numfriends','tb_polarity','tb_subjectivity','vader_pos','vader_neg','vader_comp']\n",
    "X=df_sample.drop(columns=['Unnamed: 0','username','location','date','content','Restaurant','state','sentiment','sent'],axis=1)"
   ]
  },
  {
   "cell_type": "code",
   "execution_count": null,
   "metadata": {
    "id": "JXsVfKJ21EM1"
   },
   "outputs": [],
   "source": [
    "y=df_sample['sent']"
   ]
  },
  {
   "cell_type": "code",
   "execution_count": null,
   "metadata": {
    "colab": {
     "base_uri": "https://localhost:8080/",
     "height": 424
    },
    "id": "uFR4YvmA1Ura",
    "outputId": "ed506dd5-dfd4-42f7-bbbb-89e1f06a103a"
   },
   "outputs": [
    {
     "data": {
      "text/html": [
       "\n",
       "  <div id=\"df-9c836efc-508a-480c-b924-7010df706a35\">\n",
       "    <div class=\"colab-df-container\">\n",
       "      <div>\n",
       "<style scoped>\n",
       "    .dataframe tbody tr th:only-of-type {\n",
       "        vertical-align: middle;\n",
       "    }\n",
       "\n",
       "    .dataframe tbody tr th {\n",
       "        vertical-align: top;\n",
       "    }\n",
       "\n",
       "    .dataframe thead th {\n",
       "        text-align: right;\n",
       "    }\n",
       "</style>\n",
       "<table border=\"1\" class=\"dataframe\">\n",
       "  <thead>\n",
       "    <tr style=\"text-align: right;\">\n",
       "      <th></th>\n",
       "      <th>stars</th>\n",
       "      <th>numfriends</th>\n",
       "      <th>tb_polarity</th>\n",
       "      <th>tb_subjectivity</th>\n",
       "      <th>vader_pos</th>\n",
       "      <th>vader_neg</th>\n",
       "      <th>vader_comp</th>\n",
       "    </tr>\n",
       "  </thead>\n",
       "  <tbody>\n",
       "    <tr>\n",
       "      <th>4</th>\n",
       "      <td>1</td>\n",
       "      <td>16</td>\n",
       "      <td>-0.069950</td>\n",
       "      <td>0.552829</td>\n",
       "      <td>0.042</td>\n",
       "      <td>0.091</td>\n",
       "      <td>-0.9307</td>\n",
       "    </tr>\n",
       "    <tr>\n",
       "      <th>36</th>\n",
       "      <td>1</td>\n",
       "      <td>10</td>\n",
       "      <td>0.070000</td>\n",
       "      <td>0.480000</td>\n",
       "      <td>0.082</td>\n",
       "      <td>0.100</td>\n",
       "      <td>0.0516</td>\n",
       "    </tr>\n",
       "    <tr>\n",
       "      <th>40</th>\n",
       "      <td>1</td>\n",
       "      <td>0</td>\n",
       "      <td>0.200000</td>\n",
       "      <td>0.500000</td>\n",
       "      <td>0.121</td>\n",
       "      <td>0.000</td>\n",
       "      <td>0.5478</td>\n",
       "    </tr>\n",
       "    <tr>\n",
       "      <th>54</th>\n",
       "      <td>1</td>\n",
       "      <td>0</td>\n",
       "      <td>0.117794</td>\n",
       "      <td>0.494016</td>\n",
       "      <td>0.039</td>\n",
       "      <td>0.073</td>\n",
       "      <td>-0.9160</td>\n",
       "    </tr>\n",
       "    <tr>\n",
       "      <th>73</th>\n",
       "      <td>1</td>\n",
       "      <td>0</td>\n",
       "      <td>0.076389</td>\n",
       "      <td>0.744444</td>\n",
       "      <td>0.241</td>\n",
       "      <td>0.179</td>\n",
       "      <td>0.8185</td>\n",
       "    </tr>\n",
       "    <tr>\n",
       "      <th>...</th>\n",
       "      <td>...</td>\n",
       "      <td>...</td>\n",
       "      <td>...</td>\n",
       "      <td>...</td>\n",
       "      <td>...</td>\n",
       "      <td>...</td>\n",
       "      <td>...</td>\n",
       "    </tr>\n",
       "    <tr>\n",
       "      <th>20973</th>\n",
       "      <td>5</td>\n",
       "      <td>27</td>\n",
       "      <td>0.355556</td>\n",
       "      <td>0.536111</td>\n",
       "      <td>0.421</td>\n",
       "      <td>0.055</td>\n",
       "      <td>0.9571</td>\n",
       "    </tr>\n",
       "    <tr>\n",
       "      <th>20975</th>\n",
       "      <td>5</td>\n",
       "      <td>13</td>\n",
       "      <td>0.473636</td>\n",
       "      <td>0.766263</td>\n",
       "      <td>0.211</td>\n",
       "      <td>0.052</td>\n",
       "      <td>0.9354</td>\n",
       "    </tr>\n",
       "    <tr>\n",
       "      <th>20976</th>\n",
       "      <td>5</td>\n",
       "      <td>0</td>\n",
       "      <td>0.500000</td>\n",
       "      <td>0.650000</td>\n",
       "      <td>0.391</td>\n",
       "      <td>0.000</td>\n",
       "      <td>0.8979</td>\n",
       "    </tr>\n",
       "    <tr>\n",
       "      <th>20977</th>\n",
       "      <td>5</td>\n",
       "      <td>64</td>\n",
       "      <td>0.474074</td>\n",
       "      <td>0.648148</td>\n",
       "      <td>0.478</td>\n",
       "      <td>0.000</td>\n",
       "      <td>0.9549</td>\n",
       "    </tr>\n",
       "    <tr>\n",
       "      <th>20983</th>\n",
       "      <td>5</td>\n",
       "      <td>1</td>\n",
       "      <td>0.267500</td>\n",
       "      <td>0.499167</td>\n",
       "      <td>0.391</td>\n",
       "      <td>0.000</td>\n",
       "      <td>0.9161</td>\n",
       "    </tr>\n",
       "  </tbody>\n",
       "</table>\n",
       "<p>18996 rows × 7 columns</p>\n",
       "</div>\n",
       "      <button class=\"colab-df-convert\" onclick=\"convertToInteractive('df-9c836efc-508a-480c-b924-7010df706a35')\"\n",
       "              title=\"Convert this dataframe to an interactive table.\"\n",
       "              style=\"display:none;\">\n",
       "        \n",
       "  <svg xmlns=\"http://www.w3.org/2000/svg\" height=\"24px\"viewBox=\"0 0 24 24\"\n",
       "       width=\"24px\">\n",
       "    <path d=\"M0 0h24v24H0V0z\" fill=\"none\"/>\n",
       "    <path d=\"M18.56 5.44l.94 2.06.94-2.06 2.06-.94-2.06-.94-.94-2.06-.94 2.06-2.06.94zm-11 1L8.5 8.5l.94-2.06 2.06-.94-2.06-.94L8.5 2.5l-.94 2.06-2.06.94zm10 10l.94 2.06.94-2.06 2.06-.94-2.06-.94-.94-2.06-.94 2.06-2.06.94z\"/><path d=\"M17.41 7.96l-1.37-1.37c-.4-.4-.92-.59-1.43-.59-.52 0-1.04.2-1.43.59L10.3 9.45l-7.72 7.72c-.78.78-.78 2.05 0 2.83L4 21.41c.39.39.9.59 1.41.59.51 0 1.02-.2 1.41-.59l7.78-7.78 2.81-2.81c.8-.78.8-2.07 0-2.86zM5.41 20L4 18.59l7.72-7.72 1.47 1.35L5.41 20z\"/>\n",
       "  </svg>\n",
       "      </button>\n",
       "      \n",
       "  <style>\n",
       "    .colab-df-container {\n",
       "      display:flex;\n",
       "      flex-wrap:wrap;\n",
       "      gap: 12px;\n",
       "    }\n",
       "\n",
       "    .colab-df-convert {\n",
       "      background-color: #E8F0FE;\n",
       "      border: none;\n",
       "      border-radius: 50%;\n",
       "      cursor: pointer;\n",
       "      display: none;\n",
       "      fill: #1967D2;\n",
       "      height: 32px;\n",
       "      padding: 0 0 0 0;\n",
       "      width: 32px;\n",
       "    }\n",
       "\n",
       "    .colab-df-convert:hover {\n",
       "      background-color: #E2EBFA;\n",
       "      box-shadow: 0px 1px 2px rgba(60, 64, 67, 0.3), 0px 1px 3px 1px rgba(60, 64, 67, 0.15);\n",
       "      fill: #174EA6;\n",
       "    }\n",
       "\n",
       "    [theme=dark] .colab-df-convert {\n",
       "      background-color: #3B4455;\n",
       "      fill: #D2E3FC;\n",
       "    }\n",
       "\n",
       "    [theme=dark] .colab-df-convert:hover {\n",
       "      background-color: #434B5C;\n",
       "      box-shadow: 0px 1px 3px 1px rgba(0, 0, 0, 0.15);\n",
       "      filter: drop-shadow(0px 1px 2px rgba(0, 0, 0, 0.3));\n",
       "      fill: #FFFFFF;\n",
       "    }\n",
       "  </style>\n",
       "\n",
       "      <script>\n",
       "        const buttonEl =\n",
       "          document.querySelector('#df-9c836efc-508a-480c-b924-7010df706a35 button.colab-df-convert');\n",
       "        buttonEl.style.display =\n",
       "          google.colab.kernel.accessAllowed ? 'block' : 'none';\n",
       "\n",
       "        async function convertToInteractive(key) {\n",
       "          const element = document.querySelector('#df-9c836efc-508a-480c-b924-7010df706a35');\n",
       "          const dataTable =\n",
       "            await google.colab.kernel.invokeFunction('convertToInteractive',\n",
       "                                                     [key], {});\n",
       "          if (!dataTable) return;\n",
       "\n",
       "          const docLinkHtml = 'Like what you see? Visit the ' +\n",
       "            '<a target=\"_blank\" href=https://colab.research.google.com/notebooks/data_table.ipynb>data table notebook</a>'\n",
       "            + ' to learn more about interactive tables.';\n",
       "          element.innerHTML = '';\n",
       "          dataTable['output_type'] = 'display_data';\n",
       "          await google.colab.output.renderOutput(dataTable, element);\n",
       "          const docLink = document.createElement('div');\n",
       "          docLink.innerHTML = docLinkHtml;\n",
       "          element.appendChild(docLink);\n",
       "        }\n",
       "      </script>\n",
       "    </div>\n",
       "  </div>\n",
       "  "
      ],
      "text/plain": [
       "       stars  numfriends  tb_polarity  tb_subjectivity  vader_pos  vader_neg  \\\n",
       "4          1          16    -0.069950         0.552829      0.042      0.091   \n",
       "36         1          10     0.070000         0.480000      0.082      0.100   \n",
       "40         1           0     0.200000         0.500000      0.121      0.000   \n",
       "54         1           0     0.117794         0.494016      0.039      0.073   \n",
       "73         1           0     0.076389         0.744444      0.241      0.179   \n",
       "...      ...         ...          ...              ...        ...        ...   \n",
       "20973      5          27     0.355556         0.536111      0.421      0.055   \n",
       "20975      5          13     0.473636         0.766263      0.211      0.052   \n",
       "20976      5           0     0.500000         0.650000      0.391      0.000   \n",
       "20977      5          64     0.474074         0.648148      0.478      0.000   \n",
       "20983      5           1     0.267500         0.499167      0.391      0.000   \n",
       "\n",
       "       vader_comp  \n",
       "4         -0.9307  \n",
       "36         0.0516  \n",
       "40         0.5478  \n",
       "54        -0.9160  \n",
       "73         0.8185  \n",
       "...           ...  \n",
       "20973      0.9571  \n",
       "20975      0.9354  \n",
       "20976      0.8979  \n",
       "20977      0.9549  \n",
       "20983      0.9161  \n",
       "\n",
       "[18996 rows x 7 columns]"
      ]
     },
     "execution_count": 124,
     "metadata": {},
     "output_type": "execute_result"
    }
   ],
   "source": [
    "X"
   ]
  },
  {
   "cell_type": "code",
   "execution_count": null,
   "metadata": {
    "id": "bJZi72fD1Lfg"
   },
   "outputs": [],
   "source": [
    "X_train, X_test, y_train, y_test = train_test_split(X, y, test_size=0.25,random_state=3040) "
   ]
  },
  {
   "cell_type": "code",
   "execution_count": null,
   "metadata": {
    "colab": {
     "base_uri": "https://localhost:8080/"
    },
    "id": "0EutgD7Y2Mpk",
    "outputId": "899037f4-774c-4e14-f988-bdbfb88bed07"
   },
   "outputs": [
    {
     "data": {
      "text/plain": [
       "1    12534\n",
       "0     1713\n",
       "Name: sent, dtype: int64"
      ]
     },
     "execution_count": 101,
     "metadata": {},
     "output_type": "execute_result"
    }
   ],
   "source": [
    "y_train.value_counts()"
   ]
  },
  {
   "cell_type": "code",
   "execution_count": null,
   "metadata": {
    "colab": {
     "base_uri": "https://localhost:8080/"
    },
    "id": "3btacdtM1Tyv",
    "outputId": "37fab8e9-9816-4d45-af05-30e1cd471c9a"
   },
   "outputs": [
    {
     "data": {
      "text/plain": [
       "LogisticRegression(max_iter=5000)"
      ]
     },
     "execution_count": 103,
     "metadata": {},
     "output_type": "execute_result"
    }
   ],
   "source": [
    "modelLR1 = LogisticRegression(max_iter=5000)\n",
    "\n",
    "modelLR1.fit(X_train,y_train )"
   ]
  },
  {
   "cell_type": "code",
   "execution_count": null,
   "metadata": {
    "id": "xjZq-e5n3dRx"
   },
   "outputs": [],
   "source": [
    "sent_pred = modelLR1.predict(X_test)\n",
    "sent_prob=modelLR1.predict_proba(X_test)"
   ]
  },
  {
   "cell_type": "code",
   "execution_count": null,
   "metadata": {
    "id": "4bygyvZW4Mg2"
   },
   "outputs": [],
   "source": [
    "df_acc_scores = accuracy_score(y_test, sent_pred)\n",
    "df_conf_matrix = confusion_matrix(y_test, sent_pred)"
   ]
  },
  {
   "cell_type": "code",
   "execution_count": null,
   "metadata": {
    "id": "Q7pAp09f4Rzu"
   },
   "outputs": [],
   "source": [
    "sent_pred=pd.DataFrame(sent_pred)"
   ]
  },
  {
   "cell_type": "code",
   "execution_count": null,
   "metadata": {
    "id": "4qX8Miwo4rSq"
   },
   "outputs": [],
   "source": [
    "# Create a dict with a new employee instance containig the following values\n",
    "dictt = {'content':['Horrible food,bad service and long waiting'],'stars':[5],'numfriends':[15]}\n",
    "\n",
    "example = pd.DataFrame(dictt)"
   ]
  },
  {
   "cell_type": "code",
   "execution_count": null,
   "metadata": {
    "colab": {
     "base_uri": "https://localhost:8080/",
     "height": 81
    },
    "id": "gJrccbm25Q6X",
    "outputId": "d5ce7917-a83f-4668-ea17-49769b7b5eec"
   },
   "outputs": [
    {
     "data": {
      "text/html": [
       "\n",
       "  <div id=\"df-e188ed4c-2c63-469d-a535-52fa5bbf04ab\">\n",
       "    <div class=\"colab-df-container\">\n",
       "      <div>\n",
       "<style scoped>\n",
       "    .dataframe tbody tr th:only-of-type {\n",
       "        vertical-align: middle;\n",
       "    }\n",
       "\n",
       "    .dataframe tbody tr th {\n",
       "        vertical-align: top;\n",
       "    }\n",
       "\n",
       "    .dataframe thead th {\n",
       "        text-align: right;\n",
       "    }\n",
       "</style>\n",
       "<table border=\"1\" class=\"dataframe\">\n",
       "  <thead>\n",
       "    <tr style=\"text-align: right;\">\n",
       "      <th></th>\n",
       "      <th>content</th>\n",
       "      <th>stars</th>\n",
       "      <th>numfriends</th>\n",
       "    </tr>\n",
       "  </thead>\n",
       "  <tbody>\n",
       "    <tr>\n",
       "      <th>0</th>\n",
       "      <td>Had issues finding parking, once found parking...</td>\n",
       "      <td>2</td>\n",
       "      <td>15</td>\n",
       "    </tr>\n",
       "  </tbody>\n",
       "</table>\n",
       "</div>\n",
       "      <button class=\"colab-df-convert\" onclick=\"convertToInteractive('df-e188ed4c-2c63-469d-a535-52fa5bbf04ab')\"\n",
       "              title=\"Convert this dataframe to an interactive table.\"\n",
       "              style=\"display:none;\">\n",
       "        \n",
       "  <svg xmlns=\"http://www.w3.org/2000/svg\" height=\"24px\"viewBox=\"0 0 24 24\"\n",
       "       width=\"24px\">\n",
       "    <path d=\"M0 0h24v24H0V0z\" fill=\"none\"/>\n",
       "    <path d=\"M18.56 5.44l.94 2.06.94-2.06 2.06-.94-2.06-.94-.94-2.06-.94 2.06-2.06.94zm-11 1L8.5 8.5l.94-2.06 2.06-.94-2.06-.94L8.5 2.5l-.94 2.06-2.06.94zm10 10l.94 2.06.94-2.06 2.06-.94-2.06-.94-.94-2.06-.94 2.06-2.06.94z\"/><path d=\"M17.41 7.96l-1.37-1.37c-.4-.4-.92-.59-1.43-.59-.52 0-1.04.2-1.43.59L10.3 9.45l-7.72 7.72c-.78.78-.78 2.05 0 2.83L4 21.41c.39.39.9.59 1.41.59.51 0 1.02-.2 1.41-.59l7.78-7.78 2.81-2.81c.8-.78.8-2.07 0-2.86zM5.41 20L4 18.59l7.72-7.72 1.47 1.35L5.41 20z\"/>\n",
       "  </svg>\n",
       "      </button>\n",
       "      \n",
       "  <style>\n",
       "    .colab-df-container {\n",
       "      display:flex;\n",
       "      flex-wrap:wrap;\n",
       "      gap: 12px;\n",
       "    }\n",
       "\n",
       "    .colab-df-convert {\n",
       "      background-color: #E8F0FE;\n",
       "      border: none;\n",
       "      border-radius: 50%;\n",
       "      cursor: pointer;\n",
       "      display: none;\n",
       "      fill: #1967D2;\n",
       "      height: 32px;\n",
       "      padding: 0 0 0 0;\n",
       "      width: 32px;\n",
       "    }\n",
       "\n",
       "    .colab-df-convert:hover {\n",
       "      background-color: #E2EBFA;\n",
       "      box-shadow: 0px 1px 2px rgba(60, 64, 67, 0.3), 0px 1px 3px 1px rgba(60, 64, 67, 0.15);\n",
       "      fill: #174EA6;\n",
       "    }\n",
       "\n",
       "    [theme=dark] .colab-df-convert {\n",
       "      background-color: #3B4455;\n",
       "      fill: #D2E3FC;\n",
       "    }\n",
       "\n",
       "    [theme=dark] .colab-df-convert:hover {\n",
       "      background-color: #434B5C;\n",
       "      box-shadow: 0px 1px 3px 1px rgba(0, 0, 0, 0.15);\n",
       "      filter: drop-shadow(0px 1px 2px rgba(0, 0, 0, 0.3));\n",
       "      fill: #FFFFFF;\n",
       "    }\n",
       "  </style>\n",
       "\n",
       "      <script>\n",
       "        const buttonEl =\n",
       "          document.querySelector('#df-e188ed4c-2c63-469d-a535-52fa5bbf04ab button.colab-df-convert');\n",
       "        buttonEl.style.display =\n",
       "          google.colab.kernel.accessAllowed ? 'block' : 'none';\n",
       "\n",
       "        async function convertToInteractive(key) {\n",
       "          const element = document.querySelector('#df-e188ed4c-2c63-469d-a535-52fa5bbf04ab');\n",
       "          const dataTable =\n",
       "            await google.colab.kernel.invokeFunction('convertToInteractive',\n",
       "                                                     [key], {});\n",
       "          if (!dataTable) return;\n",
       "\n",
       "          const docLinkHtml = 'Like what you see? Visit the ' +\n",
       "            '<a target=\"_blank\" href=https://colab.research.google.com/notebooks/data_table.ipynb>data table notebook</a>'\n",
       "            + ' to learn more about interactive tables.';\n",
       "          element.innerHTML = '';\n",
       "          dataTable['output_type'] = 'display_data';\n",
       "          await google.colab.output.renderOutput(dataTable, element);\n",
       "          const docLink = document.createElement('div');\n",
       "          docLink.innerHTML = docLinkHtml;\n",
       "          element.appendChild(docLink);\n",
       "        }\n",
       "      </script>\n",
       "    </div>\n",
       "  </div>\n",
       "  "
      ],
      "text/plain": [
       "                                             content  stars  numfriends\n",
       "0  Had issues finding parking, once found parking...      2          15"
      ]
     },
     "execution_count": 169,
     "metadata": {},
     "output_type": "execute_result"
    }
   ],
   "source": [
    "example"
   ]
  },
  {
   "cell_type": "code",
   "execution_count": null,
   "metadata": {
    "id": "KbBon2XU5XAv"
   },
   "outputs": [],
   "source": [
    "df_sample1 = example.copy()\n",
    "df_sample1['tb_polarity'] = df_sample1.content.apply(detect_tb_polarity)\n",
    "df_sample1['tb_subjectivity'] = df_sample1.content.apply(detect_tb_subjectivity)\n",
    "\n",
    "vader = SentimentIntensityAnalyzer()\n",
    "df_sample1['vader_pos'] = df_sample1.content.apply(detect_vader_pos)\n",
    "df_sample1['vader_neg'] = df_sample1.content.apply(detect_vader_neg)\n",
    "df_sample1['vader_comp'] = df_sample1.content.apply(detect_vader_comp)"
   ]
  },
  {
   "cell_type": "code",
   "execution_count": null,
   "metadata": {
    "colab": {
     "base_uri": "https://localhost:8080/",
     "height": 81
    },
    "id": "--x19oy_5fCK",
    "outputId": "cf332f51-0845-48f1-9601-cf1a1b99bcf2"
   },
   "outputs": [
    {
     "data": {
      "text/html": [
       "\n",
       "  <div id=\"df-88b9da72-737f-4b3d-9402-b423f0805447\">\n",
       "    <div class=\"colab-df-container\">\n",
       "      <div>\n",
       "<style scoped>\n",
       "    .dataframe tbody tr th:only-of-type {\n",
       "        vertical-align: middle;\n",
       "    }\n",
       "\n",
       "    .dataframe tbody tr th {\n",
       "        vertical-align: top;\n",
       "    }\n",
       "\n",
       "    .dataframe thead th {\n",
       "        text-align: right;\n",
       "    }\n",
       "</style>\n",
       "<table border=\"1\" class=\"dataframe\">\n",
       "  <thead>\n",
       "    <tr style=\"text-align: right;\">\n",
       "      <th></th>\n",
       "      <th>content</th>\n",
       "      <th>stars</th>\n",
       "      <th>numfriends</th>\n",
       "      <th>tb_polarity</th>\n",
       "      <th>tb_subjectivity</th>\n",
       "      <th>vader_pos</th>\n",
       "      <th>vader_neg</th>\n",
       "      <th>vader_comp</th>\n",
       "    </tr>\n",
       "  </thead>\n",
       "  <tbody>\n",
       "    <tr>\n",
       "      <th>0</th>\n",
       "      <td>Everything about Din Tai Fung was great once y...</td>\n",
       "      <td>2</td>\n",
       "      <td>15</td>\n",
       "      <td>0.20754</td>\n",
       "      <td>0.497222</td>\n",
       "      <td>0.256</td>\n",
       "      <td>0.069</td>\n",
       "      <td>0.9191</td>\n",
       "    </tr>\n",
       "  </tbody>\n",
       "</table>\n",
       "</div>\n",
       "      <button class=\"colab-df-convert\" onclick=\"convertToInteractive('df-88b9da72-737f-4b3d-9402-b423f0805447')\"\n",
       "              title=\"Convert this dataframe to an interactive table.\"\n",
       "              style=\"display:none;\">\n",
       "        \n",
       "  <svg xmlns=\"http://www.w3.org/2000/svg\" height=\"24px\"viewBox=\"0 0 24 24\"\n",
       "       width=\"24px\">\n",
       "    <path d=\"M0 0h24v24H0V0z\" fill=\"none\"/>\n",
       "    <path d=\"M18.56 5.44l.94 2.06.94-2.06 2.06-.94-2.06-.94-.94-2.06-.94 2.06-2.06.94zm-11 1L8.5 8.5l.94-2.06 2.06-.94-2.06-.94L8.5 2.5l-.94 2.06-2.06.94zm10 10l.94 2.06.94-2.06 2.06-.94-2.06-.94-.94-2.06-.94 2.06-2.06.94z\"/><path d=\"M17.41 7.96l-1.37-1.37c-.4-.4-.92-.59-1.43-.59-.52 0-1.04.2-1.43.59L10.3 9.45l-7.72 7.72c-.78.78-.78 2.05 0 2.83L4 21.41c.39.39.9.59 1.41.59.51 0 1.02-.2 1.41-.59l7.78-7.78 2.81-2.81c.8-.78.8-2.07 0-2.86zM5.41 20L4 18.59l7.72-7.72 1.47 1.35L5.41 20z\"/>\n",
       "  </svg>\n",
       "      </button>\n",
       "      \n",
       "  <style>\n",
       "    .colab-df-container {\n",
       "      display:flex;\n",
       "      flex-wrap:wrap;\n",
       "      gap: 12px;\n",
       "    }\n",
       "\n",
       "    .colab-df-convert {\n",
       "      background-color: #E8F0FE;\n",
       "      border: none;\n",
       "      border-radius: 50%;\n",
       "      cursor: pointer;\n",
       "      display: none;\n",
       "      fill: #1967D2;\n",
       "      height: 32px;\n",
       "      padding: 0 0 0 0;\n",
       "      width: 32px;\n",
       "    }\n",
       "\n",
       "    .colab-df-convert:hover {\n",
       "      background-color: #E2EBFA;\n",
       "      box-shadow: 0px 1px 2px rgba(60, 64, 67, 0.3), 0px 1px 3px 1px rgba(60, 64, 67, 0.15);\n",
       "      fill: #174EA6;\n",
       "    }\n",
       "\n",
       "    [theme=dark] .colab-df-convert {\n",
       "      background-color: #3B4455;\n",
       "      fill: #D2E3FC;\n",
       "    }\n",
       "\n",
       "    [theme=dark] .colab-df-convert:hover {\n",
       "      background-color: #434B5C;\n",
       "      box-shadow: 0px 1px 3px 1px rgba(0, 0, 0, 0.15);\n",
       "      filter: drop-shadow(0px 1px 2px rgba(0, 0, 0, 0.3));\n",
       "      fill: #FFFFFF;\n",
       "    }\n",
       "  </style>\n",
       "\n",
       "      <script>\n",
       "        const buttonEl =\n",
       "          document.querySelector('#df-88b9da72-737f-4b3d-9402-b423f0805447 button.colab-df-convert');\n",
       "        buttonEl.style.display =\n",
       "          google.colab.kernel.accessAllowed ? 'block' : 'none';\n",
       "\n",
       "        async function convertToInteractive(key) {\n",
       "          const element = document.querySelector('#df-88b9da72-737f-4b3d-9402-b423f0805447');\n",
       "          const dataTable =\n",
       "            await google.colab.kernel.invokeFunction('convertToInteractive',\n",
       "                                                     [key], {});\n",
       "          if (!dataTable) return;\n",
       "\n",
       "          const docLinkHtml = 'Like what you see? Visit the ' +\n",
       "            '<a target=\"_blank\" href=https://colab.research.google.com/notebooks/data_table.ipynb>data table notebook</a>'\n",
       "            + ' to learn more about interactive tables.';\n",
       "          element.innerHTML = '';\n",
       "          dataTable['output_type'] = 'display_data';\n",
       "          await google.colab.output.renderOutput(dataTable, element);\n",
       "          const docLink = document.createElement('div');\n",
       "          docLink.innerHTML = docLinkHtml;\n",
       "          element.appendChild(docLink);\n",
       "        }\n",
       "      </script>\n",
       "    </div>\n",
       "  </div>\n",
       "  "
      ],
      "text/plain": [
       "                                             content  stars  numfriends  \\\n",
       "0  Everything about Din Tai Fung was great once y...      2          15   \n",
       "\n",
       "   tb_polarity  tb_subjectivity  vader_pos  vader_neg  vader_comp  \n",
       "0      0.20754         0.497222      0.256      0.069      0.9191  "
      ]
     },
     "execution_count": 183,
     "metadata": {},
     "output_type": "execute_result"
    }
   ],
   "source": [
    "df_sample1"
   ]
  },
  {
   "cell_type": "code",
   "execution_count": null,
   "metadata": {
    "id": "g1Elpeuv5jHK"
   },
   "outputs": [],
   "source": [
    "ex=df_sample1.drop('content',axis=1)"
   ]
  },
  {
   "cell_type": "code",
   "execution_count": null,
   "metadata": {
    "id": "RY2kqG_R6jiH"
   },
   "outputs": [],
   "source": [
    "X_train.head()"
   ]
  },
  {
   "cell_type": "code",
   "execution_count": null,
   "metadata": {
    "id": "5ZkM8Ql652f7"
   },
   "outputs": [],
   "source": [
    "ex"
   ]
  },
  {
   "cell_type": "code",
   "execution_count": null,
   "metadata": {
    "id": "r158YwjT5QZp"
   },
   "outputs": [],
   "source": [
    "ex_pred = modelLR1.predict(ex)\n",
    "ex_prob = modelLR1.predict_proba(ex)"
   ]
  },
  {
   "cell_type": "code",
   "execution_count": null,
   "metadata": {
    "colab": {
     "base_uri": "https://localhost:8080/"
    },
    "id": "goQIvvOT6wor",
    "outputId": "90aea054-ea04-46c6-d70c-8de431e5b3ab"
   },
   "outputs": [
    {
     "data": {
      "text/plain": [
       "array([1])"
      ]
     },
     "execution_count": 191,
     "metadata": {},
     "output_type": "execute_result"
    }
   ],
   "source": [
    "ex_pred"
   ]
  },
  {
   "cell_type": "markdown",
   "metadata": {
    "id": "mrAz1kFy43Ag"
   },
   "source": [
    "## TFIDF Prediction model"
   ]
  },
  {
   "cell_type": "code",
   "execution_count": null,
   "metadata": {
    "id": "hY74Qdbxmrwz"
   },
   "outputs": [],
   "source": [
    "from sklearn.model_selection import train_test_split\n",
    "from sklearn.ensemble import RandomForestClassifier"
   ]
  },
  {
   "cell_type": "code",
   "execution_count": null,
   "metadata": {
    "colab": {
     "base_uri": "https://localhost:8080/",
     "height": 424
    },
    "id": "8bPs8xnkn98m",
    "outputId": "53886351-c61c-486a-9adf-e22685d6db25"
   },
   "outputs": [
    {
     "data": {
      "text/html": [
       "\n",
       "  <div id=\"df-134be549-d7d8-4d31-980f-c27c79659342\">\n",
       "    <div class=\"colab-df-container\">\n",
       "      <div>\n",
       "<style scoped>\n",
       "    .dataframe tbody tr th:only-of-type {\n",
       "        vertical-align: middle;\n",
       "    }\n",
       "\n",
       "    .dataframe tbody tr th {\n",
       "        vertical-align: top;\n",
       "    }\n",
       "\n",
       "    .dataframe thead th {\n",
       "        text-align: right;\n",
       "    }\n",
       "</style>\n",
       "<table border=\"1\" class=\"dataframe\">\n",
       "  <thead>\n",
       "    <tr style=\"text-align: right;\">\n",
       "      <th></th>\n",
       "      <th>content</th>\n",
       "      <th>sent</th>\n",
       "    </tr>\n",
       "  </thead>\n",
       "  <tbody>\n",
       "    <tr>\n",
       "      <th>4</th>\n",
       "      <td>We love DTF!!! Not this location:  is there an...</td>\n",
       "      <td>0</td>\n",
       "    </tr>\n",
       "    <tr>\n",
       "      <th>36</th>\n",
       "      <td>You people are fools. Paying for mediocre Chin...</td>\n",
       "      <td>0</td>\n",
       "    </tr>\n",
       "    <tr>\n",
       "      <th>40</th>\n",
       "      <td>Ordered and was told it would be ready at 7:30...</td>\n",
       "      <td>0</td>\n",
       "    </tr>\n",
       "    <tr>\n",
       "      <th>54</th>\n",
       "      <td>We had a reservation at 11 am on Saturday. We ...</td>\n",
       "      <td>0</td>\n",
       "    </tr>\n",
       "    <tr>\n",
       "      <th>73</th>\n",
       "      <td>The food is amazing but the service is terribl...</td>\n",
       "      <td>0</td>\n",
       "    </tr>\n",
       "    <tr>\n",
       "      <th>...</th>\n",
       "      <td>...</td>\n",
       "      <td>...</td>\n",
       "    </tr>\n",
       "    <tr>\n",
       "      <th>20973</th>\n",
       "      <td>super yummy gourmetish mexican food. great pre...</td>\n",
       "      <td>1</td>\n",
       "    </tr>\n",
       "    <tr>\n",
       "      <th>20975</th>\n",
       "      <td>This place is amazing.  The ambiance is great,...</td>\n",
       "      <td>1</td>\n",
       "    </tr>\n",
       "    <tr>\n",
       "      <th>20976</th>\n",
       "      <td>One of my favorite restaurants in OC. I love t...</td>\n",
       "      <td>1</td>\n",
       "    </tr>\n",
       "    <tr>\n",
       "      <th>20977</th>\n",
       "      <td>they have the amazing food, the flavors are so...</td>\n",
       "      <td>1</td>\n",
       "    </tr>\n",
       "    <tr>\n",
       "      <th>20983</th>\n",
       "      <td>very cool dark romantic restaurant, great food...</td>\n",
       "      <td>1</td>\n",
       "    </tr>\n",
       "  </tbody>\n",
       "</table>\n",
       "<p>18996 rows × 2 columns</p>\n",
       "</div>\n",
       "      <button class=\"colab-df-convert\" onclick=\"convertToInteractive('df-134be549-d7d8-4d31-980f-c27c79659342')\"\n",
       "              title=\"Convert this dataframe to an interactive table.\"\n",
       "              style=\"display:none;\">\n",
       "        \n",
       "  <svg xmlns=\"http://www.w3.org/2000/svg\" height=\"24px\"viewBox=\"0 0 24 24\"\n",
       "       width=\"24px\">\n",
       "    <path d=\"M0 0h24v24H0V0z\" fill=\"none\"/>\n",
       "    <path d=\"M18.56 5.44l.94 2.06.94-2.06 2.06-.94-2.06-.94-.94-2.06-.94 2.06-2.06.94zm-11 1L8.5 8.5l.94-2.06 2.06-.94-2.06-.94L8.5 2.5l-.94 2.06-2.06.94zm10 10l.94 2.06.94-2.06 2.06-.94-2.06-.94-.94-2.06-.94 2.06-2.06.94z\"/><path d=\"M17.41 7.96l-1.37-1.37c-.4-.4-.92-.59-1.43-.59-.52 0-1.04.2-1.43.59L10.3 9.45l-7.72 7.72c-.78.78-.78 2.05 0 2.83L4 21.41c.39.39.9.59 1.41.59.51 0 1.02-.2 1.41-.59l7.78-7.78 2.81-2.81c.8-.78.8-2.07 0-2.86zM5.41 20L4 18.59l7.72-7.72 1.47 1.35L5.41 20z\"/>\n",
       "  </svg>\n",
       "      </button>\n",
       "      \n",
       "  <style>\n",
       "    .colab-df-container {\n",
       "      display:flex;\n",
       "      flex-wrap:wrap;\n",
       "      gap: 12px;\n",
       "    }\n",
       "\n",
       "    .colab-df-convert {\n",
       "      background-color: #E8F0FE;\n",
       "      border: none;\n",
       "      border-radius: 50%;\n",
       "      cursor: pointer;\n",
       "      display: none;\n",
       "      fill: #1967D2;\n",
       "      height: 32px;\n",
       "      padding: 0 0 0 0;\n",
       "      width: 32px;\n",
       "    }\n",
       "\n",
       "    .colab-df-convert:hover {\n",
       "      background-color: #E2EBFA;\n",
       "      box-shadow: 0px 1px 2px rgba(60, 64, 67, 0.3), 0px 1px 3px 1px rgba(60, 64, 67, 0.15);\n",
       "      fill: #174EA6;\n",
       "    }\n",
       "\n",
       "    [theme=dark] .colab-df-convert {\n",
       "      background-color: #3B4455;\n",
       "      fill: #D2E3FC;\n",
       "    }\n",
       "\n",
       "    [theme=dark] .colab-df-convert:hover {\n",
       "      background-color: #434B5C;\n",
       "      box-shadow: 0px 1px 3px 1px rgba(0, 0, 0, 0.15);\n",
       "      filter: drop-shadow(0px 1px 2px rgba(0, 0, 0, 0.3));\n",
       "      fill: #FFFFFF;\n",
       "    }\n",
       "  </style>\n",
       "\n",
       "      <script>\n",
       "        const buttonEl =\n",
       "          document.querySelector('#df-134be549-d7d8-4d31-980f-c27c79659342 button.colab-df-convert');\n",
       "        buttonEl.style.display =\n",
       "          google.colab.kernel.accessAllowed ? 'block' : 'none';\n",
       "\n",
       "        async function convertToInteractive(key) {\n",
       "          const element = document.querySelector('#df-134be549-d7d8-4d31-980f-c27c79659342');\n",
       "          const dataTable =\n",
       "            await google.colab.kernel.invokeFunction('convertToInteractive',\n",
       "                                                     [key], {});\n",
       "          if (!dataTable) return;\n",
       "\n",
       "          const docLinkHtml = 'Like what you see? Visit the ' +\n",
       "            '<a target=\"_blank\" href=https://colab.research.google.com/notebooks/data_table.ipynb>data table notebook</a>'\n",
       "            + ' to learn more about interactive tables.';\n",
       "          element.innerHTML = '';\n",
       "          dataTable['output_type'] = 'display_data';\n",
       "          await google.colab.output.renderOutput(dataTable, element);\n",
       "          const docLink = document.createElement('div');\n",
       "          docLink.innerHTML = docLinkHtml;\n",
       "          element.appendChild(docLink);\n",
       "        }\n",
       "      </script>\n",
       "    </div>\n",
       "  </div>\n",
       "  "
      ],
      "text/plain": [
       "                                                 content  sent\n",
       "4      We love DTF!!! Not this location:  is there an...     0\n",
       "36     You people are fools. Paying for mediocre Chin...     0\n",
       "40     Ordered and was told it would be ready at 7:30...     0\n",
       "54     We had a reservation at 11 am on Saturday. We ...     0\n",
       "73     The food is amazing but the service is terribl...     0\n",
       "...                                                  ...   ...\n",
       "20973  super yummy gourmetish mexican food. great pre...     1\n",
       "20975  This place is amazing.  The ambiance is great,...     1\n",
       "20976  One of my favorite restaurants in OC. I love t...     1\n",
       "20977  they have the amazing food, the flavors are so...     1\n",
       "20983  very cool dark romantic restaurant, great food...     1\n",
       "\n",
       "[18996 rows x 2 columns]"
      ]
     },
     "execution_count": 24,
     "metadata": {},
     "output_type": "execute_result"
    }
   ],
   "source": [
    "df2 = sentiment[['content','sent']]\n",
    "df2"
   ]
  },
  {
   "cell_type": "code",
   "execution_count": null,
   "metadata": {
    "id": "5BbhuvMXnqpN"
   },
   "outputs": [],
   "source": [
    "train, test= train_test_split(df2, test_size = 0.2,random_state=42)"
   ]
  },
  {
   "cell_type": "code",
   "execution_count": null,
   "metadata": {
    "colab": {
     "base_uri": "https://localhost:8080/"
    },
    "id": "YvI5jJ8rGcb1",
    "outputId": "3d520123-86bc-479b-965a-cf45f3ebb521"
   },
   "outputs": [
    {
     "name": "stdout",
     "output_type": "stream",
     "text": [
      "15196\n",
      "3800\n"
     ]
    }
   ],
   "source": [
    "print(len(train))\n",
    "print(len(test))\n"
   ]
  },
  {
   "cell_type": "code",
   "execution_count": null,
   "metadata": {
    "colab": {
     "base_uri": "https://localhost:8080/"
    },
    "id": "SIHKbwvIn_2a",
    "outputId": "e316aa4f-314f-414b-e495-d50b7664875b"
   },
   "outputs": [
    {
     "data": {
      "text/plain": [
       "13477    The food is awesome and the environment is gre...\n",
       "Name: content, dtype: object"
      ]
     },
     "execution_count": 52,
     "metadata": {},
     "output_type": "execute_result"
    }
   ],
   "source": []
  },
  {
   "cell_type": "code",
   "execution_count": null,
   "metadata": {
    "colab": {
     "base_uri": "https://localhost:8080/",
     "height": 431
    },
    "id": "1qCA3k97Geen",
    "outputId": "27f2282b-fd18-48dd-f171-090c1422f33e"
   },
   "outputs": [
    {
     "name": "stderr",
     "output_type": "stream",
     "text": [
      "/usr/local/lib/python3.7/dist-packages/ipykernel_launcher.py:4: UserWarning: Pandas doesn't allow columns to be created via a new attribute name - see https://pandas.pydata.org/pandas-docs/stable/indexing.html#attribute-access\n",
      "  after removing the cwd from sys.path.\n",
      "/usr/local/lib/python3.7/dist-packages/ipykernel_launcher.py:5: UserWarning: Pandas doesn't allow columns to be created via a new attribute name - see https://pandas.pydata.org/pandas-docs/stable/indexing.html#attribute-access\n",
      "  \"\"\"\n"
     ]
    },
    {
     "name": "stdout",
     "output_type": "stream",
     "text": [
      "default => (0.934588049486707, 0.9031578947368422)\n",
      "sub => (0.9322848117925769, 0.8947368421052632)\n",
      "nosmooth => (0.9357725717294023, 0.8957894736842106)\n",
      "3g => (0.9328770729139246, 0.9047368421052632)\n"
     ]
    },
    {
     "data": {
      "image/png": "[encoded data removed]",
      "text/plain": [
       "<Figure size 432x288 with 1 Axes>"
      ]
     },
     "metadata": {
      "needs_background": "light"
     },
     "output_type": "display_data"
    }
   ],
   "source": [
    "def classification(vectorizer, model, fit_vect=False):\n",
    "    if fit_vect:\n",
    "        vectorizer.fit(train)\n",
    "    train.vecs = vectorizer.transform(train.content)\n",
    "    test.vecs = vectorizer.transform(test.content)\n",
    "    model.fit(train.vecs, train.sent)\n",
    "    train_preds = model.predict(train.vecs)\n",
    "    train_f1 = f1_score(train.sent, train_preds, average='micro')\n",
    "    test_preds = model.predict(test.vecs)\n",
    "    test_f1 = f1_score(test.sent, test_preds, average='micro')\n",
    "    return train_f1, test_f1  \n",
    "\n",
    "tfidf_vectorizers = [TfidfVectorizer(min_df=5,max_df=0.7, lowercase=True,ngram_range=(1,2),stop_words='english'), \n",
    "                     TfidfVectorizer(sublinear_tf=True, lowercase=True, ngram_range=(1,2), stop_words='english'),\n",
    "                     TfidfVectorizer(smooth_idf=False, lowercase=True, ngram_range=(1,2), stop_words='english'),\n",
    "                     TfidfVectorizer(min_df=5,max_df=0.7, lowercase=True,ngram_range=(1,3),stop_words='english'),\n",
    "                    ] \n",
    "names = ['default', 'sub', 'nosmooth','3g'] \n",
    "xs = list(range(len(tfidf_vectorizers)))\n",
    "results = list()\n",
    "for i in range(len(tfidf_vectorizers)):\n",
    "    tfidf_vectorizers[i].fit(train.content)\n",
    "    #model = MultinomialNB(alpha=0.1) # set a very small value\n",
    "    model = RandomForestClassifier(n_estimators=100, min_samples_split = 0.05) \n",
    "    res = classification(tfidf_vectorizers[i], model) # we need to set fit_vect=True\n",
    "    results.append(res)\n",
    "    print(names[i], '=>', res)\n",
    "\n",
    "plt.plot(xs, results)\n",
    "plt.xticks(xs, names)\n",
    "plt.legend([\"Train\", \"Test\"])\n",
    "plt.show()"
   ]
  },
  {
   "cell_type": "code",
   "execution_count": null,
   "metadata": {
    "id": "AOqoyShXGkrH"
   },
   "outputs": [],
   "source": [
    "def classification(vectorizer, model, fit_vect=False):    \n",
    "    if fit_vect:\n",
    "        vectorizer.fit(train)\n",
    "    train.vecs = vectorizer.transform(train.content)\n",
    "    test.vecs = vectorizer.transform(test.content)\n",
    "    model.fit(train.vecs, train.sent)\n",
    "    train_preds = model.predict(train.vecs)\n",
    "    train_f1 = f1_score(train.sent, train_preds, average='micro')\n",
    "    test_preds = model.predict(test.vecs)\n",
    "    test_f1 = f1_score(test.sent, test_preds, average='micro')"
   ]
  },
  {
   "cell_type": "code",
   "execution_count": null,
   "metadata": {
    "colab": {
     "base_uri": "https://localhost:8080/"
    },
    "id": "FA1eLTPOrMZM",
    "outputId": "9cc799d7-bf87-4623-c9aa-6882c65fa0ce"
   },
   "outputs": [
    {
     "data": {
      "text/plain": [
       "TfidfVectorizer(max_df=0.7, min_df=5, ngram_range=(1, 2), stop_words='english')"
      ]
     },
     "execution_count": 32,
     "metadata": {},
     "output_type": "execute_result"
    }
   ],
   "source": [
    "tfidf_vectorizers=TfidfVectorizer(min_df=5,max_df=0.7, lowercase=True,ngram_range=(1,2),stop_words='english')\n",
    "tfidf_vectorizers.fit(train.content)"
   ]
  },
  {
   "cell_type": "code",
   "execution_count": null,
   "metadata": {
    "id": "WWEHwfElrqW6"
   },
   "outputs": [],
   "source": [
    "model = RandomForestClassifier(n_estimators=100, min_samples_split = 0.05)"
   ]
  },
  {
   "cell_type": "code",
   "execution_count": null,
   "metadata": {
    "id": "pKaosJR8rrhf"
   },
   "outputs": [],
   "source": [
    "#res = classification(tfidf_vectorizers[i], model)"
   ]
  },
  {
   "cell_type": "code",
   "execution_count": null,
   "metadata": {
    "id": "KfIugrdmqqQH"
   },
   "outputs": [],
   "source": [
    "train.vecs = tfidf_vectorizers.transform(train.content)\n",
    "test.vecs = tfidf_vectorizers.transform(test.content)"
   ]
  },
  {
   "cell_type": "code",
   "execution_count": null,
   "metadata": {
    "colab": {
     "base_uri": "https://localhost:8080/"
    },
    "id": "blxUjzrMr-dC",
    "outputId": "64c18962-34e3-40c3-8d0c-f5b96dfca0a8"
   },
   "outputs": [
    {
     "data": {
      "text/plain": [
       "RandomForestClassifier(min_samples_split=0.05)"
      ]
     },
     "execution_count": 36,
     "metadata": {},
     "output_type": "execute_result"
    }
   ],
   "source": [
    "model.fit(train.vecs, train.sent)"
   ]
  },
  {
   "cell_type": "code",
   "execution_count": null,
   "metadata": {
    "id": "LZ-NgP_BsKi9"
   },
   "outputs": [],
   "source": [
    "train_preds = model.predict(train.vecs)\n",
    "train_f1 = f1_score(train.sent, train_preds, average='micro')\n",
    "test_preds = model.predict(test.vecs)\n",
    "test_f1 = f1_score(test.sent, test_preds, average='micro')"
   ]
  },
  {
   "cell_type": "code",
   "execution_count": null,
   "metadata": {
    "colab": {
     "base_uri": "https://localhost:8080/"
    },
    "id": "1glGw9USsTBV",
    "outputId": "b896cacf-7c31-4a06-9b49-65d1e052092d"
   },
   "outputs": [
    {
     "data": {
      "text/plain": [
       "content    object\n",
       "sent        int64\n",
       "dtype: object"
      ]
     },
     "execution_count": 42,
     "metadata": {},
     "output_type": "execute_result"
    }
   ],
   "source": [
    "train.dtypes"
   ]
  },
  {
   "cell_type": "code",
   "execution_count": null,
   "metadata": {
    "colab": {
     "base_uri": "https://localhost:8080/"
    },
    "id": "KXqGWGMMs_fj",
    "outputId": "109e0687-6b0c-46d6-8bd6-2f93359b05e7"
   },
   "outputs": [
    {
     "name": "stderr",
     "output_type": "stream",
     "text": [
      "/usr/local/lib/python3.7/dist-packages/ipykernel_launcher.py:5: UserWarning: Pandas doesn't allow columns to be created via a new attribute name - see https://pandas.pydata.org/pandas-docs/stable/indexing.html#attribute-access\n",
      "  \"\"\"\n"
     ]
    }
   ],
   "source": [
    "# Create a dict with a new employee instance containig the following values\n",
    "dictt = {'content':['this restuarant is amazing'],'sent':[0]}\n",
    "\n",
    "example = pd.DataFrame(dictt)\n",
    "example.vecs=tfidf_vectorizers.transform(example.content)\n",
    "ex_pred = model.predict(example.vecs)\n",
    "ex_prob = model.predict_proba(example.vecs)"
   ]
  },
  {
   "cell_type": "code",
   "execution_count": null,
   "metadata": {
    "colab": {
     "base_uri": "https://localhost:8080/"
    },
    "id": "vyU31WqvOAXU",
    "outputId": "5319fc83-6953-4d08-b50a-117fed0ce1fa"
   },
   "outputs": [
    {
     "data": {
      "text/plain": [
       "array([[0.00158931, 0.99841069]])"
      ]
     },
     "execution_count": 63,
     "metadata": {},
     "output_type": "execute_result"
    }
   ],
   "source": [
    "ex_prob"
   ]
  },
  {
   "cell_type": "code",
   "execution_count": null,
   "metadata": {
    "colab": {
     "base_uri": "https://localhost:8080/"
    },
    "id": "lQE1RCjjOnk6",
    "outputId": "33cbeb3c-1ec3-4af6-c35f-a59f47a10156"
   },
   "outputs": [
    {
     "name": "stdout",
     "output_type": "stream",
     "text": [
      "F1 score: 0.9865573457908284\n"
     ]
    }
   ],
   "source": [
    "sent_pred = modelLR1.predict(Xtb)\n",
    "confusion_matrix(ytb, sent_pred)\n",
    "print(\"F1 score:\", f1_score(ytb, sent_pred, average='micro'))"
   ]
  },
  {
   "cell_type": "code",
   "execution_count": null,
   "metadata": {
    "id": "rb6PbAOdqYnl"
   },
   "outputs": [],
   "source": [
    "sns.set(style=\"whitegrid\")"
   ]
  },
  {
   "cell_type": "code",
   "execution_count": null,
   "metadata": {
    "colab": {
     "base_uri": "https://localhost:8080/",
     "height": 285
    },
    "id": "sOxfnQLgqZoo",
    "outputId": "c0e8c92f-a06c-41b4-9392-95592221cec1"
   },
   "outputs": [
    {
     "data": {
      "image/png": "[encoded data removed]",
      "text/plain": [
       "<Figure size 432x288 with 1 Axes>"
      ]
     },
     "metadata": {},
     "output_type": "display_data"
    }
   ],
   "source": [
    "ax = sns.violinplot(x=\"Analysis\", y=\"Polarity\", data=fin_data)"
   ]
  },
  {
   "cell_type": "code",
   "execution_count": null,
   "metadata": {
    "colab": {
     "base_uri": "https://localhost:8080/",
     "height": 285
    },
    "id": "4LZU84qsqp10",
    "outputId": "362a04a9-e18c-4fba-876b-bd651867b589"
   },
   "outputs": [
    {
     "data": {
      "image/png": "[encoded data removed]",
      "text/plain": [
       "<Figure size 432x288 with 1 Axes>"
      ]
     },
     "metadata": {},
     "output_type": "display_data"
    }
   ],
   "source": [
    "ax = sns.violinplot(x=\"Vader Analysis\", y=\"Vader Sentiment\", data=fin_data)"
   ]
  },
  {
   "cell_type": "markdown",
   "metadata": {
    "id": "SZSgUbNwpN4y"
   },
   "source": [
    "Imbalance dataset , oversampling is required"
   ]
  },
  {
   "cell_type": "code",
   "execution_count": null,
   "metadata": {
    "id": "LLsKAy4-pNVM"
   },
   "outputs": [],
   "source": [
    "from numpy import mean\n",
    "from sklearn.datasets import make_classification\n",
    "from sklearn.model_selection import cross_val_score\n",
    "from sklearn.model_selection import RepeatedStratifiedKFold\n",
    "from sklearn.tree import DecisionTreeClassifier\n",
    "from imblearn.pipeline import Pipeline\n",
    "from imblearn.over_sampling import RandomOverSampler\n",
    "from sklearn.metrics import confusion_matrix,accuracy_score,roc_curve,classification_report "
   ]
  },
  {
   "cell_type": "code",
   "execution_count": null,
   "metadata": {
    "id": "1Q34ECfIroAL"
   },
   "outputs": [],
   "source": [
    "import imblearn\n",
    "from imblearn.over_sampling import SMOTE"
   ]
  },
  {
   "cell_type": "code",
   "execution_count": null,
   "metadata": {
    "id": "FKJMbeG7sNqr"
   },
   "outputs": [],
   "source": [
    "oversample = RandomOverSampler(sampling_strategy='minority')"
   ]
  },
  {
   "cell_type": "code",
   "execution_count": null,
   "metadata": {
    "id": "iFyXBhKzsQQW"
   },
   "outputs": [],
   "source": [
    "X_over, y_over = oversample.fit_resample(Xtb, ytb)"
   ]
  },
  {
   "cell_type": "code",
   "execution_count": null,
   "metadata": {
    "colab": {
     "base_uri": "https://localhost:8080/"
    },
    "id": "zpJ_EvCysVaE",
    "outputId": "93aea105-222f-41b7-b45a-75467229a9ea"
   },
   "outputs": [
    {
     "data": {
      "text/plain": [
       "5    22677\n",
       "4     8844\n",
       "1     3863\n",
       "3     3387\n",
       "2     1431\n",
       "Name: stars, dtype: int64"
      ]
     },
     "execution_count": 229,
     "metadata": {},
     "output_type": "execute_result"
    }
   ],
   "source": [
    "X_over.stars.value_counts()"
   ]
  },
  {
   "cell_type": "code",
   "execution_count": null,
   "metadata": {
    "id": "QM6LmR5HsvPd"
   },
   "outputs": [],
   "source": [
    "model1 = LogisticRegression(solver='lbfgs', max_iter=10000)\n",
    "mdl1 = model1.fit(X_over, y_over)"
   ]
  },
  {
   "cell_type": "code",
   "execution_count": null,
   "metadata": {
    "id": "5B9v4fTEs0_-"
   },
   "outputs": [],
   "source": [
    "ypred1=mdl1.predict(X_over)"
   ]
  },
  {
   "cell_type": "code",
   "execution_count": null,
   "metadata": {
    "colab": {
     "base_uri": "https://localhost:8080/"
    },
    "id": "t8rTJlJos8z1",
    "outputId": "23f30391-45e7-48a8-f2a8-3f4809d46ad0"
   },
   "outputs": [
    {
     "name": "stdout",
     "output_type": "stream",
     "text": [
      "F1 score: 0.9633600318392119\n"
     ]
    }
   ],
   "source": [
    "cm=confusion_matrix(y_over, ypred1)\n",
    "print(\"F1 score:\", f1_score(y_over, ypred1, average='micro'))"
   ]
  },
  {
   "cell_type": "code",
   "execution_count": null,
   "metadata": {
    "colab": {
     "base_uri": "https://localhost:8080/"
    },
    "id": "NwnwjQDRuRZS",
    "outputId": "a38633a7-9d44-411e-9321-9f712944efdd"
   },
   "outputs": [
    {
     "data": {
      "text/plain": [
       "array(['Positive', 'Positive', 'Positive', ..., 'Neutral', 'Neutral',\n",
       "       'Neutral'], dtype=object)"
      ]
     },
     "execution_count": 239,
     "metadata": {},
     "output_type": "execute_result"
    }
   ],
   "source": [
    "ypred1"
   ]
  }
 ],
 "metadata": {
  "colab": {
   "collapsed_sections": [
    "1i9DKQGjGj6o",
    "iEZKs616p8F2",
    "2ToqjMBip8F4",
    "g2eojzJQp8F5",
    "NJglq66xp8F6",
    "OAEjk5CbywcF",
    "A8rdoUOwysNd",
    "HkV530yTdnOl",
    "RaAjAiEPyZl-",
    "EHH9Xuuywt7-",
    "2FlsPeE1MLI-"
   ],
   "name": "YelpExploratoryAnalysis.ipynb",
   "provenance": []
  },
  "kernelspec": {
   "display_name": "Python 3",
   "language": "python",
   "name": "python3"
  },
  "language_info": {
   "codemirror_mode": {
    "name": "ipython",
    "version": 3
   },
   "file_extension": ".py",
   "mimetype": "text/x-python",
   "name": "python",
   "nbconvert_exporter": "python",
   "pygments_lexer": "ipython3",
   "version": "3.7.4"
  }
 },
 "nbformat": 4,
 "nbformat_minor": 1
}
